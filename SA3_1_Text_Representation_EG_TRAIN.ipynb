{
  "nbformat": 4,
  "nbformat_minor": 0,
  "metadata": {
    "kernelspec": {
      "display_name": "Python 3",
      "language": "python",
      "name": "python3"
    },
    "language_info": {
      "codemirror_mode": {
        "name": "ipython",
        "version": 3
      },
      "file_extension": ".py",
      "mimetype": "text/x-python",
      "name": "python",
      "nbconvert_exporter": "python",
      "pygments_lexer": "ipython3",
      "version": "3.7.6"
    },
    "colab": {
      "name": "SA3_1_Text_Representation_EG_TRAIN.ipynb",
      "provenance": [],
      "collapsed_sections": [],
      "include_colab_link": true
    }
  },
  "cells": [
    {
      "cell_type": "markdown",
      "metadata": {
        "id": "view-in-github",
        "colab_type": "text"
      },
      "source": [
        "<a href=\"https://colab.research.google.com/github/DanielaManate/SentimentAnalysis-TopicModeling/blob/master/SA3_1_Text_Representation_EG_TRAIN.ipynb\" target=\"_parent\"><img src=\"https://colab.research.google.com/assets/colab-badge.svg\" alt=\"Open In Colab\"/></a>"
      ]
    },
    {
      "cell_type": "markdown",
      "metadata": {
        "id": "xpAxbaOwDdtn",
        "colab_type": "text"
      },
      "source": [
        "# Importing Libraries"
      ]
    },
    {
      "cell_type": "code",
      "metadata": {
        "id": "FCa6nzorDdto",
        "colab_type": "code",
        "colab": {}
      },
      "source": [
        "import pandas as pd\n",
        "import numpy as np\n",
        "\n",
        "from gensim.models import Word2Vec\n",
        "from gensim.models.fasttext import FastText\n",
        "\n",
        "from sklearn.decomposition import PCA\n",
        "\n",
        "import plotly.express as px"
      ],
      "execution_count": 1,
      "outputs": []
    },
    {
      "cell_type": "code",
      "metadata": {
        "id": "Fel5lBCkDdtw",
        "colab_type": "code",
        "colab": {}
      },
      "source": [
        "# Training data\n",
        "sentences = [['we', 'are', 'going', 'to', 'use', 'word2vec'],\n",
        "        ['also', 'we', 'will', 'use', 'fasttext'],\n",
        "        ['this', 'is', 'a', 'sentence'],\n",
        "        ['which', 'embedding', 'is', 'the', 'best', 'for', 'these', 'sentences'],\n",
        "        ['lets', 'find', 'out']]"
      ],
      "execution_count": 2,
      "outputs": []
    },
    {
      "cell_type": "code",
      "metadata": {
        "id": "0Wo3uBxEG_2D",
        "colab_type": "code",
        "colab": {}
      },
      "source": [
        "# %env PYTHONHASHSEED=0"
      ],
      "execution_count": 3,
      "outputs": []
    },
    {
      "cell_type": "markdown",
      "metadata": {
        "id": "eCiDsMzTDdtv",
        "colab_type": "text"
      },
      "source": [
        "# 1. Word2Vec - train your own Model. Default = CBOW (sg=0)"
      ]
    },
    {
      "cell_type": "code",
      "metadata": {
        "id": "_wK7klGuDdtz",
        "colab_type": "code",
        "colab": {}
      },
      "source": [
        "# Train model\n",
        "# Size = 4 => 4 dimensions\n",
        "# min_count = 1 => Ignores all words with total frequency lower than this\n",
        "model_word2vec = Word2Vec(sentences, min_count=1, size = 4)\n",
        "# seed=5, workers=1"
      ],
      "execution_count": 4,
      "outputs": []
    },
    {
      "cell_type": "code",
      "metadata": {
        "id": "aFwGqrpxDdt5",
        "colab_type": "code",
        "colab": {
          "base_uri": "https://localhost:8080/",
          "height": 408
        },
        "outputId": "e8d7007f-7741-4f64-b3f6-f956eb9f5395"
      },
      "source": [
        "# Summarize vocabulary\n",
        "word_list = list(model_word2vec.wv.vocab)\n",
        "word_list"
      ],
      "execution_count": 5,
      "outputs": [
        {
          "output_type": "execute_result",
          "data": {
            "text/plain": [
              "['we',\n",
              " 'are',\n",
              " 'going',\n",
              " 'to',\n",
              " 'use',\n",
              " 'word2vec',\n",
              " 'also',\n",
              " 'will',\n",
              " 'fasttext',\n",
              " 'this',\n",
              " 'is',\n",
              " 'a',\n",
              " 'sentence',\n",
              " 'which',\n",
              " 'embedding',\n",
              " 'the',\n",
              " 'best',\n",
              " 'for',\n",
              " 'these',\n",
              " 'sentences',\n",
              " 'lets',\n",
              " 'find',\n",
              " 'out']"
            ]
          },
          "metadata": {
            "tags": []
          },
          "execution_count": 5
        }
      ]
    },
    {
      "cell_type": "code",
      "metadata": {
        "id": "vz0ql4rpDdt8",
        "colab_type": "code",
        "colab": {
          "base_uri": "https://localhost:8080/",
          "height": 34
        },
        "outputId": "ea92394b-52ba-4fcc-b4d1-67e9021aa8f5"
      },
      "source": [
        "# Access vector for one word\n",
        "model_word2vec.wv['sentence']"
      ],
      "execution_count": 6,
      "outputs": [
        {
          "output_type": "execute_result",
          "data": {
            "text/plain": [
              "array([ 0.10397886, -0.07739876, -0.05604095,  0.08204206], dtype=float32)"
            ]
          },
          "metadata": {
            "tags": []
          },
          "execution_count": 6
        }
      ]
    },
    {
      "cell_type": "markdown",
      "metadata": {
        "id": "t0ssGIs4Dw47",
        "colab_type": "text"
      },
      "source": [
        "## What happens if we are trying to determine the embedding for a word that wasn't seen in the training phase?"
      ]
    },
    {
      "cell_type": "code",
      "metadata": {
        "id": "ja_eYFDNDsEa",
        "colab_type": "code",
        "colab": {}
      },
      "source": [
        "# model_word2vec.wv['sentiment']\n",
        "# \"word 'sentiment' not in vocabulary\""
      ],
      "execution_count": 7,
      "outputs": []
    },
    {
      "cell_type": "code",
      "metadata": {
        "id": "9gX1d9XoDzUX",
        "colab_type": "code",
        "colab": {}
      },
      "source": [
        "# model_word2vec.wv['random']\n",
        "# \"word 'random' not in vocabulary\""
      ],
      "execution_count": 8,
      "outputs": []
    },
    {
      "cell_type": "markdown",
      "metadata": {
        "id": "JG8YekffIi34",
        "colab_type": "text"
      },
      "source": [
        "*   If we are trying to determine the embeddings for the words 'sentiment' and 'random', which did not exist in the training phase, we will get the following error: \"word '...' not in vocabulary\".\n",
        "*   Word2Vec cannot show embeddings for words that were not seen in the training phase\n",
        "\n"
      ]
    },
    {
      "cell_type": "markdown",
      "metadata": {
        "id": "NtJ3DZK2Ddt_",
        "colab_type": "text"
      },
      "source": [
        "## Visualization"
      ]
    },
    {
      "cell_type": "code",
      "metadata": {
        "id": "TYpI_YS6DduA",
        "colab_type": "code",
        "colab": {
          "base_uri": "https://localhost:8080/",
          "height": 425
        },
        "outputId": "1c83898d-8914-4996-c62e-e44fbd245667"
      },
      "source": [
        "X_word2vec = model_word2vec.wv[word_list]\n",
        "X_word2vec"
      ],
      "execution_count": 9,
      "outputs": [
        {
          "output_type": "execute_result",
          "data": {
            "text/plain": [
              "array([[-0.06248437,  0.06184498,  0.04381397, -0.09738316],\n",
              "       [-0.06401035,  0.00658362, -0.08507207, -0.05791826],\n",
              "       [-0.07107952,  0.05460093,  0.10148519, -0.00603497],\n",
              "       [-0.05792002, -0.11940118,  0.08850709, -0.03052103],\n",
              "       [-0.01675998,  0.06990762, -0.05343901, -0.00041039],\n",
              "       [-0.05277527, -0.05574287, -0.06463274, -0.03521718],\n",
              "       [ 0.04258404,  0.07425033,  0.01818621, -0.0963103 ],\n",
              "       [ 0.02290846, -0.11403168,  0.05522841, -0.10041042],\n",
              "       [ 0.10917314, -0.03702604,  0.103866  , -0.07634723],\n",
              "       [ 0.11690345,  0.12495317, -0.07281226, -0.10886344],\n",
              "       [ 0.062336  ,  0.01121477, -0.01947811, -0.06149674],\n",
              "       [-0.04444889,  0.01011281,  0.08782057, -0.01241891],\n",
              "       [ 0.10397886, -0.07739876, -0.05604095,  0.08204206],\n",
              "       [ 0.09203727,  0.08576474,  0.03845724,  0.07097878],\n",
              "       [ 0.01791839, -0.00195637, -0.01517718, -0.07020378],\n",
              "       [-0.01356392,  0.12338661,  0.11076409,  0.05869632],\n",
              "       [-0.07171128,  0.05490784, -0.07218456,  0.05272553],\n",
              "       [-0.01951898,  0.08885362, -0.03917253,  0.08303425],\n",
              "       [ 0.11951332,  0.1001817 , -0.10225779,  0.05517643],\n",
              "       [-0.01377978, -0.01591824, -0.05962416,  0.12390095],\n",
              "       [-0.03237811,  0.01058046,  0.09522415,  0.03743996],\n",
              "       [-0.05358183,  0.10639635, -0.02554559, -0.05261526],\n",
              "       [-0.04751135,  0.03553564,  0.07905996, -0.08106924]],\n",
              "      dtype=float32)"
            ]
          },
          "metadata": {
            "tags": []
          },
          "execution_count": 9
        }
      ]
    },
    {
      "cell_type": "code",
      "metadata": {
        "id": "KQYXsC-RDduD",
        "colab_type": "code",
        "colab": {
          "base_uri": "https://localhost:8080/",
          "height": 408
        },
        "outputId": "e0948340-8447-493f-ed1f-5681176841a1"
      },
      "source": [
        "# Fit a 2D PCA model to the vectors\n",
        "pca_word2vec = PCA(n_components=2).fit_transform(X_word2vec)\n",
        "pca_word2vec"
      ],
      "execution_count": 10,
      "outputs": [
        {
          "output_type": "execute_result",
          "data": {
            "text/plain": [
              "array([[-0.06792184, -0.00888615],\n",
              "       [ 0.00810258,  0.01145276],\n",
              "       [-0.06878864, -0.08767682],\n",
              "       [-0.15200041, -0.02328402],\n",
              "       [ 0.0609    , -0.01484492],\n",
              "       [-0.02109667,  0.01192999],\n",
              "       [-0.0099911 ,  0.06690964],\n",
              "       [-0.1341069 ,  0.08498573],\n",
              "       [-0.08886387,  0.0994175 ],\n",
              "       [ 0.09286159,  0.14029597],\n",
              "       [ 0.00716341,  0.08149073],\n",
              "       [-0.07567319, -0.05234987],\n",
              "       [ 0.06997166,  0.04630887],\n",
              "       [ 0.0779347 , -0.01447819],\n",
              "       [-0.02080034,  0.05817669],\n",
              "       [ 0.00814143, -0.10659107],\n",
              "       [ 0.07305612, -0.07839133],\n",
              "       [ 0.09941175, -0.07812489],\n",
              "       [ 0.17886259,  0.04999664],\n",
              "       [ 0.08327086, -0.0730852 ],\n",
              "       [-0.05267856, -0.07819391],\n",
              "       [ 0.02340829, -0.02178925],\n",
              "       [-0.0911634 , -0.01326897]], dtype=float32)"
            ]
          },
          "metadata": {
            "tags": []
          },
          "execution_count": 10
        }
      ]
    },
    {
      "cell_type": "code",
      "metadata": {
        "id": "Mnohc1IJ_32z",
        "colab_type": "code",
        "colab": {
          "base_uri": "https://localhost:8080/",
          "height": 542
        },
        "outputId": "30ca6b57-ab01-4298-c981-e452bf656d86"
      },
      "source": [
        "fig = px.scatter(x=pca_word2vec[:, 0], y=pca_word2vec[:, 1],\n",
        "                 text = word_list)\n",
        "fig.update_traces(textposition='top center', \n",
        "                  textfont_size=14)\n",
        "fig.show()"
      ],
      "execution_count": 11,
      "outputs": [
        {
          "output_type": "display_data",
          "data": {
            "text/html": [
              "<html>\n",
              "<head><meta charset=\"utf-8\" /></head>\n",
              "<body>\n",
              "    <div>\n",
              "            <script src=\"https://cdnjs.cloudflare.com/ajax/libs/mathjax/2.7.5/MathJax.js?config=TeX-AMS-MML_SVG\"></script><script type=\"text/javascript\">if (window.MathJax) {MathJax.Hub.Config({SVG: {font: \"STIX-Web\"}});}</script>\n",
              "                <script type=\"text/javascript\">window.PlotlyConfig = {MathJaxConfig: 'local'};</script>\n",
              "        <script src=\"https://cdn.plot.ly/plotly-latest.min.js\"></script>    \n",
              "            <div id=\"f07dd68a-339a-45db-a073-299b586d8dae\" class=\"plotly-graph-div\" style=\"height:525px; width:100%;\"></div>\n",
              "            <script type=\"text/javascript\">\n",
              "                \n",
              "                    window.PLOTLYENV=window.PLOTLYENV || {};\n",
              "                    \n",
              "                if (document.getElementById(\"f07dd68a-339a-45db-a073-299b586d8dae\")) {\n",
              "                    Plotly.newPlot(\n",
              "                        'f07dd68a-339a-45db-a073-299b586d8dae',\n",
              "                        [{\"hoverlabel\": {\"namelength\": 0}, \"hovertemplate\": \"x=%{x}<br>y=%{y}<br>text=%{text}\", \"legendgroup\": \"\", \"marker\": {\"color\": \"#636efa\", \"symbol\": \"circle\"}, \"mode\": \"markers+text\", \"name\": \"\", \"showlegend\": false, \"text\": [\"we\", \"are\", \"going\", \"to\", \"use\", \"word2vec\", \"also\", \"will\", \"fasttext\", \"this\", \"is\", \"a\", \"sentence\", \"which\", \"embedding\", \"the\", \"best\", \"for\", \"these\", \"sentences\", \"lets\", \"find\", \"out\"], \"textfont\": {\"size\": 14}, \"textposition\": \"top center\", \"type\": \"scatter\", \"x\": [-0.06792183965444565, 0.008102579042315483, -0.06878864020109177, -0.15200041234493256, 0.060899995267391205, -0.021096672862768173, -0.00999110285192728, -0.13410690426826477, -0.08886387199163437, 0.0928615927696228, 0.007163409609347582, -0.0756731852889061, 0.06997165828943253, 0.07793469727039337, -0.020800340920686722, 0.00814142543822527, 0.07305611670017242, 0.0994117483496666, 0.1788625866174698, 0.08327086269855499, -0.052678558975458145, 0.02340828627347946, -0.09116340428590775], \"xaxis\": \"x\", \"y\": [-0.008886153809726238, 0.011452761478722095, -0.08767681568861008, -0.02328401803970337, -0.014844919554889202, 0.011929990723729134, 0.06690964102745056, 0.08498572558164597, 0.09941750019788742, 0.14029596745967865, 0.08149073272943497, -0.052349869161844254, 0.04630886763334274, -0.01447819359600544, 0.05817669257521629, -0.10659106820821762, -0.07839132845401764, -0.07812488824129105, 0.049996644258499146, -0.07308519631624222, -0.07819391041994095, -0.021789245307445526, -0.013268968090415001], \"yaxis\": \"y\"}],\n",
              "                        {\"legend\": {\"tracegroupgap\": 0}, \"margin\": {\"t\": 60}, \"template\": {\"data\": {\"bar\": [{\"error_x\": {\"color\": \"#2a3f5f\"}, \"error_y\": {\"color\": \"#2a3f5f\"}, \"marker\": {\"line\": {\"color\": \"#E5ECF6\", \"width\": 0.5}}, \"type\": \"bar\"}], \"barpolar\": [{\"marker\": {\"line\": {\"color\": \"#E5ECF6\", \"width\": 0.5}}, \"type\": \"barpolar\"}], \"carpet\": [{\"aaxis\": {\"endlinecolor\": \"#2a3f5f\", \"gridcolor\": \"white\", \"linecolor\": \"white\", \"minorgridcolor\": \"white\", \"startlinecolor\": \"#2a3f5f\"}, \"baxis\": {\"endlinecolor\": \"#2a3f5f\", \"gridcolor\": \"white\", \"linecolor\": \"white\", \"minorgridcolor\": \"white\", \"startlinecolor\": \"#2a3f5f\"}, \"type\": \"carpet\"}], \"choropleth\": [{\"colorbar\": {\"outlinewidth\": 0, \"ticks\": \"\"}, \"type\": \"choropleth\"}], \"contour\": [{\"colorbar\": {\"outlinewidth\": 0, \"ticks\": \"\"}, \"colorscale\": [[0.0, \"#0d0887\"], [0.1111111111111111, \"#46039f\"], [0.2222222222222222, \"#7201a8\"], [0.3333333333333333, \"#9c179e\"], [0.4444444444444444, \"#bd3786\"], [0.5555555555555556, \"#d8576b\"], [0.6666666666666666, \"#ed7953\"], [0.7777777777777778, \"#fb9f3a\"], [0.8888888888888888, \"#fdca26\"], [1.0, \"#f0f921\"]], \"type\": \"contour\"}], \"contourcarpet\": [{\"colorbar\": {\"outlinewidth\": 0, \"ticks\": \"\"}, \"type\": \"contourcarpet\"}], \"heatmap\": [{\"colorbar\": {\"outlinewidth\": 0, \"ticks\": \"\"}, \"colorscale\": [[0.0, \"#0d0887\"], [0.1111111111111111, \"#46039f\"], [0.2222222222222222, \"#7201a8\"], [0.3333333333333333, \"#9c179e\"], [0.4444444444444444, \"#bd3786\"], [0.5555555555555556, \"#d8576b\"], [0.6666666666666666, \"#ed7953\"], [0.7777777777777778, \"#fb9f3a\"], [0.8888888888888888, \"#fdca26\"], [1.0, \"#f0f921\"]], \"type\": \"heatmap\"}], \"heatmapgl\": [{\"colorbar\": {\"outlinewidth\": 0, \"ticks\": \"\"}, \"colorscale\": [[0.0, \"#0d0887\"], [0.1111111111111111, \"#46039f\"], [0.2222222222222222, \"#7201a8\"], [0.3333333333333333, \"#9c179e\"], [0.4444444444444444, \"#bd3786\"], [0.5555555555555556, \"#d8576b\"], [0.6666666666666666, \"#ed7953\"], [0.7777777777777778, \"#fb9f3a\"], [0.8888888888888888, \"#fdca26\"], [1.0, \"#f0f921\"]], \"type\": \"heatmapgl\"}], \"histogram\": [{\"marker\": {\"colorbar\": {\"outlinewidth\": 0, \"ticks\": \"\"}}, \"type\": \"histogram\"}], \"histogram2d\": [{\"colorbar\": {\"outlinewidth\": 0, \"ticks\": \"\"}, \"colorscale\": [[0.0, \"#0d0887\"], [0.1111111111111111, \"#46039f\"], [0.2222222222222222, \"#7201a8\"], [0.3333333333333333, \"#9c179e\"], [0.4444444444444444, \"#bd3786\"], [0.5555555555555556, \"#d8576b\"], [0.6666666666666666, \"#ed7953\"], [0.7777777777777778, \"#fb9f3a\"], [0.8888888888888888, \"#fdca26\"], [1.0, \"#f0f921\"]], \"type\": \"histogram2d\"}], \"histogram2dcontour\": [{\"colorbar\": {\"outlinewidth\": 0, \"ticks\": \"\"}, \"colorscale\": [[0.0, \"#0d0887\"], [0.1111111111111111, \"#46039f\"], [0.2222222222222222, \"#7201a8\"], [0.3333333333333333, \"#9c179e\"], [0.4444444444444444, \"#bd3786\"], [0.5555555555555556, \"#d8576b\"], [0.6666666666666666, \"#ed7953\"], [0.7777777777777778, \"#fb9f3a\"], [0.8888888888888888, \"#fdca26\"], [1.0, \"#f0f921\"]], \"type\": \"histogram2dcontour\"}], \"mesh3d\": [{\"colorbar\": {\"outlinewidth\": 0, \"ticks\": \"\"}, \"type\": \"mesh3d\"}], \"parcoords\": [{\"line\": {\"colorbar\": {\"outlinewidth\": 0, \"ticks\": \"\"}}, \"type\": \"parcoords\"}], \"pie\": [{\"automargin\": true, \"type\": \"pie\"}], \"scatter\": [{\"marker\": {\"colorbar\": {\"outlinewidth\": 0, \"ticks\": \"\"}}, \"type\": \"scatter\"}], \"scatter3d\": [{\"line\": {\"colorbar\": {\"outlinewidth\": 0, \"ticks\": \"\"}}, \"marker\": {\"colorbar\": {\"outlinewidth\": 0, \"ticks\": \"\"}}, \"type\": \"scatter3d\"}], \"scattercarpet\": [{\"marker\": {\"colorbar\": {\"outlinewidth\": 0, \"ticks\": \"\"}}, \"type\": \"scattercarpet\"}], \"scattergeo\": [{\"marker\": {\"colorbar\": {\"outlinewidth\": 0, \"ticks\": \"\"}}, \"type\": \"scattergeo\"}], \"scattergl\": [{\"marker\": {\"colorbar\": {\"outlinewidth\": 0, \"ticks\": \"\"}}, \"type\": \"scattergl\"}], \"scattermapbox\": [{\"marker\": {\"colorbar\": {\"outlinewidth\": 0, \"ticks\": \"\"}}, \"type\": \"scattermapbox\"}], \"scatterpolar\": [{\"marker\": {\"colorbar\": {\"outlinewidth\": 0, \"ticks\": \"\"}}, \"type\": \"scatterpolar\"}], \"scatterpolargl\": [{\"marker\": {\"colorbar\": {\"outlinewidth\": 0, \"ticks\": \"\"}}, \"type\": \"scatterpolargl\"}], \"scatterternary\": [{\"marker\": {\"colorbar\": {\"outlinewidth\": 0, \"ticks\": \"\"}}, \"type\": \"scatterternary\"}], \"surface\": [{\"colorbar\": {\"outlinewidth\": 0, \"ticks\": \"\"}, \"colorscale\": [[0.0, \"#0d0887\"], [0.1111111111111111, \"#46039f\"], [0.2222222222222222, \"#7201a8\"], [0.3333333333333333, \"#9c179e\"], [0.4444444444444444, \"#bd3786\"], [0.5555555555555556, \"#d8576b\"], [0.6666666666666666, \"#ed7953\"], [0.7777777777777778, \"#fb9f3a\"], [0.8888888888888888, \"#fdca26\"], [1.0, \"#f0f921\"]], \"type\": \"surface\"}], \"table\": [{\"cells\": {\"fill\": {\"color\": \"#EBF0F8\"}, \"line\": {\"color\": \"white\"}}, \"header\": {\"fill\": {\"color\": \"#C8D4E3\"}, \"line\": {\"color\": \"white\"}}, \"type\": \"table\"}]}, \"layout\": {\"annotationdefaults\": {\"arrowcolor\": \"#2a3f5f\", \"arrowhead\": 0, \"arrowwidth\": 1}, \"coloraxis\": {\"colorbar\": {\"outlinewidth\": 0, \"ticks\": \"\"}}, \"colorscale\": {\"diverging\": [[0, \"#8e0152\"], [0.1, \"#c51b7d\"], [0.2, \"#de77ae\"], [0.3, \"#f1b6da\"], [0.4, \"#fde0ef\"], [0.5, \"#f7f7f7\"], [0.6, \"#e6f5d0\"], [0.7, \"#b8e186\"], [0.8, \"#7fbc41\"], [0.9, \"#4d9221\"], [1, \"#276419\"]], \"sequential\": [[0.0, \"#0d0887\"], [0.1111111111111111, \"#46039f\"], [0.2222222222222222, \"#7201a8\"], [0.3333333333333333, \"#9c179e\"], [0.4444444444444444, \"#bd3786\"], [0.5555555555555556, \"#d8576b\"], [0.6666666666666666, \"#ed7953\"], [0.7777777777777778, \"#fb9f3a\"], [0.8888888888888888, \"#fdca26\"], [1.0, \"#f0f921\"]], \"sequentialminus\": [[0.0, \"#0d0887\"], [0.1111111111111111, \"#46039f\"], [0.2222222222222222, \"#7201a8\"], [0.3333333333333333, \"#9c179e\"], [0.4444444444444444, \"#bd3786\"], [0.5555555555555556, \"#d8576b\"], [0.6666666666666666, \"#ed7953\"], [0.7777777777777778, \"#fb9f3a\"], [0.8888888888888888, \"#fdca26\"], [1.0, \"#f0f921\"]]}, \"colorway\": [\"#636efa\", \"#EF553B\", \"#00cc96\", \"#ab63fa\", \"#FFA15A\", \"#19d3f3\", \"#FF6692\", \"#B6E880\", \"#FF97FF\", \"#FECB52\"], \"font\": {\"color\": \"#2a3f5f\"}, \"geo\": {\"bgcolor\": \"white\", \"lakecolor\": \"white\", \"landcolor\": \"#E5ECF6\", \"showlakes\": true, \"showland\": true, \"subunitcolor\": \"white\"}, \"hoverlabel\": {\"align\": \"left\"}, \"hovermode\": \"closest\", \"mapbox\": {\"style\": \"light\"}, \"paper_bgcolor\": \"white\", \"plot_bgcolor\": \"#E5ECF6\", \"polar\": {\"angularaxis\": {\"gridcolor\": \"white\", \"linecolor\": \"white\", \"ticks\": \"\"}, \"bgcolor\": \"#E5ECF6\", \"radialaxis\": {\"gridcolor\": \"white\", \"linecolor\": \"white\", \"ticks\": \"\"}}, \"scene\": {\"xaxis\": {\"backgroundcolor\": \"#E5ECF6\", \"gridcolor\": \"white\", \"gridwidth\": 2, \"linecolor\": \"white\", \"showbackground\": true, \"ticks\": \"\", \"zerolinecolor\": \"white\"}, \"yaxis\": {\"backgroundcolor\": \"#E5ECF6\", \"gridcolor\": \"white\", \"gridwidth\": 2, \"linecolor\": \"white\", \"showbackground\": true, \"ticks\": \"\", \"zerolinecolor\": \"white\"}, \"zaxis\": {\"backgroundcolor\": \"#E5ECF6\", \"gridcolor\": \"white\", \"gridwidth\": 2, \"linecolor\": \"white\", \"showbackground\": true, \"ticks\": \"\", \"zerolinecolor\": \"white\"}}, \"shapedefaults\": {\"line\": {\"color\": \"#2a3f5f\"}}, \"ternary\": {\"aaxis\": {\"gridcolor\": \"white\", \"linecolor\": \"white\", \"ticks\": \"\"}, \"baxis\": {\"gridcolor\": \"white\", \"linecolor\": \"white\", \"ticks\": \"\"}, \"bgcolor\": \"#E5ECF6\", \"caxis\": {\"gridcolor\": \"white\", \"linecolor\": \"white\", \"ticks\": \"\"}}, \"title\": {\"x\": 0.05}, \"xaxis\": {\"automargin\": true, \"gridcolor\": \"white\", \"linecolor\": \"white\", \"ticks\": \"\", \"title\": {\"standoff\": 15}, \"zerolinecolor\": \"white\", \"zerolinewidth\": 2}, \"yaxis\": {\"automargin\": true, \"gridcolor\": \"white\", \"linecolor\": \"white\", \"ticks\": \"\", \"title\": {\"standoff\": 15}, \"zerolinecolor\": \"white\", \"zerolinewidth\": 2}}}, \"xaxis\": {\"anchor\": \"y\", \"domain\": [0.0, 1.0], \"title\": {\"text\": \"x\"}}, \"yaxis\": {\"anchor\": \"x\", \"domain\": [0.0, 1.0], \"title\": {\"text\": \"y\"}}},\n",
              "                        {\"responsive\": true}\n",
              "                    ).then(function(){\n",
              "                            \n",
              "var gd = document.getElementById('f07dd68a-339a-45db-a073-299b586d8dae');\n",
              "var x = new MutationObserver(function (mutations, observer) {{\n",
              "        var display = window.getComputedStyle(gd).display;\n",
              "        if (!display || display === 'none') {{\n",
              "            console.log([gd, 'removed!']);\n",
              "            Plotly.purge(gd);\n",
              "            observer.disconnect();\n",
              "        }}\n",
              "}});\n",
              "\n",
              "// Listen for the removal of the full notebook cells\n",
              "var notebookContainer = gd.closest('#notebook-container');\n",
              "if (notebookContainer) {{\n",
              "    x.observe(notebookContainer, {childList: true});\n",
              "}}\n",
              "\n",
              "// Listen for the clearing of the current output cell\n",
              "var outputEl = gd.closest('.output');\n",
              "if (outputEl) {{\n",
              "    x.observe(outputEl, {childList: true});\n",
              "}}\n",
              "\n",
              "                        })\n",
              "                };\n",
              "                \n",
              "            </script>\n",
              "        </div>\n",
              "</body>\n",
              "</html>"
            ]
          },
          "metadata": {
            "tags": []
          }
        }
      ]
    },
    {
      "cell_type": "markdown",
      "metadata": {
        "id": "DIONYdDKDduk",
        "colab_type": "text"
      },
      "source": [
        "# 2. FastText - train your own Model. Default = CBOW (sg=0)"
      ]
    },
    {
      "cell_type": "code",
      "metadata": {
        "id": "xMQEtXgoDdul",
        "colab_type": "code",
        "colab": {}
      },
      "source": [
        "# Train model\n",
        "# Size of character ngrams default: min_n=3, max_n=6\n",
        "model_fasttext = FastText(sentences, min_count=1, size = 4)\n",
        "# seed=5, workers=1"
      ],
      "execution_count": 12,
      "outputs": []
    },
    {
      "cell_type": "code",
      "metadata": {
        "id": "GWYZp2hzDdup",
        "colab_type": "code",
        "colab": {
          "base_uri": "https://localhost:8080/",
          "height": 54
        },
        "outputId": "afc9c758-2532-4b3b-b548-1c7a18588f64"
      },
      "source": [
        "# Summarize vocabulary\n",
        "word_list = list(model_fasttext.wv.vocab)\n",
        "print(word_list)"
      ],
      "execution_count": 13,
      "outputs": [
        {
          "output_type": "stream",
          "text": [
            "['we', 'are', 'going', 'to', 'use', 'word2vec', 'also', 'will', 'fasttext', 'this', 'is', 'a', 'sentence', 'which', 'embedding', 'the', 'best', 'for', 'these', 'sentences', 'lets', 'find', 'out']\n"
          ],
          "name": "stdout"
        }
      ]
    },
    {
      "cell_type": "code",
      "metadata": {
        "id": "Zbq3KIKVDdur",
        "colab_type": "code",
        "colab": {
          "base_uri": "https://localhost:8080/",
          "height": 34
        },
        "outputId": "2145a64b-978c-4898-d5d2-2e77bb274bd6"
      },
      "source": [
        "# Access vector for one word\n",
        "print(model_fasttext.wv['sentence'])"
      ],
      "execution_count": 14,
      "outputs": [
        {
          "output_type": "stream",
          "text": [
            "[ 0.00564454 -0.02561449 -0.02562428 -0.02249124]\n"
          ],
          "name": "stdout"
        }
      ]
    },
    {
      "cell_type": "markdown",
      "metadata": {
        "id": "J3Rsi4RzDG3n",
        "colab_type": "text"
      },
      "source": [
        "## What happens if we are trying to determine the embedding for a word that wasn't seen in the training phase?"
      ]
    },
    {
      "cell_type": "code",
      "metadata": {
        "id": "A3dNjO0i-pTj",
        "colab_type": "code",
        "colab": {
          "base_uri": "https://localhost:8080/",
          "height": 34
        },
        "outputId": "91474e2a-d106-463c-fda7-d6c4f9e74627"
      },
      "source": [
        "model_fasttext.wv['sentiment']"
      ],
      "execution_count": 15,
      "outputs": [
        {
          "output_type": "execute_result",
          "data": {
            "text/plain": [
              "array([-0.03443928, -0.06827369, -0.06017304,  0.007128  ], dtype=float32)"
            ]
          },
          "metadata": {
            "tags": []
          },
          "execution_count": 15
        }
      ]
    },
    {
      "cell_type": "code",
      "metadata": {
        "id": "mRWhtmxf-1YI",
        "colab_type": "code",
        "colab": {}
      },
      "source": [
        "# model_fasttext.wv['random']\n",
        "# 'all ngrams for word random absent from model'"
      ],
      "execution_count": 16,
      "outputs": []
    },
    {
      "cell_type": "markdown",
      "metadata": {
        "id": "mDJwaiWMJGBx",
        "colab_type": "text"
      },
      "source": [
        "*   If we are trying to determine the embedding for the word 'sentiment' (which was not in the training phase), fasttext can show it's embeddings because the word's character ngrams were present in the training phase\n",
        "*   For the word 'random', we are getting an error because all ngrams for the word are absent from model\n",
        "*   FastText can show embeddings for words that were not seen in the training phase, as long as the ngrams were present in the training\n",
        "\n"
      ]
    },
    {
      "cell_type": "markdown",
      "metadata": {
        "id": "MbhwdEIVDduu",
        "colab_type": "text"
      },
      "source": [
        "## Visualisation"
      ]
    },
    {
      "cell_type": "code",
      "metadata": {
        "id": "_EpqUkdODduu",
        "colab_type": "code",
        "colab": {
          "base_uri": "https://localhost:8080/",
          "height": 799
        },
        "outputId": "bc080a99-7207-4b12-a024-ccba3dda328d"
      },
      "source": [
        "X_fasttext = model_fasttext.wv[word_list]\n",
        "X_fasttext"
      ],
      "execution_count": 17,
      "outputs": [
        {
          "output_type": "execute_result",
          "data": {
            "text/plain": [
              "array([[ 1.21204033e-02,  4.99350205e-02, -8.78660530e-02,\n",
              "        -6.07791878e-02],\n",
              "       [ 6.21617176e-02,  8.45489427e-02, -1.37556955e-01,\n",
              "         1.46440333e-02],\n",
              "       [-2.61515211e-02, -1.09270103e-01, -3.84047963e-02,\n",
              "         5.08586355e-02],\n",
              "       [ 4.00994942e-02,  1.83750257e-01, -4.02536131e-02,\n",
              "         4.12145779e-02],\n",
              "       [-6.26747683e-02, -9.83016379e-03,  1.28589766e-02,\n",
              "         3.35453488e-02],\n",
              "       [ 1.34324366e-02,  4.72705103e-02, -1.83642488e-02,\n",
              "         2.53529791e-02],\n",
              "       [-2.73731463e-02,  1.74377933e-02,  5.19142635e-02,\n",
              "         4.21980470e-02],\n",
              "       [ 1.66560952e-02,  8.05674866e-03,  1.59828421e-02,\n",
              "        -2.28994116e-02],\n",
              "       [ 2.45919377e-02,  2.28262017e-03, -3.85213620e-03,\n",
              "        -3.79294008e-02],\n",
              "       [ 4.10076343e-02, -5.09262718e-02,  3.17586921e-02,\n",
              "         1.36985490e-03],\n",
              "       [ 1.19109683e-01, -2.28398312e-02, -1.76607296e-02,\n",
              "         5.28974459e-02],\n",
              "       [-9.80637074e-02,  3.04356329e-02,  1.69686362e-01,\n",
              "        -1.44012511e-01],\n",
              "       [ 5.64453658e-03, -2.56144851e-02, -2.56242789e-02,\n",
              "        -2.24912427e-02],\n",
              "       [-2.61155758e-02, -3.11546330e-03,  5.15929312e-02,\n",
              "        -1.31164808e-02],\n",
              "       [ 6.18141331e-03, -3.39346053e-03,  1.12899411e-02,\n",
              "        -3.01785325e-03],\n",
              "       [-5.34480885e-02, -5.40667474e-02,  1.38786035e-02,\n",
              "         1.95627343e-02],\n",
              "       [ 1.40558594e-04, -3.82642448e-02,  1.39196217e-02,\n",
              "         5.48865600e-03],\n",
              "       [ 4.03086506e-02, -1.58417765e-02,  7.93633983e-02,\n",
              "        -7.28361234e-02],\n",
              "       [-8.63246620e-02,  8.77593644e-03, -1.12405820e-02,\n",
              "         2.59549189e-02],\n",
              "       [ 2.53861677e-02, -3.72854099e-02, -8.34503956e-03,\n",
              "        -2.20982898e-02],\n",
              "       [-9.60664731e-03,  4.26428989e-02, -2.46387497e-02,\n",
              "         2.73399591e-03],\n",
              "       [ 2.60110814e-02, -3.19710784e-02,  8.72155093e-03,\n",
              "         7.55289868e-02],\n",
              "       [-2.46716617e-03,  6.48487359e-02, -5.42003252e-02,\n",
              "         1.64188612e-02]], dtype=float32)"
            ]
          },
          "metadata": {
            "tags": []
          },
          "execution_count": 17
        }
      ]
    },
    {
      "cell_type": "code",
      "metadata": {
        "id": "zDuBOcrLDdux",
        "colab_type": "code",
        "colab": {
          "base_uri": "https://localhost:8080/",
          "height": 408
        },
        "outputId": "b26adb95-61a3-4829-e7e8-1d40a35054bb"
      },
      "source": [
        "# Fit a 2D PCA model to the vectors\n",
        "pca_fasttext = PCA(n_components=2).fit_transform(X_fasttext)\n",
        "pca_fasttext"
      ],
      "execution_count": 18,
      "outputs": [
        {
          "output_type": "execute_result",
          "data": {
            "text/plain": [
              "array([[-0.06378063,  0.05084066],\n",
              "       [-0.16215678,  0.03011004],\n",
              "       [ 0.01165616, -0.12420192],\n",
              "       [-0.13164093,  0.12147529],\n",
              "       [ 0.0303038 , -0.01728766],\n",
              "       [-0.0437893 ,  0.01920552],\n",
              "       [ 0.03027428,  0.00294396],\n",
              "       [ 0.01348476,  0.01295085],\n",
              "       [ 0.00353009,  0.01068245],\n",
              "       [ 0.03002763, -0.05011297],\n",
              "       [-0.0682824 , -0.06947778],\n",
              "       [ 0.20815597,  0.12990944],\n",
              "       [ 0.00097946, -0.02103066],\n",
              "       [ 0.05801173,  0.01082189],\n",
              "       [ 0.01170602, -0.00529915],\n",
              "       [ 0.05024039, -0.04995183],\n",
              "       [ 0.02708293, -0.03785813],\n",
              "       [ 0.07808102,  0.02213352],\n",
              "       [ 0.01759859,  0.00195458],\n",
              "       [ 0.01011732, -0.03146114],\n",
              "       [-0.02882611,  0.02822603],\n",
              "       [-0.01541857, -0.06975606],\n",
              "       [-0.06735545,  0.03518307]], dtype=float32)"
            ]
          },
          "metadata": {
            "tags": []
          },
          "execution_count": 18
        }
      ]
    },
    {
      "cell_type": "code",
      "metadata": {
        "id": "gNmJj7m4CNfQ",
        "colab_type": "code",
        "colab": {
          "base_uri": "https://localhost:8080/",
          "height": 542
        },
        "outputId": "48b083a8-fbf5-48a0-82bd-c59a8b656d1c"
      },
      "source": [
        "fig = px.scatter(x=pca_fasttext[:, 0], y=pca_fasttext[:, 1],\n",
        "                 text = word_list)\n",
        "fig.update_traces(textposition='top center', \n",
        "                  textfont_size=14)\n",
        "fig.show()"
      ],
      "execution_count": 19,
      "outputs": [
        {
          "output_type": "display_data",
          "data": {
            "text/html": [
              "<html>\n",
              "<head><meta charset=\"utf-8\" /></head>\n",
              "<body>\n",
              "    <div>\n",
              "            <script src=\"https://cdnjs.cloudflare.com/ajax/libs/mathjax/2.7.5/MathJax.js?config=TeX-AMS-MML_SVG\"></script><script type=\"text/javascript\">if (window.MathJax) {MathJax.Hub.Config({SVG: {font: \"STIX-Web\"}});}</script>\n",
              "                <script type=\"text/javascript\">window.PlotlyConfig = {MathJaxConfig: 'local'};</script>\n",
              "        <script src=\"https://cdn.plot.ly/plotly-latest.min.js\"></script>    \n",
              "            <div id=\"b23204d5-069c-41a9-a409-404bb973c6e4\" class=\"plotly-graph-div\" style=\"height:525px; width:100%;\"></div>\n",
              "            <script type=\"text/javascript\">\n",
              "                \n",
              "                    window.PLOTLYENV=window.PLOTLYENV || {};\n",
              "                    \n",
              "                if (document.getElementById(\"b23204d5-069c-41a9-a409-404bb973c6e4\")) {\n",
              "                    Plotly.newPlot(\n",
              "                        'b23204d5-069c-41a9-a409-404bb973c6e4',\n",
              "                        [{\"hoverlabel\": {\"namelength\": 0}, \"hovertemplate\": \"x=%{x}<br>y=%{y}<br>text=%{text}\", \"legendgroup\": \"\", \"marker\": {\"color\": \"#636efa\", \"symbol\": \"circle\"}, \"mode\": \"markers+text\", \"name\": \"\", \"showlegend\": false, \"text\": [\"we\", \"are\", \"going\", \"to\", \"use\", \"word2vec\", \"also\", \"will\", \"fasttext\", \"this\", \"is\", \"a\", \"sentence\", \"which\", \"embedding\", \"the\", \"best\", \"for\", \"these\", \"sentences\", \"lets\", \"find\", \"out\"], \"textfont\": {\"size\": 14}, \"textposition\": \"top center\", \"type\": \"scatter\", \"x\": [-0.06378062814474106, -0.16215677559375763, 0.011656164191663265, -0.13164092600345612, 0.030303802341222763, -0.04378930479288101, 0.030274279415607452, 0.01348476018756628, 0.0035300927702337503, 0.030027633532881737, -0.06828240305185318, 0.20815597474575043, 0.000979463686235249, 0.058011725544929504, 0.011706024408340454, 0.05024039372801781, 0.027082934975624084, 0.07808101922273636, 0.0175985936075449, 0.01011731754988432, -0.028826113790273666, -0.015418569557368755, -0.0673554539680481], \"xaxis\": \"x\", \"y\": [0.05084065720438957, 0.030110036954283714, -0.12420192360877991, 0.12147529423236847, -0.017287656664848328, 0.019205523654818535, 0.0029439623467624187, 0.01295084971934557, 0.010682445950806141, -0.05011296644806862, -0.06947778165340424, 0.1299094408750534, -0.021030664443969727, 0.010821886360645294, -0.005299154203385115, -0.04995182529091835, -0.037858132272958755, 0.022133518010377884, 0.001954581355676055, -0.031461142003536224, 0.028226027265191078, -0.06975606083869934, 0.03518306836485863], \"yaxis\": \"y\"}],\n",
              "                        {\"legend\": {\"tracegroupgap\": 0}, \"margin\": {\"t\": 60}, \"template\": {\"data\": {\"bar\": [{\"error_x\": {\"color\": \"#2a3f5f\"}, \"error_y\": {\"color\": \"#2a3f5f\"}, \"marker\": {\"line\": {\"color\": \"#E5ECF6\", \"width\": 0.5}}, \"type\": \"bar\"}], \"barpolar\": [{\"marker\": {\"line\": {\"color\": \"#E5ECF6\", \"width\": 0.5}}, \"type\": \"barpolar\"}], \"carpet\": [{\"aaxis\": {\"endlinecolor\": \"#2a3f5f\", \"gridcolor\": \"white\", \"linecolor\": \"white\", \"minorgridcolor\": \"white\", \"startlinecolor\": \"#2a3f5f\"}, \"baxis\": {\"endlinecolor\": \"#2a3f5f\", \"gridcolor\": \"white\", \"linecolor\": \"white\", \"minorgridcolor\": \"white\", \"startlinecolor\": \"#2a3f5f\"}, \"type\": \"carpet\"}], \"choropleth\": [{\"colorbar\": {\"outlinewidth\": 0, \"ticks\": \"\"}, \"type\": \"choropleth\"}], \"contour\": [{\"colorbar\": {\"outlinewidth\": 0, \"ticks\": \"\"}, \"colorscale\": [[0.0, \"#0d0887\"], [0.1111111111111111, \"#46039f\"], [0.2222222222222222, \"#7201a8\"], [0.3333333333333333, \"#9c179e\"], [0.4444444444444444, \"#bd3786\"], [0.5555555555555556, \"#d8576b\"], [0.6666666666666666, \"#ed7953\"], [0.7777777777777778, \"#fb9f3a\"], [0.8888888888888888, \"#fdca26\"], [1.0, \"#f0f921\"]], \"type\": \"contour\"}], \"contourcarpet\": [{\"colorbar\": {\"outlinewidth\": 0, \"ticks\": \"\"}, \"type\": \"contourcarpet\"}], \"heatmap\": [{\"colorbar\": {\"outlinewidth\": 0, \"ticks\": \"\"}, \"colorscale\": [[0.0, \"#0d0887\"], [0.1111111111111111, \"#46039f\"], [0.2222222222222222, \"#7201a8\"], [0.3333333333333333, \"#9c179e\"], [0.4444444444444444, \"#bd3786\"], [0.5555555555555556, \"#d8576b\"], [0.6666666666666666, \"#ed7953\"], [0.7777777777777778, \"#fb9f3a\"], [0.8888888888888888, \"#fdca26\"], [1.0, \"#f0f921\"]], \"type\": \"heatmap\"}], \"heatmapgl\": [{\"colorbar\": {\"outlinewidth\": 0, \"ticks\": \"\"}, \"colorscale\": [[0.0, \"#0d0887\"], [0.1111111111111111, \"#46039f\"], [0.2222222222222222, \"#7201a8\"], [0.3333333333333333, \"#9c179e\"], [0.4444444444444444, \"#bd3786\"], [0.5555555555555556, \"#d8576b\"], [0.6666666666666666, \"#ed7953\"], [0.7777777777777778, \"#fb9f3a\"], [0.8888888888888888, \"#fdca26\"], [1.0, \"#f0f921\"]], \"type\": \"heatmapgl\"}], \"histogram\": [{\"marker\": {\"colorbar\": {\"outlinewidth\": 0, \"ticks\": \"\"}}, \"type\": \"histogram\"}], \"histogram2d\": [{\"colorbar\": {\"outlinewidth\": 0, \"ticks\": \"\"}, \"colorscale\": [[0.0, \"#0d0887\"], [0.1111111111111111, \"#46039f\"], [0.2222222222222222, \"#7201a8\"], [0.3333333333333333, \"#9c179e\"], [0.4444444444444444, \"#bd3786\"], [0.5555555555555556, \"#d8576b\"], [0.6666666666666666, \"#ed7953\"], [0.7777777777777778, \"#fb9f3a\"], [0.8888888888888888, \"#fdca26\"], [1.0, \"#f0f921\"]], \"type\": \"histogram2d\"}], \"histogram2dcontour\": [{\"colorbar\": {\"outlinewidth\": 0, \"ticks\": \"\"}, \"colorscale\": [[0.0, \"#0d0887\"], [0.1111111111111111, \"#46039f\"], [0.2222222222222222, \"#7201a8\"], [0.3333333333333333, \"#9c179e\"], [0.4444444444444444, \"#bd3786\"], [0.5555555555555556, \"#d8576b\"], [0.6666666666666666, \"#ed7953\"], [0.7777777777777778, \"#fb9f3a\"], [0.8888888888888888, \"#fdca26\"], [1.0, \"#f0f921\"]], \"type\": \"histogram2dcontour\"}], \"mesh3d\": [{\"colorbar\": {\"outlinewidth\": 0, \"ticks\": \"\"}, \"type\": \"mesh3d\"}], \"parcoords\": [{\"line\": {\"colorbar\": {\"outlinewidth\": 0, \"ticks\": \"\"}}, \"type\": \"parcoords\"}], \"pie\": [{\"automargin\": true, \"type\": \"pie\"}], \"scatter\": [{\"marker\": {\"colorbar\": {\"outlinewidth\": 0, \"ticks\": \"\"}}, \"type\": \"scatter\"}], \"scatter3d\": [{\"line\": {\"colorbar\": {\"outlinewidth\": 0, \"ticks\": \"\"}}, \"marker\": {\"colorbar\": {\"outlinewidth\": 0, \"ticks\": \"\"}}, \"type\": \"scatter3d\"}], \"scattercarpet\": [{\"marker\": {\"colorbar\": {\"outlinewidth\": 0, \"ticks\": \"\"}}, \"type\": \"scattercarpet\"}], \"scattergeo\": [{\"marker\": {\"colorbar\": {\"outlinewidth\": 0, \"ticks\": \"\"}}, \"type\": \"scattergeo\"}], \"scattergl\": [{\"marker\": {\"colorbar\": {\"outlinewidth\": 0, \"ticks\": \"\"}}, \"type\": \"scattergl\"}], \"scattermapbox\": [{\"marker\": {\"colorbar\": {\"outlinewidth\": 0, \"ticks\": \"\"}}, \"type\": \"scattermapbox\"}], \"scatterpolar\": [{\"marker\": {\"colorbar\": {\"outlinewidth\": 0, \"ticks\": \"\"}}, \"type\": \"scatterpolar\"}], \"scatterpolargl\": [{\"marker\": {\"colorbar\": {\"outlinewidth\": 0, \"ticks\": \"\"}}, \"type\": \"scatterpolargl\"}], \"scatterternary\": [{\"marker\": {\"colorbar\": {\"outlinewidth\": 0, \"ticks\": \"\"}}, \"type\": \"scatterternary\"}], \"surface\": [{\"colorbar\": {\"outlinewidth\": 0, \"ticks\": \"\"}, \"colorscale\": [[0.0, \"#0d0887\"], [0.1111111111111111, \"#46039f\"], [0.2222222222222222, \"#7201a8\"], [0.3333333333333333, \"#9c179e\"], [0.4444444444444444, \"#bd3786\"], [0.5555555555555556, \"#d8576b\"], [0.6666666666666666, \"#ed7953\"], [0.7777777777777778, \"#fb9f3a\"], [0.8888888888888888, \"#fdca26\"], [1.0, \"#f0f921\"]], \"type\": \"surface\"}], \"table\": [{\"cells\": {\"fill\": {\"color\": \"#EBF0F8\"}, \"line\": {\"color\": \"white\"}}, \"header\": {\"fill\": {\"color\": \"#C8D4E3\"}, \"line\": {\"color\": \"white\"}}, \"type\": \"table\"}]}, \"layout\": {\"annotationdefaults\": {\"arrowcolor\": \"#2a3f5f\", \"arrowhead\": 0, \"arrowwidth\": 1}, \"coloraxis\": {\"colorbar\": {\"outlinewidth\": 0, \"ticks\": \"\"}}, \"colorscale\": {\"diverging\": [[0, \"#8e0152\"], [0.1, \"#c51b7d\"], [0.2, \"#de77ae\"], [0.3, \"#f1b6da\"], [0.4, \"#fde0ef\"], [0.5, \"#f7f7f7\"], [0.6, \"#e6f5d0\"], [0.7, \"#b8e186\"], [0.8, \"#7fbc41\"], [0.9, \"#4d9221\"], [1, \"#276419\"]], \"sequential\": [[0.0, \"#0d0887\"], [0.1111111111111111, \"#46039f\"], [0.2222222222222222, \"#7201a8\"], [0.3333333333333333, \"#9c179e\"], [0.4444444444444444, \"#bd3786\"], [0.5555555555555556, \"#d8576b\"], [0.6666666666666666, \"#ed7953\"], [0.7777777777777778, \"#fb9f3a\"], [0.8888888888888888, \"#fdca26\"], [1.0, \"#f0f921\"]], \"sequentialminus\": [[0.0, \"#0d0887\"], [0.1111111111111111, \"#46039f\"], [0.2222222222222222, \"#7201a8\"], [0.3333333333333333, \"#9c179e\"], [0.4444444444444444, \"#bd3786\"], [0.5555555555555556, \"#d8576b\"], [0.6666666666666666, \"#ed7953\"], [0.7777777777777778, \"#fb9f3a\"], [0.8888888888888888, \"#fdca26\"], [1.0, \"#f0f921\"]]}, \"colorway\": [\"#636efa\", \"#EF553B\", \"#00cc96\", \"#ab63fa\", \"#FFA15A\", \"#19d3f3\", \"#FF6692\", \"#B6E880\", \"#FF97FF\", \"#FECB52\"], \"font\": {\"color\": \"#2a3f5f\"}, \"geo\": {\"bgcolor\": \"white\", \"lakecolor\": \"white\", \"landcolor\": \"#E5ECF6\", \"showlakes\": true, \"showland\": true, \"subunitcolor\": \"white\"}, \"hoverlabel\": {\"align\": \"left\"}, \"hovermode\": \"closest\", \"mapbox\": {\"style\": \"light\"}, \"paper_bgcolor\": \"white\", \"plot_bgcolor\": \"#E5ECF6\", \"polar\": {\"angularaxis\": {\"gridcolor\": \"white\", \"linecolor\": \"white\", \"ticks\": \"\"}, \"bgcolor\": \"#E5ECF6\", \"radialaxis\": {\"gridcolor\": \"white\", \"linecolor\": \"white\", \"ticks\": \"\"}}, \"scene\": {\"xaxis\": {\"backgroundcolor\": \"#E5ECF6\", \"gridcolor\": \"white\", \"gridwidth\": 2, \"linecolor\": \"white\", \"showbackground\": true, \"ticks\": \"\", \"zerolinecolor\": \"white\"}, \"yaxis\": {\"backgroundcolor\": \"#E5ECF6\", \"gridcolor\": \"white\", \"gridwidth\": 2, \"linecolor\": \"white\", \"showbackground\": true, \"ticks\": \"\", \"zerolinecolor\": \"white\"}, \"zaxis\": {\"backgroundcolor\": \"#E5ECF6\", \"gridcolor\": \"white\", \"gridwidth\": 2, \"linecolor\": \"white\", \"showbackground\": true, \"ticks\": \"\", \"zerolinecolor\": \"white\"}}, \"shapedefaults\": {\"line\": {\"color\": \"#2a3f5f\"}}, \"ternary\": {\"aaxis\": {\"gridcolor\": \"white\", \"linecolor\": \"white\", \"ticks\": \"\"}, \"baxis\": {\"gridcolor\": \"white\", \"linecolor\": \"white\", \"ticks\": \"\"}, \"bgcolor\": \"#E5ECF6\", \"caxis\": {\"gridcolor\": \"white\", \"linecolor\": \"white\", \"ticks\": \"\"}}, \"title\": {\"x\": 0.05}, \"xaxis\": {\"automargin\": true, \"gridcolor\": \"white\", \"linecolor\": \"white\", \"ticks\": \"\", \"title\": {\"standoff\": 15}, \"zerolinecolor\": \"white\", \"zerolinewidth\": 2}, \"yaxis\": {\"automargin\": true, \"gridcolor\": \"white\", \"linecolor\": \"white\", \"ticks\": \"\", \"title\": {\"standoff\": 15}, \"zerolinecolor\": \"white\", \"zerolinewidth\": 2}}}, \"xaxis\": {\"anchor\": \"y\", \"domain\": [0.0, 1.0], \"title\": {\"text\": \"x\"}}, \"yaxis\": {\"anchor\": \"x\", \"domain\": [0.0, 1.0], \"title\": {\"text\": \"y\"}}},\n",
              "                        {\"responsive\": true}\n",
              "                    ).then(function(){\n",
              "                            \n",
              "var gd = document.getElementById('b23204d5-069c-41a9-a409-404bb973c6e4');\n",
              "var x = new MutationObserver(function (mutations, observer) {{\n",
              "        var display = window.getComputedStyle(gd).display;\n",
              "        if (!display || display === 'none') {{\n",
              "            console.log([gd, 'removed!']);\n",
              "            Plotly.purge(gd);\n",
              "            observer.disconnect();\n",
              "        }}\n",
              "}});\n",
              "\n",
              "// Listen for the removal of the full notebook cells\n",
              "var notebookContainer = gd.closest('#notebook-container');\n",
              "if (notebookContainer) {{\n",
              "    x.observe(notebookContainer, {childList: true});\n",
              "}}\n",
              "\n",
              "// Listen for the clearing of the current output cell\n",
              "var outputEl = gd.closest('.output');\n",
              "if (outputEl) {{\n",
              "    x.observe(outputEl, {childList: true});\n",
              "}}\n",
              "\n",
              "                        })\n",
              "                };\n",
              "                \n",
              "            </script>\n",
              "        </div>\n",
              "</body>\n",
              "</html>"
            ]
          },
          "metadata": {
            "tags": []
          }
        }
      ]
    }
  ]
}