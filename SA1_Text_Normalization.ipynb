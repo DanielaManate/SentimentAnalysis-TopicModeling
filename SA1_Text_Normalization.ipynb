{
  "nbformat": 4,
  "nbformat_minor": 0,
  "metadata": {
    "colab": {
      "name": "SA1_Text_Normalization.ipynb",
      "provenance": [],
      "collapsed_sections": [],
      "authorship_tag": "ABX9TyNPSxciX5xgfugb7tnBW6bF",
      "include_colab_link": true
    },
    "kernelspec": {
      "name": "python3",
      "display_name": "Python 3"
    }
  },
  "cells": [
    {
      "cell_type": "markdown",
      "metadata": {
        "id": "view-in-github",
        "colab_type": "text"
      },
      "source": [
        "<a href=\"https://colab.research.google.com/github/DanielaManate/SentimentAnalysis-TopicModeling/blob/master/SA1_Text_Normalization.ipynb\" target=\"_parent\"><img src=\"https://colab.research.google.com/assets/colab-badge.svg\" alt=\"Open In Colab\"/></a>"
      ]
    },
    {
      "cell_type": "markdown",
      "metadata": {
        "id": "golDG17X12O1",
        "colab_type": "text"
      },
      "source": [
        "# Importing Libraries"
      ]
    },
    {
      "cell_type": "code",
      "metadata": {
        "id": "BfOwdTpf1jWZ",
        "colab_type": "code",
        "colab": {
          "base_uri": "https://localhost:8080/",
          "height": 326
        },
        "outputId": "35081ed2-7e41-412f-bf6a-c7b1d4e74ddd"
      },
      "source": [
        "!pip install contractions"
      ],
      "execution_count": 1,
      "outputs": [
        {
          "output_type": "stream",
          "text": [
            "Collecting contractions\n",
            "  Downloading https://files.pythonhosted.org/packages/00/92/a05b76a692ac08d470ae5c23873cf1c9a041532f1ee065e74b374f218306/contractions-0.0.25-py2.py3-none-any.whl\n",
            "Collecting textsearch\n",
            "  Downloading https://files.pythonhosted.org/packages/42/a8/03407021f9555043de5492a2bd7a35c56cc03c2510092b5ec018cae1bbf1/textsearch-0.0.17-py2.py3-none-any.whl\n",
            "Collecting Unidecode\n",
            "\u001b[?25l  Downloading https://files.pythonhosted.org/packages/d0/42/d9edfed04228bacea2d824904cae367ee9efd05e6cce7ceaaedd0b0ad964/Unidecode-1.1.1-py2.py3-none-any.whl (238kB)\n",
            "\u001b[K     |████████████████████████████████| 245kB 3.8MB/s \n",
            "\u001b[?25hCollecting pyahocorasick\n",
            "\u001b[?25l  Downloading https://files.pythonhosted.org/packages/f4/9f/f0d8e8850e12829eea2e778f1c90e3c53a9a799b7f412082a5d21cd19ae1/pyahocorasick-1.4.0.tar.gz (312kB)\n",
            "\u001b[K     |████████████████████████████████| 317kB 13.6MB/s \n",
            "\u001b[?25hBuilding wheels for collected packages: pyahocorasick\n",
            "  Building wheel for pyahocorasick (setup.py) ... \u001b[?25l\u001b[?25hdone\n",
            "  Created wheel for pyahocorasick: filename=pyahocorasick-1.4.0-cp36-cp36m-linux_x86_64.whl size=81714 sha256=9d966e09c71ed11f1a16ad5a17ba8a03c7fa9fb8ffc0d82cb29c976e1923c249\n",
            "  Stored in directory: /root/.cache/pip/wheels/0a/90/61/87a55f5b459792fbb2b7ba6b31721b06ff5cf6bde541b40994\n",
            "Successfully built pyahocorasick\n",
            "Installing collected packages: Unidecode, pyahocorasick, textsearch, contractions\n",
            "Successfully installed Unidecode-1.1.1 contractions-0.0.25 pyahocorasick-1.4.0 textsearch-0.0.17\n"
          ],
          "name": "stdout"
        }
      ]
    },
    {
      "cell_type": "code",
      "metadata": {
        "id": "iRvFJVqh1Sxi",
        "colab_type": "code",
        "colab": {
          "base_uri": "https://localhost:8080/",
          "height": 85
        },
        "outputId": "78e876e1-4b99-41a2-d2c6-2512cce98805"
      },
      "source": [
        "import pandas as pd\n",
        "import numpy as np\n",
        "\n",
        "#regular expressions\n",
        "import re\n",
        "\n",
        "# for contractions (don't -> do not; can't -> can not)\n",
        "import contractions\n",
        "\n",
        "# natural language toolkit\n",
        "import nltk \n",
        "# for stopwords (common words: to, that, this...)\n",
        "nltk.download('stopwords')\n",
        "from nltk.corpus import stopwords\n",
        "# for word_tokenize (dividing the review(document) into words)\n",
        "nltk.download('punkt')\n",
        "from nltk.tokenize import word_tokenize\n",
        "\n",
        "# spacy - advanced natural language processing\n",
        "# for lemmatization\n",
        "import spacy\n",
        "nlp = spacy.load('en_core_web_sm', disable=['parser', 'ner'])\n",
        "\n",
        "# plots\n",
        "import matplotlib.pyplot as plt"
      ],
      "execution_count": 2,
      "outputs": [
        {
          "output_type": "stream",
          "text": [
            "[nltk_data] Downloading package stopwords to /root/nltk_data...\n",
            "[nltk_data]   Unzipping corpora/stopwords.zip.\n",
            "[nltk_data] Downloading package punkt to /root/nltk_data...\n",
            "[nltk_data]   Unzipping tokenizers/punkt.zip.\n"
          ],
          "name": "stdout"
        }
      ]
    },
    {
      "cell_type": "code",
      "metadata": {
        "id": "OU64hVs42ouE",
        "colab_type": "code",
        "colab": {}
      },
      "source": [
        "from google.colab import drive\n",
        "drive.mount('/content/gdrive')\n",
        "path = 'gdrive/My Drive/GH_NLP_Course/Data/'"
      ],
      "execution_count": null,
      "outputs": []
    },
    {
      "cell_type": "markdown",
      "metadata": {
        "id": "ZGTBc7J42Qpk",
        "colab_type": "text"
      },
      "source": [
        "# Reading Dataset & EDA (Exploratory Data Analysis)"
      ]
    },
    {
      "cell_type": "markdown",
      "metadata": {
        "id": "rwy63l0e6tT-",
        "colab_type": "text"
      },
      "source": [
        "The data source is a slice of the Yelp dataset (https://www.yelp.com/dataset). We will be looking at Yelp reviews and associated ratings for restaurants, from 2017, from the city of Glendale, AZ."
      ]
    },
    {
      "cell_type": "code",
      "metadata": {
        "id": "MLMMqeol3MnM",
        "colab_type": "code",
        "colab": {
          "base_uri": "https://localhost:8080/",
          "height": 204
        },
        "outputId": "cfe1c962-6485-4531-bb14-05555003c9f2"
      },
      "source": [
        "reviews = pd.read_csv(path + 'Input/1.input_data.csv')\n",
        "reviews.head()"
      ],
      "execution_count": 4,
      "outputs": [
        {
          "output_type": "execute_result",
          "data": {
            "text/html": [
              "<div>\n",
              "<style scoped>\n",
              "    .dataframe tbody tr th:only-of-type {\n",
              "        vertical-align: middle;\n",
              "    }\n",
              "\n",
              "    .dataframe tbody tr th {\n",
              "        vertical-align: top;\n",
              "    }\n",
              "\n",
              "    .dataframe thead th {\n",
              "        text-align: right;\n",
              "    }\n",
              "</style>\n",
              "<table border=\"1\" class=\"dataframe\">\n",
              "  <thead>\n",
              "    <tr style=\"text-align: right;\">\n",
              "      <th></th>\n",
              "      <th>rest_id</th>\n",
              "      <th>text</th>\n",
              "      <th>rating</th>\n",
              "    </tr>\n",
              "  </thead>\n",
              "  <tbody>\n",
              "    <tr>\n",
              "      <th>0</th>\n",
              "      <td>yGMCl0vYigshkXiZFIDTNw</td>\n",
              "      <td>We arrived for our reservation at 7:15pm.  The...</td>\n",
              "      <td>4.0</td>\n",
              "    </tr>\n",
              "    <tr>\n",
              "      <th>1</th>\n",
              "      <td>yGMCl0vYigshkXiZFIDTNw</td>\n",
              "      <td>BOGO....I find that when a server is inefficie...</td>\n",
              "      <td>3.0</td>\n",
              "    </tr>\n",
              "    <tr>\n",
              "      <th>2</th>\n",
              "      <td>yGMCl0vYigshkXiZFIDTNw</td>\n",
              "      <td>We received amazing service again. The food wa...</td>\n",
              "      <td>5.0</td>\n",
              "    </tr>\n",
              "    <tr>\n",
              "      <th>3</th>\n",
              "      <td>yGMCl0vYigshkXiZFIDTNw</td>\n",
              "      <td>Breakfast was delicious and waitress was aweso...</td>\n",
              "      <td>5.0</td>\n",
              "    </tr>\n",
              "    <tr>\n",
              "      <th>4</th>\n",
              "      <td>yGMCl0vYigshkXiZFIDTNw</td>\n",
              "      <td>We have eaten here twice, for lunch. The first...</td>\n",
              "      <td>4.0</td>\n",
              "    </tr>\n",
              "  </tbody>\n",
              "</table>\n",
              "</div>"
            ],
            "text/plain": [
              "                  rest_id  ... rating\n",
              "0  yGMCl0vYigshkXiZFIDTNw  ...    4.0\n",
              "1  yGMCl0vYigshkXiZFIDTNw  ...    3.0\n",
              "2  yGMCl0vYigshkXiZFIDTNw  ...    5.0\n",
              "3  yGMCl0vYigshkXiZFIDTNw  ...    5.0\n",
              "4  yGMCl0vYigshkXiZFIDTNw  ...    4.0\n",
              "\n",
              "[5 rows x 3 columns]"
            ]
          },
          "metadata": {
            "tags": []
          },
          "execution_count": 4
        }
      ]
    },
    {
      "cell_type": "code",
      "metadata": {
        "id": "0FQtcGvh69Da",
        "colab_type": "code",
        "colab": {
          "base_uri": "https://localhost:8080/",
          "height": 85
        },
        "outputId": "77f7a93a-aa43-4bd2-f234-644aa7ad16ab"
      },
      "source": [
        "#Data Types\n",
        "reviews.dtypes"
      ],
      "execution_count": 5,
      "outputs": [
        {
          "output_type": "execute_result",
          "data": {
            "text/plain": [
              "rest_id     object\n",
              "text        object\n",
              "rating     float64\n",
              "dtype: object"
            ]
          },
          "metadata": {
            "tags": []
          },
          "execution_count": 5
        }
      ]
    },
    {
      "cell_type": "code",
      "metadata": {
        "colab_type": "code",
        "id": "QFAP7Xnh3d1W",
        "colab": {}
      },
      "source": [
        "# Convert Rating to Integer\n",
        "reviews['rating'] = reviews['rating'].astype(int)"
      ],
      "execution_count": 6,
      "outputs": []
    },
    {
      "cell_type": "code",
      "metadata": {
        "id": "0ZxVDXlu3brJ",
        "colab_type": "code",
        "colab": {
          "base_uri": "https://localhost:8080/",
          "height": 359
        },
        "outputId": "8a22c1af-30c9-42a9-df6b-ab5208829c12"
      },
      "source": [
        "# Look at first 10 rows\n",
        "reviews.head(10)"
      ],
      "execution_count": 7,
      "outputs": [
        {
          "output_type": "execute_result",
          "data": {
            "text/html": [
              "<div>\n",
              "<style scoped>\n",
              "    .dataframe tbody tr th:only-of-type {\n",
              "        vertical-align: middle;\n",
              "    }\n",
              "\n",
              "    .dataframe tbody tr th {\n",
              "        vertical-align: top;\n",
              "    }\n",
              "\n",
              "    .dataframe thead th {\n",
              "        text-align: right;\n",
              "    }\n",
              "</style>\n",
              "<table border=\"1\" class=\"dataframe\">\n",
              "  <thead>\n",
              "    <tr style=\"text-align: right;\">\n",
              "      <th></th>\n",
              "      <th>rest_id</th>\n",
              "      <th>text</th>\n",
              "      <th>rating</th>\n",
              "    </tr>\n",
              "  </thead>\n",
              "  <tbody>\n",
              "    <tr>\n",
              "      <th>0</th>\n",
              "      <td>yGMCl0vYigshkXiZFIDTNw</td>\n",
              "      <td>We arrived for our reservation at 7:15pm.  The...</td>\n",
              "      <td>4</td>\n",
              "    </tr>\n",
              "    <tr>\n",
              "      <th>1</th>\n",
              "      <td>yGMCl0vYigshkXiZFIDTNw</td>\n",
              "      <td>BOGO....I find that when a server is inefficie...</td>\n",
              "      <td>3</td>\n",
              "    </tr>\n",
              "    <tr>\n",
              "      <th>2</th>\n",
              "      <td>yGMCl0vYigshkXiZFIDTNw</td>\n",
              "      <td>We received amazing service again. The food wa...</td>\n",
              "      <td>5</td>\n",
              "    </tr>\n",
              "    <tr>\n",
              "      <th>3</th>\n",
              "      <td>yGMCl0vYigshkXiZFIDTNw</td>\n",
              "      <td>Breakfast was delicious and waitress was aweso...</td>\n",
              "      <td>5</td>\n",
              "    </tr>\n",
              "    <tr>\n",
              "      <th>4</th>\n",
              "      <td>yGMCl0vYigshkXiZFIDTNw</td>\n",
              "      <td>We have eaten here twice, for lunch. The first...</td>\n",
              "      <td>4</td>\n",
              "    </tr>\n",
              "    <tr>\n",
              "      <th>5</th>\n",
              "      <td>yGMCl0vYigshkXiZFIDTNw</td>\n",
              "      <td>awesome service, great food.  Buffy was an ama...</td>\n",
              "      <td>5</td>\n",
              "    </tr>\n",
              "    <tr>\n",
              "      <th>6</th>\n",
              "      <td>yGMCl0vYigshkXiZFIDTNw</td>\n",
              "      <td>I love this establishment. Great service and f...</td>\n",
              "      <td>5</td>\n",
              "    </tr>\n",
              "    <tr>\n",
              "      <th>7</th>\n",
              "      <td>yGMCl0vYigshkXiZFIDTNw</td>\n",
              "      <td>Great food, passed my expectations. Good coffe...</td>\n",
              "      <td>5</td>\n",
              "    </tr>\n",
              "    <tr>\n",
              "      <th>8</th>\n",
              "      <td>yGMCl0vYigshkXiZFIDTNw</td>\n",
              "      <td>What a great place for breakfast.  Are at Mimi...</td>\n",
              "      <td>4</td>\n",
              "    </tr>\n",
              "    <tr>\n",
              "      <th>9</th>\n",
              "      <td>yGMCl0vYigshkXiZFIDTNw</td>\n",
              "      <td>I really like this place for breakfast and bru...</td>\n",
              "      <td>4</td>\n",
              "    </tr>\n",
              "  </tbody>\n",
              "</table>\n",
              "</div>"
            ],
            "text/plain": [
              "                  rest_id  ... rating\n",
              "0  yGMCl0vYigshkXiZFIDTNw  ...      4\n",
              "1  yGMCl0vYigshkXiZFIDTNw  ...      3\n",
              "2  yGMCl0vYigshkXiZFIDTNw  ...      5\n",
              "3  yGMCl0vYigshkXiZFIDTNw  ...      5\n",
              "4  yGMCl0vYigshkXiZFIDTNw  ...      4\n",
              "5  yGMCl0vYigshkXiZFIDTNw  ...      5\n",
              "6  yGMCl0vYigshkXiZFIDTNw  ...      5\n",
              "7  yGMCl0vYigshkXiZFIDTNw  ...      5\n",
              "8  yGMCl0vYigshkXiZFIDTNw  ...      4\n",
              "9  yGMCl0vYigshkXiZFIDTNw  ...      4\n",
              "\n",
              "[10 rows x 3 columns]"
            ]
          },
          "metadata": {
            "tags": []
          },
          "execution_count": 7
        }
      ]
    },
    {
      "cell_type": "code",
      "metadata": {
        "id": "yNcdAQ0M4tZP",
        "colab_type": "code",
        "colab": {
          "base_uri": "https://localhost:8080/",
          "height": 297
        },
        "outputId": "a73493ca-3b4c-4a63-b335-c3736f30e297"
      },
      "source": [
        "# Describe the data\n",
        "reviews.describe()"
      ],
      "execution_count": 8,
      "outputs": [
        {
          "output_type": "execute_result",
          "data": {
            "text/html": [
              "<div>\n",
              "<style scoped>\n",
              "    .dataframe tbody tr th:only-of-type {\n",
              "        vertical-align: middle;\n",
              "    }\n",
              "\n",
              "    .dataframe tbody tr th {\n",
              "        vertical-align: top;\n",
              "    }\n",
              "\n",
              "    .dataframe thead th {\n",
              "        text-align: right;\n",
              "    }\n",
              "</style>\n",
              "<table border=\"1\" class=\"dataframe\">\n",
              "  <thead>\n",
              "    <tr style=\"text-align: right;\">\n",
              "      <th></th>\n",
              "      <th>rating</th>\n",
              "    </tr>\n",
              "  </thead>\n",
              "  <tbody>\n",
              "    <tr>\n",
              "      <th>count</th>\n",
              "      <td>10346.000000</td>\n",
              "    </tr>\n",
              "    <tr>\n",
              "      <th>mean</th>\n",
              "      <td>3.633482</td>\n",
              "    </tr>\n",
              "    <tr>\n",
              "      <th>std</th>\n",
              "      <td>1.562123</td>\n",
              "    </tr>\n",
              "    <tr>\n",
              "      <th>min</th>\n",
              "      <td>1.000000</td>\n",
              "    </tr>\n",
              "    <tr>\n",
              "      <th>25%</th>\n",
              "      <td>2.000000</td>\n",
              "    </tr>\n",
              "    <tr>\n",
              "      <th>50%</th>\n",
              "      <td>4.000000</td>\n",
              "    </tr>\n",
              "    <tr>\n",
              "      <th>75%</th>\n",
              "      <td>5.000000</td>\n",
              "    </tr>\n",
              "    <tr>\n",
              "      <th>max</th>\n",
              "      <td>5.000000</td>\n",
              "    </tr>\n",
              "  </tbody>\n",
              "</table>\n",
              "</div>"
            ],
            "text/plain": [
              "             rating\n",
              "count  10346.000000\n",
              "mean       3.633482\n",
              "std        1.562123\n",
              "min        1.000000\n",
              "25%        2.000000\n",
              "50%        4.000000\n",
              "75%        5.000000\n",
              "max        5.000000"
            ]
          },
          "metadata": {
            "tags": []
          },
          "execution_count": 8
        }
      ]
    },
    {
      "cell_type": "code",
      "metadata": {
        "id": "ZVDWLf794x51",
        "colab_type": "code",
        "colab": {
          "base_uri": "https://localhost:8080/",
          "height": 390
        },
        "outputId": "b26bf714-a4b9-4118-a422-eb4a3ace5b26"
      },
      "source": [
        "# Default: only numeric columns; \n",
        "# include = 'all' to see descriptions for all the columns\n",
        "reviews.describe(include='all')"
      ],
      "execution_count": 9,
      "outputs": [
        {
          "output_type": "execute_result",
          "data": {
            "text/html": [
              "<div>\n",
              "<style scoped>\n",
              "    .dataframe tbody tr th:only-of-type {\n",
              "        vertical-align: middle;\n",
              "    }\n",
              "\n",
              "    .dataframe tbody tr th {\n",
              "        vertical-align: top;\n",
              "    }\n",
              "\n",
              "    .dataframe thead th {\n",
              "        text-align: right;\n",
              "    }\n",
              "</style>\n",
              "<table border=\"1\" class=\"dataframe\">\n",
              "  <thead>\n",
              "    <tr style=\"text-align: right;\">\n",
              "      <th></th>\n",
              "      <th>rest_id</th>\n",
              "      <th>text</th>\n",
              "      <th>rating</th>\n",
              "    </tr>\n",
              "  </thead>\n",
              "  <tbody>\n",
              "    <tr>\n",
              "      <th>count</th>\n",
              "      <td>10346</td>\n",
              "      <td>10346</td>\n",
              "      <td>10346.000000</td>\n",
              "    </tr>\n",
              "    <tr>\n",
              "      <th>unique</th>\n",
              "      <td>501</td>\n",
              "      <td>10323</td>\n",
              "      <td>NaN</td>\n",
              "    </tr>\n",
              "    <tr>\n",
              "      <th>top</th>\n",
              "      <td>ojGCRzEym2W3tSTo69fhxA</td>\n",
              "      <td>Absolutely the best Grinder I've ever had. Fre...</td>\n",
              "      <td>NaN</td>\n",
              "    </tr>\n",
              "    <tr>\n",
              "      <th>freq</th>\n",
              "      <td>201</td>\n",
              "      <td>2</td>\n",
              "      <td>NaN</td>\n",
              "    </tr>\n",
              "    <tr>\n",
              "      <th>mean</th>\n",
              "      <td>NaN</td>\n",
              "      <td>NaN</td>\n",
              "      <td>3.633482</td>\n",
              "    </tr>\n",
              "    <tr>\n",
              "      <th>std</th>\n",
              "      <td>NaN</td>\n",
              "      <td>NaN</td>\n",
              "      <td>1.562123</td>\n",
              "    </tr>\n",
              "    <tr>\n",
              "      <th>min</th>\n",
              "      <td>NaN</td>\n",
              "      <td>NaN</td>\n",
              "      <td>1.000000</td>\n",
              "    </tr>\n",
              "    <tr>\n",
              "      <th>25%</th>\n",
              "      <td>NaN</td>\n",
              "      <td>NaN</td>\n",
              "      <td>2.000000</td>\n",
              "    </tr>\n",
              "    <tr>\n",
              "      <th>50%</th>\n",
              "      <td>NaN</td>\n",
              "      <td>NaN</td>\n",
              "      <td>4.000000</td>\n",
              "    </tr>\n",
              "    <tr>\n",
              "      <th>75%</th>\n",
              "      <td>NaN</td>\n",
              "      <td>NaN</td>\n",
              "      <td>5.000000</td>\n",
              "    </tr>\n",
              "    <tr>\n",
              "      <th>max</th>\n",
              "      <td>NaN</td>\n",
              "      <td>NaN</td>\n",
              "      <td>5.000000</td>\n",
              "    </tr>\n",
              "  </tbody>\n",
              "</table>\n",
              "</div>"
            ],
            "text/plain": [
              "                       rest_id  ...        rating\n",
              "count                    10346  ...  10346.000000\n",
              "unique                     501  ...           NaN\n",
              "top     ojGCRzEym2W3tSTo69fhxA  ...           NaN\n",
              "freq                       201  ...           NaN\n",
              "mean                       NaN  ...      3.633482\n",
              "std                        NaN  ...      1.562123\n",
              "min                        NaN  ...      1.000000\n",
              "25%                        NaN  ...      2.000000\n",
              "50%                        NaN  ...      4.000000\n",
              "75%                        NaN  ...      5.000000\n",
              "max                        NaN  ...      5.000000\n",
              "\n",
              "[11 rows x 3 columns]"
            ]
          },
          "metadata": {
            "tags": []
          },
          "execution_count": 9
        }
      ]
    },
    {
      "cell_type": "code",
      "metadata": {
        "id": "HxUVXlWa49hD",
        "colab_type": "code",
        "colab": {}
      },
      "source": [
        "# Duplicate review text exists"
      ],
      "execution_count": 10,
      "outputs": []
    },
    {
      "cell_type": "code",
      "metadata": {
        "id": "9ZLeIqCI4z-N",
        "colab_type": "code",
        "colab": {
          "base_uri": "https://localhost:8080/",
          "height": 119
        },
        "outputId": "fe9736b8-7940-43a2-a722-66cf2370cb54"
      },
      "source": [
        "# Occurences of each rating\n",
        "reviews['rating'].value_counts()"
      ],
      "execution_count": 11,
      "outputs": [
        {
          "output_type": "execute_result",
          "data": {
            "text/plain": [
              "5    4772\n",
              "1    1905\n",
              "4    1754\n",
              "3     981\n",
              "2     934\n",
              "Name: rating, dtype: int64"
            ]
          },
          "metadata": {
            "tags": []
          },
          "execution_count": 11
        }
      ]
    },
    {
      "cell_type": "code",
      "metadata": {
        "id": "uCEBuVUG4-p4",
        "colab_type": "code",
        "colab": {
          "base_uri": "https://localhost:8080/",
          "height": 119
        },
        "outputId": "5e367c7e-3d4a-49db-bf99-3c92b5935912"
      },
      "source": [
        "# Occurences of each rating, sorted ascending by rating\n",
        "reviews['rating'].value_counts().sort_index()"
      ],
      "execution_count": 12,
      "outputs": [
        {
          "output_type": "execute_result",
          "data": {
            "text/plain": [
              "1    1905\n",
              "2     934\n",
              "3     981\n",
              "4    1754\n",
              "5    4772\n",
              "Name: rating, dtype: int64"
            ]
          },
          "metadata": {
            "tags": []
          },
          "execution_count": 12
        }
      ]
    },
    {
      "cell_type": "code",
      "metadata": {
        "id": "GeUCyz3j5Ac8",
        "colab_type": "code",
        "colab": {
          "base_uri": "https://localhost:8080/",
          "height": 292
        },
        "outputId": "76a51435-fcdc-4818-e99a-801585b2113c"
      },
      "source": [
        "# Rating Frequency Graph\n",
        "\n",
        "fig = reviews['rating'].value_counts().sort_index().plot(kind = 'bar')\n",
        "\n",
        "fig.set_title('Rating Frequency')\n",
        "fig.set_xlabel('Rating')\n",
        "fig.set_ylabel('Frequency')\n",
        "\n",
        "plt.show();"
      ],
      "execution_count": 13,
      "outputs": [
        {
          "output_type": "display_data",
          "data": {
            "image/png": "[encoded data removed]",
            "text/plain": [
              "<Figure size 432x288 with 1 Axes>"
            ]
          },
          "metadata": {
            "tags": [],
            "needs_background": "light"
          }
        }
      ]
    },
    {
      "cell_type": "code",
      "metadata": {
        "id": "mg0eRwXY5EqV",
        "colab_type": "code",
        "colab": {
          "base_uri": "https://localhost:8080/",
          "height": 71
        },
        "outputId": "780173f0-6732-4934-aa20-a93f563163f7"
      },
      "source": [
        "# Review Example\n",
        "\n",
        "print(reviews.iloc[250,1])\n",
        "print(reviews['text'].iloc[250])"
      ],
      "execution_count": 14,
      "outputs": [
        {
          "output_type": "stream",
          "text": [
            "Excellent food, fresh, with great flavor. Some Greek food places can feel a little divey, not this place. Modern and clean atmosphere, friendly staff, and delicious food. The Greek fries are my family's favorite. Sometimes we drop in during the middle of the day just to satisfy our craving for them! Highly recommended this place.\n",
            "Excellent food, fresh, with great flavor. Some Greek food places can feel a little divey, not this place. Modern and clean atmosphere, friendly staff, and delicious food. The Greek fries are my family's favorite. Sometimes we drop in during the middle of the day just to satisfy our craving for them! Highly recommended this place.\n"
          ],
          "name": "stdout"
        }
      ]
    },
    {
      "cell_type": "code",
      "metadata": {
        "id": "2a48WaMS6N_I",
        "colab_type": "code",
        "colab": {
          "base_uri": "https://localhost:8080/",
          "height": 80
        },
        "outputId": "12e1b707-a81e-431d-e94d-0b65d2c0d41d"
      },
      "source": [
        "# Review Example - all columns\n",
        "reviews[250:251]"
      ],
      "execution_count": 15,
      "outputs": [
        {
          "output_type": "execute_result",
          "data": {
            "text/html": [
              "<div>\n",
              "<style scoped>\n",
              "    .dataframe tbody tr th:only-of-type {\n",
              "        vertical-align: middle;\n",
              "    }\n",
              "\n",
              "    .dataframe tbody tr th {\n",
              "        vertical-align: top;\n",
              "    }\n",
              "\n",
              "    .dataframe thead th {\n",
              "        text-align: right;\n",
              "    }\n",
              "</style>\n",
              "<table border=\"1\" class=\"dataframe\">\n",
              "  <thead>\n",
              "    <tr style=\"text-align: right;\">\n",
              "      <th></th>\n",
              "      <th>rest_id</th>\n",
              "      <th>text</th>\n",
              "      <th>rating</th>\n",
              "    </tr>\n",
              "  </thead>\n",
              "  <tbody>\n",
              "    <tr>\n",
              "      <th>250</th>\n",
              "      <td>Q8GBjqGjamI3b2ZaPQNa_Q</td>\n",
              "      <td>Excellent food, fresh, with great flavor. Some...</td>\n",
              "      <td>5</td>\n",
              "    </tr>\n",
              "  </tbody>\n",
              "</table>\n",
              "</div>"
            ],
            "text/plain": [
              "                    rest_id  ... rating\n",
              "250  Q8GBjqGjamI3b2ZaPQNa_Q  ...      5\n",
              "\n",
              "[1 rows x 3 columns]"
            ]
          },
          "metadata": {
            "tags": []
          },
          "execution_count": 15
        }
      ]
    },
    {
      "cell_type": "code",
      "metadata": {
        "id": "pmvc7tfy6Y2Q",
        "colab_type": "code",
        "colab": {
          "base_uri": "https://localhost:8080/",
          "height": 34
        },
        "outputId": "bef94681-398e-4fec-df6a-beba315ef595"
      },
      "source": [
        "# Length of the text of the review for Review Example\n",
        "len(reviews['text'].iloc[250])"
      ],
      "execution_count": 16,
      "outputs": [
        {
          "output_type": "execute_result",
          "data": {
            "text/plain": [
              "331"
            ]
          },
          "metadata": {
            "tags": []
          },
          "execution_count": 16
        }
      ]
    },
    {
      "cell_type": "code",
      "metadata": {
        "id": "SZvgtQMT6cDB",
        "colab_type": "code",
        "colab": {
          "base_uri": "https://localhost:8080/",
          "height": 204
        },
        "outputId": "f13e2ac0-9c79-4059-a6a8-646ba7f7e8b5"
      },
      "source": [
        "# Add text length as a separate column\n",
        "reviews['char_count'] = reviews['text'].apply(len)\n",
        "reviews.head()"
      ],
      "execution_count": 17,
      "outputs": [
        {
          "output_type": "execute_result",
          "data": {
            "text/html": [
              "<div>\n",
              "<style scoped>\n",
              "    .dataframe tbody tr th:only-of-type {\n",
              "        vertical-align: middle;\n",
              "    }\n",
              "\n",
              "    .dataframe tbody tr th {\n",
              "        vertical-align: top;\n",
              "    }\n",
              "\n",
              "    .dataframe thead th {\n",
              "        text-align: right;\n",
              "    }\n",
              "</style>\n",
              "<table border=\"1\" class=\"dataframe\">\n",
              "  <thead>\n",
              "    <tr style=\"text-align: right;\">\n",
              "      <th></th>\n",
              "      <th>rest_id</th>\n",
              "      <th>text</th>\n",
              "      <th>rating</th>\n",
              "      <th>char_count</th>\n",
              "    </tr>\n",
              "  </thead>\n",
              "  <tbody>\n",
              "    <tr>\n",
              "      <th>0</th>\n",
              "      <td>yGMCl0vYigshkXiZFIDTNw</td>\n",
              "      <td>We arrived for our reservation at 7:15pm.  The...</td>\n",
              "      <td>4</td>\n",
              "      <td>302</td>\n",
              "    </tr>\n",
              "    <tr>\n",
              "      <th>1</th>\n",
              "      <td>yGMCl0vYigshkXiZFIDTNw</td>\n",
              "      <td>BOGO....I find that when a server is inefficie...</td>\n",
              "      <td>3</td>\n",
              "      <td>151</td>\n",
              "    </tr>\n",
              "    <tr>\n",
              "      <th>2</th>\n",
              "      <td>yGMCl0vYigshkXiZFIDTNw</td>\n",
              "      <td>We received amazing service again. The food wa...</td>\n",
              "      <td>5</td>\n",
              "      <td>111</td>\n",
              "    </tr>\n",
              "    <tr>\n",
              "      <th>3</th>\n",
              "      <td>yGMCl0vYigshkXiZFIDTNw</td>\n",
              "      <td>Breakfast was delicious and waitress was aweso...</td>\n",
              "      <td>5</td>\n",
              "      <td>146</td>\n",
              "    </tr>\n",
              "    <tr>\n",
              "      <th>4</th>\n",
              "      <td>yGMCl0vYigshkXiZFIDTNw</td>\n",
              "      <td>We have eaten here twice, for lunch. The first...</td>\n",
              "      <td>4</td>\n",
              "      <td>710</td>\n",
              "    </tr>\n",
              "  </tbody>\n",
              "</table>\n",
              "</div>"
            ],
            "text/plain": [
              "                  rest_id  ... char_count\n",
              "0  yGMCl0vYigshkXiZFIDTNw  ...        302\n",
              "1  yGMCl0vYigshkXiZFIDTNw  ...        151\n",
              "2  yGMCl0vYigshkXiZFIDTNw  ...        111\n",
              "3  yGMCl0vYigshkXiZFIDTNw  ...        146\n",
              "4  yGMCl0vYigshkXiZFIDTNw  ...        710\n",
              "\n",
              "[5 rows x 4 columns]"
            ]
          },
          "metadata": {
            "tags": []
          },
          "execution_count": 17
        }
      ]
    },
    {
      "cell_type": "code",
      "metadata": {
        "id": "aeovsjQP6eVy",
        "colab_type": "code",
        "colab": {
          "base_uri": "https://localhost:8080/",
          "height": 51
        },
        "outputId": "161879a3-eb1a-475b-d9c0-de45c3228c1b"
      },
      "source": [
        "# This returns length of df (no of rows)\n",
        "print(len(reviews))\n",
        "print(len(reviews['text']))"
      ],
      "execution_count": 18,
      "outputs": [
        {
          "output_type": "stream",
          "text": [
            "10346\n",
            "10346\n"
          ],
          "name": "stdout"
        }
      ]
    },
    {
      "cell_type": "code",
      "metadata": {
        "id": "Yqb4KyRf6rjx",
        "colab_type": "code",
        "colab": {
          "base_uri": "https://localhost:8080/",
          "height": 221
        },
        "outputId": "928504d4-38b9-466f-bc5c-1ddd153f3aa7"
      },
      "source": [
        "# What rows have a rating of 3\n",
        "reviews['rating']==3"
      ],
      "execution_count": 19,
      "outputs": [
        {
          "output_type": "execute_result",
          "data": {
            "text/plain": [
              "0        False\n",
              "1         True\n",
              "2        False\n",
              "3        False\n",
              "4        False\n",
              "         ...  \n",
              "10341    False\n",
              "10342    False\n",
              "10343    False\n",
              "10344    False\n",
              "10345    False\n",
              "Name: rating, Length: 10346, dtype: bool"
            ]
          },
          "metadata": {
            "tags": []
          },
          "execution_count": 19
        }
      ]
    },
    {
      "cell_type": "code",
      "metadata": {
        "id": "muEjHWyB6tyr",
        "colab_type": "code",
        "colab": {
          "base_uri": "https://localhost:8080/",
          "height": 419
        },
        "outputId": "7f8324d5-a8f6-4c4f-c7e6-4c319f427072"
      },
      "source": [
        "# Filter df to only the rows that have reviews with a rating of 3\n",
        "reviews[reviews['rating']==3]"
      ],
      "execution_count": 20,
      "outputs": [
        {
          "output_type": "execute_result",
          "data": {
            "text/html": [
              "<div>\n",
              "<style scoped>\n",
              "    .dataframe tbody tr th:only-of-type {\n",
              "        vertical-align: middle;\n",
              "    }\n",
              "\n",
              "    .dataframe tbody tr th {\n",
              "        vertical-align: top;\n",
              "    }\n",
              "\n",
              "    .dataframe thead th {\n",
              "        text-align: right;\n",
              "    }\n",
              "</style>\n",
              "<table border=\"1\" class=\"dataframe\">\n",
              "  <thead>\n",
              "    <tr style=\"text-align: right;\">\n",
              "      <th></th>\n",
              "      <th>rest_id</th>\n",
              "      <th>text</th>\n",
              "      <th>rating</th>\n",
              "      <th>char_count</th>\n",
              "    </tr>\n",
              "  </thead>\n",
              "  <tbody>\n",
              "    <tr>\n",
              "      <th>1</th>\n",
              "      <td>yGMCl0vYigshkXiZFIDTNw</td>\n",
              "      <td>BOGO....I find that when a server is inefficie...</td>\n",
              "      <td>3</td>\n",
              "      <td>151</td>\n",
              "    </tr>\n",
              "    <tr>\n",
              "      <th>26</th>\n",
              "      <td>yGMCl0vYigshkXiZFIDTNw</td>\n",
              "      <td>The service was great. There was a 20 minute w...</td>\n",
              "      <td>3</td>\n",
              "      <td>348</td>\n",
              "    </tr>\n",
              "    <tr>\n",
              "      <th>39</th>\n",
              "      <td>thlAnPN1ApoNxSnok_fcvA</td>\n",
              "      <td>So we brought our kids here for breakfast befo...</td>\n",
              "      <td>3</td>\n",
              "      <td>459</td>\n",
              "    </tr>\n",
              "    <tr>\n",
              "      <th>53</th>\n",
              "      <td>thlAnPN1ApoNxSnok_fcvA</td>\n",
              "      <td>While the food is good here, the entire place ...</td>\n",
              "      <td>3</td>\n",
              "      <td>127</td>\n",
              "    </tr>\n",
              "    <tr>\n",
              "      <th>61</th>\n",
              "      <td>thlAnPN1ApoNxSnok_fcvA</td>\n",
              "      <td>Food was pretty decent. But service was slow. ...</td>\n",
              "      <td>3</td>\n",
              "      <td>248</td>\n",
              "    </tr>\n",
              "    <tr>\n",
              "      <th>...</th>\n",
              "      <td>...</td>\n",
              "      <td>...</td>\n",
              "      <td>...</td>\n",
              "      <td>...</td>\n",
              "    </tr>\n",
              "    <tr>\n",
              "      <th>10303</th>\n",
              "      <td>oXIYs7rxT-bdgpeYzBfrzA</td>\n",
              "      <td>Meh!  Shared the carambas nachos.  What a sogg...</td>\n",
              "      <td>3</td>\n",
              "      <td>349</td>\n",
              "    </tr>\n",
              "    <tr>\n",
              "      <th>10306</th>\n",
              "      <td>oXIYs7rxT-bdgpeYzBfrzA</td>\n",
              "      <td>I have been going to this same Caramba for 20 ...</td>\n",
              "      <td>3</td>\n",
              "      <td>462</td>\n",
              "    </tr>\n",
              "    <tr>\n",
              "      <th>10323</th>\n",
              "      <td>F32Z-kI7ZJyGbjT8Vu3WOA</td>\n",
              "      <td>I am proud of my neighborhood Subway. I checke...</td>\n",
              "      <td>3</td>\n",
              "      <td>851</td>\n",
              "    </tr>\n",
              "    <tr>\n",
              "      <th>10329</th>\n",
              "      <td>WyeENX8AdrERdFZtVy7uzQ</td>\n",
              "      <td>Me and my husband have been here twice in 1 we...</td>\n",
              "      <td>3</td>\n",
              "      <td>463</td>\n",
              "    </tr>\n",
              "    <tr>\n",
              "      <th>10335</th>\n",
              "      <td>oVJoGIPWFPrWZG1XcSYVow</td>\n",
              "      <td>This place was very small and had a funky smel...</td>\n",
              "      <td>3</td>\n",
              "      <td>271</td>\n",
              "    </tr>\n",
              "  </tbody>\n",
              "</table>\n",
              "<p>981 rows × 4 columns</p>\n",
              "</div>"
            ],
            "text/plain": [
              "                      rest_id  ... char_count\n",
              "1      yGMCl0vYigshkXiZFIDTNw  ...        151\n",
              "26     yGMCl0vYigshkXiZFIDTNw  ...        348\n",
              "39     thlAnPN1ApoNxSnok_fcvA  ...        459\n",
              "53     thlAnPN1ApoNxSnok_fcvA  ...        127\n",
              "61     thlAnPN1ApoNxSnok_fcvA  ...        248\n",
              "...                       ...  ...        ...\n",
              "10303  oXIYs7rxT-bdgpeYzBfrzA  ...        349\n",
              "10306  oXIYs7rxT-bdgpeYzBfrzA  ...        462\n",
              "10323  F32Z-kI7ZJyGbjT8Vu3WOA  ...        851\n",
              "10329  WyeENX8AdrERdFZtVy7uzQ  ...        463\n",
              "10335  oVJoGIPWFPrWZG1XcSYVow  ...        271\n",
              "\n",
              "[981 rows x 4 columns]"
            ]
          },
          "metadata": {
            "tags": []
          },
          "execution_count": 20
        }
      ]
    },
    {
      "cell_type": "code",
      "metadata": {
        "id": "38eXB_Fz6xK_",
        "colab_type": "code",
        "colab": {
          "base_uri": "https://localhost:8080/",
          "height": 204
        },
        "outputId": "1a6da951-6adb-4e82-c736-e06f3844f24e"
      },
      "source": [
        "# We are excluding 3 (neutral), because our objective is to \n",
        "# build a model that recognizes positive and negative reviews.\n",
        "\n",
        "# 3 star reviews can contain both emotions. However, in normal \n",
        "# language, neutral language would mean no emotion.\n",
        "\n",
        "# This is not applied in the case of reviews -> a 3 star\n",
        "# review could mean users are content about some things\n",
        "# and dissatisfied with others.\n",
        "\n",
        "# Exclude reviews with 3 rating\n",
        "reviews = reviews[reviews['rating']!=3]\n",
        "reviews.head()"
      ],
      "execution_count": 21,
      "outputs": [
        {
          "output_type": "execute_result",
          "data": {
            "text/html": [
              "<div>\n",
              "<style scoped>\n",
              "    .dataframe tbody tr th:only-of-type {\n",
              "        vertical-align: middle;\n",
              "    }\n",
              "\n",
              "    .dataframe tbody tr th {\n",
              "        vertical-align: top;\n",
              "    }\n",
              "\n",
              "    .dataframe thead th {\n",
              "        text-align: right;\n",
              "    }\n",
              "</style>\n",
              "<table border=\"1\" class=\"dataframe\">\n",
              "  <thead>\n",
              "    <tr style=\"text-align: right;\">\n",
              "      <th></th>\n",
              "      <th>rest_id</th>\n",
              "      <th>text</th>\n",
              "      <th>rating</th>\n",
              "      <th>char_count</th>\n",
              "    </tr>\n",
              "  </thead>\n",
              "  <tbody>\n",
              "    <tr>\n",
              "      <th>0</th>\n",
              "      <td>yGMCl0vYigshkXiZFIDTNw</td>\n",
              "      <td>We arrived for our reservation at 7:15pm.  The...</td>\n",
              "      <td>4</td>\n",
              "      <td>302</td>\n",
              "    </tr>\n",
              "    <tr>\n",
              "      <th>2</th>\n",
              "      <td>yGMCl0vYigshkXiZFIDTNw</td>\n",
              "      <td>We received amazing service again. The food wa...</td>\n",
              "      <td>5</td>\n",
              "      <td>111</td>\n",
              "    </tr>\n",
              "    <tr>\n",
              "      <th>3</th>\n",
              "      <td>yGMCl0vYigshkXiZFIDTNw</td>\n",
              "      <td>Breakfast was delicious and waitress was aweso...</td>\n",
              "      <td>5</td>\n",
              "      <td>146</td>\n",
              "    </tr>\n",
              "    <tr>\n",
              "      <th>4</th>\n",
              "      <td>yGMCl0vYigshkXiZFIDTNw</td>\n",
              "      <td>We have eaten here twice, for lunch. The first...</td>\n",
              "      <td>4</td>\n",
              "      <td>710</td>\n",
              "    </tr>\n",
              "    <tr>\n",
              "      <th>5</th>\n",
              "      <td>yGMCl0vYigshkXiZFIDTNw</td>\n",
              "      <td>awesome service, great food.  Buffy was an ama...</td>\n",
              "      <td>5</td>\n",
              "      <td>59</td>\n",
              "    </tr>\n",
              "  </tbody>\n",
              "</table>\n",
              "</div>"
            ],
            "text/plain": [
              "                  rest_id  ... char_count\n",
              "0  yGMCl0vYigshkXiZFIDTNw  ...        302\n",
              "2  yGMCl0vYigshkXiZFIDTNw  ...        111\n",
              "3  yGMCl0vYigshkXiZFIDTNw  ...        146\n",
              "4  yGMCl0vYigshkXiZFIDTNw  ...        710\n",
              "5  yGMCl0vYigshkXiZFIDTNw  ...         59\n",
              "\n",
              "[5 rows x 4 columns]"
            ]
          },
          "metadata": {
            "tags": []
          },
          "execution_count": 21
        }
      ]
    },
    {
      "cell_type": "code",
      "metadata": {
        "id": "xLmaz8-f7jp7",
        "colab_type": "code",
        "colab": {
          "base_uri": "https://localhost:8080/",
          "height": 204
        },
        "outputId": "7819dffe-1baa-47db-fe6d-6efffc6ff60e"
      },
      "source": [
        "# Reset index. Use the drop parameter to avoid the old index \n",
        "# being added as a column\n",
        "\n",
        "reviews = reviews[reviews['rating']!=3].reset_index(drop=True)\n",
        "reviews.head()"
      ],
      "execution_count": 22,
      "outputs": [
        {
          "output_type": "execute_result",
          "data": {
            "text/html": [
              "<div>\n",
              "<style scoped>\n",
              "    .dataframe tbody tr th:only-of-type {\n",
              "        vertical-align: middle;\n",
              "    }\n",
              "\n",
              "    .dataframe tbody tr th {\n",
              "        vertical-align: top;\n",
              "    }\n",
              "\n",
              "    .dataframe thead th {\n",
              "        text-align: right;\n",
              "    }\n",
              "</style>\n",
              "<table border=\"1\" class=\"dataframe\">\n",
              "  <thead>\n",
              "    <tr style=\"text-align: right;\">\n",
              "      <th></th>\n",
              "      <th>rest_id</th>\n",
              "      <th>text</th>\n",
              "      <th>rating</th>\n",
              "      <th>char_count</th>\n",
              "    </tr>\n",
              "  </thead>\n",
              "  <tbody>\n",
              "    <tr>\n",
              "      <th>0</th>\n",
              "      <td>yGMCl0vYigshkXiZFIDTNw</td>\n",
              "      <td>We arrived for our reservation at 7:15pm.  The...</td>\n",
              "      <td>4</td>\n",
              "      <td>302</td>\n",
              "    </tr>\n",
              "    <tr>\n",
              "      <th>1</th>\n",
              "      <td>yGMCl0vYigshkXiZFIDTNw</td>\n",
              "      <td>We received amazing service again. The food wa...</td>\n",
              "      <td>5</td>\n",
              "      <td>111</td>\n",
              "    </tr>\n",
              "    <tr>\n",
              "      <th>2</th>\n",
              "      <td>yGMCl0vYigshkXiZFIDTNw</td>\n",
              "      <td>Breakfast was delicious and waitress was aweso...</td>\n",
              "      <td>5</td>\n",
              "      <td>146</td>\n",
              "    </tr>\n",
              "    <tr>\n",
              "      <th>3</th>\n",
              "      <td>yGMCl0vYigshkXiZFIDTNw</td>\n",
              "      <td>We have eaten here twice, for lunch. The first...</td>\n",
              "      <td>4</td>\n",
              "      <td>710</td>\n",
              "    </tr>\n",
              "    <tr>\n",
              "      <th>4</th>\n",
              "      <td>yGMCl0vYigshkXiZFIDTNw</td>\n",
              "      <td>awesome service, great food.  Buffy was an ama...</td>\n",
              "      <td>5</td>\n",
              "      <td>59</td>\n",
              "    </tr>\n",
              "  </tbody>\n",
              "</table>\n",
              "</div>"
            ],
            "text/plain": [
              "                  rest_id  ... char_count\n",
              "0  yGMCl0vYigshkXiZFIDTNw  ...        302\n",
              "1  yGMCl0vYigshkXiZFIDTNw  ...        111\n",
              "2  yGMCl0vYigshkXiZFIDTNw  ...        146\n",
              "3  yGMCl0vYigshkXiZFIDTNw  ...        710\n",
              "4  yGMCl0vYigshkXiZFIDTNw  ...         59\n",
              "\n",
              "[5 rows x 4 columns]"
            ]
          },
          "metadata": {
            "tags": []
          },
          "execution_count": 22
        }
      ]
    },
    {
      "cell_type": "code",
      "metadata": {
        "id": "uyYa34Au7mle",
        "colab_type": "code",
        "colab": {
          "base_uri": "https://localhost:8080/",
          "height": 204
        },
        "outputId": "94718b6c-18c4-41b7-821b-0f309094d471"
      },
      "source": [
        "# Add col 'positive' to show\n",
        "# 1 if rating is 4 or 5  \n",
        "# 0 if rating is 1 or 2\n",
        "\n",
        "reviews['positive'] = np.where(reviews['rating'] > 3, 1, 0)\n",
        "reviews.head()"
      ],
      "execution_count": 23,
      "outputs": [
        {
          "output_type": "execute_result",
          "data": {
            "text/html": [
              "<div>\n",
              "<style scoped>\n",
              "    .dataframe tbody tr th:only-of-type {\n",
              "        vertical-align: middle;\n",
              "    }\n",
              "\n",
              "    .dataframe tbody tr th {\n",
              "        vertical-align: top;\n",
              "    }\n",
              "\n",
              "    .dataframe thead th {\n",
              "        text-align: right;\n",
              "    }\n",
              "</style>\n",
              "<table border=\"1\" class=\"dataframe\">\n",
              "  <thead>\n",
              "    <tr style=\"text-align: right;\">\n",
              "      <th></th>\n",
              "      <th>rest_id</th>\n",
              "      <th>text</th>\n",
              "      <th>rating</th>\n",
              "      <th>char_count</th>\n",
              "      <th>positive</th>\n",
              "    </tr>\n",
              "  </thead>\n",
              "  <tbody>\n",
              "    <tr>\n",
              "      <th>0</th>\n",
              "      <td>yGMCl0vYigshkXiZFIDTNw</td>\n",
              "      <td>We arrived for our reservation at 7:15pm.  The...</td>\n",
              "      <td>4</td>\n",
              "      <td>302</td>\n",
              "      <td>1</td>\n",
              "    </tr>\n",
              "    <tr>\n",
              "      <th>1</th>\n",
              "      <td>yGMCl0vYigshkXiZFIDTNw</td>\n",
              "      <td>We received amazing service again. The food wa...</td>\n",
              "      <td>5</td>\n",
              "      <td>111</td>\n",
              "      <td>1</td>\n",
              "    </tr>\n",
              "    <tr>\n",
              "      <th>2</th>\n",
              "      <td>yGMCl0vYigshkXiZFIDTNw</td>\n",
              "      <td>Breakfast was delicious and waitress was aweso...</td>\n",
              "      <td>5</td>\n",
              "      <td>146</td>\n",
              "      <td>1</td>\n",
              "    </tr>\n",
              "    <tr>\n",
              "      <th>3</th>\n",
              "      <td>yGMCl0vYigshkXiZFIDTNw</td>\n",
              "      <td>We have eaten here twice, for lunch. The first...</td>\n",
              "      <td>4</td>\n",
              "      <td>710</td>\n",
              "      <td>1</td>\n",
              "    </tr>\n",
              "    <tr>\n",
              "      <th>4</th>\n",
              "      <td>yGMCl0vYigshkXiZFIDTNw</td>\n",
              "      <td>awesome service, great food.  Buffy was an ama...</td>\n",
              "      <td>5</td>\n",
              "      <td>59</td>\n",
              "      <td>1</td>\n",
              "    </tr>\n",
              "  </tbody>\n",
              "</table>\n",
              "</div>"
            ],
            "text/plain": [
              "                  rest_id  ... positive\n",
              "0  yGMCl0vYigshkXiZFIDTNw  ...        1\n",
              "1  yGMCl0vYigshkXiZFIDTNw  ...        1\n",
              "2  yGMCl0vYigshkXiZFIDTNw  ...        1\n",
              "3  yGMCl0vYigshkXiZFIDTNw  ...        1\n",
              "4  yGMCl0vYigshkXiZFIDTNw  ...        1\n",
              "\n",
              "[5 rows x 5 columns]"
            ]
          },
          "metadata": {
            "tags": []
          },
          "execution_count": 23
        }
      ]
    },
    {
      "cell_type": "markdown",
      "metadata": {
        "id": "x0oGhrou75ci",
        "colab_type": "text"
      },
      "source": [
        "### % Positive reviews\n"
      ]
    },
    {
      "cell_type": "code",
      "metadata": {
        "id": "zzAOkR3u7tUq",
        "colab_type": "code",
        "colab": {
          "base_uri": "https://localhost:8080/",
          "height": 419
        },
        "outputId": "dadc5321-9509-4f1a-e75e-d85a298f0eb6"
      },
      "source": [
        "# Only positive reviews\n",
        "reviews[reviews['positive']==1]"
      ],
      "execution_count": 24,
      "outputs": [
        {
          "output_type": "execute_result",
          "data": {
            "text/html": [
              "<div>\n",
              "<style scoped>\n",
              "    .dataframe tbody tr th:only-of-type {\n",
              "        vertical-align: middle;\n",
              "    }\n",
              "\n",
              "    .dataframe tbody tr th {\n",
              "        vertical-align: top;\n",
              "    }\n",
              "\n",
              "    .dataframe thead th {\n",
              "        text-align: right;\n",
              "    }\n",
              "</style>\n",
              "<table border=\"1\" class=\"dataframe\">\n",
              "  <thead>\n",
              "    <tr style=\"text-align: right;\">\n",
              "      <th></th>\n",
              "      <th>rest_id</th>\n",
              "      <th>text</th>\n",
              "      <th>rating</th>\n",
              "      <th>char_count</th>\n",
              "      <th>positive</th>\n",
              "    </tr>\n",
              "  </thead>\n",
              "  <tbody>\n",
              "    <tr>\n",
              "      <th>0</th>\n",
              "      <td>yGMCl0vYigshkXiZFIDTNw</td>\n",
              "      <td>We arrived for our reservation at 7:15pm.  The...</td>\n",
              "      <td>4</td>\n",
              "      <td>302</td>\n",
              "      <td>1</td>\n",
              "    </tr>\n",
              "    <tr>\n",
              "      <th>1</th>\n",
              "      <td>yGMCl0vYigshkXiZFIDTNw</td>\n",
              "      <td>We received amazing service again. The food wa...</td>\n",
              "      <td>5</td>\n",
              "      <td>111</td>\n",
              "      <td>1</td>\n",
              "    </tr>\n",
              "    <tr>\n",
              "      <th>2</th>\n",
              "      <td>yGMCl0vYigshkXiZFIDTNw</td>\n",
              "      <td>Breakfast was delicious and waitress was aweso...</td>\n",
              "      <td>5</td>\n",
              "      <td>146</td>\n",
              "      <td>1</td>\n",
              "    </tr>\n",
              "    <tr>\n",
              "      <th>3</th>\n",
              "      <td>yGMCl0vYigshkXiZFIDTNw</td>\n",
              "      <td>We have eaten here twice, for lunch. The first...</td>\n",
              "      <td>4</td>\n",
              "      <td>710</td>\n",
              "      <td>1</td>\n",
              "    </tr>\n",
              "    <tr>\n",
              "      <th>4</th>\n",
              "      <td>yGMCl0vYigshkXiZFIDTNw</td>\n",
              "      <td>awesome service, great food.  Buffy was an ama...</td>\n",
              "      <td>5</td>\n",
              "      <td>59</td>\n",
              "      <td>1</td>\n",
              "    </tr>\n",
              "    <tr>\n",
              "      <th>...</th>\n",
              "      <td>...</td>\n",
              "      <td>...</td>\n",
              "      <td>...</td>\n",
              "      <td>...</td>\n",
              "      <td>...</td>\n",
              "    </tr>\n",
              "    <tr>\n",
              "      <th>9359</th>\n",
              "      <td>8fBmyHKbrqCDLD9at83EgQ</td>\n",
              "      <td>Probably the best Salsitas in the valley. The ...</td>\n",
              "      <td>5</td>\n",
              "      <td>182</td>\n",
              "      <td>1</td>\n",
              "    </tr>\n",
              "    <tr>\n",
              "      <th>9361</th>\n",
              "      <td>8fBmyHKbrqCDLD9at83EgQ</td>\n",
              "      <td>Again blows everyone outa the water best Calif...</td>\n",
              "      <td>5</td>\n",
              "      <td>119</td>\n",
              "      <td>1</td>\n",
              "    </tr>\n",
              "    <tr>\n",
              "      <th>9362</th>\n",
              "      <td>8fBmyHKbrqCDLD9at83EgQ</td>\n",
              "      <td>I am in college and love coming to this place....</td>\n",
              "      <td>5</td>\n",
              "      <td>157</td>\n",
              "      <td>1</td>\n",
              "    </tr>\n",
              "    <tr>\n",
              "      <th>9363</th>\n",
              "      <td>8fBmyHKbrqCDLD9at83EgQ</td>\n",
              "      <td>This place offers some of the best tacos. Alwa...</td>\n",
              "      <td>5</td>\n",
              "      <td>488</td>\n",
              "      <td>1</td>\n",
              "    </tr>\n",
              "    <tr>\n",
              "      <th>9364</th>\n",
              "      <td>-g28gT1L7LlDKyXYrusI6Q</td>\n",
              "      <td>Delicious meal, fast quick service, looked ver...</td>\n",
              "      <td>5</td>\n",
              "      <td>128</td>\n",
              "      <td>1</td>\n",
              "    </tr>\n",
              "  </tbody>\n",
              "</table>\n",
              "<p>6526 rows × 5 columns</p>\n",
              "</div>"
            ],
            "text/plain": [
              "                     rest_id  ... positive\n",
              "0     yGMCl0vYigshkXiZFIDTNw  ...        1\n",
              "1     yGMCl0vYigshkXiZFIDTNw  ...        1\n",
              "2     yGMCl0vYigshkXiZFIDTNw  ...        1\n",
              "3     yGMCl0vYigshkXiZFIDTNw  ...        1\n",
              "4     yGMCl0vYigshkXiZFIDTNw  ...        1\n",
              "...                      ...  ...      ...\n",
              "9359  8fBmyHKbrqCDLD9at83EgQ  ...        1\n",
              "9361  8fBmyHKbrqCDLD9at83EgQ  ...        1\n",
              "9362  8fBmyHKbrqCDLD9at83EgQ  ...        1\n",
              "9363  8fBmyHKbrqCDLD9at83EgQ  ...        1\n",
              "9364  -g28gT1L7LlDKyXYrusI6Q  ...        1\n",
              "\n",
              "[6526 rows x 5 columns]"
            ]
          },
          "metadata": {
            "tags": []
          },
          "execution_count": 24
        }
      ]
    },
    {
      "cell_type": "code",
      "metadata": {
        "id": "y7RwBRR-7wfZ",
        "colab_type": "code",
        "colab": {
          "base_uri": "https://localhost:8080/",
          "height": 34
        },
        "outputId": "c809ecdc-c1b3-4cff-942d-7bac9b844dfb"
      },
      "source": [
        "# No of positive reviews\n",
        "len(reviews[reviews['positive']==1])"
      ],
      "execution_count": 25,
      "outputs": [
        {
          "output_type": "execute_result",
          "data": {
            "text/plain": [
              "6526"
            ]
          },
          "metadata": {
            "tags": []
          },
          "execution_count": 25
        }
      ]
    },
    {
      "cell_type": "code",
      "metadata": {
        "id": "A2QTIqoA7ymD",
        "colab_type": "code",
        "colab": {
          "base_uri": "https://localhost:8080/",
          "height": 34
        },
        "outputId": "7f3e5d31-92e2-47c4-dbbd-f13c3cd6086a"
      },
      "source": [
        "# No of total reviews\n",
        "len(reviews)"
      ],
      "execution_count": 26,
      "outputs": [
        {
          "output_type": "execute_result",
          "data": {
            "text/plain": [
              "9365"
            ]
          },
          "metadata": {
            "tags": []
          },
          "execution_count": 26
        }
      ]
    },
    {
      "cell_type": "code",
      "metadata": {
        "id": "YhkM2Jgu71YI",
        "colab_type": "code",
        "colab": {
          "base_uri": "https://localhost:8080/",
          "height": 34
        },
        "outputId": "ea9ee6fe-ebac-43e1-da35-67d40ad510ab"
      },
      "source": [
        "# Percent\n",
        "len(reviews[reviews['positive']==1])/len(reviews)"
      ],
      "execution_count": 27,
      "outputs": [
        {
          "output_type": "execute_result",
          "data": {
            "text/plain": [
              "0.6968499733048585"
            ]
          },
          "metadata": {
            "tags": []
          },
          "execution_count": 27
        }
      ]
    },
    {
      "cell_type": "code",
      "metadata": {
        "id": "GOnJPPE14Hwn",
        "colab_type": "code",
        "colab": {
          "base_uri": "https://localhost:8080/",
          "height": 34
        },
        "outputId": "140151ba-2250-42a3-d3d0-9c3116557cd2"
      },
      "source": [
        "# Alternative (because positive has 0 or 1 as values)\n",
        "np.mean(reviews['positive'])\n",
        "# Alternative 2\n",
        "# reviews['positive'].mean()"
      ],
      "execution_count": 28,
      "outputs": [
        {
          "output_type": "execute_result",
          "data": {
            "text/plain": [
              "0.6968499733048585"
            ]
          },
          "metadata": {
            "tags": []
          },
          "execution_count": 28
        }
      ]
    },
    {
      "cell_type": "markdown",
      "metadata": {
        "id": "FiajxWde8-k4",
        "colab_type": "text"
      },
      "source": [
        "### What is a list?"
      ]
    },
    {
      "cell_type": "code",
      "metadata": {
        "id": "UDSNa6PO9CPk",
        "colab_type": "code",
        "colab": {
          "base_uri": "https://localhost:8080/",
          "height": 34
        },
        "outputId": "2e64578e-446b-4b9e-97c2-c248056c55a8"
      },
      "source": [
        "list1 = [1, 2, 3]\n",
        "list1"
      ],
      "execution_count": 29,
      "outputs": [
        {
          "output_type": "execute_result",
          "data": {
            "text/plain": [
              "[1, 2, 3]"
            ]
          },
          "metadata": {
            "tags": []
          },
          "execution_count": 29
        }
      ]
    },
    {
      "cell_type": "code",
      "metadata": {
        "id": "gpA8_8eW8aPO",
        "colab_type": "code",
        "colab": {
          "base_uri": "https://localhost:8080/",
          "height": 34
        },
        "outputId": "2af5e3bd-11a5-4f35-afe8-4bbea4a7712f"
      },
      "source": [
        "list2 = [1, 5, 6]\n",
        "list2"
      ],
      "execution_count": 30,
      "outputs": [
        {
          "output_type": "execute_result",
          "data": {
            "text/plain": [
              "[1, 5, 6]"
            ]
          },
          "metadata": {
            "tags": []
          },
          "execution_count": 30
        }
      ]
    },
    {
      "cell_type": "code",
      "metadata": {
        "id": "poLrmS8A9F6w",
        "colab_type": "code",
        "colab": {
          "base_uri": "https://localhost:8080/",
          "height": 34
        },
        "outputId": "6ed4e61c-eeb5-47b2-e29d-88b9fe861ffc"
      },
      "source": [
        "# Show all elements in list1 that are not in list2\n",
        "[no for no in list1 if no not in list2]"
      ],
      "execution_count": 31,
      "outputs": [
        {
          "output_type": "execute_result",
          "data": {
            "text/plain": [
              "[2, 3]"
            ]
          },
          "metadata": {
            "tags": []
          },
          "execution_count": 31
        }
      ]
    },
    {
      "cell_type": "markdown",
      "metadata": {
        "id": "gQlwlQ3p8PpL",
        "colab_type": "text"
      },
      "source": [
        "# Text Normalization"
      ]
    },
    {
      "cell_type": "code",
      "metadata": {
        "id": "FqT29ys272Z_",
        "colab_type": "code",
        "colab": {
          "base_uri": "https://localhost:8080/",
          "height": 54
        },
        "outputId": "f1ea321c-1f82-4261-b878-24abf18bf0ee"
      },
      "source": [
        "reviews['text'].iloc[250]"
      ],
      "execution_count": 32,
      "outputs": [
        {
          "output_type": "execute_result",
          "data": {
            "text/plain": [
              "\"The third time I've been here. Dropped from 5 stars to 2. I guess when they were new to this spot they cared about service. Waiting for food is a joke!! Doubt I'll come back now, third time wasn't a charm.\""
            ]
          },
          "metadata": {
            "tags": []
          },
          "execution_count": 32
        }
      ]
    },
    {
      "cell_type": "code",
      "metadata": {
        "id": "xjm4rs4u9Q7m",
        "colab_type": "code",
        "colab": {}
      },
      "source": [
        "def preprocess_text(document):\n",
        "    # Replace contractions (don't -> do not). Using contractions library\n",
        "    document = contractions.fix(document)\n",
        "    \n",
        "    # # Lowercasing\n",
        "    document = document.lower()\n",
        "    \n",
        "    # # Remove punctuation using regex\n",
        "    # ^ = NOT\n",
        "    # \\w = word character\n",
        "    # \\s = whitespace character\n",
        "    # Replace what is not a word and not a whitespace with ' '\n",
        "    document = re.sub(r'[^\\w\\s]',' ', document)\n",
        "    \n",
        "    # # Remove Special Characters & Numbers\n",
        "    document = re.sub(r'[^a-z ]', '', document)\n",
        "\n",
        "    # # Tokenization\n",
        "    document = word_tokenize(document)\n",
        "    \n",
        "    # # Remove StopWords\n",
        "    stop_words = stopwords.words('english')\n",
        "    document = [word for word in document if word not in stop_words]\n",
        "    \n",
        "    # Change Output from List to Sentence\n",
        "    document = ' '.join(document)\n",
        "    \n",
        "    # # Lemmatization\n",
        "    document = [word.lemma_ for word in nlp(document)]\n",
        "    \n",
        "    # Change Output from List to Sentence\n",
        "    document = ' '.join(document)\n",
        "    \n",
        "    return document"
      ],
      "execution_count": 33,
      "outputs": []
    },
    {
      "cell_type": "code",
      "metadata": {
        "id": "wSyVF8sG9fgx",
        "colab_type": "code",
        "colab": {}
      },
      "source": [
        "final_corpus_test = [preprocess_text(document) \n",
        "                for document in reviews['text'][0:300].to_list()]"
      ],
      "execution_count": 34,
      "outputs": []
    },
    {
      "cell_type": "code",
      "metadata": {
        "id": "zxdzjjV69iJ0",
        "colab_type": "code",
        "colab": {
          "base_uri": "https://localhost:8080/",
          "height": 34
        },
        "outputId": "1238c535-2832-4043-bec3-3ff92acbd8f2"
      },
      "source": [
        "final_corpus_test[250]"
      ],
      "execution_count": 35,
      "outputs": [
        {
          "output_type": "execute_result",
          "data": {
            "text/plain": [
              "'third time drop star guess new spot care service wait food joke doubt come back third time charm'"
            ]
          },
          "metadata": {
            "tags": []
          },
          "execution_count": 35
        }
      ]
    },
    {
      "cell_type": "code",
      "metadata": {
        "id": "cDWWkV609xNX",
        "colab_type": "code",
        "colab": {}
      },
      "source": [
        "# Implementing on entire dataset\n",
        "final_corpus = [preprocess_text(document) \n",
        "                for document in reviews['text'].to_list()]"
      ],
      "execution_count": 36,
      "outputs": []
    },
    {
      "cell_type": "code",
      "metadata": {
        "id": "28qqSwE1-zy9",
        "colab_type": "code",
        "colab": {}
      },
      "source": [
        "reviews['text_prep'] = final_corpus"
      ],
      "execution_count": 37,
      "outputs": []
    },
    {
      "cell_type": "code",
      "metadata": {
        "id": "hbavUr0p-6bH",
        "colab_type": "code",
        "colab": {
          "base_uri": "https://localhost:8080/",
          "height": 272
        },
        "outputId": "bc88f964-4966-4114-c6e2-f9a9a8f92a85"
      },
      "source": [
        "reviews.head()"
      ],
      "execution_count": 38,
      "outputs": [
        {
          "output_type": "execute_result",
          "data": {
            "text/html": [
              "<div>\n",
              "<style scoped>\n",
              "    .dataframe tbody tr th:only-of-type {\n",
              "        vertical-align: middle;\n",
              "    }\n",
              "\n",
              "    .dataframe tbody tr th {\n",
              "        vertical-align: top;\n",
              "    }\n",
              "\n",
              "    .dataframe thead th {\n",
              "        text-align: right;\n",
              "    }\n",
              "</style>\n",
              "<table border=\"1\" class=\"dataframe\">\n",
              "  <thead>\n",
              "    <tr style=\"text-align: right;\">\n",
              "      <th></th>\n",
              "      <th>rest_id</th>\n",
              "      <th>text</th>\n",
              "      <th>rating</th>\n",
              "      <th>char_count</th>\n",
              "      <th>positive</th>\n",
              "      <th>text_prep</th>\n",
              "    </tr>\n",
              "  </thead>\n",
              "  <tbody>\n",
              "    <tr>\n",
              "      <th>0</th>\n",
              "      <td>yGMCl0vYigshkXiZFIDTNw</td>\n",
              "      <td>We arrived for our reservation at 7:15pm.  The...</td>\n",
              "      <td>4</td>\n",
              "      <td>302</td>\n",
              "      <td>1</td>\n",
              "      <td>arrived reservation pm seat -PRON- right time ...</td>\n",
              "    </tr>\n",
              "    <tr>\n",
              "      <th>1</th>\n",
              "      <td>yGMCl0vYigshkXiZFIDTNw</td>\n",
              "      <td>We received amazing service again. The food wa...</td>\n",
              "      <td>5</td>\n",
              "      <td>111</td>\n",
              "      <td>1</td>\n",
              "      <td>receive amazing service food cook right waitre...</td>\n",
              "    </tr>\n",
              "    <tr>\n",
              "      <th>2</th>\n",
              "      <td>yGMCl0vYigshkXiZFIDTNw</td>\n",
              "      <td>Breakfast was delicious and waitress was aweso...</td>\n",
              "      <td>5</td>\n",
              "      <td>146</td>\n",
              "      <td>1</td>\n",
              "      <td>breakfast delicious waitress awesome steak egg...</td>\n",
              "    </tr>\n",
              "    <tr>\n",
              "      <th>3</th>\n",
              "      <td>yGMCl0vYigshkXiZFIDTNw</td>\n",
              "      <td>We have eaten here twice, for lunch. The first...</td>\n",
              "      <td>4</td>\n",
              "      <td>710</td>\n",
              "      <td>1</td>\n",
              "      <td>eaten twice lunch first time french dip mom fi...</td>\n",
              "    </tr>\n",
              "    <tr>\n",
              "      <th>4</th>\n",
              "      <td>yGMCl0vYigshkXiZFIDTNw</td>\n",
              "      <td>awesome service, great food.  Buffy was an ama...</td>\n",
              "      <td>5</td>\n",
              "      <td>59</td>\n",
              "      <td>1</td>\n",
              "      <td>awesome service great food buffy amazing server</td>\n",
              "    </tr>\n",
              "  </tbody>\n",
              "</table>\n",
              "</div>"
            ],
            "text/plain": [
              "                  rest_id  ...                                          text_prep\n",
              "0  yGMCl0vYigshkXiZFIDTNw  ...  arrived reservation pm seat -PRON- right time ...\n",
              "1  yGMCl0vYigshkXiZFIDTNw  ...  receive amazing service food cook right waitre...\n",
              "2  yGMCl0vYigshkXiZFIDTNw  ...  breakfast delicious waitress awesome steak egg...\n",
              "3  yGMCl0vYigshkXiZFIDTNw  ...  eaten twice lunch first time french dip mom fi...\n",
              "4  yGMCl0vYigshkXiZFIDTNw  ...    awesome service great food buffy amazing server\n",
              "\n",
              "[5 rows x 6 columns]"
            ]
          },
          "metadata": {
            "tags": []
          },
          "execution_count": 38
        }
      ]
    },
    {
      "cell_type": "code",
      "metadata": {
        "id": "jwkDbom4-9c1",
        "colab_type": "code",
        "colab": {
          "base_uri": "https://localhost:8080/",
          "height": 71
        },
        "outputId": "61206ef4-bb46-42f9-ff41-a2d2d3fa7b7b"
      },
      "source": [
        "reviews.iloc[250][['text', 'text_prep']].to_dict()"
      ],
      "execution_count": 39,
      "outputs": [
        {
          "output_type": "execute_result",
          "data": {
            "text/plain": [
              "{'text': \"The third time I've been here. Dropped from 5 stars to 2. I guess when they were new to this spot they cared about service. Waiting for food is a joke!! Doubt I'll come back now, third time wasn't a charm.\",\n",
              " 'text_prep': 'third time drop star guess new spot care service wait food joke doubt come back third time charm'}"
            ]
          },
          "metadata": {
            "tags": []
          },
          "execution_count": 39
        }
      ]
    },
    {
      "cell_type": "markdown",
      "metadata": {
        "id": "Z6tKKWV54X4A",
        "colab_type": "text"
      },
      "source": [
        "# Exporting to csv"
      ]
    },
    {
      "cell_type": "code",
      "metadata": {
        "id": "vGN6J2I94dAG",
        "colab_type": "code",
        "colab": {}
      },
      "source": [
        "reviews.to_csv(path + 'Input/2.input_data_prepped.csv',\n",
        "               index = False)"
      ],
      "execution_count": 40,
      "outputs": []
    }
  ]
}