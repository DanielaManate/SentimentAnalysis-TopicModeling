{
  "nbformat": 4,
  "nbformat_minor": 0,
  "metadata": {
    "colab": {
      "name": "SA6_Topic_Modeling.ipynb.ipynb",
      "provenance": [],
      "collapsed_sections": [],
      "toc_visible": true,
      "authorship_tag": "ABX9TyPKsdu7cyHlpA4Zp0Mh4JyG",
      "include_colab_link": true
    },
    "kernelspec": {
      "name": "python3",
      "display_name": "Python 3"
    }
  },
  "cells": [
    {
      "cell_type": "markdown",
      "metadata": {
        "id": "view-in-github",
        "colab_type": "text"
      },
      "source": [
        "<a href=\"https://colab.research.google.com/github/DanielaManate/SentimentAnalysis-TopicModeling/blob/master/SA6_Topic_Modeling_ipynb.ipynb\" target=\"_parent\"><img src=\"https://colab.research.google.com/assets/colab-badge.svg\" alt=\"Open In Colab\"/></a>"
      ]
    },
    {
      "cell_type": "markdown",
      "metadata": {
        "colab_type": "text",
        "id": "DrXydpcHiRIG"
      },
      "source": [
        "# Importing Libraries"
      ]
    },
    {
      "cell_type": "code",
      "metadata": {
        "id": "NQVHmLd0XLef",
        "colab_type": "code",
        "colab": {
          "base_uri": "https://localhost:8080/",
          "height": 632
        },
        "outputId": "8fe41456-6a34-4128-93da-fed4ce1f8a50"
      },
      "source": [
        "!pip install pyLDAvis"
      ],
      "execution_count": 1,
      "outputs": [
        {
          "output_type": "stream",
          "text": [
            "Collecting pyLDAvis\n",
            "\u001b[?25l  Downloading https://files.pythonhosted.org/packages/a5/3a/af82e070a8a96e13217c8f362f9a73e82d61ac8fff3a2561946a97f96266/pyLDAvis-2.1.2.tar.gz (1.6MB)\n",
            "\u001b[K     |████████████████████████████████| 1.6MB 3.4MB/s \n",
            "\u001b[?25hRequirement already satisfied: wheel>=0.23.0 in /usr/local/lib/python3.6/dist-packages (from pyLDAvis) (0.34.2)\n",
            "Requirement already satisfied: numpy>=1.9.2 in /usr/local/lib/python3.6/dist-packages (from pyLDAvis) (1.18.5)\n",
            "Requirement already satisfied: scipy>=0.18.0 in /usr/local/lib/python3.6/dist-packages (from pyLDAvis) (1.4.1)\n",
            "Requirement already satisfied: pandas>=0.17.0 in /usr/local/lib/python3.6/dist-packages (from pyLDAvis) (1.0.5)\n",
            "Requirement already satisfied: joblib>=0.8.4 in /usr/local/lib/python3.6/dist-packages (from pyLDAvis) (0.15.1)\n",
            "Requirement already satisfied: jinja2>=2.7.2 in /usr/local/lib/python3.6/dist-packages (from pyLDAvis) (2.11.2)\n",
            "Requirement already satisfied: numexpr in /usr/local/lib/python3.6/dist-packages (from pyLDAvis) (2.7.1)\n",
            "Requirement already satisfied: pytest in /usr/local/lib/python3.6/dist-packages (from pyLDAvis) (3.6.4)\n",
            "Requirement already satisfied: future in /usr/local/lib/python3.6/dist-packages (from pyLDAvis) (0.16.0)\n",
            "Collecting funcy\n",
            "\u001b[?25l  Downloading https://files.pythonhosted.org/packages/ce/4b/6ffa76544e46614123de31574ad95758c421aae391a1764921b8a81e1eae/funcy-1.14.tar.gz (548kB)\n",
            "\u001b[K     |████████████████████████████████| 552kB 23.3MB/s \n",
            "\u001b[?25hRequirement already satisfied: pytz>=2017.2 in /usr/local/lib/python3.6/dist-packages (from pandas>=0.17.0->pyLDAvis) (2018.9)\n",
            "Requirement already satisfied: python-dateutil>=2.6.1 in /usr/local/lib/python3.6/dist-packages (from pandas>=0.17.0->pyLDAvis) (2.8.1)\n",
            "Requirement already satisfied: MarkupSafe>=0.23 in /usr/local/lib/python3.6/dist-packages (from jinja2>=2.7.2->pyLDAvis) (1.1.1)\n",
            "Requirement already satisfied: setuptools in /usr/local/lib/python3.6/dist-packages (from pytest->pyLDAvis) (47.3.1)\n",
            "Requirement already satisfied: attrs>=17.4.0 in /usr/local/lib/python3.6/dist-packages (from pytest->pyLDAvis) (19.3.0)\n",
            "Requirement already satisfied: six>=1.10.0 in /usr/local/lib/python3.6/dist-packages (from pytest->pyLDAvis) (1.12.0)\n",
            "Requirement already satisfied: py>=1.5.0 in /usr/local/lib/python3.6/dist-packages (from pytest->pyLDAvis) (1.8.2)\n",
            "Requirement already satisfied: more-itertools>=4.0.0 in /usr/local/lib/python3.6/dist-packages (from pytest->pyLDAvis) (8.4.0)\n",
            "Requirement already satisfied: atomicwrites>=1.0 in /usr/local/lib/python3.6/dist-packages (from pytest->pyLDAvis) (1.4.0)\n",
            "Requirement already satisfied: pluggy<0.8,>=0.5 in /usr/local/lib/python3.6/dist-packages (from pytest->pyLDAvis) (0.7.1)\n",
            "Building wheels for collected packages: pyLDAvis, funcy\n",
            "  Building wheel for pyLDAvis (setup.py) ... \u001b[?25l\u001b[?25hdone\n",
            "  Created wheel for pyLDAvis: filename=pyLDAvis-2.1.2-py2.py3-none-any.whl size=97711 sha256=a5a7aae291f30f5059ce91902dc9123d0801bb03daab70bdbef4610b27421d30\n",
            "  Stored in directory: /root/.cache/pip/wheels/98/71/24/513a99e58bb6b8465bae4d2d5e9dba8f0bef8179e3051ac414\n",
            "  Building wheel for funcy (setup.py) ... \u001b[?25l\u001b[?25hdone\n",
            "  Created wheel for funcy: filename=funcy-1.14-py2.py3-none-any.whl size=32042 sha256=1b4e03333c0670546489318e2739fd66b6b4600ebf015796c88f7da8e880841b\n",
            "  Stored in directory: /root/.cache/pip/wheels/20/5a/d8/1d875df03deae6f178dfdf70238cca33f948ef8a6f5209f2eb\n",
            "Successfully built pyLDAvis funcy\n",
            "Installing collected packages: funcy, pyLDAvis\n",
            "Successfully installed funcy-1.14 pyLDAvis-2.1.2\n"
          ],
          "name": "stdout"
        }
      ]
    },
    {
      "cell_type": "code",
      "metadata": {
        "colab_type": "code",
        "id": "4AJLDnciiRIH",
        "colab": {
          "base_uri": "https://localhost:8080/",
          "height": 51
        },
        "outputId": "04d584f5-03f9-466e-cd57-976c8423390b"
      },
      "source": [
        "import pandas as pd\n",
        "import numpy as np\n",
        "# import ast\n",
        "\n",
        "# from sklearn.decomposition import LatentDirichletAllocation as LDA\n",
        "\n",
        "# for tokenizing\n",
        "import nltk\n",
        "nltk.download('punkt')\n",
        "from nltk.tokenize import word_tokenize\n",
        "\n",
        "from gensim.models import LdaModel\n",
        "from gensim.corpora.dictionary import Dictionary\n",
        "\n",
        "import pyLDAvis.gensim\n",
        "\n",
        "from sklearn.cluster import KMeans\n",
        "\n",
        "import matplotlib.pyplot as plt"
      ],
      "execution_count": 2,
      "outputs": [
        {
          "output_type": "stream",
          "text": [
            "[nltk_data] Downloading package punkt to /root/nltk_data...\n",
            "[nltk_data]   Unzipping tokenizers/punkt.zip.\n"
          ],
          "name": "stdout"
        }
      ]
    },
    {
      "cell_type": "code",
      "metadata": {
        "colab_type": "code",
        "id": "6_vJezfgiRIL",
        "colab": {}
      },
      "source": [
        "from google.colab import drive\n",
        "\n",
        "drive.mount('/content/gdrive')\n",
        "path = 'gdrive/My Drive/GH_NLP_Course/Data/'"
      ],
      "execution_count": null,
      "outputs": []
    },
    {
      "cell_type": "markdown",
      "metadata": {
        "colab_type": "text",
        "id": "-fiD0zFMiRIN"
      },
      "source": [
        "# Reading Data"
      ]
    },
    {
      "cell_type": "code",
      "metadata": {
        "colab_type": "code",
        "id": "TOPEpPKUiRIO",
        "colab": {
          "base_uri": "https://localhost:8080/",
          "height": 284
        },
        "outputId": "5d82497f-1a35-4b8c-fda8-5a90a2ca4c85"
      },
      "source": [
        "# Reading the dataset\n",
        "reviews = pd.read_csv(path + 'Input/3.input_data_prepped_bow.csv')\n",
        "reviews.head(2)"
      ],
      "execution_count": 4,
      "outputs": [
        {
          "output_type": "execute_result",
          "data": {
            "text/html": [
              "<div>\n",
              "<style scoped>\n",
              "    .dataframe tbody tr th:only-of-type {\n",
              "        vertical-align: middle;\n",
              "    }\n",
              "\n",
              "    .dataframe tbody tr th {\n",
              "        vertical-align: top;\n",
              "    }\n",
              "\n",
              "    .dataframe thead th {\n",
              "        text-align: right;\n",
              "    }\n",
              "</style>\n",
              "<table border=\"1\" class=\"dataframe\">\n",
              "  <thead>\n",
              "    <tr style=\"text-align: right;\">\n",
              "      <th></th>\n",
              "      <th>rest_id</th>\n",
              "      <th>text</th>\n",
              "      <th>rating</th>\n",
              "      <th>char_count</th>\n",
              "      <th>positive</th>\n",
              "      <th>text_prep</th>\n",
              "      <th>text_prep_tokens</th>\n",
              "      <th>word_len_prep</th>\n",
              "      <th>text_prep_lim</th>\n",
              "      <th>text_prep_lim_tokens</th>\n",
              "      <th>word_len_prep_lim</th>\n",
              "    </tr>\n",
              "  </thead>\n",
              "  <tbody>\n",
              "    <tr>\n",
              "      <th>0</th>\n",
              "      <td>yGMCl0vYigshkXiZFIDTNw</td>\n",
              "      <td>We arrived for our reservation at 7:15pm.  The...</td>\n",
              "      <td>4</td>\n",
              "      <td>302</td>\n",
              "      <td>1</td>\n",
              "      <td>arrived reservation pm seat -PRON- right time ...</td>\n",
              "      <td>['arrived', 'reservation', 'pm', 'seat', '-PRO...</td>\n",
              "      <td>27</td>\n",
              "      <td>arrived reservation pm seat right time restura...</td>\n",
              "      <td>['arrived', 'reservation', 'pm', 'seat', 'righ...</td>\n",
              "      <td>25</td>\n",
              "    </tr>\n",
              "    <tr>\n",
              "      <th>1</th>\n",
              "      <td>yGMCl0vYigshkXiZFIDTNw</td>\n",
              "      <td>We received amazing service again. The food wa...</td>\n",
              "      <td>5</td>\n",
              "      <td>111</td>\n",
              "      <td>1</td>\n",
              "      <td>receive amazing service food cook right waitre...</td>\n",
              "      <td>['receive', 'amazing', 'service', 'food', 'coo...</td>\n",
              "      <td>10</td>\n",
              "      <td>receive amazing service food cook right waitre...</td>\n",
              "      <td>['receive', 'amazing', 'service', 'food', 'coo...</td>\n",
              "      <td>9</td>\n",
              "    </tr>\n",
              "  </tbody>\n",
              "</table>\n",
              "</div>"
            ],
            "text/plain": [
              "                  rest_id  ... word_len_prep_lim\n",
              "0  yGMCl0vYigshkXiZFIDTNw  ...                25\n",
              "1  yGMCl0vYigshkXiZFIDTNw  ...                 9\n",
              "\n",
              "[2 rows x 11 columns]"
            ]
          },
          "metadata": {
            "tags": []
          },
          "execution_count": 4
        }
      ]
    },
    {
      "cell_type": "markdown",
      "metadata": {
        "id": "ezccimJrnq13",
        "colab_type": "text"
      },
      "source": [
        "# Latent Dirichlet Allocation"
      ]
    },
    {
      "cell_type": "code",
      "metadata": {
        "id": "axBHBrF_rX05",
        "colab_type": "code",
        "colab": {
          "base_uri": "https://localhost:8080/",
          "height": 54
        },
        "outputId": "3fbdbf2f-5599-479d-db10-2e135a000e7f"
      },
      "source": [
        "string = reviews['text_prep_lim_tokens'][0]\n",
        "string"
      ],
      "execution_count": 5,
      "outputs": [
        {
          "output_type": "execute_result",
          "data": {
            "text/plain": [
              "\"['arrived', 'reservation', 'pm', 'seat', 'right', 'time', 'resturant', 'fairly', 'loud', 'first', 'family', 'dinner', 'clear', 'pm', 'quiet', 'food', 'service', 'outstanding', 'reasonable', 'price', 'highly', 'recommend', 'mimi', 'late', 'dinner']\""
            ]
          },
          "metadata": {
            "tags": []
          },
          "execution_count": 5
        }
      ]
    },
    {
      "cell_type": "code",
      "metadata": {
        "id": "kKCaFNY5r1kU",
        "colab_type": "code",
        "colab": {
          "base_uri": "https://localhost:8080/",
          "height": 442
        },
        "outputId": "b513d79e-2544-4ad0-8acd-130c06e4e21a"
      },
      "source": [
        "import ast\n",
        "ast.literal_eval(string)\n",
        "# reviews['text_prep_lim_tok_list'] = reviews['text_prep_lim_tokens'].apply(lambda x: ast.literal_eval(x))\n",
        "# reviews.head(2)"
      ],
      "execution_count": 6,
      "outputs": [
        {
          "output_type": "execute_result",
          "data": {
            "text/plain": [
              "['arrived',\n",
              " 'reservation',\n",
              " 'pm',\n",
              " 'seat',\n",
              " 'right',\n",
              " 'time',\n",
              " 'resturant',\n",
              " 'fairly',\n",
              " 'loud',\n",
              " 'first',\n",
              " 'family',\n",
              " 'dinner',\n",
              " 'clear',\n",
              " 'pm',\n",
              " 'quiet',\n",
              " 'food',\n",
              " 'service',\n",
              " 'outstanding',\n",
              " 'reasonable',\n",
              " 'price',\n",
              " 'highly',\n",
              " 'recommend',\n",
              " 'mimi',\n",
              " 'late',\n",
              " 'dinner']"
            ]
          },
          "metadata": {
            "tags": []
          },
          "execution_count": 6
        }
      ]
    },
    {
      "cell_type": "code",
      "metadata": {
        "id": "vFARGX-2rHwY",
        "colab_type": "code",
        "colab": {
          "base_uri": "https://localhost:8080/",
          "height": 284
        },
        "outputId": "83819ca7-129b-488d-ebd8-66defb3681ed"
      },
      "source": [
        "reviews['text_prep_lim'] = reviews['text_prep_lim'].astype(str)\n",
        "reviews['text_prep_lim_tokens'] = reviews['text_prep_lim'].apply(word_tokenize)\n",
        "reviews.head(2)"
      ],
      "execution_count": 7,
      "outputs": [
        {
          "output_type": "execute_result",
          "data": {
            "text/html": [
              "<div>\n",
              "<style scoped>\n",
              "    .dataframe tbody tr th:only-of-type {\n",
              "        vertical-align: middle;\n",
              "    }\n",
              "\n",
              "    .dataframe tbody tr th {\n",
              "        vertical-align: top;\n",
              "    }\n",
              "\n",
              "    .dataframe thead th {\n",
              "        text-align: right;\n",
              "    }\n",
              "</style>\n",
              "<table border=\"1\" class=\"dataframe\">\n",
              "  <thead>\n",
              "    <tr style=\"text-align: right;\">\n",
              "      <th></th>\n",
              "      <th>rest_id</th>\n",
              "      <th>text</th>\n",
              "      <th>rating</th>\n",
              "      <th>char_count</th>\n",
              "      <th>positive</th>\n",
              "      <th>text_prep</th>\n",
              "      <th>text_prep_tokens</th>\n",
              "      <th>word_len_prep</th>\n",
              "      <th>text_prep_lim</th>\n",
              "      <th>text_prep_lim_tokens</th>\n",
              "      <th>word_len_prep_lim</th>\n",
              "    </tr>\n",
              "  </thead>\n",
              "  <tbody>\n",
              "    <tr>\n",
              "      <th>0</th>\n",
              "      <td>yGMCl0vYigshkXiZFIDTNw</td>\n",
              "      <td>We arrived for our reservation at 7:15pm.  The...</td>\n",
              "      <td>4</td>\n",
              "      <td>302</td>\n",
              "      <td>1</td>\n",
              "      <td>arrived reservation pm seat -PRON- right time ...</td>\n",
              "      <td>['arrived', 'reservation', 'pm', 'seat', '-PRO...</td>\n",
              "      <td>27</td>\n",
              "      <td>arrived reservation pm seat right time restura...</td>\n",
              "      <td>[arrived, reservation, pm, seat, right, time, ...</td>\n",
              "      <td>25</td>\n",
              "    </tr>\n",
              "    <tr>\n",
              "      <th>1</th>\n",
              "      <td>yGMCl0vYigshkXiZFIDTNw</td>\n",
              "      <td>We received amazing service again. The food wa...</td>\n",
              "      <td>5</td>\n",
              "      <td>111</td>\n",
              "      <td>1</td>\n",
              "      <td>receive amazing service food cook right waitre...</td>\n",
              "      <td>['receive', 'amazing', 'service', 'food', 'coo...</td>\n",
              "      <td>10</td>\n",
              "      <td>receive amazing service food cook right waitre...</td>\n",
              "      <td>[receive, amazing, service, food, cook, right,...</td>\n",
              "      <td>9</td>\n",
              "    </tr>\n",
              "  </tbody>\n",
              "</table>\n",
              "</div>"
            ],
            "text/plain": [
              "                  rest_id  ... word_len_prep_lim\n",
              "0  yGMCl0vYigshkXiZFIDTNw  ...                25\n",
              "1  yGMCl0vYigshkXiZFIDTNw  ...                 9\n",
              "\n",
              "[2 rows x 11 columns]"
            ]
          },
          "metadata": {
            "tags": []
          },
          "execution_count": 7
        }
      ]
    },
    {
      "cell_type": "code",
      "metadata": {
        "id": "SYFkIwEsq20t",
        "colab_type": "code",
        "colab": {}
      },
      "source": [
        "corpus = reviews.text_prep_lim_tokens.to_list()\n",
        "\n",
        "dictionary = Dictionary(corpus)\n",
        "\n",
        "final_corpus = [dictionary.doc2bow(text) for text in corpus]"
      ],
      "execution_count": 8,
      "outputs": []
    },
    {
      "cell_type": "code",
      "metadata": {
        "id": "RaLcUeQ_Vhcy",
        "colab_type": "code",
        "colab": {
          "base_uri": "https://localhost:8080/",
          "height": 68
        },
        "outputId": "2a20674d-db2a-4858-f9d1-8ce352fb3519"
      },
      "source": [
        "# Each element of common dictionary is a word in the dataset\n",
        "print(dictionary[0])\n",
        "print(dictionary[1])\n",
        "print(dictionary[2])"
      ],
      "execution_count": 9,
      "outputs": [
        {
          "output_type": "stream",
          "text": [
            "arrived\n",
            "clear\n",
            "dinner\n"
          ],
          "name": "stdout"
        }
      ]
    },
    {
      "cell_type": "code",
      "metadata": {
        "id": "WHZwcAbVVW8k",
        "colab_type": "code",
        "colab": {
          "base_uri": "https://localhost:8080/",
          "height": 408
        },
        "outputId": "ade1c0f0-3a70-442f-9030-4fb5d9e95eed"
      },
      "source": [
        "# Common corpus [0] contains bow for first document\n",
        "# word 0 (arrived) appears once\n",
        "# word 1 (clear) appears once\n",
        "# word 2 (dinner) appears twice\n",
        "final_corpus[0]"
      ],
      "execution_count": 10,
      "outputs": [
        {
          "output_type": "execute_result",
          "data": {
            "text/plain": [
              "[(0, 1),\n",
              " (1, 1),\n",
              " (2, 2),\n",
              " (3, 1),\n",
              " (4, 1),\n",
              " (5, 1),\n",
              " (6, 1),\n",
              " (7, 1),\n",
              " (8, 1),\n",
              " (9, 1),\n",
              " (10, 1),\n",
              " (11, 1),\n",
              " (12, 2),\n",
              " (13, 1),\n",
              " (14, 1),\n",
              " (15, 1),\n",
              " (16, 1),\n",
              " (17, 1),\n",
              " (18, 1),\n",
              " (19, 1),\n",
              " (20, 1),\n",
              " (21, 1),\n",
              " (22, 1)]"
            ]
          },
          "metadata": {
            "tags": []
          },
          "execution_count": 10
        }
      ]
    },
    {
      "cell_type": "code",
      "metadata": {
        "id": "3h3EKGapakx7",
        "colab_type": "code",
        "colab": {}
      },
      "source": [
        "import warnings\n",
        "warnings.filterwarnings(\"ignore\", category=DeprecationWarning)"
      ],
      "execution_count": 11,
      "outputs": []
    },
    {
      "cell_type": "code",
      "metadata": {
        "id": "Bw9MFY0DntJI",
        "colab_type": "code",
        "colab": {
          "base_uri": "https://localhost:8080/",
          "height": 51
        },
        "outputId": "11cbc9b7-1226-4044-d1f3-b34ac993a87a"
      },
      "source": [
        "%%time\n",
        "ldamodel = LdaModel(final_corpus, num_topics = 2, passes=15,\n",
        "                    id2word = dictionary,\n",
        "                    random_state = 5)"
      ],
      "execution_count": 12,
      "outputs": [
        {
          "output_type": "stream",
          "text": [
            "CPU times: user 1min 2s, sys: 47.1 ms, total: 1min 2s\n",
            "Wall time: 1min 3s\n"
          ],
          "name": "stdout"
        }
      ]
    },
    {
      "cell_type": "code",
      "metadata": {
        "id": "445c4G4joJDv",
        "colab_type": "code",
        "colab": {}
      },
      "source": [
        "topics = ldamodel.print_topics(num_words=2)"
      ],
      "execution_count": 13,
      "outputs": []
    },
    {
      "cell_type": "code",
      "metadata": {
        "id": "FLghH7ay6uAY",
        "colab_type": "code",
        "colab": {
          "base_uri": "https://localhost:8080/",
          "height": 34
        },
        "outputId": "a2dfad19-2c3e-4319-fd8e-14b90f4111ad"
      },
      "source": [
        "topics"
      ],
      "execution_count": 14,
      "outputs": [
        {
          "output_type": "execute_result",
          "data": {
            "text/plain": [
              "[(0, '0.024*\"good\" + 0.021*\"great\"'), (1, '0.019*\"order\" + 0.017*\"get\"')]"
            ]
          },
          "metadata": {
            "tags": []
          },
          "execution_count": 14
        }
      ]
    },
    {
      "cell_type": "code",
      "metadata": {
        "id": "YXgFQmt86sR5",
        "colab_type": "code",
        "colab": {
          "base_uri": "https://localhost:8080/",
          "height": 51
        },
        "outputId": "feaf83f2-3971-473b-a6ee-d603db1cfa1b"
      },
      "source": [
        "for topic in topics:\n",
        "    print(topic)"
      ],
      "execution_count": 15,
      "outputs": [
        {
          "output_type": "stream",
          "text": [
            "(0, '0.024*\"good\" + 0.021*\"great\"')\n",
            "(1, '0.019*\"order\" + 0.017*\"get\"')\n"
          ],
          "name": "stdout"
        }
      ]
    },
    {
      "cell_type": "markdown",
      "metadata": {
        "id": "GfUe2KeDgozf",
        "colab_type": "text"
      },
      "source": [
        "## Visualization"
      ]
    },
    {
      "cell_type": "code",
      "metadata": {
        "id": "05PgySrvOzW6",
        "colab_type": "code",
        "colab": {
          "base_uri": "https://localhost:8080/",
          "height": 881
        },
        "outputId": "f7201631-1625-4dc6-b83f-25f6a797ad6d"
      },
      "source": [
        "lda_display = pyLDAvis.gensim.prepare(ldamodel, final_corpus, \n",
        "                                      dictionary, \n",
        "                                      sort_topics=False)\n",
        "pyLDAvis.display(lda_display)"
      ],
      "execution_count": 16,
      "outputs": [
        {
          "output_type": "execute_result",
          "data": {
            "text/html": [
              "\n",
              "<link rel=\"stylesheet\" type=\"text/css\" href=\"https://cdn.rawgit.com/bmabey/pyLDAvis/files/ldavis.v1.0.0.css\">\n",
              "\n",
              "\n",
              "<div id=\"ldavis_el1221396369466928809500838037\"></div>\n",
              "<script type=\"text/javascript\">\n",
              "\n",
              "var ldavis_el1221396369466928809500838037_data = {\"mdsDat\": {\"x\": [0.12218201160430907, -0.12218201160430907], \"y\": [0.0, 0.0], \"topics\": [1, 2], \"cluster\": [1, 1], \"Freq\": [52.54292297363281, 47.45707702636719]}, \"tinfo\": {\"Term\": [\"great\", \"good\", \"love\", \"ask\", \"delicious\", \"say\", \"minute\", \"table\", \"amazing\", \"friendly\", \"take\", \"order\", \"tell\", \"bad\", \"fresh\", \"wait\", \"definitely\", \"manager\", \"never\", \"favorite\", \"get\", \"leave\", \"another\", \"always\", \"flavor\", \"sit\", \"chicken\", \"place\", \"call\", \"even\", \"delicious\", \"favorite\", \"amazing\", \"excellent\", \"pho\", \"tasty\", \"spicy\", \"shrimp\", \"authentic\", \"fantastic\", \"wonderful\", \"yummy\", \"donut\", \"flavorful\", \"variety\", \"style\", \"pita\", \"thai\", \"valley\", \"noodle\", \"spice\", \"gem\", \"italian\", \"carne\", \"chinese\", \"asada\", \"spring\", \"chocolate\", \"gyro\", \"fresh\", \"love\", \"flavor\", \"friendly\", \"beef\", \"portion\", \"highly\", \"indian\", \"great\", \"definitely\", \"sushi\", \"atmosphere\", \"rice\", \"awesome\", \"fish\", \"sweet\", \"good\", \"roll\", \"spot\", \"always\", \"recommend\", \"cream\", \"chicken\", \"super\", \"sauce\", \"place\", \"nice\", \"try\", \"hot\", \"enjoy\", \"food\", \"also\", \"price\", \"little\", \"really\", \"taste\", \"service\", \"fry\", \"back\", \"like\", \"restaurant\", \"come\", \"make\", \"go\", \"time\", \"pizza\", \"get\", \"well\", \"order\", \"minute\", \"manager\", \"ask\", \"call\", \"bad\", \"pay\", \"horrible\", \"tell\", \"min\", \"table\", \"rude\", \"later\", \"charge\", \"receive\", \"bill\", \"terrible\", \"leave\", \"someone\", \"phone\", \"stand\", \"hostess\", \"poor\", \"card\", \"dirty\", \"management\", \"happen\", \"sorry\", \"waste\", \"attitude\", \"send\", \"another\", \"money\", \"understand\", \"speak\", \"sit\", \"bartender\", \"tip\", \"say\", \"seat\", \"person\", \"take\", \"wait\", \"never\", \"walk\", \"waitress\", \"order\", \"even\", \"customer\", \"get\", \"know\", \"give\", \"would\", \"go\", \"could\", \"time\", \"drink\", \"server\", \"come\", \"one\", \"food\", \"want\", \"service\", \"back\", \"like\", \"make\", \"place\"], \"Freq\": [4291.0, 5482.0, 2035.0, 1492.0, 1606.0, 2003.0, 1216.0, 1183.0, 1319.0, 1473.0, 2080.0, 4479.0, 1101.0, 1004.0, 1133.0, 1726.0, 1244.0, 825.0, 1275.0, 785.0, 4460.0, 673.0, 688.0, 1612.0, 762.0, 713.0, 1802.0, 5509.0, 545.0, 1448.0, 1605.4041748046875, 784.7210693359375, 1318.26416015625, 599.810791015625, 519.5231323242188, 444.1850891113281, 405.4681091308594, 388.7310791015625, 260.96929931640625, 279.4065856933594, 318.2706298828125, 248.5511932373047, 242.4560089111328, 209.41055297851562, 187.61114501953125, 187.93045043945312, 174.9746551513672, 178.34503173828125, 211.839111328125, 157.50930786132812, 149.45010375976562, 129.83575439453125, 170.95526123046875, 132.8296661376953, 140.01309204101562, 134.82586669921875, 130.2241973876953, 183.1825714111328, 125.26595306396484, 1127.932373046875, 2018.9468994140625, 758.749755859375, 1454.239013671875, 449.9456481933594, 457.11419677734375, 368.29425048828125, 176.5818634033203, 4086.908447265625, 1209.12060546875, 658.9457397460938, 482.5382995605469, 539.1278076171875, 712.1605224609375, 435.99041748046875, 435.75537109375, 4753.5029296875, 863.9505004882812, 438.24432373046875, 1439.517822265625, 895.3261108398438, 497.7462158203125, 1569.4981689453125, 648.7959594726562, 987.3056640625, 4063.95849609375, 1120.6842041015625, 1779.7652587890625, 754.8817138671875, 642.969482421875, 3901.94921875, 1151.746826171875, 981.2386474609375, 905.8858642578125, 1187.0689697265625, 870.7056274414062, 1878.46923828125, 857.6710205078125, 1532.2530517578125, 1447.651123046875, 1114.6185302734375, 1625.9317626953125, 1274.28662109375, 1744.195068359375, 1441.5263671875, 978.3093872070312, 1404.9503173828125, 990.1163330078125, 1114.7293701171875, 1215.4639892578125, 824.9361572265625, 1490.8214111328125, 545.1025390625, 1003.4639892578125, 510.509521484375, 333.7596740722656, 1099.2222900390625, 324.57562255859375, 1180.996337890625, 264.4634704589844, 285.6123352050781, 294.9411315917969, 306.0699462890625, 235.7943878173828, 234.9569854736328, 672.1702270507812, 254.1209716796875, 182.53936767578125, 207.5706329345703, 182.13363647460938, 172.97525024414062, 182.09454345703125, 171.74078369140625, 170.46083068847656, 207.26760864257812, 147.41696166992188, 131.4322509765625, 128.76498413085938, 120.2681655883789, 684.4301147460938, 329.3852844238281, 172.7352752685547, 171.13043212890625, 695.6915893554688, 289.475830078125, 203.35971069335938, 1865.802490234375, 476.4649963378906, 225.9566192626953, 1835.4400634765625, 1521.1529541015625, 1142.305419921875, 553.1433715820312, 640.8797607421875, 3364.9169921875, 1173.04443359375, 929.471923828125, 3055.96435546875, 864.483154296875, 1121.171142578125, 1770.4276123046875, 2990.055908203125, 915.2583618164062, 2244.5947265625, 1040.482421875, 842.5347900390625, 2005.720947265625, 1432.080810546875, 2904.324951171875, 953.0426025390625, 1620.953369140625, 1449.6492919921875, 1302.15478515625, 1093.339111328125, 1446.0255126953125], \"Total\": [4291.0, 5482.0, 2035.0, 1492.0, 1606.0, 2003.0, 1216.0, 1183.0, 1319.0, 1473.0, 2080.0, 4479.0, 1101.0, 1004.0, 1133.0, 1726.0, 1244.0, 825.0, 1275.0, 785.0, 4460.0, 673.0, 688.0, 1612.0, 762.0, 713.0, 1802.0, 5509.0, 545.0, 1448.0, 1606.0548095703125, 785.3538208007812, 1319.508056640625, 600.4848022460938, 520.2316284179688, 444.80682373046875, 406.1596984863281, 389.42047119140625, 261.51483154296875, 280.0372009277344, 318.99029541015625, 249.1226806640625, 243.0497589111328, 210.0270233154297, 188.18930053710938, 188.5299072265625, 175.6028594970703, 178.99188232421875, 212.6368408203125, 158.12258911132812, 150.06199645996094, 130.36907958984375, 171.71620178222656, 133.421630859375, 140.64874267578125, 135.45021057128906, 130.82992553710938, 184.0702667236328, 125.87954711914062, 1133.6055908203125, 2035.4036865234375, 762.8469848632812, 1473.808349609375, 452.33135986328125, 462.2369689941406, 371.6348571777344, 177.50912475585938, 4291.43701171875, 1244.5919189453125, 671.3524780273438, 492.5923156738281, 553.0956420898438, 738.3342895507812, 448.60577392578125, 448.3987731933594, 5482.9052734375, 921.1732788085938, 454.37152099609375, 1612.023681640625, 977.2860107421875, 520.8982543945312, 1802.795654296875, 700.7595825195312, 1122.2889404296875, 5509.98388671875, 1317.7711181640625, 2322.60791015625, 846.8670654296875, 706.2669067382812, 6806.2744140625, 1483.90673828125, 1213.58984375, 1113.75146484375, 1682.2943115234375, 1097.8948974609375, 3499.422607421875, 1091.0447998046875, 2981.90234375, 2749.805908203125, 1757.259765625, 3631.65283203125, 2367.625732421875, 4734.2509765625, 3686.12109375, 1443.68408203125, 4460.91455078125, 1651.960693359375, 4479.646484375, 1216.051025390625, 825.5376586914062, 1492.0618896484375, 545.7763061523438, 1004.8075561523438, 511.3039855957031, 334.32958984375, 1101.138916015625, 325.1715087890625, 1183.1962890625, 264.99835205078125, 286.22137451171875, 295.5992431640625, 306.8094177246094, 236.38577270507812, 235.56082153320312, 673.921630859375, 254.827880859375, 183.09915161132812, 208.255859375, 182.74183654785156, 173.55882263183594, 182.7117462158203, 172.33993530273438, 171.17857360839844, 208.14572143554688, 148.05523681640625, 132.01626586914062, 129.35020446777344, 120.83036804199219, 688.4204711914062, 330.9587707519531, 173.561767578125, 171.9928436279297, 713.8447875976562, 293.3554992675781, 204.9073486328125, 2003.49365234375, 492.371826171875, 229.23675537109375, 2080.214599609375, 1726.4486083984375, 1275.2542724609375, 591.3013305664062, 705.5467529296875, 4479.646484375, 1448.2528076171875, 1118.57177734375, 4460.91455078125, 1050.144775390625, 1423.668701171875, 2461.568359375, 4734.2509765625, 1200.900634765625, 3686.12109375, 1428.661865234375, 1116.8465576171875, 3631.65283203125, 2345.323974609375, 6806.2744140625, 1348.0157470703125, 3499.422607421875, 2981.90234375, 2749.805908203125, 2367.625732421875, 5509.98388671875], \"Category\": [\"Default\", \"Default\", \"Default\", \"Default\", \"Default\", \"Default\", \"Default\", \"Default\", \"Default\", \"Default\", \"Default\", \"Default\", \"Default\", \"Default\", \"Default\", \"Default\", \"Default\", \"Default\", \"Default\", \"Default\", \"Default\", \"Default\", \"Default\", \"Default\", \"Default\", \"Default\", \"Default\", \"Default\", \"Default\", \"Default\", \"Topic1\", \"Topic1\", \"Topic1\", \"Topic1\", \"Topic1\", \"Topic1\", \"Topic1\", \"Topic1\", \"Topic1\", \"Topic1\", \"Topic1\", \"Topic1\", \"Topic1\", \"Topic1\", \"Topic1\", \"Topic1\", \"Topic1\", \"Topic1\", \"Topic1\", \"Topic1\", \"Topic1\", \"Topic1\", \"Topic1\", \"Topic1\", \"Topic1\", \"Topic1\", \"Topic1\", \"Topic1\", \"Topic1\", \"Topic1\", \"Topic1\", \"Topic1\", \"Topic1\", \"Topic1\", \"Topic1\", \"Topic1\", \"Topic1\", \"Topic1\", \"Topic1\", \"Topic1\", \"Topic1\", \"Topic1\", \"Topic1\", \"Topic1\", \"Topic1\", \"Topic1\", \"Topic1\", \"Topic1\", \"Topic1\", \"Topic1\", \"Topic1\", \"Topic1\", \"Topic1\", \"Topic1\", \"Topic1\", \"Topic1\", \"Topic1\", \"Topic1\", \"Topic1\", \"Topic1\", \"Topic1\", \"Topic1\", \"Topic1\", \"Topic1\", \"Topic1\", \"Topic1\", \"Topic1\", \"Topic1\", \"Topic1\", \"Topic1\", \"Topic1\", \"Topic1\", \"Topic1\", \"Topic1\", \"Topic1\", \"Topic1\", \"Topic1\", \"Topic1\", \"Topic2\", \"Topic2\", \"Topic2\", \"Topic2\", \"Topic2\", \"Topic2\", \"Topic2\", \"Topic2\", \"Topic2\", \"Topic2\", \"Topic2\", \"Topic2\", \"Topic2\", \"Topic2\", \"Topic2\", \"Topic2\", \"Topic2\", \"Topic2\", \"Topic2\", \"Topic2\", \"Topic2\", \"Topic2\", \"Topic2\", \"Topic2\", \"Topic2\", \"Topic2\", \"Topic2\", \"Topic2\", \"Topic2\", \"Topic2\", \"Topic2\", \"Topic2\", \"Topic2\", \"Topic2\", \"Topic2\", \"Topic2\", \"Topic2\", \"Topic2\", \"Topic2\", \"Topic2\", \"Topic2\", \"Topic2\", \"Topic2\", \"Topic2\", \"Topic2\", \"Topic2\", \"Topic2\", \"Topic2\", \"Topic2\", \"Topic2\", \"Topic2\", \"Topic2\", \"Topic2\", \"Topic2\", \"Topic2\", \"Topic2\", \"Topic2\", \"Topic2\", \"Topic2\", \"Topic2\", \"Topic2\", \"Topic2\", \"Topic2\", \"Topic2\", \"Topic2\", \"Topic2\"], \"logprob\": [30.0, 29.0, 28.0, 27.0, 26.0, 25.0, 24.0, 23.0, 22.0, 21.0, 20.0, 19.0, 18.0, 17.0, 16.0, 15.0, 14.0, 13.0, 12.0, 11.0, 10.0, 9.0, 8.0, 7.0, 6.0, 5.0, 4.0, 3.0, 2.0, 1.0, -4.821100234985352, -5.536900043487549, -5.018199920654297, -5.805600166320801, -5.9492998123168945, -6.105999946594238, -6.197199821472168, -6.2393999099731445, -6.637800216674805, -6.5696001052856445, -6.439300060272217, -6.686600208282471, -6.711400032043457, -6.857999801635742, -6.967899799346924, -6.96619987487793, -7.037600040435791, -7.018499851226807, -6.846399784088135, -7.1427998542785645, -7.195300102233887, -7.335999965667725, -7.060800075531006, -7.313199996948242, -7.260499954223633, -7.298299789428711, -7.333000183105469, -6.991799831390381, -7.371799945831299, -5.174099922180176, -4.591899871826172, -5.5706000328063965, -4.920000076293945, -6.093100070953369, -6.077300071716309, -6.293399810791016, -7.028500080108643, -3.886699914932251, -5.104599952697754, -5.711599826812744, -6.023200035095215, -5.912300109863281, -5.633900165557861, -6.124599933624268, -6.125199794769287, -3.735599994659424, -5.440700054168701, -6.119500160217285, -4.930200099945068, -5.405099868774414, -5.992199897766113, -4.843699932098389, -5.727099895477295, -5.307300090789795, -3.8922998905181885, -5.180600166320801, -4.7179999351501465, -5.575699806213379, -5.736199855804443, -3.933000087738037, -5.153200149536133, -5.313399791717529, -5.3933000564575195, -5.123000144958496, -5.4328999519348145, -4.664000034332275, -5.447999954223633, -4.867800235748291, -4.924600124359131, -5.185999870300293, -4.8084001541137695, -5.05210018157959, -4.7382001876831055, -4.928800106048584, -5.316400051116943, -4.954500198364258, -5.3043999671936035, -5.1859002113342285, -4.997600078582764, -5.3850998878479, -4.793399810791016, -5.799499988555908, -5.189199924468994, -5.864999771118164, -6.289999961853027, -5.098100185394287, -6.31790018081665, -5.026299953460693, -6.52269983291626, -6.445799827575684, -6.413700103759766, -6.3765997886657715, -6.637499809265137, -6.640999794006348, -5.589900016784668, -6.562600135803223, -6.893499851226807, -6.764999866485596, -6.895699977874756, -6.947299957275391, -6.895899772644043, -6.954500198364258, -6.961900234222412, -6.76639986038208, -7.1072001457214355, -7.2220001220703125, -7.242499828338623, -7.310699939727783, -5.571899890899658, -6.303199768066406, -6.948699951171875, -6.958000183105469, -5.555500030517578, -6.432400226593018, -6.7855000495910645, -4.568999767303467, -5.934100151062012, -6.680099964141846, -4.585400104522705, -4.773200035095215, -5.059599876403809, -5.784800052642822, -5.637599945068359, -3.979300022125244, -5.033100128173828, -5.2657999992370605, -4.0756001472473145, -5.3383002281188965, -5.0782999992370605, -4.621500015258789, -4.097400188446045, -5.281199932098389, -4.384200096130371, -5.1529998779296875, -5.363999843597412, -4.496699810028076, -4.833600044250488, -4.126500129699707, -5.240799903869629, -4.709700107574463, -4.821400165557861, -4.928699970245361, -5.103499889373779, -4.82390022277832], \"loglift\": [30.0, 29.0, 28.0, 27.0, 26.0, 25.0, 24.0, 23.0, 22.0, 21.0, 20.0, 19.0, 18.0, 17.0, 16.0, 15.0, 14.0, 13.0, 12.0, 11.0, 10.0, 9.0, 8.0, 7.0, 6.0, 5.0, 4.0, 3.0, 2.0, 1.0, 0.6431000232696533, 0.6427000164985657, 0.6425999999046326, 0.6424000263214111, 0.6421999931335449, 0.6420999765396118, 0.6417999863624573, 0.6417999863624573, 0.6414999961853027, 0.6413000226020813, 0.6413000226020813, 0.6412000060081482, 0.6410999894142151, 0.6406000256538391, 0.640500009059906, 0.6403999924659729, 0.6399999856948853, 0.6399000287055969, 0.6398000121116638, 0.6396999955177307, 0.6395000219345093, 0.6394000053405762, 0.6391000151634216, 0.6391000151634216, 0.6389999985694885, 0.6388999819755554, 0.6388999819755554, 0.638700008392334, 0.638700008392334, 0.6384999752044678, 0.6353999972343445, 0.6381999850273132, 0.6302000284194946, 0.6383000016212463, 0.6323999762535095, 0.6345000267028809, 0.6383000016212463, 0.5946999788284302, 0.6146000027656555, 0.6248999834060669, 0.6229000091552734, 0.6179999709129333, 0.6074000000953674, 0.6150000095367432, 0.6148999929428101, 0.5008000135421753, 0.5794000029563904, 0.6074000000953674, 0.5303999781608582, 0.555899977684021, 0.5981000065803528, 0.5049999952316284, 0.5665000081062317, 0.5153999924659729, 0.3391000032424927, 0.4814999997615814, 0.3772999942302704, 0.5285999774932861, 0.5496000051498413, 0.08720000088214874, 0.39010000228881836, 0.4309999942779541, 0.43700000643730164, 0.29490000009536743, 0.4117000102996826, 0.021400000900030136, 0.40290001034736633, -0.022299999371170998, 0.0020000000949949026, 0.1882999986410141, -0.16009999811649323, 0.024000000208616257, -0.35499998927116394, -0.2953000068664551, 0.25440001487731934, -0.5117999911308289, 0.1316000074148178, -0.7473999857902527, 0.7448999881744385, 0.7445999979972839, 0.7444999814033508, 0.7440999746322632, 0.7440000176429749, 0.7437999844551086, 0.7436000108718872, 0.7436000108718872, 0.7434999942779541, 0.7434999942779541, 0.7433000206947327, 0.7432000041007996, 0.7430999875068665, 0.742900013923645, 0.7427999973297119, 0.7427999973297119, 0.7426999807357788, 0.7426000237464905, 0.7422999739646912, 0.7419999837875366, 0.7419999837875366, 0.7419999837875366, 0.7419999837875366, 0.7419000267982483, 0.741100013256073, 0.741100013256073, 0.7409999966621399, 0.7408999800682068, 0.7408000230789185, 0.7407000064849854, 0.7394999861717224, 0.7405999898910522, 0.7405999898910522, 0.7402999997138977, 0.7196000218391418, 0.7319999933242798, 0.7378000020980835, 0.6740999817848206, 0.7124999761581421, 0.73089998960495, 0.620199978351593, 0.6187000274658203, 0.635200023651123, 0.678600013256073, 0.6492000222206116, 0.459199994802475, 0.534600019454956, 0.5601999759674072, 0.3671000003814697, 0.5508000254631042, 0.5065000057220459, 0.415800005197525, 0.2858000099658966, 0.47369998693466187, 0.2493000030517578, 0.42829999327659607, 0.4634999930858612, 0.1517000049352646, 0.25200000405311584, -0.1062999963760376, 0.3986000120639801, -0.02419999986886978, 0.02410000003874302, -0.002199999988079071, -0.027300000190734863, -0.5924000144004822]}, \"token.table\": {\"Topic\": [1, 2, 1, 2, 1, 2, 1, 2, 1, 2, 1, 2, 1, 2, 1, 2, 1, 2, 1, 2, 1, 2, 1, 2, 1, 2, 1, 2, 1, 2, 1, 2, 1, 2, 1, 2, 1, 2, 1, 2, 1, 2, 1, 2, 1, 2, 1, 2, 1, 2, 1, 2, 1, 2, 1, 2, 1, 2, 1, 2, 1, 2, 1, 2, 1, 2, 1, 2, 1, 2, 1, 2, 1, 2, 1, 2, 1, 2, 1, 2, 1, 2, 1, 2, 1, 2, 1, 2, 1, 2, 1, 2, 1, 2, 1, 2, 1, 2, 1, 2, 1, 2, 1, 2, 1, 2, 1, 2, 1, 2, 1, 2, 1, 2, 1, 2, 1, 2, 1, 2, 1, 2, 1, 2, 1, 2, 1, 2, 1, 2, 1, 2, 1, 2, 1, 2, 1, 2, 1, 2, 1, 2, 1, 2, 1, 2, 1, 2, 1, 2, 1, 2, 1, 2, 1, 2, 1, 2, 1, 2, 1, 2, 1, 2, 1, 2, 1, 2, 1, 2, 1, 2, 1, 2, 1, 2, 1, 2, 1, 2, 1, 2, 1, 2, 1, 2, 1, 2, 1, 2, 1, 2, 1, 2, 1, 2, 1, 2, 1, 2, 1, 2, 1, 2, 1, 2, 1, 2, 1, 2, 1, 2, 1, 2, 1, 2, 1, 2, 1, 2, 1, 2, 1, 2, 1, 2, 1, 2, 1, 2, 1, 2, 1, 2, 1, 2, 1, 2, 1, 2, 1, 2, 1, 2, 1, 2, 1, 2, 1, 2, 1, 2, 1, 2, 1, 2, 1, 2, 1, 2, 1, 2, 1, 2, 1, 2], \"Freq\": [0.7763291001319885, 0.22373373806476593, 0.8932871222496033, 0.10731852054595947, 0.9988570809364319, 0.0007578582153655589, 0.00581040233373642, 0.9935787916183472, 0.9966762065887451, 0.007382786832749844, 0.0006702134851366282, 0.9992883205413818, 0.980526864528656, 0.020300762727856636, 0.0077309501357376575, 0.9972925782203674, 0.9980313777923584, 0.0038238749839365482, 0.9643328189849854, 0.03521440178155899, 0.5137659907341003, 0.48626676201820374, 0.0009952154941856861, 0.9982010722160339, 0.013635333627462387, 0.9851528406143188, 0.9948459267616272, 0.004421537276357412, 0.004230373073369265, 0.9983680248260498, 0.0018322524847462773, 0.9985775947570801, 0.005473101977258921, 0.9961045384407043, 0.9968398809432983, 0.007495036348700523, 0.0033829587046056986, 0.9979727864265442, 0.8703149557113647, 0.12924371659755707, 0.9953874945640564, 0.00710991071537137, 0.9941855669021606, 0.0054327077232301235, 0.44773003458976746, 0.5523656010627747, 0.2381545901298523, 0.761928141117096, 0.9560408592224121, 0.04415449500083923, 0.16896545886993408, 0.8305233716964722, 0.9714027643203735, 0.028121666982769966, 0.99934321641922, 0.0006226437399163842, 0.005802485626190901, 0.998027503490448, 0.9956808686256409, 0.004114383831620216, 0.27158281207084656, 0.7279539108276367, 0.9104206562042236, 0.08920140564441681, 0.1898839771747589, 0.8099414706230164, 0.9991926550865173, 0.0016653210623189807, 0.996296226978302, 0.003570954082533717, 0.9995494484901428, 0.0012733114417642355, 0.9719001054763794, 0.028978673741221428, 0.9949570894241333, 0.005243515595793724, 0.995110034942627, 0.0047612921334803104, 0.5732945203781128, 0.42666512727737427, 0.995055079460144, 0.005292846355587244, 0.9865597486495972, 0.013570285402238369, 0.78640216588974, 0.21355676651000977, 0.9971689581871033, 0.007670530583709478, 0.3149578273296356, 0.6850613355636597, 0.21212799847126007, 0.7874022722244263, 0.36837929487228394, 0.6315677165985107, 0.8670585751533508, 0.13295871019363403, 0.9523616433143616, 0.04776954650878906, 0.9930127859115601, 0.00794410239905119, 0.0048043266870081425, 0.9944955706596375, 0.9902192950248718, 0.008072439581155777, 0.0029910604935139418, 0.9990141987800598, 0.005472200457006693, 0.9959405064582825, 0.8915212750434875, 0.10863570123910904, 0.9971318244934082, 0.005633513443171978, 0.995829164981842, 0.005823562387377024, 0.1771184355020523, 0.8227437138557434, 0.003493799129500985, 0.9992265701293945, 0.002967704087495804, 0.9971485733985901, 0.5265825986862183, 0.4734879732131958, 0.8134669661521912, 0.1867562085390091, 0.9919407963752747, 0.007860848680138588, 0.538091778755188, 0.46164390444755554, 0.005841852631419897, 0.9931149482727051, 0.0012113318080082536, 0.9993487000465393, 0.0030753002502024174, 0.9994725584983826, 0.0008223339100368321, 0.9991357326507568, 0.0060430485755205154, 0.9940814971923828, 0.10429292917251587, 0.8955076932907104, 0.8506788611412048, 0.14949485659599304, 0.9992247223854065, 0.006324206944555044, 0.38928523659706116, 0.6105766296386719, 0.2489035725593567, 0.7511753439903259, 0.0019557836931198835, 0.9994054436683655, 0.013086906634271145, 0.9858803153038025, 0.9995547533035278, 0.001922220690175891, 0.005461521912366152, 0.9994584918022156, 0.996566891670227, 0.005694668274372816, 0.6774335503578186, 0.32209262251853943, 0.7375702261924744, 0.262432724237442, 0.005761735141277313, 0.9967802166938782, 0.9886704087257385, 0.010816962458193302, 0.8083456158638, 0.1911683827638626, 0.7055840492248535, 0.2942410111427307, 0.003259352408349514, 0.9973618388175964, 0.9158015251159668, 0.08390583842992783, 0.6345106363296509, 0.3659106194972992, 0.9745150208473206, 0.02531207725405693, 0.9379342794418335, 0.06187760829925537, 0.0037736084777861834, 0.9962326288223267, 0.879452645778656, 0.1202898770570755, 0.06887967884540558, 0.9313730597496033, 0.03249576687812805, 0.9667490720748901, 0.00827606488019228, 0.9931278228759766, 0.24533361196517944, 0.7548037767410278, 0.5366599559783936, 0.4632192850112915, 0.9989202618598938, 0.0025679185055196285, 0.025215566158294678, 0.975001871585846, 0.003924217540770769, 0.9967511892318726, 0.006754235830157995, 0.9928726553916931, 0.0058141956105828285, 0.994227409362793, 0.9929229617118835, 0.006663912441581488, 0.9971446990966797, 0.0024620858021080494, 0.9639688730239868, 0.03521347418427467, 0.9936564564704895, 0.007643511053174734, 0.004801785573363304, 0.9987714290618896, 0.9971892833709717, 0.005304198246449232, 0.9261378645896912, 0.0742051899433136, 0.9816005825996399, 0.01787436567246914, 0.9723488092422485, 0.028992051258683205, 0.001690336619503796, 0.9981437921524048, 0.1177763119339943, 0.8821205496788025, 0.7933363914489746, 0.20675931870937347, 0.9981861114501953, 0.002248167060315609, 0.0018163012573495507, 0.9980575442314148, 0.00424518808722496, 0.9976192116737366, 0.9944584965705872, 0.005586845334619284, 0.391197144985199, 0.6090413331985474, 0.009760509245097637, 0.9906916618347168, 0.7663798928260803, 0.23378892242908478, 0.005761637352406979, 0.996763288974762, 0.997005045413971, 0.004702853970229626, 0.9989941120147705, 0.0053137983195483685, 0.11874086409807205, 0.8809992671012878, 0.09212713688611984, 0.9085152745246887, 0.06426503509283066, 0.9352253675460815, 0.2930232882499695, 0.7069650292396545, 0.007574824150651693, 0.9923019409179688, 0.5992878675460815, 0.40073591470718384, 0.9968955516815186, 0.0031348916236311197, 0.28071534633636475, 0.7190537452697754, 0.9995075464248657, 0.004014086443930864], \"Term\": [\"also\", \"also\", \"always\", \"always\", \"amazing\", \"amazing\", \"another\", \"another\", \"asada\", \"asada\", \"ask\", \"ask\", \"atmosphere\", \"atmosphere\", \"attitude\", \"attitude\", \"authentic\", \"authentic\", \"awesome\", \"awesome\", \"back\", \"back\", \"bad\", \"bad\", \"bartender\", \"bartender\", \"beef\", \"beef\", \"bill\", \"bill\", \"call\", \"call\", \"card\", \"card\", \"carne\", \"carne\", \"charge\", \"charge\", \"chicken\", \"chicken\", \"chinese\", \"chinese\", \"chocolate\", \"chocolate\", \"come\", \"come\", \"could\", \"could\", \"cream\", \"cream\", \"customer\", \"customer\", \"definitely\", \"definitely\", \"delicious\", \"delicious\", \"dirty\", \"dirty\", \"donut\", \"donut\", \"drink\", \"drink\", \"enjoy\", \"enjoy\", \"even\", \"even\", \"excellent\", \"excellent\", \"fantastic\", \"fantastic\", \"favorite\", \"favorite\", \"fish\", \"fish\", \"flavor\", \"flavor\", \"flavorful\", \"flavorful\", \"food\", \"food\", \"fresh\", \"fresh\", \"friendly\", \"friendly\", \"fry\", \"fry\", \"gem\", \"gem\", \"get\", \"get\", \"give\", \"give\", \"go\", \"go\", \"good\", \"good\", \"great\", \"great\", \"gyro\", \"gyro\", \"happen\", \"happen\", \"highly\", \"highly\", \"horrible\", \"horrible\", \"hostess\", \"hostess\", \"hot\", \"hot\", \"indian\", \"indian\", \"italian\", \"italian\", \"know\", \"know\", \"later\", \"later\", \"leave\", \"leave\", \"like\", \"like\", \"little\", \"little\", \"love\", \"love\", \"make\", \"make\", \"management\", \"management\", \"manager\", \"manager\", \"min\", \"min\", \"minute\", \"minute\", \"money\", \"money\", \"never\", \"never\", \"nice\", \"nice\", \"noodle\", \"noodle\", \"one\", \"one\", \"order\", \"order\", \"pay\", \"pay\", \"person\", \"person\", \"pho\", \"pho\", \"phone\", \"phone\", \"pita\", \"pita\", \"pizza\", \"pizza\", \"place\", \"place\", \"poor\", \"poor\", \"portion\", \"portion\", \"price\", \"price\", \"really\", \"really\", \"receive\", \"receive\", \"recommend\", \"recommend\", \"restaurant\", \"restaurant\", \"rice\", \"rice\", \"roll\", \"roll\", \"rude\", \"rude\", \"sauce\", \"sauce\", \"say\", \"say\", \"seat\", \"seat\", \"send\", \"send\", \"server\", \"server\", \"service\", \"service\", \"shrimp\", \"shrimp\", \"sit\", \"sit\", \"someone\", \"someone\", \"sorry\", \"sorry\", \"speak\", \"speak\", \"spice\", \"spice\", \"spicy\", \"spicy\", \"spot\", \"spot\", \"spring\", \"spring\", \"stand\", \"stand\", \"style\", \"style\", \"super\", \"super\", \"sushi\", \"sushi\", \"sweet\", \"sweet\", \"table\", \"table\", \"take\", \"take\", \"taste\", \"taste\", \"tasty\", \"tasty\", \"tell\", \"tell\", \"terrible\", \"terrible\", \"thai\", \"thai\", \"time\", \"time\", \"tip\", \"tip\", \"try\", \"try\", \"understand\", \"understand\", \"valley\", \"valley\", \"variety\", \"variety\", \"wait\", \"wait\", \"waitress\", \"waitress\", \"walk\", \"walk\", \"want\", \"want\", \"waste\", \"waste\", \"well\", \"well\", \"wonderful\", \"wonderful\", \"would\", \"would\", \"yummy\", \"yummy\"]}, \"R\": 30, \"lambda.step\": 0.01, \"plot.opts\": {\"xlab\": \"PC1\", \"ylab\": \"PC2\"}, \"topic.order\": [1, 2]};\n",
              "\n",
              "function LDAvis_load_lib(url, callback){\n",
              "  var s = document.createElement('script');\n",
              "  s.src = url;\n",
              "  s.async = true;\n",
              "  s.onreadystatechange = s.onload = callback;\n",
              "  s.onerror = function(){console.warn(\"failed to load library \" + url);};\n",
              "  document.getElementsByTagName(\"head\")[0].appendChild(s);\n",
              "}\n",
              "\n",
              "if(typeof(LDAvis) !== \"undefined\"){\n",
              "   // already loaded: just create the visualization\n",
              "   !function(LDAvis){\n",
              "       new LDAvis(\"#\" + \"ldavis_el1221396369466928809500838037\", ldavis_el1221396369466928809500838037_data);\n",
              "   }(LDAvis);\n",
              "}else if(typeof define === \"function\" && define.amd){\n",
              "   // require.js is available: use it to load d3/LDAvis\n",
              "   require.config({paths: {d3: \"https://cdnjs.cloudflare.com/ajax/libs/d3/3.5.5/d3.min\"}});\n",
              "   require([\"d3\"], function(d3){\n",
              "      window.d3 = d3;\n",
              "      LDAvis_load_lib(\"https://cdn.rawgit.com/bmabey/pyLDAvis/files/ldavis.v1.0.0.js\", function(){\n",
              "        new LDAvis(\"#\" + \"ldavis_el1221396369466928809500838037\", ldavis_el1221396369466928809500838037_data);\n",
              "      });\n",
              "    });\n",
              "}else{\n",
              "    // require.js not available: dynamically load d3 & LDAvis\n",
              "    LDAvis_load_lib(\"https://cdnjs.cloudflare.com/ajax/libs/d3/3.5.5/d3.min.js\", function(){\n",
              "         LDAvis_load_lib(\"https://cdn.rawgit.com/bmabey/pyLDAvis/files/ldavis.v1.0.0.js\", function(){\n",
              "                 new LDAvis(\"#\" + \"ldavis_el1221396369466928809500838037\", ldavis_el1221396369466928809500838037_data);\n",
              "            })\n",
              "         });\n",
              "}\n",
              "</script>"
            ],
            "text/plain": [
              "<IPython.core.display.HTML object>"
            ]
          },
          "metadata": {
            "tags": []
          },
          "execution_count": 16
        }
      ]
    },
    {
      "cell_type": "markdown",
      "metadata": {
        "id": "bc7ixG1iX3ms",
        "colab_type": "text"
      },
      "source": [
        "- Saliency: a measure of how much the term tells you about the topic.\n",
        "- Relevance: a weighted average of the probability of the word given the topic and the word given the topic normalized by the probability of the topic.\n",
        "- The size of the bubble measures the importance of the topics, relative to the data.\n",
        "- First, we got the most salient terms, means terms mostly tell us about what’s going on relative to the topics. We can also look at individual topic."
      ]
    },
    {
      "cell_type": "code",
      "metadata": {
        "id": "KS4Y85VMLxXn",
        "colab_type": "code",
        "colab": {}
      },
      "source": [
        "pyLDAvis.save_html(lda_display, path + 'Output/5.lda_2.html')"
      ],
      "execution_count": 17,
      "outputs": []
    },
    {
      "cell_type": "markdown",
      "metadata": {
        "id": "LKbniEIZffoN",
        "colab_type": "text"
      },
      "source": [
        "## What is the topic distribution for a random review?"
      ]
    },
    {
      "cell_type": "code",
      "metadata": {
        "id": "I71FD8CgfjjV",
        "colab_type": "code",
        "colab": {
          "base_uri": "https://localhost:8080/",
          "height": 34
        },
        "outputId": "ae4103a4-d560-4a96-90f0-acd1701407a8"
      },
      "source": [
        "# Review no. 5\n",
        "print(corpus[4])"
      ],
      "execution_count": 18,
      "outputs": [
        {
          "output_type": "stream",
          "text": [
            "['awesome', 'service', 'great', 'food', 'amazing', 'server']\n"
          ],
          "name": "stdout"
        }
      ]
    },
    {
      "cell_type": "code",
      "metadata": {
        "id": "yl8Lb6FCfZAr",
        "colab_type": "code",
        "colab": {
          "base_uri": "https://localhost:8080/",
          "height": 34
        },
        "outputId": "36735980-5398-42c7-a4b1-d50fa0fb2056"
      },
      "source": [
        "ldamodel[dictionary.doc2bow(corpus[4])]\n",
        "# Mostly topic 1\n",
        "# This reviews belongs to each topic, but at a different percentage, \n",
        "# represented by the gamma value. Some documents fit in some topics \n",
        "# better than others. As shown below, this review has a \n",
        "# higher gamma value for Topic 1."
      ],
      "execution_count": 19,
      "outputs": [
        {
          "output_type": "execute_result",
          "data": {
            "text/plain": [
              "[(0, 0.8840138), (1, 0.11598624)]"
            ]
          },
          "metadata": {
            "tags": []
          },
          "execution_count": 19
        }
      ]
    },
    {
      "cell_type": "markdown",
      "metadata": {
        "id": "hF7JTbQx9Uf_",
        "colab_type": "text"
      },
      "source": [
        "# LDA: 15 Topics"
      ]
    },
    {
      "cell_type": "code",
      "metadata": {
        "id": "9i0Z7E1Y9Yc1",
        "colab_type": "code",
        "colab": {
          "base_uri": "https://localhost:8080/",
          "height": 306
        },
        "outputId": "5e69f634-d82b-4b26-95ad-aab49cad4197"
      },
      "source": [
        "%%time\n",
        "ldamodel = LdaModel(final_corpus, num_topics = 15, passes=15,\n",
        "                    id2word = dictionary,\n",
        "                    random_state = 5)\n",
        "topics = ldamodel.print_topics(num_words=2)\n",
        "for topic in topics:\n",
        "    print(topic)"
      ],
      "execution_count": 20,
      "outputs": [
        {
          "output_type": "stream",
          "text": [
            "(0, '0.037*\"place\" + 0.033*\"good\"')\n",
            "(1, '0.038*\"taco\" + 0.020*\"burrito\"')\n",
            "(2, '0.056*\"fish\" + 0.031*\"steak\"')\n",
            "(3, '0.100*\"pizza\" + 0.050*\"wing\"')\n",
            "(4, '0.024*\"breakfast\" + 0.021*\"good\"')\n",
            "(5, '0.033*\"chicken\" + 0.021*\"order\"')\n",
            "(6, '0.025*\"go\" + 0.022*\"food\"')\n",
            "(7, '0.036*\"donut\" + 0.022*\"wait\"')\n",
            "(8, '0.040*\"service\" + 0.028*\"great\"')\n",
            "(9, '0.038*\"sushi\" + 0.029*\"roll\"')\n",
            "(10, '0.019*\"place\" + 0.018*\"bar\"')\n",
            "(11, '0.057*\"great\" + 0.051*\"food\"')\n",
            "(12, '0.026*\"ice\" + 0.025*\"place\"')\n",
            "(13, '0.029*\"order\" + 0.022*\"get\"')\n",
            "(14, '0.046*\"burger\" + 0.035*\"salad\"')\n",
            "CPU times: user 1min 23s, sys: 47.7 ms, total: 1min 23s\n",
            "Wall time: 1min 23s\n"
          ],
          "name": "stdout"
        }
      ]
    },
    {
      "cell_type": "code",
      "metadata": {
        "id": "xejZcWNO9hwk",
        "colab_type": "code",
        "colab": {
          "base_uri": "https://localhost:8080/",
          "height": 881
        },
        "outputId": "2e5a3e7a-6603-4363-fd9d-db156d582f93"
      },
      "source": [
        "lda_display = pyLDAvis.gensim.prepare(ldamodel, final_corpus, \n",
        "                                      dictionary, \n",
        "                                      sort_topics=False)\n",
        "pyLDAvis.display(lda_display)"
      ],
      "execution_count": 21,
      "outputs": [
        {
          "output_type": "execute_result",
          "data": {
            "text/html": [
              "\n",
              "<link rel=\"stylesheet\" type=\"text/css\" href=\"https://cdn.rawgit.com/bmabey/pyLDAvis/files/ldavis.v1.0.0.css\">\n",
              "\n",
              "\n",
              "<div id=\"ldavis_el1221396369466913202990097537\"></div>\n",
              "<script type=\"text/javascript\">\n",
              "\n",
              "var ldavis_el1221396369466913202990097537_data = {\"mdsDat\": {\"x\": [0.08947249523882643, -0.12025889140070466, -0.21431129423737846, -0.12074448012900557, -0.09169718909438496, -0.09587868026803048, 0.04002951513281328, -0.0713535508198432, 0.17345916270036008, 0.1426139916383601, 0.06031790826321773, 0.2001825068013371, 0.11826596207086325, 0.08277757183303786, -0.19287502772946827], \"y\": [-0.07126054684811081, 0.10736862679005951, -0.1699714896199844, 0.09911911675524586, 0.08334319391888893, 0.04569068194199304, 0.17924629471052028, -0.1609476436976832, -0.05249811766970158, -0.1576910300180341, 0.15244377820357422, -0.07327903568803412, -0.056450224086915406, 0.168262921271323, -0.09337652596314132], \"topics\": [1, 2, 3, 4, 5, 6, 7, 8, 9, 10, 11, 12, 13, 14, 15], \"cluster\": [1, 1, 1, 1, 1, 1, 1, 1, 1, 1, 1, 1, 1, 1, 1], \"Freq\": [8.741843223571777, 3.950687885284424, 1.7425166368484497, 4.134676456451416, 4.046882629394531, 8.57400131225586, 9.825153350830078, 1.7441091537475586, 3.623961925506592, 4.562034606933594, 5.973755359649658, 12.034873962402344, 4.575966835021973, 21.736204147338867, 4.733334541320801]}, \"tinfo\": {\"Term\": [\"pizza\", \"great\", \"service\", \"order\", \"good\", \"wait\", \"chicken\", \"food\", \"wing\", \"burger\", \"fry\", \"place\", \"customer\", \"sushi\", \"roll\", \"cheese\", \"love\", \"always\", \"salad\", \"taco\", \"minute\", \"sandwich\", \"sauce\", \"fish\", \"hour\", \"friendly\", \"beer\", \"amazing\", \"delicious\", \"manager\", \"dog\", \"greek\", \"pita\", \"asada\", \"gyro\", \"hummus\", \"shawarma\", \"falafel\", \"buffalo\", \"chimichanga\", \"mediterranean\", \"opa\", \"sonoran\", \"kabob\", \"lick\", \"feta\", \"eastern\", \"san\", \"pitas\", \"toilet\", \"chimi\", \"soak\", \"spanish\", \"package\", \"twc\", \"definite\", \"nutella\", \"polish\", \"preparation\", \"seattle\", \"rub\", \"chicago\", \"jungle\", \"authentic\", \"slider\", \"east\", \"gem\", \"grease\", \"arizona\", \"highly\", \"valley\", \"recommend\", \"hot\", \"delicious\", \"amazing\", \"fresh\", \"try\", \"love\", \"place\", \"good\", \"find\", \"favorite\", \"best\", \"food\", \"everything\", \"definitely\", \"ever\", \"family\", \"great\", \"restaurant\", \"really\", \"go\", \"time\", \"come\", \"get\", \"eat\", \"back\", \"one\", \"make\", \"chicken\", \"taco\", \"salsa\", \"tacos\", \"bagel\", \"tortilla\", \"guacamole\", \"la\", \"de\", \"john\", \"enchilada\", \"closed\", \"al\", \"pollo\", \"el\", \"shred\", \"pastor\", \"kfc\", \"dance\", \"pico\", \"popeye\", \"quesadilla\", \"carnitas\", \"tempe\", \"salsas\", \"flour\", \"verde\", \"fajita\", \"secret\", \"burro\", \"bruschetta\", \"burrito\", \"carne\", \"tuesday\", \"ave\", \"mexican\", \"enchiladas\", \"bell\", \"bean\", \"margarita\", \"chip\", \"nachos\", \"street\", \"horchata\", \"cheese\", \"th\", \"meat\", \"chicken\", \"like\", \"good\", \"red\", \"get\", \"order\", \"food\", \"taste\", \"go\", \"beef\", \"eat\", \"sauce\", \"rice\", \"well\", \"one\", \"batter\", \"bush\", \"souvlaki\", \"oregano\", \"liver\", \"force\", \"boneless\", \"relatively\", \"peach\", \"operate\", \"aid\", \"santa\", \"southwest\", \"preference\", \"yo\", \"prop\", \"gizzard\", \"history\", \"critical\", \"surprising\", \"prosciutto\", \"veg\", \"outgoing\", \"culture\", \"spirit\", \"ag\", \"boo\", \"phx\", \"male\", \"costco\", \"rare\", \"fish\", \"mash\", \"coleslaw\", \"clam\", \"medium\", \"steak\", \"strip\", \"kool\", \"tough\", \"gravy\", \"breast\", \"yum\", \"groupon\", \"score\", \"brown\", \"fry\", \"photo\", \"christmas\", \"piece\", \"night\", \"chip\", \"friday\", \"hubby\", \"good\", \"shrimp\", \"dinner\", \"chicken\", \"really\", \"crispy\", \"cooked\", \"visit\", \"much\", \"cook\", \"well\", \"pizza\", \"delivery\", \"wing\", \"pepperoni\", \"ass\", \"oven\", \"driver\", \"chowder\", \"dough\", \"stir\", \"saffron\", \"schnitzel\", \"subway\", \"balsamic\", \"mongolian\", \"marinara\", \"dominos\", \"beware\", \"pastas\", \"popper\", \"doughnut\", \"kung\", \"pao\", \"marco\", \"ur\", \"crust\", \"meatball\", \"reviewer\", \"pig\", \"specify\", \"mozzarella\", \"pie\", \"ny\", \"york\", \"pasta\", \"sub\", \"thin\", \"fire\", \"topping\", \"online\", \"sauce\", \"deliver\", \"slice\", \"garlic\", \"bread\", \"order\", \"soggy\", \"cheese\", \"like\", \"italian\", \"get\", \"good\", \"place\", \"flavor\", \"one\", \"special\", \"time\", \"taste\", \"hot\", \"go\", \"also\", \"way\", \"pancake\", \"biscuit\", \"hash\", \"benedict\", \"bug\", \"omelette\", \"scramble\", \"muffin\", \"cinnamon\", \"joe\", \"omelet\", \"initially\", \"mixteca\", \"kelly\", \"midwestern\", \"remodel\", \"skillet\", \"browns\", \"pint\", \"grandma\", \"guac\", \"candy\", \"familiar\", \"eggs\", \"panda\", \"blonde\", \"page\", \"swear\", \"kimchi\", \"university\", \"brunch\", \"breakfast\", \"country\", \"buffet\", \"toast\", \"egg\", \"leg\", \"morning\", \"stale\", \"potato\", \"corn\", \"sausage\", \"bacon\", \"mini\", \"gravy\", \"ham\", \"french\", \"like\", \"avocado\", \"price\", \"good\", \"coffee\", \"cook\", \"nothing\", \"get\", \"sunday\", \"black\", \"taste\", \"little\", \"still\", \"really\", \"come\", \"small\", \"well\", \"meal\", \"side\", \"could\", \"back\", \"eat\", \"place\", \"would\", \"go\", \"food\", \"pho\", \"thai\", \"noodle\", \"spice\", \"broth\", \"vegetable\", \"boba\", \"curry\", \"coconut\", \"slaw\", \"tofu\", \"cane\", \"puff\", \"teriyaki\", \"decision\", \"steam\", \"pork\", \"crawfish\", \"oyster\", \"oily\", \"entre\", \"sesame\", \"cole\", \"spring\", \"martini\", \"range\", \"speedy\", \"lock\", \"jasmine\", \"stew\", \"pad\", \"crab\", \"rice\", \"orange\", \"ginger\", \"spicy\", \"chicken\", \"soup\", \"dish\", \"tender\", \"sauce\", \"shrimp\", \"beef\", \"sweet\", \"tea\", \"roll\", \"flavor\", \"bowl\", \"veggie\", \"taste\", \"order\", \"meat\", \"try\", \"like\", \"good\", \"also\", \"get\", \"fry\", \"would\", \"come\", \"really\", \"restaurant\", \"go\", \"eat\", \"yard\", \"masala\", \"steakhouse\", \"rip\", \"cardinal\", \"fountain\", \"hill\", \"mahi\", \"tad\", \"tikka\", \"assure\", \"nugget\", \"whiskey\", \"allergy\", \"require\", \"pink\", \"metal\", \"operation\", \"anybody\", \"inedible\", \"major\", \"veteran\", \"traffic\", \"brownie\", \"military\", \"report\", \"habit\", \"heck\", \"lame\", \"fake\", \"patron\", \"smell\", \"bathroom\", \"cheeseburger\", \"stomach\", \"review\", \"sad\", \"base\", \"open\", \"product\", \"dirty\", \"honestly\", \"mall\", \"brother\", \"read\", \"door\", \"see\", \"think\", \"look\", \"since\", \"like\", \"know\", \"go\", \"would\", \"could\", \"star\", \"may\", \"close\", \"place\", \"food\", \"thing\", \"bad\", \"get\", \"try\", \"something\", \"give\", \"eat\", \"one\", \"want\", \"never\", \"time\", \"restaurant\", \"walk\", \"even\", \"good\", \"back\", \"taste\", \"say\", \"donut\", \"bakery\", \"fondue\", \"opt\", \"croissant\", \"tavern\", \"las\", \"chile\", \"def\", \"milkshake\", \"elote\", \"vegan\", \"shredded\", \"chorizo\", \"catfish\", \"relleno\", \"refrie\", \"david\", \"quinoa\", \"mins\", \"challah\", \"cheetos\", \"layout\", \"ridiculously\", \"cone\", \"slight\", \"sooner\", \"frost\", \"sweat\", \"freezer\", \"lamb\", \"cake\", \"genghis\", \"fluffy\", \"thru\", \"roast\", \"vegetarian\", \"breakfast\", \"option\", \"light\", \"chocolate\", \"drive\", \"wait\", \"healthy\", \"fresh\", \"salmon\", \"love\", \"long\", \"bean\", \"green\", \"amazing\", \"day\", \"delicious\", \"get\", \"hot\", \"worth\", \"order\", \"go\", \"place\", \"gluten\", \"bottega\", \"nick\", \"everybody\", \"hospitality\", \"wingstop\", \"introduce\", \"compe\", \"poisoning\", \"gas\", \"angus\", \"unhappy\", \"shane\", \"individual\", \"pizzeria\", \"shirt\", \"alex\", \"yrs\", \"confusion\", \"herb\", \"struggle\", \"informative\", \"max\", \"mobile\", \"sever\", \"freaky\", \"orient\", \"oreo\", \"skimpy\", \"ubereat\", \"jason\", \"office\", \"superb\", \"kabuki\", \"pete\", \"exceptionally\", \"outstanding\", \"courteous\", \"thank\", \"celebrate\", \"ensure\", \"previous\", \"free\", \"hut\", \"customer\", \"experience\", \"service\", \"job\", \"location\", \"birthday\", \"great\", \"beyond\", \"make\", \"excellent\", \"first\", \"indian\", \"awesome\", \"owner\", \"back\", \"keep\", \"come\", \"time\", \"manager\", \"definitely\", \"wonderful\", \"food\", \"amazing\", \"visit\", \"sure\", \"star\", \"guy\", \"server\", \"give\", \"recommend\", \"everything\", \"sushi\", \"wine\", \"raman\", \"tap\", \"cuisine\", \"craft\", \"cod\", \"pub\", \"latte\", \"japanese\", \"sashimi\", \"filet\", \"draft\", \"dj\", \"yardhouse\", \"killer\", \"nigiri\", \"sakana\", \"oscar\", \"brewery\", \"restuarant\", \"brie\", \"monkey\", \"yellowtail\", \"ipa\", \"mexico\", \"ale\", \"goodbye\", \"belt\", \"broil\", \"calamari\", \"tempura\", \"po\", \"rise\", \"tuna\", \"miso\", \"terrific\", \"beer\", \"roll\", \"happy\", \"giant\", \"hour\", \"vegas\", \"chef\", \"california\", \"ambiance\", \"seafood\", \"selection\", \"friday\", \"menu\", \"salmon\", \"bar\", \"great\", \"music\", \"good\", \"price\", \"new\", \"place\", \"definitely\", \"love\", \"recommend\", \"back\", \"fresh\", \"service\", \"try\", \"delicious\", \"favorite\", \"well\", \"special\", \"also\", \"go\", \"food\", \"come\", \"amazing\", \"really\", \"adult\", \"grand\", \"fight\", \"angry\", \"lane\", \"speaker\", \"coyote\", \"louie\", \"aware\", \"private\", \"noisy\", \"reserve\", \"luckily\", \"towel\", \"toddler\", \"video\", \"stadium\", \"got\", \"directly\", \"game\", \"starbuck\", \"concerned\", \"chick\", \"noise\", \"dust\", \"gate\", \"playground\", \"rockets\", \"wander\", \"action\", \"tv\", \"bloody\", \"blast\", \"loud\", \"beverage\", \"system\", \"event\", \"bowling\", \"play\", \"football\", \"child\", \"sport\", \"park\", \"mary\", \"parking\", \"folk\", \"chill\", \"kid\", \"bar\", \"party\", \"westgate\", \"watch\", \"car\", \"music\", \"whatever\", \"room\", \"area\", \"step\", \"table\", \"lot\", \"people\", \"update\", \"place\", \"drink\", \"high\", \"large\", \"get\", \"bowl\", \"sit\", \"bartender\", \"go\", \"would\", \"price\", \"like\", \"food\", \"see\", \"one\", \"little\", \"way\", \"really\", \"need\", \"prime\", \"weekly\", \"depend\", \"daniel\", \"com\", \"trio\", \"crawl\", \"vermicelli\", \"popo\", \"barbecue\", \"lively\", \"crowded\", \"nonetheless\", \"celebration\", \"michelle\", \"upbeat\", \"mimosa\", \"habanero\", \"genuinely\", \"humble\", \"options\", \"slowly\", \"national\", \"natural\", \"expand\", \"shout\", \"singer\", \"chris\", \"unsure\", \"animal\", \"exceptional\", \"tradition\", \"always\", \"invite\", \"friendly\", \"great\", \"rib\", \"atmosphere\", \"attentive\", \"staff\", \"relax\", \"consistent\", \"awesome\", \"service\", \"clean\", \"food\", \"love\", \"fast\", \"quick\", \"portion\", \"good\", \"favorite\", \"super\", \"every\", \"place\", \"pleasant\", \"amazing\", \"nice\", \"time\", \"family\", \"helpful\", \"lunch\", \"definitely\", \"excellent\", \"special\", \"come\", \"restaurant\", \"delicious\", \"go\", \"back\", \"price\", \"really\", \"make\", \"server\", \"eat\", \"modern\", \"vanilla\", \"personable\", \"atl\", \"downtown\", \"alley\", \"indoor\", \"delight\", \"decorate\", \"caramel\", \"study\", \"tvs\", \"quaint\", \"violation\", \"starbucks\", \"majority\", \"energy\", \"arena\", \"mocha\", \"adorable\", \"bare\", \"barista\", \"southern\", \"tuck\", \"nosh\", \"comfy\", \"blah\", \"code\", \"vacation\", \"assortment\", \"shop\", \"ice\", \"final\", \"cream\", \"coffee\", \"cute\", \"weather\", \"interesting\", \"patio\", \"outdoor\", \"tea\", \"cozy\", \"decor\", \"local\", \"glendale\", \"nice\", \"choose\", \"owner\", \"super\", \"outside\", \"place\", \"make\", \"little\", \"stop\", \"drink\", \"feel\", \"spot\", \"friendly\", \"inside\", \"cool\", \"great\", \"staff\", \"like\", \"get\", \"find\", \"also\", \"love\", \"definitely\", \"try\", \"delicious\", \"good\", \"back\", \"minute\", \"rude\", \"hostess\", \"answer\", \"ignore\", \"acknowledge\", \"attitude\", \"receipt\", \"contact\", \"refund\", \"attempt\", \"apology\", \"excuse\", \"train\", \"response\", \"prior\", \"argue\", \"unacceptable\", \"respond\", \"cancel\", \"address\", \"insist\", \"seated\", \"trouble\", \"duty\", \"scott\", \"approach\", \"waited\", \"starve\", \"gm\", \"min\", \"act\", \"laugh\", \"apologize\", \"bill\", \"upset\", \"trash\", \"phone\", \"ask\", \"tell\", \"later\", \"manager\", \"bother\", \"poor\", \"stand\", \"wait\", \"someone\", \"call\", \"take\", \"another\", \"table\", \"arrive\", \"say\", \"seat\", \"receive\", \"horrible\", \"order\", \"finally\", \"waitress\", \"leave\", \"never\", \"customer\", \"get\", \"server\", \"come\", \"even\", \"time\", \"go\", \"drink\", \"bad\", \"would\", \"service\", \"food\", \"back\", \"give\", \"one\", \"want\", \"make\", \"mac\", \"pickle\", \"dressing\", \"patty\", \"deli\", \"smoothie\", \"coke\", \"pastrami\", \"runny\", \"char\", \"jam\", \"hidden\", \"cheddar\", \"coat\", \"pier\", \"burger\", \"lightly\", \"sometime\", \"whip\", \"caesar\", \"steve\", \"potatoe\", \"cherry\", \"tart\", \"macaroni\", \"bucket\", \"mist\", \"cheesesteak\", \"arm\", \"smoker\", \"sandwich\", \"smoke\", \"tot\", \"turkey\", \"salad\", \"onion\", \"melt\", \"bun\", \"dress\", \"lettuce\", \"chompie\", \"tomato\", \"cheese\", \"ring\", \"fry\", \"bread\", \"dip\", \"bacon\", \"grill\", \"share\", \"potato\", \"bite\", \"french\", \"side\", \"order\", \"steak\", \"meat\", \"husband\", \"also\", \"chicken\", \"get\", \"lunch\", \"good\", \"fresh\", \"sauce\", \"delicious\", \"soup\", \"like\"], \"Freq\": [1575.0, 4220.0, 3464.0, 4521.0, 5471.0, 1721.0, 1810.0, 6764.0, 786.0, 859.0, 1095.0, 5466.0, 1110.0, 664.0, 919.0, 993.0, 2007.0, 1596.0, 790.0, 567.0, 1210.0, 680.0, 1149.0, 455.0, 893.0, 1445.0, 663.0, 1298.0, 1583.0, 821.0, 326.88885498046875, 182.56292724609375, 173.06292724609375, 133.28372192382812, 123.80181121826172, 107.56147003173828, 95.57813262939453, 92.96354675292969, 73.98263549804688, 44.15288543701172, 37.53567123413086, 34.07184982299805, 31.65684700012207, 29.649110794067383, 24.74674415588379, 23.218061447143555, 22.6751651763916, 21.88483238220215, 21.153369903564453, 20.576274871826172, 19.38259506225586, 18.404678344726562, 16.657167434692383, 16.478757858276367, 15.550309181213379, 15.506053924560547, 15.393417358398438, 14.876410484313965, 14.874412536621094, 14.488598823547363, 34.678245544433594, 65.7903823852539, 27.466081619262695, 198.2178955078125, 80.38136291503906, 38.45280838012695, 94.3574447631836, 28.574527740478516, 111.99095153808594, 207.09104919433594, 125.45283508300781, 414.2081298828125, 360.4881896972656, 563.4736328125, 465.5497741699219, 413.9692687988281, 688.2498779296875, 599.4545288085938, 1230.779296875, 1097.2138671875, 276.75787353515625, 257.71636962890625, 153.46022033691406, 943.5684814453125, 248.1111602783203, 306.59423828125, 250.9497833251953, 212.239990234375, 468.0844421386719, 308.7156066894531, 252.54225158691406, 358.4928894042969, 290.0156555175781, 283.3253479003906, 292.52435302734375, 224.70091247558594, 248.30294799804688, 235.0701904296875, 224.09799194335938, 214.66612243652344, 566.6587524414062, 282.3250732421875, 185.84124755859375, 124.48104858398438, 124.01844024658203, 70.79747009277344, 65.8888168334961, 61.70459747314453, 54.40193557739258, 53.59988784790039, 44.05125045776367, 42.523319244384766, 39.600868225097656, 39.01270294189453, 38.89075469970703, 37.47819900512695, 36.20157241821289, 35.41004943847656, 30.613691329956055, 30.274150848388672, 31.680173873901367, 27.838184356689453, 25.912813186645508, 25.363218307495117, 24.898693084716797, 24.827468872070312, 24.45789909362793, 23.623958587646484, 23.083267211914062, 22.660810470581055, 304.4341735839844, 115.93344116210938, 93.03015899658203, 78.0122299194336, 239.6861572265625, 27.822284698486328, 90.74091339111328, 167.49163818359375, 58.207969665527344, 194.58267211914062, 78.70482635498047, 82.04598236083984, 38.668697357177734, 207.05686950683594, 71.2519302368164, 129.80287170410156, 179.18209838867188, 194.26467895507812, 243.35186767578125, 68.93120574951172, 179.01548767089844, 157.79940795898438, 171.19635009765625, 99.50025939941406, 130.47305297851562, 81.34302520751953, 98.58960723876953, 92.99066162109375, 80.79458618164062, 87.86822509765625, 83.25433349609375, 60.82783508300781, 34.96906280517578, 31.78154945373535, 31.022157669067383, 29.34183692932129, 28.842308044433594, 28.606840133666992, 26.14450454711914, 19.927928924560547, 18.289112091064453, 18.015857696533203, 17.463825225830078, 16.575725555419922, 14.695740699768066, 14.01461410522461, 12.765154838562012, 12.530560493469238, 12.4839448928833, 12.011950492858887, 11.842616081237793, 11.123339653015137, 10.982315063476562, 10.899036407470703, 10.780721664428711, 10.723814964294434, 10.442267417907715, 10.433795928955078, 10.407896995544434, 10.23904037475586, 9.967245101928711, 78.45350646972656, 367.4898376464844, 42.083744049072266, 61.075531005859375, 44.04401397705078, 112.08740234375, 207.86842346191406, 75.05553436279297, 15.442705154418945, 34.83191680908203, 69.90725708007812, 26.98326301574707, 46.652915954589844, 29.35094451904297, 18.706344604492188, 38.43609619140625, 190.60853576660156, 24.217756271362305, 23.071428298950195, 68.11042785644531, 118.4714126586914, 81.65950012207031, 51.155391693115234, 40.334529876708984, 163.84458923339844, 59.91264343261719, 69.59886169433594, 99.58952331542969, 60.726348876953125, 39.04887771606445, 32.03984069824219, 36.2962646484375, 33.946475982666016, 33.70923614501953, 34.12439727783203, 1574.4427490234375, 169.5048065185547, 778.7151489257812, 61.418148040771484, 49.6461296081543, 54.08570098876953, 47.16267776489258, 41.7719841003418, 38.90768051147461, 37.243656158447266, 36.893550872802734, 33.45476531982422, 30.90038299560547, 26.830570220947266, 24.986234664916992, 21.155057907104492, 20.83007049560547, 20.720029830932617, 19.1414852142334, 19.105989456176758, 18.735227584838867, 17.367477416992188, 16.00737190246582, 15.387724876403809, 14.915594100952148, 194.8980255126953, 97.82482147216797, 14.298505783081055, 14.248523712158203, 13.204241752624512, 39.238075256347656, 87.2664794921875, 34.57044982910156, 43.13996124267578, 135.54119873046875, 96.09648895263672, 83.96780395507812, 70.2922592163086, 87.13115692138672, 61.096248626708984, 302.8423156738281, 86.78112030029297, 83.33372497558594, 91.65544128417969, 123.83714294433594, 416.58990478515625, 58.392921447753906, 151.5422821044922, 214.08287048339844, 68.36196899414062, 222.3607940673828, 169.88047790527344, 164.36488342285156, 92.23121643066406, 119.20356750488281, 82.42391967773438, 121.49205017089844, 94.25238800048828, 88.26537322998047, 112.47086334228516, 93.67610168457031, 75.83782958984375, 135.69317626953125, 121.77445983886719, 61.088783264160156, 48.500938415527344, 42.6072883605957, 39.605037689208984, 36.13942337036133, 35.85142517089844, 33.3936653137207, 32.28265380859375, 31.88872718811035, 27.622098922729492, 26.06502914428711, 26.02921485900879, 25.061939239501953, 20.690670013427734, 19.786828994750977, 19.660829544067383, 18.9775447845459, 18.845996856689453, 18.738872528076172, 17.83420181274414, 17.654409408569336, 17.286319732666016, 17.14191436767578, 15.873173713684082, 15.559017181396484, 15.53039836883545, 15.395116806030273, 15.149053573608398, 117.6825180053711, 373.0282897949219, 44.874305725097656, 81.99423217773438, 153.4954833984375, 261.3589782714844, 44.428504943847656, 98.71104431152344, 45.606544494628906, 166.5631561279297, 79.84397888183594, 76.1005630493164, 101.6534652709961, 36.64982223510742, 73.06776428222656, 43.57952117919922, 70.71986389160156, 279.3768615722656, 51.67485427856445, 163.7402801513672, 316.55560302734375, 102.1408920288086, 108.51427459716797, 85.279052734375, 195.19522094726562, 66.89668273925781, 58.05134582519531, 109.68079376220703, 108.54551696777344, 89.0689468383789, 103.34007263183594, 120.69269561767578, 77.25897979736328, 99.51667785644531, 85.73416900634766, 82.65087890625, 89.84844207763672, 99.32039642333984, 90.16740417480469, 96.31868743896484, 89.13908386230469, 86.22946166992188, 86.33904266357422, 524.1207885742188, 179.72531127929688, 158.66209411621094, 150.4993896484375, 120.01219940185547, 105.76393127441406, 105.65827941894531, 90.56999206542969, 69.70187377929688, 54.28416442871094, 51.65763473510742, 45.426998138427734, 41.670711517333984, 67.30693054199219, 33.8965950012207, 33.134498596191406, 250.09585571289062, 31.454729080200195, 30.92241096496582, 27.594552993774414, 27.492401123046875, 25.98619842529297, 25.877456665039062, 127.09583282470703, 22.59922981262207, 21.059890747070312, 20.397979736328125, 19.85492706298828, 19.78388214111328, 19.58667755126953, 59.682308197021484, 146.7503204345703, 473.74273681640625, 110.01342010498047, 28.621450424194336, 291.5252380371094, 1078.91357421875, 228.0862274169922, 308.2839660644531, 153.5026397705078, 565.6455078125, 225.97369384765625, 240.44540405273438, 234.16575622558594, 195.8188018798828, 396.04339599609375, 322.0710754394531, 203.61363220214844, 133.65557861328125, 333.9049072265625, 667.2514038085938, 199.93028259277344, 386.4496765136719, 420.4757385253906, 520.5894775390625, 251.45802307128906, 335.181640625, 202.11976623535156, 228.9395751953125, 229.35020446777344, 205.9025421142578, 200.5264434814453, 214.94961547851562, 191.8841094970703, 58.42375946044922, 52.09294128417969, 40.601295471191406, 37.314208984375, 35.344608306884766, 33.90958023071289, 32.4510383605957, 31.331676483154297, 30.738178253173828, 30.14595603942871, 26.153343200683594, 26.11937713623047, 24.93964195251465, 24.64934730529785, 24.023195266723633, 23.852121353149414, 23.35005760192871, 23.153182983398438, 22.789043426513672, 22.713144302368164, 22.21234703063965, 21.953012466430664, 21.80948257446289, 21.484060287475586, 21.483566284179688, 26.871490478515625, 21.315719604492188, 20.018503189086914, 19.656356811523438, 19.750938415527344, 44.95475387573242, 119.96393585205078, 70.99469757080078, 54.66839599609375, 43.67990493774414, 327.56585693359375, 88.7339096069336, 93.86412048339844, 286.6056213378906, 38.71957015991211, 108.74635314941406, 90.48039245605469, 89.72478485107422, 47.8865966796875, 85.5517578125, 142.48854064941406, 346.0924377441406, 300.7734680175781, 351.79364013671875, 233.54861450195312, 651.3058471679688, 333.1110534667969, 921.3359375, 572.425537109375, 340.5187683105469, 238.09091186523438, 140.41529846191406, 166.6460418701172, 731.8864135742188, 818.3338012695312, 219.7756805419922, 257.1641845703125, 597.9776000976562, 385.405517578125, 179.34823608398438, 293.71392822265625, 313.90179443359375, 368.76702880859375, 279.44219970703125, 258.8572082519531, 401.0566711425781, 271.26348876953125, 168.4801483154297, 212.01429748535156, 271.27203369140625, 227.9849853515625, 188.2922821044922, 192.25643920898438, 238.83926391601562, 60.385101318359375, 51.012508392333984, 37.67208480834961, 35.952049255371094, 34.914005279541016, 34.309120178222656, 32.73719024658203, 28.60365104675293, 27.44757843017578, 25.352108001708984, 87.99390411376953, 23.17949867248535, 22.07622718811035, 21.246566772460938, 19.216182708740234, 18.094253540039062, 18.09023094177246, 15.824951171875, 15.270485877990723, 14.884660720825195, 14.704877853393555, 14.224538803100586, 17.538616180419922, 13.266717910766602, 13.141538619995117, 12.6989164352417, 12.66658878326416, 12.458450317382812, 11.942254066467285, 55.77505874633789, 145.61659240722656, 24.64674949645996, 37.11617660522461, 81.89576721191406, 48.738685607910156, 48.72185134887695, 118.88482666015625, 92.94448852539062, 55.58320236206055, 55.198421478271484, 86.51445770263672, 148.1458282470703, 35.44285583496094, 87.50283813476562, 38.30225372314453, 92.54060363769531, 63.497928619384766, 45.26344299316406, 42.68521499633789, 62.294029235839844, 54.639434814453125, 57.4666633605957, 63.699806213378906, 49.66080856323242, 46.4207878112793, 44.77267074584961, 41.77081298828125, 37.84823989868164, 75.00383758544922, 39.445472717285156, 37.03878402709961, 28.52751350402832, 28.394330978393555, 23.36076545715332, 22.776216506958008, 22.0083065032959, 21.977550506591797, 21.753143310546875, 21.71677589416504, 19.340686798095703, 18.910518646240234, 18.473695755004883, 17.59282684326172, 16.654956817626953, 13.37263298034668, 13.363811492919922, 13.108346939086914, 13.039259910583496, 12.989692687988281, 12.74866771697998, 12.744221687316895, 11.243979454040527, 11.077224731445312, 10.9804048538208, 10.770136833190918, 10.471904754638672, 9.99109172821045, 9.947580337524414, 15.198756217956543, 29.858728408813477, 29.987808227539062, 26.92317008972168, 20.949918746948242, 17.046401977539062, 97.5887222290039, 34.476165771484375, 209.29005432128906, 35.77766036987305, 23.59153175354004, 34.68463897705078, 118.92626190185547, 30.336803436279297, 294.53338623046875, 267.97210693359375, 554.517578125, 85.78370666503906, 194.05078125, 67.71672058105469, 391.0552673339844, 51.83985900878906, 266.78680419921875, 123.34188079833984, 189.3486328125, 62.52261734008789, 127.61138916015625, 115.65660858154297, 248.8319854736328, 103.427978515625, 271.16107177734375, 252.18746948242188, 126.4711685180664, 149.3792724609375, 80.0147705078125, 296.13983154296875, 132.04833984375, 105.58030700683594, 108.06329345703125, 92.0876235961914, 74.43962097167969, 91.22308349609375, 94.33084869384766, 83.13231658935547, 77.30024719238281, 663.1131591796875, 134.8115692138672, 63.678611755371094, 63.28243637084961, 49.619285583496094, 43.995819091796875, 41.09241485595703, 40.4745979309082, 39.52945327758789, 36.71648406982422, 36.247276306152344, 35.40729904174805, 29.476890563964844, 21.158203125, 20.747962951660156, 20.4641056060791, 19.662803649902344, 19.077428817749023, 18.474205017089844, 18.005741119384766, 16.819026947021484, 16.516902923583984, 15.56077766418457, 15.325318336486816, 14.543715476989746, 14.270731925964355, 13.900590896606445, 13.69930362701416, 13.386302947998047, 12.67961597442627, 71.96636962890625, 44.02521514892578, 22.1088924407959, 38.587921142578125, 76.39328002929688, 28.569503784179688, 40.6800422668457, 428.5223388671875, 496.6731872558594, 389.097900390625, 51.90750503540039, 389.631591796875, 40.665157318115234, 99.80787658691406, 65.63746643066406, 53.03135681152344, 70.33185577392578, 117.8019790649414, 88.9692153930664, 262.1513366699219, 67.18354797363281, 189.65345764160156, 445.1883544921875, 94.83700561523438, 461.3743591308594, 202.41339111328125, 150.46548461914062, 320.53143310546875, 145.7193145751953, 173.01271057128906, 132.4774627685547, 198.16282653808594, 139.5022735595703, 190.7290802001953, 162.66371154785156, 139.33074951171875, 112.0777359008789, 121.0049819946289, 95.15433502197266, 114.67078399658203, 140.37515258789062, 147.82919311523438, 123.93708801269531, 109.33165740966797, 103.34081268310547, 61.5665397644043, 31.809648513793945, 28.389894485473633, 28.110645294189453, 27.851091384887695, 27.639179229736328, 27.461881637573242, 26.006372451782227, 24.87965202331543, 24.690690994262695, 21.64975929260254, 21.595094680786133, 20.900981903076172, 20.793296813964844, 20.517683029174805, 20.264354705810547, 19.64618492126465, 19.545541763305664, 19.52647590637207, 345.06610107421875, 18.643131256103516, 18.08289337158203, 17.544574737548828, 17.24832534790039, 16.05393409729004, 15.56352424621582, 15.532291412353516, 15.555519104003906, 15.323803901672363, 15.015936851501465, 79.59090423583984, 31.739473342895508, 37.05998611450195, 100.89944458007812, 48.17412567138672, 43.559818267822266, 105.14572143554688, 64.07005310058594, 125.21786499023438, 42.881038665771484, 80.63389587402344, 66.62186431884766, 46.86135482788086, 26.537418365478516, 103.15560150146484, 36.306007385253906, 36.87078094482422, 258.1208801269531, 402.7384033203125, 145.90805053710938, 93.3560791015625, 131.0747528076172, 60.90736389160156, 113.92636108398438, 53.520721435546875, 80.09798431396484, 210.02560424804688, 43.33039855957031, 265.6011962890625, 174.30523681640625, 215.39859008789062, 59.920753479003906, 424.2969970703125, 203.88731384277344, 88.44470977783203, 109.63615417480469, 234.5134735107422, 98.21605682373047, 117.93915557861328, 86.63565826416016, 220.48406982421875, 177.44805908203125, 138.39939880371094, 176.15382385253906, 220.4680633544922, 126.7341537475586, 158.79722595214844, 120.423828125, 106.71427917480469, 115.46253967285156, 103.44037628173828, 96.38481903076172, 26.81364631652832, 23.583986282348633, 22.175525665283203, 18.988569259643555, 18.266101837158203, 18.089014053344727, 17.629308700561523, 16.54689598083496, 15.580056190490723, 14.955615997314453, 13.511938095092773, 13.469279289245605, 13.456929206848145, 12.819003105163574, 12.449137687683105, 12.203081130981445, 11.973785400390625, 11.928410530090332, 11.796401023864746, 11.677852630615234, 11.162557601928711, 11.004249572753906, 10.60037899017334, 10.536406517028809, 19.849260330200195, 10.042420387268066, 9.904988288879395, 9.833259582519531, 9.676222801208496, 63.939605712890625, 14.418160438537598, 1245.64208984375, 32.185935974121094, 1000.916015625, 2600.796875, 105.48036193847656, 338.5262756347656, 211.9146270751953, 753.32861328125, 50.60947036743164, 50.44639587402344, 385.13970947265625, 1445.9700927734375, 377.9423522949219, 2336.875732421875, 815.7516479492188, 263.21124267578125, 189.88987731933594, 233.66021728515625, 1626.4031982421875, 333.01556396484375, 296.2511291503906, 258.94866943359375, 1388.933349609375, 81.99507904052734, 451.06524658203125, 448.4181213378906, 968.51416015625, 275.9787292480469, 125.16487121582031, 298.9797058105469, 397.1077880859375, 236.23782348632812, 216.0545196533203, 799.5882568359375, 486.58038330078125, 433.8917541503906, 779.021240234375, 586.2052001953125, 350.18536376953125, 360.01409912109375, 355.1838684082031, 292.3106689453125, 282.1368103027344, 55.8875617980957, 48.34619140625, 44.51912307739258, 41.362144470214844, 36.927608489990234, 36.6227912902832, 36.489898681640625, 32.55205154418945, 28.29151725769043, 27.950956344604492, 27.842931747436523, 27.668336868286133, 24.690105438232422, 22.60443115234375, 22.531259536743164, 22.462871551513672, 21.860937118530273, 21.00129508972168, 20.87834358215332, 19.78367042541504, 19.388139724731445, 19.092330932617188, 18.923017501831055, 18.877653121948242, 18.29657554626465, 18.134716033935547, 16.914310455322266, 16.672826766967773, 16.410158157348633, 16.14370346069336, 176.10150146484375, 457.4518737792969, 27.48170280456543, 400.7374572753906, 426.037841796875, 116.0950927734375, 35.37937927246094, 37.37316131591797, 147.6393585205078, 48.61911392211914, 157.0252227783203, 43.18302917480469, 63.12278366088867, 87.83815002441406, 111.46399688720703, 233.9907989501953, 87.37962341308594, 149.19044494628906, 155.28114318847656, 92.8971176147461, 434.35736083984375, 271.6919250488281, 177.8668975830078, 118.29119873046875, 166.73260498046875, 110.87501525878906, 95.11447143554688, 149.03741455078125, 84.30232238769531, 67.07132720947266, 206.12210083007812, 119.38905334472656, 144.04483032226562, 162.2322235107422, 101.16204833984375, 115.3970718383789, 123.06753540039062, 108.8826675415039, 114.48165893554688, 107.45684814453125, 115.71721649169922, 106.00995635986328, 1209.7943115234375, 262.91845703125, 181.0213623046875, 106.2926025390625, 103.55741882324219, 78.16498565673828, 127.14702606201172, 59.575931549072266, 59.18392562866211, 56.30832290649414, 55.73539352416992, 52.12171173095703, 50.188297271728516, 49.54187774658203, 48.5273323059082, 59.1179313659668, 41.31474304199219, 33.87311935424805, 33.811153411865234, 30.421276092529297, 29.604965209960938, 26.289775848388672, 26.092121124267578, 26.066171646118164, 25.14059829711914, 24.126760482788086, 23.852018356323242, 50.37998962402344, 22.45357894897461, 22.014114379882812, 306.25048828125, 61.24150848388672, 44.38946533203125, 104.02718353271484, 218.34613037109375, 59.867488861083984, 54.005775451660156, 167.52801513671875, 1266.8255615234375, 942.4666748046875, 254.77633666992188, 694.2276000976562, 70.6046371459961, 151.70480346679688, 177.6143035888672, 1216.1787109375, 212.728271484375, 428.3390197753906, 1405.56396484375, 513.14599609375, 821.42138671875, 229.1271514892578, 1277.4691162109375, 366.83441162109375, 241.73025512695312, 259.1259460449219, 2383.770751953125, 302.8584899902344, 489.2640380859375, 446.6155700683594, 739.0762939453125, 639.4019775390625, 1805.0855712890625, 628.185791015625, 1420.90185546875, 716.8594970703125, 1331.4580078125, 1573.7784423828125, 684.2161865234375, 536.9290161132812, 918.5765380859375, 1104.4276123046875, 1546.6849365234375, 934.3938598632812, 613.1117553710938, 734.7054443359375, 566.4887084960938, 554.227783203125, 156.92706298828125, 82.24874114990234, 59.42708206176758, 52.0328254699707, 51.8439826965332, 44.811832427978516, 38.52056121826172, 35.64662170410156, 27.94308090209961, 25.052257537841797, 24.303194046020508, 23.717273712158203, 26.573322296142578, 21.416940689086914, 17.963916778564453, 817.8189086914062, 17.902938842773438, 17.51568031311035, 31.547142028808594, 28.304372787475586, 17.21859359741211, 16.9617862701416, 16.86174964904785, 16.658727645874023, 16.64216423034668, 16.327537536621094, 15.819729804992676, 15.708168983459473, 15.70022964477539, 15.082123756408691, 612.83642578125, 54.722999572753906, 59.567806243896484, 69.16590118408203, 628.077880859375, 221.53475952148438, 62.35072708129883, 101.44445037841797, 63.602439880371094, 118.05220031738281, 75.40338897705078, 95.85686492919922, 612.5499267578125, 74.96790313720703, 497.56988525390625, 234.33258056640625, 83.33927154541016, 117.92868041992188, 132.66293334960938, 108.43998718261719, 146.19833374023438, 109.36463928222656, 81.63572692871094, 183.56590270996094, 386.01416015625, 101.68728637695312, 119.94861602783203, 117.71308135986328, 160.13961791992188, 165.19366455078125, 191.25267028808594, 113.9842529296875, 169.994873046875, 115.29606628417969, 114.22264099121094, 120.10465240478516, 91.79903411865234, 104.03509521484375], \"Total\": [1575.0, 4220.0, 3464.0, 4521.0, 5471.0, 1721.0, 1810.0, 6764.0, 786.0, 859.0, 1095.0, 5466.0, 1110.0, 664.0, 919.0, 993.0, 2007.0, 1596.0, 790.0, 567.0, 1210.0, 680.0, 1149.0, 455.0, 893.0, 1445.0, 663.0, 1298.0, 1583.0, 821.0, 327.8147277832031, 183.4888916015625, 173.9888916015625, 134.2095947265625, 124.72767639160156, 108.48735809326172, 96.50399017333984, 93.88938903808594, 74.90849304199219, 45.07875442504883, 38.46154022216797, 35.011714935302734, 32.58271408081055, 30.575328826904297, 25.672609329223633, 24.143932342529297, 23.60102653503418, 22.810697555541992, 22.07923126220703, 21.502140045166016, 20.308460235595703, 19.33054542541504, 17.583030700683594, 17.404624938964844, 16.47686195373535, 16.43191909790039, 16.3203125, 15.802274703979492, 15.800275802612305, 15.414461135864258, 37.25257873535156, 74.65463256835938, 30.229312896728516, 258.7676086425781, 103.25511932373047, 45.90856170654297, 127.76707458496094, 32.9405403137207, 169.24688720703125, 366.81866455078125, 210.19081115722656, 965.8167724609375, 851.1064453125, 1583.145751953125, 1298.3958740234375, 1126.1746826171875, 2315.607177734375, 2007.1798095703125, 5466.71435546875, 5471.77734375, 854.9638061523438, 775.6565551757812, 361.99761962890625, 6764.58447265625, 836.7282104492188, 1223.937255859375, 859.5515747070312, 703.2607421875, 4220.853515625, 1749.257568359375, 1681.4517822265625, 4736.04833984375, 3680.439208984375, 3614.827392578125, 4477.51708984375, 1689.0008544921875, 2965.4892578125, 2350.198486328125, 2349.521240234375, 1810.529296875, 567.5857543945312, 283.25213623046875, 186.76840209960938, 125.40809631347656, 124.94548797607422, 71.72451782226562, 66.81586456298828, 62.631656646728516, 55.32899856567383, 54.52722930908203, 44.97956848144531, 43.450382232666016, 40.52792739868164, 39.939762115478516, 39.817813873291016, 38.40525817871094, 37.128631591796875, 36.33711624145508, 31.54074478149414, 31.201208114624023, 32.67326354980469, 28.765243530273438, 26.839868545532227, 26.290271759033203, 25.825746536254883, 25.75452423095703, 25.384952545166016, 24.55101776123047, 24.01032066345215, 23.587865829467773, 337.87908935546875, 130.0593719482422, 108.16082000732422, 90.49681091308594, 321.2934265136719, 29.323211669921875, 118.21380615234375, 252.03390502929688, 73.3973159790039, 382.9375305175781, 115.13517761230469, 130.58853149414062, 46.61619567871094, 993.1746215820312, 147.33164978027344, 576.4478149414062, 1810.529296875, 2777.8583984375, 5471.77734375, 195.9318084716797, 4477.51708984375, 4521.384765625, 6764.58447265625, 1110.9276123046875, 4736.04833984375, 452.2940368652344, 1689.0008544921875, 1149.394287109375, 555.5009155273438, 1651.4771728515625, 2350.198486328125, 61.75203323364258, 35.9714241027832, 32.705528259277344, 31.946136474609375, 30.26581573486328, 29.76628875732422, 29.530818939208984, 27.068483352661133, 20.85190773010254, 19.213090896606445, 18.939834594726562, 18.387802124023438, 17.499704360961914, 15.619720458984375, 14.938593864440918, 13.68913745880127, 13.454540252685547, 13.40792465209961, 12.935930252075195, 12.766613960266113, 12.047321319580078, 11.906294822692871, 11.823015213012695, 11.704702377319336, 11.647795677185059, 11.366247177124023, 11.357775688171387, 11.331876754760742, 11.163019180297852, 10.89122486114502, 86.44287872314453, 455.1247253417969, 49.18703842163086, 75.80464172363281, 56.6683349609375, 164.47372436523438, 349.8235778808594, 121.58606719970703, 18.002775192260742, 54.577491760253906, 143.82948303222656, 39.97151565551758, 96.81806945800781, 48.94215774536133, 24.698322296142578, 78.9870834350586, 1095.3199462890625, 37.94512939453125, 35.036964416503906, 262.780029296875, 783.090087890625, 382.9375305175781, 192.58160400390625, 121.93922424316406, 5471.77734375, 391.46075439453125, 615.3269653320312, 1810.529296875, 1681.4517822265625, 249.9097442626953, 80.09559631347656, 747.5277099609375, 832.8458862304688, 639.342529296875, 1651.4771728515625, 1575.362548828125, 170.42454528808594, 786.0411376953125, 62.3378791809082, 50.56586837768555, 55.10209655761719, 48.0824089050293, 42.69172286987305, 39.82741165161133, 38.16339111328125, 37.813289642333984, 34.3745002746582, 31.820140838623047, 27.75030517578125, 25.905969619750977, 22.07480239868164, 21.749801635742188, 21.63976287841797, 20.061214447021484, 20.025726318359375, 19.654958724975586, 18.287206649780273, 16.927101135253906, 16.307456970214844, 15.8353271484375, 206.93455505371094, 103.87533569335938, 15.218239784240723, 15.168259620666504, 14.123977661132812, 43.2176628112793, 106.29228210449219, 40.00048065185547, 52.638572692871094, 199.78736877441406, 144.0127716064453, 132.75599670410156, 111.62344360351562, 153.30328369140625, 103.40129089355469, 1149.394287109375, 187.1941680908203, 181.59860229492188, 233.83714294433594, 435.470703125, 4521.384765625, 113.77336120605469, 993.1746215820312, 2777.8583984375, 175.1778564453125, 4477.51708984375, 5471.77734375, 5466.71435546875, 765.9600219726562, 2350.198486328125, 525.2896728515625, 3680.439208984375, 1110.9276123046875, 851.1064453125, 4736.04833984375, 1480.14013671875, 839.8067626953125, 136.6156768798828, 122.69560241699219, 62.009971618652344, 49.422080993652344, 43.5284309387207, 40.526180267333984, 37.06056594848633, 36.77256774902344, 34.31846237182617, 33.20379638671875, 32.80989074707031, 28.543241500854492, 26.986173629760742, 26.950359344482422, 25.98307991027832, 21.611814498901367, 20.707971572875977, 20.58197021484375, 19.898691177368164, 19.767139434814453, 19.660015106201172, 18.755342483520508, 18.575551986694336, 18.207460403442383, 18.06305694580078, 16.7943172454834, 16.48019027709961, 16.451541900634766, 16.316267013549805, 16.07019805908203, 128.3225860595703, 492.76873779296875, 51.39965057373047, 103.411865234375, 209.63409423828125, 391.1265563964844, 52.91417694091797, 146.51602172851562, 58.74236297607422, 358.3167724609375, 136.84136962890625, 138.44808959960938, 220.43759155273438, 50.403076171875, 143.82948303222656, 67.12290954589844, 153.21470642089844, 2777.8583984375, 103.87594604492188, 1216.4749755859375, 5471.77734375, 536.1128540039062, 639.342529296875, 407.55218505859375, 4477.51708984375, 214.43136596679688, 148.8423309326172, 1110.9276123046875, 1107.1627197265625, 711.69140625, 1681.4517822265625, 3614.827392578125, 520.1373901367188, 1651.4771728515625, 849.41748046875, 717.3829345703125, 1213.1634521484375, 2965.4892578125, 1689.0008544921875, 5466.71435546875, 2469.775146484375, 4736.04833984375, 6764.58447265625, 525.0492553710938, 180.64996337890625, 159.5867462158203, 151.45103454589844, 120.93682098388672, 106.68855285644531, 106.58322143554688, 91.49462890625, 70.62649536132812, 55.20879364013672, 52.5822639465332, 46.351627349853516, 42.595340728759766, 69.0799560546875, 34.82122802734375, 34.05913162231445, 257.4447021484375, 32.379364013671875, 31.847043991088867, 28.51918601989746, 28.417034149169922, 26.91082763671875, 26.802087783813477, 132.08041381835938, 23.52386474609375, 21.98452377319336, 21.322612762451172, 20.77956199645996, 20.708511352539062, 20.511308670043945, 63.07674789428711, 161.5826873779297, 555.5009155273438, 123.1249771118164, 30.84246253967285, 407.5787353515625, 1810.529296875, 340.527099609375, 516.2874755859375, 224.97035217285156, 1149.394287109375, 391.46075439453125, 452.2940368652344, 448.28436279296875, 353.72540283203125, 919.5681762695312, 765.9600219726562, 402.9444885253906, 218.686279296875, 1110.9276123046875, 4521.384765625, 576.4478149414062, 2315.607177734375, 2777.8583984375, 5471.77734375, 1480.14013671875, 4477.51708984375, 1095.3199462890625, 2469.775146484375, 3614.827392578125, 1681.4517822265625, 1749.257568359375, 4736.04833984375, 1689.0008544921875, 59.3495979309082, 53.01878356933594, 41.527137756347656, 38.240047454833984, 36.270450592041016, 34.83542251586914, 33.37687683105469, 32.25751495361328, 31.664016723632812, 31.071792602539062, 27.07941246032715, 27.045215606689453, 25.865482330322266, 25.575185775756836, 24.949033737182617, 24.7779598236084, 24.275896072387695, 24.079021453857422, 23.714881896972656, 23.63898277282715, 23.138185501098633, 22.878929138183594, 22.735321044921875, 22.409902572631836, 22.409404754638672, 28.03380584716797, 22.24155616760254, 20.9443416595459, 20.582195281982422, 20.68478775024414, 47.672454833984375, 147.92318725585938, 90.06038665771484, 67.28468322753906, 52.325225830078125, 637.28662109375, 127.99759674072266, 137.87925720214844, 575.03125, 46.345211029052734, 173.6077880859375, 138.79843139648438, 140.3194580078125, 62.2705192565918, 135.4849395751953, 270.6341247558594, 926.309814453125, 784.3438720703125, 1067.2039794921875, 600.1171264648438, 2777.8583984375, 1052.7476806640625, 4736.04833984375, 2469.775146484375, 1213.1634521484375, 729.357177734375, 342.986083984375, 458.997802734375, 5466.71435546875, 6764.58447265625, 766.375732421875, 1013.496337890625, 4477.51708984375, 2315.607177734375, 549.4324340820312, 1430.7431640625, 1689.0008544921875, 2350.198486328125, 1351.621826171875, 1277.15087890625, 3680.439208984375, 1749.257568359375, 589.8201293945312, 1451.31640625, 5471.77734375, 2965.4892578125, 1110.9276123046875, 2011.758056640625, 239.76553344726562, 61.311248779296875, 51.93866729736328, 38.59823226928711, 36.878196716308594, 35.840171813964844, 35.235267639160156, 33.66333770751953, 29.529804229736328, 28.373729705810547, 26.278663635253906, 91.39361572265625, 24.105649948120117, 23.002376556396484, 22.172719955444336, 20.142332077026367, 19.020404815673828, 19.016382217407227, 16.751100540161133, 16.196636199951172, 15.810810089111328, 15.631505966186523, 15.150688171386719, 18.699478149414062, 14.192867279052734, 14.06768798828125, 13.625065803527832, 13.592740058898926, 13.384599685668945, 12.875829696655273, 62.53329086303711, 204.92788696289062, 31.628793716430664, 56.592872619628906, 164.31173706054688, 86.22285461425781, 87.61265563964844, 492.76873779296875, 389.0495910644531, 174.36546325683594, 179.13555908203125, 528.448486328125, 1721.1004638671875, 95.69328308105469, 1126.1746826171875, 126.34625244140625, 2007.1798095703125, 660.4182739257812, 252.03390502929688, 214.23602294921875, 1298.3958740234375, 709.1463012695312, 1583.145751953125, 4477.51708984375, 851.1064453125, 539.5640869140625, 4521.384765625, 4736.04833984375, 5466.71435546875, 75.93107604980469, 40.37284851074219, 37.966033935546875, 29.454763412475586, 29.48392677307129, 24.28801918029785, 23.703466415405273, 22.935556411743164, 22.904800415039062, 22.680391311645508, 22.654088973999023, 20.26793670654297, 19.8377685546875, 19.40094566345215, 18.520076751708984, 17.58220672607422, 14.299880981445312, 14.291059494018555, 14.035594940185547, 13.966509819030762, 13.916942596435547, 13.675917625427246, 13.671469688415527, 12.171228408813477, 12.004472732543945, 11.90765380859375, 11.69738483428955, 11.399165153503418, 10.918341636657715, 10.874829292297363, 17.031352996826172, 35.57354736328125, 36.400814056396484, 32.82245635986328, 24.90532684326172, 19.804473876953125, 156.48207092285156, 45.60661697387695, 435.4226379394531, 49.20241928100586, 29.761335372924805, 51.168514251708984, 277.4203796386719, 43.770286560058594, 1110.7420654296875, 971.4949951171875, 3464.4560546875, 212.577880859375, 906.7261352539062, 170.55349731445312, 4220.853515625, 118.67910766601562, 2349.521240234375, 590.7448120117188, 1325.58056640625, 174.5540313720703, 726.4144897460938, 619.255615234375, 2965.4892578125, 497.3241882324219, 3614.827392578125, 3680.439208984375, 821.5614624023438, 1223.937255859375, 311.0388488769531, 6764.58447265625, 1298.3958740234375, 747.5277099609375, 798.459716796875, 729.357177734375, 398.17681884765625, 1110.7281494140625, 1430.7431640625, 965.8167724609375, 836.7282104492188, 664.0391235351562, 135.82504272460938, 64.60459899902344, 64.20842742919922, 50.54533004760742, 44.921817779541016, 42.01841735839844, 41.400596618652344, 40.455909729003906, 37.64248275756836, 37.17327880859375, 36.33330154418945, 30.402896881103516, 22.084203720092773, 21.67396354675293, 21.390104293823242, 20.588802337646484, 20.003429412841797, 19.400205612182617, 18.931739807128906, 17.745027542114258, 17.442901611328125, 16.486778259277344, 16.25131607055664, 15.469712257385254, 15.196731567382812, 14.82658863067627, 14.62530517578125, 14.312299728393555, 13.605615615844727, 81.08737182617188, 49.02773666381836, 24.13311195373535, 43.592872619628906, 90.43521118164062, 31.914226531982422, 47.73548889160156, 663.656982421875, 919.5681762695312, 733.7568359375, 68.85112762451172, 893.197509765625, 53.23856735229492, 171.9023895263672, 99.30492401123047, 79.03714752197266, 117.30506134033203, 260.1001892089844, 192.58160400390625, 1080.7318115234375, 126.34625244140625, 863.0910034179688, 4220.853515625, 240.21119689941406, 5471.77734375, 1216.4749755859375, 871.1417846679688, 5466.71435546875, 1223.937255859375, 2007.1798095703125, 965.8167724609375, 2965.4892578125, 1126.1746826171875, 3464.4560546875, 2315.607177734375, 1583.145751953125, 775.6565551757812, 1651.4771728515625, 525.2896728515625, 1480.14013671875, 4736.04833984375, 6764.58447265625, 3614.827392578125, 1298.3958740234375, 1681.4517822265625, 62.49403762817383, 32.736759185791016, 29.317005157470703, 29.037755966186523, 28.778202056884766, 28.5662899017334, 28.388994216918945, 26.93410301208496, 25.8067626953125, 25.617801666259766, 22.577486038208008, 22.522205352783203, 21.828092575073242, 21.727136611938477, 21.44481086730957, 21.19146728515625, 20.57375144958496, 20.47265625, 20.45358657836914, 361.5387268066406, 19.57024383544922, 19.0100040435791, 18.4716854095459, 18.17543601989746, 16.98104476928711, 16.49063491821289, 16.459400177001953, 16.485769271850586, 16.25091552734375, 15.943045616149902, 84.89582061767578, 33.95134353637695, 39.88741683959961, 114.03913879394531, 52.88298416137695, 47.850486755371094, 120.15994262695312, 72.0347671508789, 152.17774963378906, 48.4145393371582, 97.23159790039062, 79.42544555664062, 54.09365463256836, 29.008968353271484, 144.45779418945312, 42.024253845214844, 43.17505645751953, 491.4278869628906, 863.0910034179688, 254.2989959716797, 144.99510192871094, 246.84718322753906, 88.09647369384766, 240.21119689941406, 77.43858337402344, 142.98974609375, 635.7843627929688, 57.189552307128906, 1177.64892578125, 617.256103515625, 914.1686401367188, 101.50598907470703, 5466.71435546875, 1412.88232421875, 258.9290771484375, 446.9702453613281, 4477.51708984375, 402.9444885253906, 711.9716796875, 292.10113525390625, 4736.04833984375, 2469.775146484375, 1216.4749755859375, 2777.8583984375, 6764.58447265625, 926.309814453125, 2350.198486328125, 1107.1627197265625, 839.8067626953125, 1681.4517822265625, 674.2744750976562, 97.31104278564453, 27.739879608154297, 24.510217666625977, 23.101757049560547, 19.914806365966797, 19.19233512878418, 19.015247344970703, 18.555538177490234, 17.473129272460938, 16.506288528442383, 15.881844520568848, 14.43817138671875, 14.395514488220215, 14.383156776428223, 13.74523639678955, 13.375364303588867, 13.12930965423584, 12.900108337402344, 12.85463809967041, 12.72263240814209, 12.604084968566895, 12.088788032531738, 11.930481910705566, 11.526612281799316, 11.462636947631836, 21.6169376373291, 10.96865463256836, 10.831220626831055, 10.75949764251709, 10.602456092834473, 71.18990325927734, 15.932007789611816, 1596.4210205078125, 37.15167999267578, 1445.7696533203125, 4220.853515625, 135.53173828125, 483.6200256347656, 305.80108642578125, 1261.2734375, 64.2743911743164, 64.60186767578125, 726.4144897460938, 3464.4560546875, 747.3899536132812, 6764.58447265625, 2007.1798095703125, 524.2117309570312, 354.1167297363281, 462.88714599609375, 5471.77734375, 775.6565551757812, 685.9718017578125, 593.7149658203125, 5466.71435546875, 135.61634826660156, 1298.3958740234375, 1297.610107421875, 3680.439208984375, 703.2607421875, 239.37538146972656, 815.0736083984375, 1223.937255859375, 590.7448120117188, 525.2896728515625, 3614.827392578125, 1749.257568359375, 1583.145751953125, 4736.04833984375, 2965.4892578125, 1216.4749755859375, 1681.4517822265625, 2349.521240234375, 1110.7281494140625, 1689.0008544921875, 56.816951751708984, 49.275489807128906, 45.448421478271484, 42.29144287109375, 37.85690689086914, 37.55208969116211, 37.41919708251953, 33.48134994506836, 29.22081756591797, 28.880252838134766, 28.772226333618164, 28.59763526916504, 25.61983299255371, 23.533727645874023, 23.460554122924805, 23.392169952392578, 22.790237426757812, 21.930593490600586, 21.807640075683594, 20.713130950927734, 20.317440032958984, 20.021625518798828, 19.85231590270996, 19.806949615478516, 19.225873947143555, 19.064010620117188, 17.843608856201172, 17.60212516784668, 17.33945655822754, 17.072998046875, 189.1147918701172, 501.1076354980469, 29.48543357849121, 493.513427734375, 536.1128540039062, 134.75148010253906, 39.62763595581055, 43.3153190612793, 220.0791473388672, 65.5958251953125, 353.72540283203125, 62.083744049072266, 116.23442840576172, 201.2888946533203, 317.0056457519531, 1297.610107421875, 238.2076416015625, 619.255615234375, 685.9718017578125, 273.193603515625, 5466.71435546875, 2349.521240234375, 1107.1627197265625, 580.7135009765625, 1412.88232421875, 573.4666748046875, 444.24676513671875, 1445.7696533203125, 334.5091552734375, 187.97494506835938, 4220.853515625, 1261.2734375, 2777.8583984375, 4477.51708984375, 854.9638061523438, 1480.14013671875, 2007.1798095703125, 1223.937255859375, 2315.607177734375, 1583.145751953125, 5471.77734375, 2965.4892578125, 1210.721923828125, 263.8455810546875, 181.94842529296875, 107.21966552734375, 104.48448181152344, 79.09204864501953, 128.78958129882812, 60.50364685058594, 60.110992431640625, 57.23538589477539, 56.66246032714844, 53.04877471923828, 51.11540603637695, 50.46894836425781, 49.46056365966797, 60.36289978027344, 42.24180603027344, 34.8001823425293, 34.738216400146484, 31.34834098815918, 30.646821975708008, 27.216842651367188, 27.01919937133789, 26.993236541748047, 26.067977905273438, 25.05382537841797, 24.779205322265625, 52.450740814208984, 23.380645751953125, 22.942880630493164, 324.8711242675781, 64.05133056640625, 46.301597595214844, 109.60052490234375, 235.34788513183594, 63.012451171875, 56.86441421508789, 182.97842407226562, 1489.9951171875, 1100.4659423828125, 285.495361328125, 821.5614624023438, 75.8033676147461, 173.18878173828125, 207.65660095214844, 1721.1004638671875, 253.83985900878906, 550.09912109375, 2079.924072265625, 688.6472778320312, 1177.64892578125, 284.4718017578125, 2011.758056640625, 490.4112243652344, 306.0131530761719, 334.27484130859375, 4521.384765625, 402.4529724121094, 708.1805419921875, 674.6320190429688, 1277.15087890625, 1110.7420654296875, 4477.51708984375, 1110.7281494140625, 3614.827392578125, 1451.31640625, 3680.439208984375, 4736.04833984375, 1412.88232421875, 1013.496337890625, 2469.775146484375, 3464.4560546875, 6764.58447265625, 2965.4892578125, 1430.7431640625, 2350.198486328125, 1351.621826171875, 2349.521240234375, 157.8539581298828, 83.18213653564453, 60.35306167602539, 52.95884704589844, 52.76996612548828, 45.737815856933594, 39.446563720703125, 36.572601318359375, 28.871946334838867, 25.978239059448242, 25.229175567626953, 24.64325523376465, 27.651582717895508, 22.342924118041992, 18.889904022216797, 859.9905395507812, 18.828922271728516, 18.441661834716797, 33.23149490356445, 29.82535743713379, 18.144577026367188, 17.887767791748047, 17.787731170654297, 17.58478355407715, 17.568143844604492, 17.25351905822754, 16.745710372924805, 16.634315490722656, 16.6262149810791, 16.00810432434082, 680.7950439453125, 59.616241455078125, 65.69542694091797, 77.51074981689453, 790.593505859375, 273.085205078125, 71.26496124267578, 120.57984924316406, 73.62088012695312, 150.0498504638672, 92.4904556274414, 122.21521759033203, 993.1746215820312, 98.40591430664062, 1095.3199462890625, 435.470703125, 117.94654846191406, 220.43759155273438, 281.895751953125, 219.92849731445312, 358.3167724609375, 252.04891967773438, 153.21470642089844, 717.3829345703125, 4521.384765625, 349.8235778808594, 576.4478149414062, 547.5720825195312, 1480.14013671875, 1810.529296875, 4477.51708984375, 815.0736083984375, 5471.77734375, 1126.1746826171875, 1149.394287109375, 1583.145751953125, 340.527099609375, 2777.8583984375], \"Category\": [\"Default\", \"Default\", \"Default\", \"Default\", \"Default\", \"Default\", \"Default\", \"Default\", \"Default\", \"Default\", \"Default\", \"Default\", \"Default\", \"Default\", \"Default\", \"Default\", \"Default\", \"Default\", \"Default\", \"Default\", \"Default\", \"Default\", \"Default\", \"Default\", \"Default\", \"Default\", \"Default\", \"Default\", \"Default\", \"Default\", \"Topic1\", \"Topic1\", \"Topic1\", \"Topic1\", \"Topic1\", \"Topic1\", \"Topic1\", \"Topic1\", \"Topic1\", \"Topic1\", \"Topic1\", \"Topic1\", \"Topic1\", \"Topic1\", \"Topic1\", \"Topic1\", \"Topic1\", \"Topic1\", \"Topic1\", \"Topic1\", \"Topic1\", \"Topic1\", \"Topic1\", \"Topic1\", \"Topic1\", \"Topic1\", \"Topic1\", \"Topic1\", \"Topic1\", \"Topic1\", \"Topic1\", \"Topic1\", \"Topic1\", \"Topic1\", \"Topic1\", \"Topic1\", \"Topic1\", \"Topic1\", \"Topic1\", \"Topic1\", \"Topic1\", \"Topic1\", \"Topic1\", \"Topic1\", \"Topic1\", \"Topic1\", \"Topic1\", \"Topic1\", \"Topic1\", \"Topic1\", \"Topic1\", \"Topic1\", \"Topic1\", \"Topic1\", \"Topic1\", \"Topic1\", \"Topic1\", \"Topic1\", \"Topic1\", \"Topic1\", \"Topic1\", \"Topic1\", \"Topic1\", \"Topic1\", \"Topic1\", \"Topic1\", \"Topic1\", \"Topic1\", \"Topic1\", \"Topic1\", \"Topic2\", \"Topic2\", \"Topic2\", \"Topic2\", \"Topic2\", \"Topic2\", \"Topic2\", \"Topic2\", \"Topic2\", \"Topic2\", \"Topic2\", \"Topic2\", \"Topic2\", \"Topic2\", \"Topic2\", \"Topic2\", \"Topic2\", \"Topic2\", \"Topic2\", \"Topic2\", \"Topic2\", \"Topic2\", \"Topic2\", \"Topic2\", \"Topic2\", \"Topic2\", \"Topic2\", \"Topic2\", \"Topic2\", \"Topic2\", \"Topic2\", \"Topic2\", \"Topic2\", \"Topic2\", \"Topic2\", \"Topic2\", \"Topic2\", \"Topic2\", \"Topic2\", \"Topic2\", \"Topic2\", \"Topic2\", \"Topic2\", \"Topic2\", \"Topic2\", \"Topic2\", \"Topic2\", \"Topic2\", \"Topic2\", \"Topic2\", \"Topic2\", \"Topic2\", \"Topic2\", \"Topic2\", \"Topic2\", \"Topic2\", \"Topic2\", \"Topic2\", \"Topic2\", \"Topic2\", \"Topic2\", \"Topic3\", \"Topic3\", \"Topic3\", \"Topic3\", \"Topic3\", \"Topic3\", \"Topic3\", \"Topic3\", \"Topic3\", \"Topic3\", \"Topic3\", \"Topic3\", \"Topic3\", \"Topic3\", \"Topic3\", \"Topic3\", \"Topic3\", \"Topic3\", \"Topic3\", \"Topic3\", \"Topic3\", \"Topic3\", \"Topic3\", \"Topic3\", \"Topic3\", \"Topic3\", \"Topic3\", \"Topic3\", \"Topic3\", \"Topic3\", \"Topic3\", \"Topic3\", \"Topic3\", \"Topic3\", \"Topic3\", \"Topic3\", \"Topic3\", \"Topic3\", \"Topic3\", \"Topic3\", \"Topic3\", \"Topic3\", \"Topic3\", \"Topic3\", \"Topic3\", \"Topic3\", \"Topic3\", \"Topic3\", \"Topic3\", \"Topic3\", \"Topic3\", \"Topic3\", \"Topic3\", \"Topic3\", \"Topic3\", \"Topic3\", \"Topic3\", \"Topic3\", \"Topic3\", \"Topic3\", \"Topic3\", \"Topic3\", \"Topic3\", \"Topic3\", \"Topic3\", \"Topic4\", \"Topic4\", \"Topic4\", \"Topic4\", \"Topic4\", \"Topic4\", \"Topic4\", \"Topic4\", \"Topic4\", \"Topic4\", \"Topic4\", \"Topic4\", \"Topic4\", \"Topic4\", \"Topic4\", \"Topic4\", \"Topic4\", \"Topic4\", \"Topic4\", \"Topic4\", \"Topic4\", \"Topic4\", \"Topic4\", \"Topic4\", \"Topic4\", \"Topic4\", \"Topic4\", \"Topic4\", \"Topic4\", \"Topic4\", \"Topic4\", \"Topic4\", \"Topic4\", \"Topic4\", \"Topic4\", \"Topic4\", \"Topic4\", \"Topic4\", \"Topic4\", \"Topic4\", \"Topic4\", \"Topic4\", \"Topic4\", \"Topic4\", \"Topic4\", \"Topic4\", \"Topic4\", \"Topic4\", \"Topic4\", \"Topic4\", \"Topic4\", \"Topic4\", \"Topic4\", \"Topic4\", \"Topic4\", \"Topic4\", \"Topic4\", \"Topic4\", \"Topic4\", \"Topic4\", \"Topic4\", \"Topic4\", \"Topic5\", \"Topic5\", \"Topic5\", \"Topic5\", \"Topic5\", \"Topic5\", \"Topic5\", \"Topic5\", \"Topic5\", \"Topic5\", \"Topic5\", \"Topic5\", \"Topic5\", \"Topic5\", \"Topic5\", \"Topic5\", \"Topic5\", \"Topic5\", \"Topic5\", \"Topic5\", \"Topic5\", \"Topic5\", \"Topic5\", \"Topic5\", \"Topic5\", \"Topic5\", \"Topic5\", \"Topic5\", \"Topic5\", \"Topic5\", \"Topic5\", \"Topic5\", \"Topic5\", \"Topic5\", \"Topic5\", \"Topic5\", \"Topic5\", \"Topic5\", \"Topic5\", \"Topic5\", \"Topic5\", \"Topic5\", \"Topic5\", \"Topic5\", \"Topic5\", \"Topic5\", \"Topic5\", \"Topic5\", \"Topic5\", \"Topic5\", \"Topic5\", \"Topic5\", \"Topic5\", \"Topic5\", \"Topic5\", \"Topic5\", \"Topic5\", \"Topic5\", \"Topic5\", \"Topic5\", \"Topic5\", \"Topic5\", \"Topic5\", \"Topic5\", \"Topic5\", \"Topic5\", \"Topic5\", \"Topic5\", \"Topic5\", \"Topic5\", \"Topic5\", \"Topic5\", \"Topic5\", \"Topic6\", \"Topic6\", \"Topic6\", \"Topic6\", \"Topic6\", \"Topic6\", \"Topic6\", \"Topic6\", \"Topic6\", \"Topic6\", \"Topic6\", \"Topic6\", \"Topic6\", \"Topic6\", \"Topic6\", \"Topic6\", \"Topic6\", \"Topic6\", \"Topic6\", \"Topic6\", \"Topic6\", \"Topic6\", \"Topic6\", \"Topic6\", \"Topic6\", \"Topic6\", \"Topic6\", \"Topic6\", \"Topic6\", \"Topic6\", \"Topic6\", \"Topic6\", \"Topic6\", \"Topic6\", \"Topic6\", \"Topic6\", \"Topic6\", \"Topic6\", \"Topic6\", \"Topic6\", \"Topic6\", \"Topic6\", \"Topic6\", \"Topic6\", \"Topic6\", \"Topic6\", \"Topic6\", \"Topic6\", \"Topic6\", \"Topic6\", \"Topic6\", \"Topic6\", \"Topic6\", \"Topic6\", \"Topic6\", \"Topic6\", \"Topic6\", \"Topic6\", \"Topic6\", \"Topic6\", \"Topic6\", \"Topic6\", \"Topic6\", \"Topic6\", \"Topic7\", \"Topic7\", \"Topic7\", \"Topic7\", \"Topic7\", \"Topic7\", \"Topic7\", \"Topic7\", \"Topic7\", \"Topic7\", \"Topic7\", \"Topic7\", \"Topic7\", \"Topic7\", \"Topic7\", \"Topic7\", \"Topic7\", \"Topic7\", \"Topic7\", \"Topic7\", \"Topic7\", \"Topic7\", \"Topic7\", \"Topic7\", \"Topic7\", \"Topic7\", \"Topic7\", \"Topic7\", \"Topic7\", \"Topic7\", \"Topic7\", \"Topic7\", \"Topic7\", \"Topic7\", \"Topic7\", \"Topic7\", \"Topic7\", \"Topic7\", \"Topic7\", \"Topic7\", \"Topic7\", \"Topic7\", \"Topic7\", \"Topic7\", \"Topic7\", \"Topic7\", \"Topic7\", \"Topic7\", \"Topic7\", \"Topic7\", \"Topic7\", \"Topic7\", \"Topic7\", \"Topic7\", \"Topic7\", \"Topic7\", \"Topic7\", \"Topic7\", \"Topic7\", \"Topic7\", \"Topic7\", \"Topic7\", \"Topic7\", \"Topic7\", \"Topic7\", \"Topic7\", \"Topic7\", \"Topic7\", \"Topic7\", \"Topic7\", \"Topic7\", \"Topic7\", \"Topic7\", \"Topic7\", \"Topic7\", \"Topic7\", \"Topic7\", \"Topic7\", \"Topic8\", \"Topic8\", \"Topic8\", \"Topic8\", \"Topic8\", \"Topic8\", \"Topic8\", \"Topic8\", \"Topic8\", \"Topic8\", \"Topic8\", \"Topic8\", \"Topic8\", \"Topic8\", \"Topic8\", \"Topic8\", \"Topic8\", \"Topic8\", \"Topic8\", \"Topic8\", \"Topic8\", \"Topic8\", \"Topic8\", \"Topic8\", \"Topic8\", \"Topic8\", \"Topic8\", \"Topic8\", \"Topic8\", \"Topic8\", \"Topic8\", \"Topic8\", \"Topic8\", \"Topic8\", \"Topic8\", \"Topic8\", \"Topic8\", \"Topic8\", \"Topic8\", \"Topic8\", \"Topic8\", \"Topic8\", \"Topic8\", \"Topic8\", \"Topic8\", \"Topic8\", \"Topic8\", \"Topic8\", \"Topic8\", \"Topic8\", \"Topic8\", \"Topic8\", \"Topic8\", \"Topic8\", \"Topic8\", \"Topic8\", \"Topic8\", \"Topic8\", \"Topic8\", \"Topic9\", \"Topic9\", \"Topic9\", \"Topic9\", \"Topic9\", \"Topic9\", \"Topic9\", \"Topic9\", \"Topic9\", \"Topic9\", \"Topic9\", \"Topic9\", \"Topic9\", \"Topic9\", \"Topic9\", \"Topic9\", \"Topic9\", \"Topic9\", \"Topic9\", \"Topic9\", \"Topic9\", \"Topic9\", \"Topic9\", \"Topic9\", \"Topic9\", \"Topic9\", \"Topic9\", \"Topic9\", \"Topic9\", \"Topic9\", \"Topic9\", \"Topic9\", \"Topic9\", \"Topic9\", \"Topic9\", \"Topic9\", \"Topic9\", \"Topic9\", \"Topic9\", \"Topic9\", \"Topic9\", \"Topic9\", \"Topic9\", \"Topic9\", \"Topic9\", \"Topic9\", \"Topic9\", \"Topic9\", \"Topic9\", \"Topic9\", \"Topic9\", \"Topic9\", \"Topic9\", \"Topic9\", \"Topic9\", \"Topic9\", \"Topic9\", \"Topic9\", \"Topic9\", \"Topic9\", \"Topic9\", \"Topic9\", \"Topic9\", \"Topic9\", \"Topic9\", \"Topic9\", \"Topic9\", \"Topic9\", \"Topic9\", \"Topic9\", \"Topic9\", \"Topic9\", \"Topic9\", \"Topic9\", \"Topic9\", \"Topic10\", \"Topic10\", \"Topic10\", \"Topic10\", \"Topic10\", \"Topic10\", \"Topic10\", \"Topic10\", \"Topic10\", \"Topic10\", \"Topic10\", \"Topic10\", \"Topic10\", \"Topic10\", \"Topic10\", \"Topic10\", \"Topic10\", \"Topic10\", \"Topic10\", \"Topic10\", \"Topic10\", \"Topic10\", \"Topic10\", \"Topic10\", \"Topic10\", \"Topic10\", \"Topic10\", \"Topic10\", \"Topic10\", \"Topic10\", \"Topic10\", \"Topic10\", \"Topic10\", \"Topic10\", \"Topic10\", \"Topic10\", \"Topic10\", \"Topic10\", \"Topic10\", \"Topic10\", \"Topic10\", \"Topic10\", \"Topic10\", \"Topic10\", \"Topic10\", \"Topic10\", \"Topic10\", \"Topic10\", \"Topic10\", \"Topic10\", \"Topic10\", \"Topic10\", \"Topic10\", \"Topic10\", \"Topic10\", \"Topic10\", \"Topic10\", \"Topic10\", \"Topic10\", \"Topic10\", \"Topic10\", \"Topic10\", \"Topic10\", \"Topic10\", \"Topic10\", \"Topic10\", \"Topic10\", \"Topic10\", \"Topic10\", \"Topic10\", \"Topic10\", \"Topic10\", \"Topic10\", \"Topic10\", \"Topic10\", \"Topic11\", \"Topic11\", \"Topic11\", \"Topic11\", \"Topic11\", \"Topic11\", \"Topic11\", \"Topic11\", \"Topic11\", \"Topic11\", \"Topic11\", \"Topic11\", \"Topic11\", \"Topic11\", \"Topic11\", \"Topic11\", \"Topic11\", \"Topic11\", \"Topic11\", \"Topic11\", \"Topic11\", \"Topic11\", \"Topic11\", \"Topic11\", \"Topic11\", \"Topic11\", \"Topic11\", \"Topic11\", \"Topic11\", \"Topic11\", \"Topic11\", \"Topic11\", \"Topic11\", \"Topic11\", \"Topic11\", \"Topic11\", \"Topic11\", \"Topic11\", \"Topic11\", \"Topic11\", \"Topic11\", \"Topic11\", \"Topic11\", \"Topic11\", \"Topic11\", \"Topic11\", \"Topic11\", \"Topic11\", \"Topic11\", \"Topic11\", \"Topic11\", \"Topic11\", \"Topic11\", \"Topic11\", \"Topic11\", \"Topic11\", \"Topic11\", \"Topic11\", \"Topic11\", \"Topic11\", \"Topic11\", \"Topic11\", \"Topic11\", \"Topic11\", \"Topic11\", \"Topic11\", \"Topic11\", \"Topic11\", \"Topic11\", \"Topic11\", \"Topic11\", \"Topic11\", \"Topic11\", \"Topic11\", \"Topic11\", \"Topic11\", \"Topic11\", \"Topic11\", \"Topic11\", \"Topic11\", \"Topic11\", \"Topic12\", \"Topic12\", \"Topic12\", \"Topic12\", \"Topic12\", \"Topic12\", \"Topic12\", \"Topic12\", \"Topic12\", \"Topic12\", \"Topic12\", \"Topic12\", \"Topic12\", \"Topic12\", \"Topic12\", \"Topic12\", \"Topic12\", \"Topic12\", \"Topic12\", \"Topic12\", \"Topic12\", \"Topic12\", \"Topic12\", \"Topic12\", \"Topic12\", \"Topic12\", \"Topic12\", \"Topic12\", \"Topic12\", \"Topic12\", \"Topic12\", \"Topic12\", \"Topic12\", \"Topic12\", \"Topic12\", \"Topic12\", \"Topic12\", \"Topic12\", \"Topic12\", \"Topic12\", \"Topic12\", \"Topic12\", \"Topic12\", \"Topic12\", \"Topic12\", \"Topic12\", \"Topic12\", \"Topic12\", \"Topic12\", \"Topic12\", \"Topic12\", \"Topic12\", \"Topic12\", \"Topic12\", \"Topic12\", \"Topic12\", \"Topic12\", \"Topic12\", \"Topic12\", \"Topic12\", \"Topic12\", \"Topic12\", \"Topic12\", \"Topic12\", \"Topic12\", \"Topic12\", \"Topic12\", \"Topic12\", \"Topic12\", \"Topic12\", \"Topic12\", \"Topic12\", \"Topic12\", \"Topic12\", \"Topic12\", \"Topic13\", \"Topic13\", \"Topic13\", \"Topic13\", \"Topic13\", \"Topic13\", \"Topic13\", \"Topic13\", \"Topic13\", \"Topic13\", \"Topic13\", \"Topic13\", \"Topic13\", \"Topic13\", \"Topic13\", \"Topic13\", \"Topic13\", \"Topic13\", \"Topic13\", \"Topic13\", \"Topic13\", \"Topic13\", \"Topic13\", \"Topic13\", \"Topic13\", \"Topic13\", \"Topic13\", \"Topic13\", \"Topic13\", \"Topic13\", \"Topic13\", \"Topic13\", \"Topic13\", \"Topic13\", \"Topic13\", \"Topic13\", \"Topic13\", \"Topic13\", \"Topic13\", \"Topic13\", \"Topic13\", \"Topic13\", \"Topic13\", \"Topic13\", \"Topic13\", \"Topic13\", \"Topic13\", \"Topic13\", \"Topic13\", \"Topic13\", \"Topic13\", \"Topic13\", \"Topic13\", \"Topic13\", \"Topic13\", \"Topic13\", \"Topic13\", \"Topic13\", \"Topic13\", \"Topic13\", \"Topic13\", \"Topic13\", \"Topic13\", \"Topic13\", \"Topic13\", \"Topic13\", \"Topic13\", \"Topic13\", \"Topic13\", \"Topic13\", \"Topic13\", \"Topic13\", \"Topic14\", \"Topic14\", \"Topic14\", \"Topic14\", \"Topic14\", \"Topic14\", \"Topic14\", \"Topic14\", \"Topic14\", \"Topic14\", \"Topic14\", \"Topic14\", \"Topic14\", \"Topic14\", \"Topic14\", \"Topic14\", \"Topic14\", \"Topic14\", \"Topic14\", \"Topic14\", \"Topic14\", \"Topic14\", \"Topic14\", \"Topic14\", \"Topic14\", \"Topic14\", \"Topic14\", \"Topic14\", \"Topic14\", \"Topic14\", \"Topic14\", \"Topic14\", \"Topic14\", \"Topic14\", \"Topic14\", \"Topic14\", \"Topic14\", \"Topic14\", \"Topic14\", \"Topic14\", \"Topic14\", \"Topic14\", \"Topic14\", \"Topic14\", \"Topic14\", \"Topic14\", \"Topic14\", \"Topic14\", \"Topic14\", \"Topic14\", \"Topic14\", \"Topic14\", \"Topic14\", \"Topic14\", \"Topic14\", \"Topic14\", \"Topic14\", \"Topic14\", \"Topic14\", \"Topic14\", \"Topic14\", \"Topic14\", \"Topic14\", \"Topic14\", \"Topic14\", \"Topic14\", \"Topic14\", \"Topic14\", \"Topic14\", \"Topic14\", \"Topic14\", \"Topic14\", \"Topic14\", \"Topic14\", \"Topic14\", \"Topic14\", \"Topic14\", \"Topic14\", \"Topic15\", \"Topic15\", \"Topic15\", \"Topic15\", \"Topic15\", \"Topic15\", \"Topic15\", \"Topic15\", \"Topic15\", \"Topic15\", \"Topic15\", \"Topic15\", \"Topic15\", \"Topic15\", \"Topic15\", \"Topic15\", \"Topic15\", \"Topic15\", \"Topic15\", \"Topic15\", \"Topic15\", \"Topic15\", \"Topic15\", \"Topic15\", \"Topic15\", \"Topic15\", \"Topic15\", \"Topic15\", \"Topic15\", \"Topic15\", \"Topic15\", \"Topic15\", \"Topic15\", \"Topic15\", \"Topic15\", \"Topic15\", \"Topic15\", \"Topic15\", \"Topic15\", \"Topic15\", \"Topic15\", \"Topic15\", \"Topic15\", \"Topic15\", \"Topic15\", \"Topic15\", \"Topic15\", \"Topic15\", \"Topic15\", \"Topic15\", \"Topic15\", \"Topic15\", \"Topic15\", \"Topic15\", \"Topic15\", \"Topic15\", \"Topic15\", \"Topic15\", \"Topic15\", \"Topic15\", \"Topic15\", \"Topic15\", \"Topic15\", \"Topic15\", \"Topic15\", \"Topic15\", \"Topic15\", \"Topic15\"], \"logprob\": [30.0, 29.0, 28.0, 27.0, 26.0, 25.0, 24.0, 23.0, 22.0, 21.0, 20.0, 19.0, 18.0, 17.0, 16.0, 15.0, 14.0, 13.0, 12.0, 11.0, 10.0, 9.0, 8.0, 7.0, 6.0, 5.0, 4.0, 3.0, 2.0, 1.0, -4.619100093841553, -5.201600074768066, -5.255099773406982, -5.516300201416016, -5.590099811553955, -5.7307000160217285, -5.848800182342529, -5.876500129699707, -6.104899883270264, -6.621099948883057, -6.783400058746338, -6.880300045013428, -6.953800201416016, -7.0192999839782715, -7.199999809265137, -7.263800144195557, -7.287499904632568, -7.32289981842041, -7.356900215148926, -7.3846001625061035, -7.444399833679199, -7.496099948883057, -7.595900058746338, -7.6066999435424805, -7.664700031280518, -7.667500019073486, -7.674799919128418, -7.709000110626221, -7.709099769592285, -7.735400199890137, -6.862599849700928, -6.222300052642822, -7.095799922943115, -5.1194000244140625, -6.021999835968018, -6.759300231933594, -5.861700057983398, -7.05620002746582, -5.690299987792969, -5.0756001472473145, -5.5767998695373535, -4.382400035858154, -4.521299839019775, -4.0746002197265625, -4.265500068664551, -4.382999897003174, -3.8745999336242676, -4.012700080871582, -3.293299913406372, -3.4082000255584717, -4.785600185394287, -4.856900215148926, -5.37529993057251, -3.5590999126434326, -4.894899845123291, -4.683199882507324, -4.883500099182129, -5.051000118255615, -4.2600998878479, -4.676300048828125, -4.877200126647949, -4.526800155639648, -4.738800048828125, -4.7621002197265625, -4.730199813842773, -4.99399995803833, -4.894100189208984, -4.94890022277832, -4.996699810028076, -5.039700031280518, -3.2748000621795654, -3.9714999198913574, -4.389599800109863, -4.79040002822876, -4.794099807739258, -5.354700088500977, -5.426499843597412, -5.492199897766113, -5.618100166320801, -5.632999897003174, -5.82919979095459, -5.864500045776367, -5.935699939727783, -5.9506001472473145, -5.953800201416016, -5.990799903869629, -6.025400161743164, -6.047500133514404, -6.1930999755859375, -6.20419979095459, -6.15880012512207, -6.288099765777588, -6.359799861907959, -6.381199836730957, -6.399700164794922, -6.402599811553955, -6.417600154876709, -6.452199935913086, -6.475399971008301, -6.493899822235107, -3.8961000442504883, -4.861499786376953, -5.081600189208984, -5.257599830627441, -4.135200023651123, -6.288700103759766, -5.106500148773193, -4.493599891662598, -5.55049991607666, -4.343699932098389, -5.248799800872803, -5.207200050354004, -5.959499835968018, -4.281499862670898, -5.348299980163574, -4.748499870300293, -4.42609977722168, -4.345300197601318, -4.119999885559082, -5.381400108337402, -4.427000045776367, -4.553199768066406, -4.471700191497803, -5.014400005340576, -4.743299961090088, -5.215799808502197, -5.023499965667725, -5.081999778747559, -5.222599983215332, -5.138700008392334, -5.192599773406982, -4.687900066375732, -5.241499900817871, -5.337100028991699, -5.361199855804443, -5.416900157928467, -5.434100151062012, -5.442299842834473, -5.532299995422363, -5.803800106048584, -5.889599800109863, -5.904699802398682, -5.935800075531006, -5.98799991607666, -6.108399868011475, -6.155900001525879, -6.249199867248535, -6.2677998542785645, -6.271500110626221, -6.309999942779541, -6.32420015335083, -6.386899948120117, -6.399700164794922, -6.407299995422363, -6.4182000160217285, -6.423500061035156, -6.450099945068359, -6.450900077819824, -6.453400135040283, -6.469699859619141, -6.496600151062012, -4.4334001541137695, -2.8893001079559326, -5.056300163269043, -4.683800220489502, -5.010799884796143, -4.076700210571289, -3.4590001106262207, -4.477700233459473, -6.058800220489502, -5.2453999519348145, -4.548799991607666, -5.500699996948242, -4.953199863433838, -5.416600227355957, -5.867099761962891, -5.146999835968018, -3.5457000732421875, -5.60890007019043, -5.657400131225586, -4.57480001449585, -4.021299839019775, -4.393400192260742, -4.861100196838379, -5.098700046539307, -3.697000026702881, -4.703100204467773, -4.553199768066406, -4.194900035858154, -4.689599990844727, -5.131100177764893, -5.328999996185303, -5.20419979095459, -5.271200180053711, -5.278200149536133, -5.265900135040283, -2.2983999252319336, -4.527100086212158, -3.0023999214172363, -5.542300224304199, -5.755099773406982, -5.66949987411499, -5.806399822235107, -5.927800178527832, -5.998799800872803, -6.042500019073486, -6.052000045776367, -6.149799823760986, -6.229300022125244, -6.370500087738037, -6.441699981689453, -6.6082000732421875, -6.623600006103516, -6.628900051116943, -6.708199977874756, -6.710000038146973, -6.729599952697754, -6.8053998947143555, -6.88700008392334, -6.926499843597412, -6.957600116729736, -4.387599945068359, -5.076900005340576, -6.999899864196777, -7.003399848937988, -7.079500198364258, -5.9903998374938965, -5.191100120544434, -6.117000102996826, -5.895599842071533, -4.750800132751465, -5.094699859619141, -5.229599952697754, -5.407400131225586, -5.192599773406982, -5.547599792480469, -3.9467999935150146, -5.196599960327148, -5.237199783325195, -5.142000198364258, -4.841100215911865, -3.6278998851776123, -5.592800140380859, -4.639200210571289, -4.293700218200684, -5.435200214385986, -4.25570011138916, -4.524899959564209, -4.5578999519348145, -5.135700225830078, -4.879199981689453, -5.248199939727783, -4.860199928283691, -5.114099979400635, -5.179699897766113, -4.937300205230713, -5.120200157165527, -5.331399917602539, -4.7281999588012695, -4.836400032043457, -5.526199817657471, -5.756999969482422, -5.886499881744385, -5.95959997177124, -6.051199913024902, -6.059199810028076, -6.130199909210205, -6.164000034332275, -6.176300048828125, -6.320000171661377, -6.377999782562256, -6.379300117492676, -6.417200088500977, -6.60890007019043, -6.653600215911865, -6.659900188446045, -6.695300102233887, -6.702300071716309, -6.708000183105469, -6.757400035858154, -6.767600059509277, -6.788700103759766, -6.796999931335449, -6.873899936676025, -6.893899917602539, -6.8958001136779785, -6.9045000076293945, -6.920599937438965, -4.87060022354126, -3.716900110244751, -5.834700107574463, -5.231900215148926, -4.604899883270264, -4.072700023651123, -5.844699859619141, -5.04640007019043, -5.81850004196167, -4.523200035095215, -5.258500099182129, -5.30649995803833, -5.017000198364258, -6.037199974060059, -5.3471999168396, -5.863999843597412, -5.379799842834473, -4.00600004196167, -5.693600177764893, -4.540299892425537, -3.8810999393463135, -5.012199878692627, -4.951700210571289, -5.192599773406982, -4.36460018157959, -5.435400009155273, -5.577199935913086, -4.940999984741211, -4.951399803161621, -5.149199962615967, -5.000500202178955, -4.845300197601318, -5.291399955749512, -5.0381999015808105, -5.187300205230713, -5.223899841308594, -5.140399932861328, -5.040200233459473, -5.136899948120117, -5.070899963378906, -5.148399829864502, -5.181600093841553, -5.180300235748291, -4.127600193023682, -5.19789981842041, -5.3225998878479, -5.375400066375732, -5.601799964904785, -5.728099822998047, -5.729100227355957, -5.883200168609619, -6.145100116729736, -6.395100116729736, -6.444699764251709, -6.573200225830078, -6.659599781036377, -6.180099964141846, -6.866000175476074, -6.888800144195557, -4.867499828338623, -6.940800189971924, -6.957900047302246, -7.071700096130371, -7.075399875640869, -7.131800174713135, -7.136000156402588, -5.544400215148926, -7.271399974822998, -7.3420000076293945, -7.373899936676025, -7.400899887084961, -7.4045000076293945, -7.4145002365112305, -6.300300121307373, -5.400599956512451, -4.228700160980225, -5.688799858093262, -7.035200119018555, -4.714200019836426, -3.405600070953369, -4.95959997177124, -4.658299922943115, -5.355599880218506, -4.051400184631348, -4.968900203704834, -4.906899929046631, -4.933300018310547, -5.112199783325195, -4.407800197601318, -4.61460018157959, -5.0731000900268555, -5.494100093841553, -4.578499794006348, -3.886199951171875, -5.091400146484375, -4.432400226593018, -4.3480000495910645, -4.134399890899658, -4.862100124359131, -4.574699878692627, -5.08050012588501, -4.955900192260742, -4.954100131988525, -5.061999797821045, -5.088399887084961, -5.019000053405762, -5.132500171661377, -6.457799911499023, -6.572500228881836, -6.821800231933594, -6.906199932098389, -6.960400104522705, -7.0019001960754395, -7.04580020904541, -7.080900192260742, -7.100100040435791, -7.119500160217285, -7.261600017547607, -7.262899875640869, -7.309100151062012, -7.320799827575684, -7.346499919891357, -7.353700160980225, -7.375, -7.383399963378906, -7.3993000984191895, -7.402599811553955, -7.424900054931641, -7.436699867248535, -7.44320011138916, -7.4583001136779785, -7.4583001136779785, -7.234499931335449, -7.466100215911865, -7.528900146484375, -7.5472002029418945, -7.542399883270264, -6.719900131225586, -5.738399982452393, -6.263000011444092, -6.5243000984191895, -6.748700141906738, -4.73390007019043, -6.039899826049805, -5.983699798583984, -4.867499828338623, -6.869200229644775, -5.83650016784668, -6.020400047302246, -6.028800010681152, -6.656700134277344, -6.076399803161621, -5.566299915313721, -4.678899765014648, -4.819200038909912, -4.662499904632568, -5.072199821472168, -4.046599864959717, -4.717100143432617, -3.699700117111206, -4.1757001876831055, -4.695099830627441, -5.0528998374938965, -5.580999851226807, -5.4096999168396, -3.9298999309539795, -3.8183000087738037, -5.132999897003174, -4.975900173187256, -4.131999969482422, -4.571300029754639, -5.33620023727417, -4.8429999351501465, -4.776500225067139, -4.6153998374938965, -4.8927998542785645, -4.969299793243408, -4.531499862670898, -4.922500133514404, -5.39870023727417, -5.168900012969971, -4.922399997711182, -5.09630012512207, -5.287600040435791, -5.26669979095459, -3.3210999965667725, -4.696100234985352, -4.864799976348877, -5.167900085449219, -5.214700222015381, -5.24399995803833, -5.261499881744385, -5.3084001541137695, -5.443299770355225, -5.484600067138672, -5.564000129699707, -4.3196001052856445, -5.653600215911865, -5.702400207519531, -5.740699768066406, -5.841100215911865, -5.901299953460693, -5.901500225067139, -6.035299777984619, -6.070899963378906, -6.096499919891357, -6.108699798583984, -6.141900062561035, -5.932499885559082, -6.211599826812744, -6.221099853515625, -6.255300045013428, -6.257900238037109, -6.274499893188477, -6.316800117492676, -4.7754998207092285, -3.8159000873565674, -5.592199802398682, -5.182799816131592, -4.39139986038208, -4.910399913787842, -4.910699844360352, -4.018700122833252, -4.264900207519531, -4.7789998054504395, -4.785900115966797, -4.336599826812744, -3.7987000942230225, -5.228899955749512, -4.325200080871582, -5.151400089263916, -4.269199848175049, -4.645899772644043, -4.984399795532227, -5.043000221252441, -4.664999961853027, -4.79610013961792, -4.745699882507324, -4.6427001953125, -4.891600131988525, -4.959099769592285, -4.995299816131592, -5.064700126647949, -5.163300037384033, -5.210599899291992, -5.853300094604492, -5.916200160980225, -6.177299976348877, -6.182000160217285, -6.377099990844727, -6.402500152587891, -6.436800003051758, -6.438199996948242, -6.448400020599365, -6.450099945068359, -6.565999984741211, -6.588500022888184, -6.611800193786621, -6.660699844360352, -6.7154998779296875, -6.934999942779541, -6.9355998039245605, -6.954899787902832, -6.96019983291626, -6.964000225067139, -6.982800006866455, -6.983099937438965, -7.108399868011475, -7.123300075531006, -7.1321001052856445, -7.151400089263916, -7.179500102996826, -7.226500034332275, -7.230899810791016, -6.807000160217285, -6.131700038909912, -6.127399921417236, -6.235199928283691, -6.486100196838379, -6.692200183868408, -4.947400093078613, -5.9878997802734375, -4.184500217437744, -5.950900077819824, -6.367300033569336, -5.981900215148926, -4.74970006942749, -6.115799903869629, -3.8427999019622803, -3.937299966812134, -3.210099935531616, -5.076399803161621, -4.2600998878479, -5.312900066375732, -3.559299945831299, -5.579999923706055, -3.941699981689453, -4.713200092315674, -4.284599781036377, -5.3927001953125, -4.679200172424316, -4.777599811553955, -4.01140022277832, -4.8892998695373535, -3.92549991607666, -3.997999906539917, -4.688199996948242, -4.521699905395508, -5.145999908447266, -3.837399959564209, -4.644999980926514, -4.86870002746582, -4.8454999923706055, -5.00540018081665, -5.218200206756592, -5.014900207519531, -4.981400012969971, -5.107800006866455, -5.180500030517578, -3.261399984359741, -4.854499816894531, -5.604499816894531, -5.610799789428711, -5.854000091552734, -5.974299907684326, -6.042600154876709, -6.057700157165527, -6.081299781799316, -6.155200004577637, -6.168000221252441, -6.191500186920166, -6.374800205230713, -6.706399917602539, -6.725900173187256, -6.739699840545654, -6.779699802398682, -6.809899806976318, -6.8420000076293945, -6.867700099945068, -6.9359002113342285, -6.953999996185303, -7.013599872589111, -7.028900146484375, -7.081200122833252, -7.100200176239014, -7.126500129699707, -7.140999794006348, -7.1641998291015625, -7.218400001525879, -5.4822001457214355, -5.973599910736084, -6.662399768829346, -6.105500221252441, -5.422500133514404, -6.406000137329102, -6.052700042724609, -3.697999954223633, -3.55049991607666, -3.794600009918213, -5.808899879455566, -3.7932000160217285, -6.052999973297119, -5.155099868774414, -5.57420015335083, -5.787499904632568, -5.505199909210205, -4.9893999099731445, -5.270100116729736, -4.189499855041504, -5.551000118255615, -4.513199806213379, -3.659899950027466, -5.206200122833252, -3.6242001056671143, -4.4481000900268555, -4.744699954986572, -3.9883999824523926, -4.776700019836426, -4.605000019073486, -4.872000217437744, -4.469299793243408, -4.820300102233887, -4.507500171661377, -4.6666998863220215, -4.821499824523926, -5.0391998291015625, -4.962600231170654, -5.202899932861328, -5.016300201416016, -4.8140997886657715, -4.76230001449585, -4.938600063323975, -5.064000129699707, -5.1203999519348145, -5.907899856567383, -6.56820011138916, -6.682000160217285, -6.691800117492676, -6.701099872589111, -6.708799839019775, -6.715199947357178, -6.769700050354004, -6.813899993896484, -6.821599960327148, -6.953000068664551, -6.95550012588501, -6.9882001876831055, -6.9934000968933105, -7.006700038909912, -7.019100189208984, -7.050099849700928, -7.055200099945068, -7.05620002746582, -4.184299945831299, -7.102499961853027, -7.132999897003174, -7.163300037384033, -7.180300235748291, -7.251999855041504, -7.283100128173828, -7.285099983215332, -7.283599853515625, -7.298600196838379, -7.318900108337402, -5.651100158691406, -6.570400238037109, -6.415500164031982, -5.413899898529053, -6.153200149536133, -6.253900051116943, -5.372600078582764, -5.868000030517578, -5.19789981842041, -6.269599914550781, -5.6381001472473145, -5.828999996185303, -6.180799961090088, -6.7494001388549805, -5.3917999267578125, -6.435999870300293, -6.420599937438965, -4.474599838256836, -4.029699802398682, -5.045000076293945, -5.491600036621094, -5.152200222015381, -5.918600082397461, -5.292399883270264, -6.047900199890137, -5.644700050354004, -4.680799961090088, -6.259099960327148, -4.446000099182129, -4.867199897766113, -4.6554999351501465, -5.934999942779541, -3.97760009765625, -4.710400104522705, -5.545599937438965, -5.3308000564575195, -4.570499897003174, -5.440800189971924, -5.257800102233887, -5.566299915313721, -4.632199764251709, -4.849299907684326, -5.097899913787842, -4.856599807739258, -4.632199764251709, -5.1859002113342285, -4.960400104522705, -5.236999988555908, -5.357800006866455, -5.279099941253662, -5.388999938964844, -6.160099983215332, -7.439499855041504, -7.56790018081665, -7.62939977645874, -7.784599781036377, -7.823400020599365, -7.833099842071533, -7.85890007019043, -7.9222002029418945, -7.982399940490723, -8.023300170898438, -8.124899864196777, -8.128000259399414, -8.128899574279785, -8.177499771118164, -8.20680046081543, -8.226699829101562, -8.245699882507324, -8.249500274658203, -8.260600090026855, -8.270700454711914, -8.315899848937988, -8.330100059509277, -8.367500305175781, -8.373600006103516, -7.740300178527832, -8.421600341796875, -8.435400009155273, -8.442700386047363, -8.458800315856934, -6.570499897003174, -8.059900283813477, -3.6010000705718994, -7.256899833679199, -3.8197999000549316, -2.8649001121520996, -6.069900035858154, -4.903800010681152, -5.372200012207031, -4.103899955749512, -6.804299831390381, -6.807499885559082, -4.774799823760986, -3.451900005340576, -4.793700218200684, -2.97189998626709, -4.0243000984191895, -5.1554999351501465, -5.48199987411499, -5.274600028991699, -3.3343000411987305, -4.920199871063232, -5.037199974060059, -5.171800136566162, -3.4921000003814697, -6.321800231933594, -4.616799831390381, -4.622700214385986, -3.8526999950408936, -5.108099937438965, -5.898799896240234, -5.02810001373291, -4.744200229644775, -5.263599872589111, -5.35290002822876, -4.044300079345703, -4.540999889373779, -4.655600070953369, -4.070400238037109, -4.354800224304199, -4.869999885559082, -4.842299938201904, -4.855800151824951, -5.050600051879883, -5.085999965667725, -5.738100051879883, -5.8831000328063965, -5.9654998779296875, -6.039100170135498, -6.152500152587891, -6.160799980163574, -6.164400100708008, -6.278600215911865, -6.418900012969971, -6.431000232696533, -6.434899806976318, -6.441199779510498, -6.554999828338623, -6.6433000564575195, -6.646500110626221, -6.649600028991699, -6.676700115203857, -6.716899871826172, -6.722700119018555, -6.776599884033203, -6.796800136566162, -6.81220006942749, -6.821100234985352, -6.823500156402588, -6.854700088500977, -6.86359977722168, -6.933300018310547, -6.947700023651123, -6.963500022888184, -6.979899883270264, -4.590400218963623, -3.6357998847961426, -6.44789981842041, -3.7681000232696533, -3.706899881362915, -5.006999969482422, -6.195300102233887, -6.140500068664551, -4.76669979095459, -5.877399921417236, -4.704999923706055, -5.995999813079834, -5.616399765014648, -5.285900115966797, -5.047699928283691, -4.30620002746582, -5.291200160980225, -4.756199836730957, -4.71619987487793, -5.229899883270264, -3.6875998973846436, -4.156799793243408, -4.580399990081787, -4.98829984664917, -4.644999980926514, -5.052999973297119, -5.206399917602539, -4.757199764251709, -5.327000141143799, -5.555699825286865, -4.433000087738037, -4.979100227355957, -4.791299819946289, -4.672399997711182, -5.144700050354004, -5.0131001472473145, -4.948699951171875, -5.071199893951416, -5.020999908447266, -5.0843000411987305, -5.010300159454346, -5.097899913787842, -4.221399784088135, -5.747799873352051, -6.120999813079834, -6.65339994430542, -6.679500102996826, -6.9608001708984375, -6.474299907684326, -7.2322998046875, -7.238999843597412, -7.28879976272583, -7.298999786376953, -7.366000175476074, -7.403800010681152, -7.416800022125244, -7.4375, -7.240099906921387, -7.598400115966797, -7.796999931335449, -7.798799991607666, -7.9045000076293945, -7.931700229644775, -8.050399780273438, -8.057999610900879, -8.059000015258789, -8.095100402832031, -8.136300086975098, -8.147700309753418, -7.400000095367432, -8.208200454711914, -8.227899551391602, -5.595200061798096, -7.204800128936768, -7.526599884033203, -6.674900054931641, -5.933499813079834, -7.227499961853027, -7.33050012588501, -6.198400020599365, -4.175300121307373, -4.471099853515625, -5.779200077056885, -4.776800155639648, -7.0625, -6.297699928283691, -6.139999866485596, -4.216100215911865, -5.95959997177124, -5.259699821472168, -4.071400165557861, -5.078999996185303, -4.60860013961792, -5.885300159454346, -4.166999816894531, -5.414700031280518, -5.8317999839782715, -5.76230001449585, -3.5432000160217285, -5.606299877166748, -5.126699924468994, -5.217899799346924, -4.714200019836426, -4.859099864959717, -3.821199893951416, -4.876800060272217, -4.0605998039245605, -4.744699954986572, -4.1255998611450195, -3.958400011062622, -4.791299819946289, -5.033699989318848, -4.496799945831299, -4.3125, -3.9756999015808105, -4.479700088500977, -4.901100158691406, -4.720099925994873, -4.980100154876709, -5.001999855041504, -4.739500045776367, -5.385499954223633, -5.7104997634887695, -5.843400001525879, -5.8470001220703125, -5.992800235748291, -6.144100189208984, -6.22160005569458, -6.465099811553955, -6.5742998123168945, -6.604599952697754, -6.629000186920166, -6.5152997970581055, -6.731100082397461, -6.906899929046631, -3.088599920272827, -6.910299777984619, -6.932199954986572, -6.343800067901611, -6.452199935913086, -6.9492998123168945, -6.964300155639648, -6.970200061798096, -6.9822998046875, -6.98330020904541, -7.002399921417236, -7.033999919891357, -7.041100025177002, -7.041600227355957, -7.081699848175049, -3.37719988822937, -5.793000221252441, -5.708099842071533, -5.558700084686279, -3.35260009765625, -4.394700050354004, -5.662499904632568, -5.1757001876831055, -5.642600059509277, -5.024099826812744, -5.472400188446045, -5.232399940490723, -3.3775999546051025, -5.4781999588012695, -3.5855000019073486, -4.338500022888184, -5.372300148010254, -5.025199890136719, -4.907400131225586, -5.109099864959717, -4.810299873352051, -5.100599765777588, -5.39300012588501, -4.582699775695801, -3.839400053024292, -5.173299789428711, -5.008200168609619, -5.0269999504089355, -4.719200134277344, -4.6880998611450195, -4.5416998863220215, -5.059199810028076, -4.6595001220703125, -5.047699928283691, -5.05709981918335, -5.006899833679199, -5.275599956512451, -5.1504998207092285], \"loglift\": [30.0, 29.0, 28.0, 27.0, 26.0, 25.0, 24.0, 23.0, 22.0, 21.0, 20.0, 19.0, 18.0, 17.0, 16.0, 15.0, 14.0, 13.0, 12.0, 11.0, 10.0, 9.0, 8.0, 7.0, 6.0, 5.0, 4.0, 3.0, 2.0, 1.0, 2.4342000484466553, 2.431999921798706, 2.4316999912261963, 2.4300999641418457, 2.4296000003814697, 2.428499937057495, 2.4274001121520996, 2.4270999431610107, 2.4245998859405518, 2.416300058364868, 2.4126999378204346, 2.4098000526428223, 2.4082000255584717, 2.4063000679016113, 2.4003000259399414, 2.397900104522705, 2.3970000743865967, 2.3956000804901123, 2.394200086593628, 2.3929998874664307, 2.390399932861328, 2.388000011444092, 2.382999897003174, 2.3824000358581543, 2.379199981689453, 2.3791000843048096, 2.3785998821258545, 2.376699924468994, 2.376699924468994, 2.3750998973846436, 2.3654000759124756, 2.310699939727783, 2.341200113296509, 2.1705000400543213, 2.1865999698638916, 2.2597999572753906, 2.1338999271392822, 2.2948999404907227, 2.0241000652313232, 1.8653000593185425, 1.9210000038146973, 1.590399980545044, 1.5779999494552612, 1.4040000438690186, 1.4113999605178833, 1.4363000392913818, 1.2237999439239502, 1.228600025177002, 0.9459999799728394, 0.8302000164985657, 1.3091000318527222, 1.3351999521255493, 1.5788999795913696, 0.4672999978065491, 1.2214000225067139, 1.0527000427246094, 1.205899953842163, 1.2389999628067017, 0.2379000037908554, 0.7024999856948853, 0.5411999821662903, -0.14399999380111694, -0.10379999876022339, -0.10920000076293945, -0.29120001196861267, 0.41990000009536743, -0.04309999942779541, 0.1347000002861023, 0.08720000088214874, 0.30480000376701355, 3.229599952697754, 3.2279999256134033, 3.226300001144409, 3.223900079727173, 3.22379994392395, 3.2183001041412354, 3.2172999382019043, 3.216399908065796, 3.214400053024292, 3.214099884033203, 3.210400104522705, 3.209700107574463, 3.2081000804901123, 3.2077999114990234, 3.20770001411438, 3.2067999839782715, 3.2060000896453857, 3.205399990081787, 3.2014000415802, 3.2011001110076904, 3.2004001140594482, 3.198499917984009, 3.1960999965667725, 3.1953999996185303, 3.194700002670288, 3.1946001052856445, 3.1940999031066895, 3.1928000450134277, 3.1919000148773193, 3.191200017929077, 3.127000093460083, 3.116300106048584, 3.0806000232696533, 3.0827999114990234, 2.9382998943328857, 3.1786999702453613, 2.9667999744415283, 2.822700023651123, 2.9993999004364014, 2.55430006980896, 2.8508999347686768, 2.7664999961853027, 3.0443999767303467, 1.6634000539779663, 2.5048000812530518, 1.740399956703186, 0.9182999730110168, 0.5710999965667725, 0.11840000003576279, 2.1865999698638916, 0.011900000274181366, -0.12399999797344208, -0.4453999996185303, 0.8184999823570251, -0.3605000078678131, 1.5155999660491943, 0.3903999924659729, 0.7167999744415283, 1.3033000230789185, 0.2976999878883362, -0.10909999907016754, 4.034800052642822, 4.021599769592285, 4.021200180053711, 4.020500183105469, 4.018799781799316, 4.0183000564575195, 4.018099784851074, 4.015100002288818, 4.004499912261963, 4.0005998611450195, 3.999799966812134, 3.998300075531006, 3.9955999851226807, 3.9888999462127686, 3.9860000610351562, 3.9800000190734863, 3.9786999225616455, 3.9783999919891357, 3.9756999015808105, 3.9746999740600586, 3.9700000286102295, 3.969099998474121, 3.9684998989105225, 3.967600107192993, 3.9672000408172607, 3.965100049972534, 3.9649999141693115, 3.9647998809814453, 3.963399887084961, 3.961199998855591, 3.952899932861328, 3.8359999656677246, 3.893899917602539, 3.8338000774383545, 3.797800064086914, 3.6663999557495117, 3.5292999744415283, 3.5673999786376953, 3.8965001106262207, 3.600800037384033, 3.328399896621704, 3.656899929046631, 3.319700002670288, 3.5385000705718994, 3.7720000743865967, 3.3296000957489014, 2.301300048828125, 3.600800037384033, 3.631999969482422, 2.699700117111206, 2.16129994392395, 2.504499912261963, 2.7242000102996826, 2.94350004196167, 0.5414000153541565, 2.172800064086914, 1.8703999519348145, 1.1495000123977661, 0.7287999987602234, 2.1935999393463135, 3.1335999965667725, 1.0247999429702759, 0.8497999906539917, 1.107200026512146, 0.1703999936580658, 3.1851999759674072, 3.180299997329712, 3.1763999462127686, 3.1709001064300537, 3.1673998832702637, 3.167099952697754, 3.1663999557495117, 3.1640000343322754, 3.162400007247925, 3.161400079727173, 3.161099910736084, 3.158600091934204, 3.156399965286255, 3.152100086212158, 3.149600028991699, 3.143199920654297, 3.1426000595092773, 3.1422998905181885, 3.1387999057769775, 3.138700008392334, 3.1377999782562256, 3.134200096130371, 3.1298999786376953, 3.127700090408325, 3.1259000301361084, 3.1257998943328857, 3.125699996948242, 3.1233999729156494, 3.123199939727783, 3.1184000968933105, 3.089200019836426, 2.9885001182556152, 3.039900064468384, 2.986799955368042, 2.797800064086914, 2.7811999320983887, 2.7276999950408936, 2.723299980163574, 2.620800018310547, 2.659600019454956, 1.8519999980926514, 2.4170000553131104, 2.4068000316619873, 2.2492001056671143, 1.9283000230789185, 0.8012999892234802, 2.518699884414673, 1.3056999444961548, 0.6226999759674072, 2.244800090789795, 0.18320000171661377, -0.2865000069141388, -0.31859999895095825, 1.0688999891281128, 0.20430000126361847, 1.3336999416351318, -0.22519999742507935, 0.7188000082969666, 0.9196000099182129, -0.5544999837875366, 0.42570000886917114, 0.7811999917030334, 3.2004001140594482, 3.199700117111206, 3.1923000812530518, 3.1884000301361084, 3.185800075531006, 3.1842000484466553, 3.1821000576019287, 3.1819000244140625, 3.1798999309539795, 3.1791000366210938, 3.1786999702453613, 3.1744000911712646, 3.172499895095825, 3.1723999977111816, 3.171099901199341, 3.1637001037597656, 3.1617000102996826, 3.161400079727173, 3.1598000526428223, 3.1594998836517334, 3.1591999530792236, 3.156899929046631, 3.156399965286255, 3.1552999019622803, 3.154900074005127, 3.1507999897003174, 3.1496999263763428, 3.149600028991699, 3.1491000652313232, 3.148200035095215, 3.120699882507324, 2.928800106048584, 3.071500062942505, 2.9751999378204346, 2.8954999446868896, 2.8041000366210938, 3.032399892807007, 2.812299966812134, 2.9540998935699463, 2.441200017929077, 2.6684999465942383, 2.608799934387207, 2.433199882507324, 2.8886001110076904, 2.5299999713897705, 2.7753000259399414, 2.4340999126434326, 0.9103000164031982, 2.509000062942505, 1.201799988746643, 0.35740000009536743, 1.5492000579833984, 1.4336999654769897, 1.6430000066757202, 0.07440000027418137, 2.0423998832702637, 2.265700101852417, 0.8917999863624573, 0.8848000168800354, 1.128999948501587, 0.41780000925064087, -0.1923000067472458, 1.3003000020980835, 0.39809998869895935, 0.9139000177383423, 1.0462000370025635, 0.6043999791145325, -0.1891999989748001, 0.2770000100135803, -0.8314999938011169, -0.1145000010728836, -0.7986999750137329, -1.1540000438690186, 2.454699993133545, 2.4512999057769775, 2.4505999088287354, 2.4500999450683594, 2.4488000869750977, 2.447700023651123, 2.447700023651123, 2.4463000297546387, 2.4433000087738037, 2.439500093460083, 2.438699960708618, 2.436300039291382, 2.434499979019165, 2.4303998947143555, 2.429500102996826, 2.4289000034332275, 2.427500009536743, 2.427500009536743, 2.427000045776367, 2.4235000610351562, 2.4233999252319336, 2.4214999675750732, 2.421299934387207, 2.4179999828338623, 2.416300058364868, 2.4135000705718994, 2.412100076675415, 2.410900115966797, 2.410799980163574, 2.4103000164031982, 2.401099920272827, 2.3601999282836914, 2.2971999645233154, 2.3438000679016113, 2.381700038909912, 2.121299982070923, 1.9387999773025513, 2.0557000637054443, 1.9407999515533447, 2.074199914932251, 1.7474000453948975, 1.906999945640564, 1.8245999813079834, 1.8070000410079956, 1.8651000261306763, 1.6140999794006348, 1.5901000499725342, 1.773900032043457, 1.9641000032424927, 1.2542999982833862, 0.5429999828338623, 1.3975000381469727, 0.6660000085830688, 0.5684000253677368, 0.10400000214576721, 0.6837999820709229, -0.13570000231266022, 0.7664999961853027, 0.07800000160932541, -0.3010999858379364, 0.3564000129699707, 0.2903999984264374, -0.6360999941825867, 0.28139999508857727, 2.304500102996826, 2.3025999069213867, 2.2976999282836914, 2.2957000732421875, 2.2943999767303467, 2.293299913406372, 2.292099952697754, 2.291100025177002, 2.2904999256134033, 2.2899999618530273, 2.285399913787842, 2.285399913787842, 2.283799886703491, 2.283400058746338, 2.282399892807007, 2.282099962234497, 2.2813000679016113, 2.2809998989105225, 2.280400037765503, 2.2802999019622803, 2.279400110244751, 2.278899908065796, 2.278599977493286, 2.2780001163482666, 2.2780001163482666, 2.277899980545044, 2.2776999473571777, 2.2750000953674316, 2.274199962615967, 2.2739999294281006, 2.2614998817443848, 2.1106998920440674, 2.0822999477386475, 2.112600088119507, 2.1396000385284424, 1.6547000408172607, 1.9538999795913696, 1.9357000589370728, 1.623900055885315, 2.140500068664551, 1.8523999452590942, 1.892300009727478, 1.8730000257492065, 2.0576000213623047, 1.8604999780654907, 1.6786999702453613, 1.3357000350952148, 1.3617000579833984, 1.2105000019073486, 1.3765000104904175, 0.8697999715805054, 1.1694999933242798, 0.6830999851226807, 0.8582000136375427, 1.0497000217437744, 1.200700044631958, 1.4270999431610107, 1.3071000576019287, 0.3093999922275543, 0.20800000429153442, 1.0712000131607056, 0.9488000273704529, 0.3070000112056732, 0.5271000266075134, 1.200700044631958, 0.7368999719619751, 0.6373999714851379, 0.46810001134872437, 0.7440000176429749, 0.7240999937057495, 0.10350000113248825, 0.4564000070095062, 1.067199945449829, 0.396699994802475, -0.6840000152587891, -0.24529999494552612, 0.5453000068664551, -0.027699999511241913, 4.045100212097168, 4.033699989318848, 4.030900001525879, 4.024600028991699, 4.023499965667725, 4.02269983291626, 4.022299766540527, 4.020999908447266, 4.017099857330322, 4.015699863433838, 4.013000011444092, 4.011000156402588, 4.009699821472168, 4.007800102233887, 4.00629997253418, 4.0019001960754395, 3.999000072479248, 3.999000072479248, 3.992000102996826, 3.990000009536743, 3.988600015640259, 3.987799882888794, 3.98580002784729, 3.984800100326538, 3.9814000129699707, 3.980799913406372, 3.9784998893737793, 3.9783999919891357, 3.9772000312805176, 3.9737000465393066, 3.9346001148223877, 3.707200050354004, 3.799499988555908, 3.6270999908447266, 3.35260009765625, 3.4784998893737793, 3.462100028991699, 2.627000093460083, 2.6171998977661133, 2.9056999683380127, 2.8717000484466553, 2.239300012588501, 1.5964000225067139, 3.0557000637054443, 1.49399995803833, 2.8554000854492188, 0.972100019454956, 1.7071000337600708, 2.331899881362915, 2.435699939727783, 1.0118999481201172, 1.4855999946594238, 0.7329999804496765, -0.2037000060081482, 1.2075999975204468, 1.595900058746338, -0.5659999847412109, -0.6818000078201294, -0.9239000082015991, 3.305299997329712, 3.2943999767303467, 3.2929000854492188, 3.285599946975708, 3.279900074005127, 3.278700113296509, 3.2776999473571777, 3.2762999534606934, 3.2762999534606934, 3.275899887084961, 3.2753000259399414, 3.2708001136779785, 3.269700050354004, 3.2685999870300293, 3.266200065612793, 3.263400077819824, 3.2506000995635986, 3.250499963760376, 3.249300003051758, 3.2488999366760254, 3.248699903488159, 3.2474000453948975, 3.2474000453948975, 3.2383999824523926, 3.2372000217437744, 3.2365000247955322, 3.234999895095825, 3.232800006866455, 3.2288999557495117, 3.2284998893737793, 3.2037999629974365, 3.1424999237060547, 3.123800039291382, 3.119499921798706, 3.144700050354004, 3.16759991645813, 2.845400094985962, 3.0378000736236572, 2.5850000381469727, 2.999000072479248, 3.0852999687194824, 2.928800106048584, 2.470599889755249, 2.9509999752044678, 1.9902000427246094, 2.029599905014038, 1.4853999614715576, 2.410099983215332, 1.7759000062942505, 2.393899917602539, 0.9387000203132629, 2.489300012588501, 1.1420999765396118, 1.7511999607086182, 1.3716000318527222, 2.2908999919891357, 1.5785000324249268, 1.6397000551223755, 0.8396000266075134, 1.7472000122070312, 0.7275000214576721, 0.6370000243186951, 1.4464000463485718, 1.2143000364303589, 1.9599000215530396, 0.1889999955892563, 1.0319000482559204, 1.3602999448776245, 1.3176000118255615, 1.2482000589370728, 1.6406999826431274, 0.8180999755859375, 0.5985000133514404, 0.8651000261306763, 0.9358000159263611, 3.0859999656677246, 3.079900026321411, 3.072999954223633, 3.0729000568389893, 3.0689001083374023, 3.0666000843048096, 3.0650999546051025, 3.0648000240325928, 3.064199924468994, 3.0625, 3.0622000694274902, 3.0615999698638916, 3.05649995803833, 3.044600009918213, 3.0436999797821045, 3.043100118637085, 3.0413999557495117, 3.0399999618530273, 3.0385000705718994, 3.0373001098632812, 3.033799886703491, 3.032900094985962, 3.029599905014038, 3.028700113296509, 3.025700092315674, 3.0244998931884766, 3.022900104522705, 3.0220000743865967, 3.0204999446868896, 3.016900062561035, 2.968100070953369, 2.97979998588562, 2.999799966812134, 2.965399980545044, 2.9186999797821045, 2.9767000675201416, 2.927500009536743, 2.6500000953674316, 2.471400022506714, 2.4530999660491943, 2.8048999309539795, 2.2578001022338867, 2.818000078201294, 2.5436999797821045, 2.6733999252319336, 2.6884000301361084, 2.5757999420166016, 2.295300006866455, 2.315200090408325, 1.6708999872207642, 2.4558000564575195, 1.572100043296814, 0.838100016117096, 2.1579999923706055, 0.614300012588501, 1.2940000295639038, 1.3313000202178955, 0.250900000333786, 0.9592999815940857, 0.6363000273704529, 1.1008000373840332, 0.3817000091075897, 0.9988999962806702, 0.18790000677108765, 0.4316999912261963, 0.6571000218391418, 1.152899980545044, 0.47380000352859497, 1.378999948501587, 0.5296000242233276, -0.4311999976634979, -0.7360000014305115, -0.2856000065803528, 0.6129000186920166, 0.2980000078678131, 2.802799940109253, 2.789099931716919, 2.7857000827789307, 2.7853000164031982, 2.7850000858306885, 2.7848000526428223, 2.784600019454956, 2.7827000617980957, 2.7811999320983887, 2.780900001525879, 2.7757999897003174, 2.7757999897003174, 2.774399995803833, 2.773900032043457, 2.7736001014709473, 2.773099899291992, 2.771699905395508, 2.7715001106262207, 2.771399974822998, 2.771199941635132, 2.7692999839782715, 2.7678000926971436, 2.7662999629974365, 2.765399932861328, 2.761699914932251, 2.7599000930786133, 2.7597999572753906, 2.759700059890747, 2.7590999603271484, 2.7578999996185303, 2.7532999515533447, 2.7504000663757324, 2.74429988861084, 2.6953999996185303, 2.7244999408721924, 2.72379994392395, 2.684299945831299, 2.7005999088287354, 2.62280011177063, 2.6963999271392822, 2.6305999755859375, 2.6419999599456787, 2.674299955368042, 2.7286999225616455, 2.4809999465942383, 2.6714999675750732, 2.6600000858306885, 2.1738998889923096, 2.0555999279022217, 2.2623000144958496, 2.377500057220459, 2.184799909591675, 2.448699951171875, 2.0717999935150146, 2.4484000205993652, 2.238300085067749, 1.7101999521255493, 2.540299892425537, 1.3285000324249268, 1.5533000230789185, 1.3723000288009644, 2.2906999588012695, 0.26179999113082886, 0.8820000290870667, 1.7436000108718872, 1.412500023841858, -0.1315000057220459, 1.4062000513076782, 1.0198999643325806, 1.6023999452590942, -0.2493000030517578, 0.18459999561309814, 0.6442000269889832, 0.059700001031160355, -0.60589998960495, 0.8287000060081482, 0.12319999933242798, 0.5993000268936157, 0.754800021648407, 0.13930000364780426, 0.9431999921798706, 2.107800006866455, 2.083400011062622, 2.0787999629974365, 2.0764000415802, 2.069700002670288, 2.0678999423980713, 2.0673999786376953, 2.066200017929077, 2.0629000663757324, 2.0596001148223877, 2.057300090789795, 2.051100015640259, 2.0508999824523926, 2.050800085067749, 2.047600030899048, 2.045599937438965, 2.0441999435424805, 2.042799949645996, 2.04259991645813, 2.041800022125244, 2.0409998893737793, 2.037600040435791, 2.0364999771118164, 2.033600091934204, 2.033099889755249, 2.032099962234497, 2.029099941253662, 2.0280001163482666, 2.0272998809814453, 2.025899887084961, 2.0099000930786133, 2.0174999237060547, 1.8691999912261963, 1.9738999605178833, 1.7496000528335571, 1.6331000328063965, 1.8667000532150269, 1.760699987411499, 1.750599980354309, 1.6019999980926514, 1.8782999515533447, 1.8700000047683716, 1.482800006866455, 1.2436000108718872, 1.4355000257492065, 1.0544999837875366, 1.2170000076293945, 1.4284000396728516, 1.4941999912261963, 1.4336999654769897, 0.9041000008583069, 1.2718000411987305, 1.2776999473571777, 1.287600040435791, 0.7472000122070312, 1.6141999959945679, 1.0600999593734741, 1.054800033569336, 0.7822999954223633, 1.1820000410079956, 1.468999981880188, 1.1145000457763672, 0.9916999936103821, 1.2007999420166016, 1.2288999557495117, 0.6086999773979187, 0.8378000259399414, 0.8230000138282776, 0.3124000132083893, 0.49619999527931213, 0.8720999956130981, 0.5760999917984009, 0.2280000001192093, 0.7824000120162964, 0.3278999924659729, 3.0678999423980713, 3.0652999877929688, 3.063699960708618, 3.0620999336242676, 3.059499979019165, 3.059299945831299, 3.0592000484466553, 3.0562000274658203, 3.052000045776367, 3.0515999794006348, 3.051500082015991, 3.051300048828125, 3.0473999977111816, 3.044100046157837, 3.0439000129699707, 3.043800115585327, 3.0427000522613525, 3.041100025177002, 3.040800094604492, 3.0383999347686768, 3.0374999046325684, 3.036799907684326, 3.036400079727173, 3.03629994392395, 3.0348000526428223, 3.03439998626709, 3.030900001525879, 3.030100107192993, 3.0292999744415283, 3.02839994430542, 3.0130999088287354, 2.9932000637054443, 3.0139999389648438, 2.8761000633239746, 2.8545000553131104, 2.93530011177063, 2.9709999561309814, 2.936800003051758, 2.6851000785827637, 2.784899950027466, 2.272200107574463, 2.721299886703491, 2.47379994392395, 2.2551000118255615, 2.039099931716919, 1.371399998664856, 2.0815000534057617, 1.6611000299453735, 1.5987999439239502, 2.00570011138916, 0.551800012588501, 0.9271000027656555, 1.2558000087738037, 1.4931999444961548, 0.9473999738693237, 1.441100001335144, 1.5430999994277954, 0.8122000098228455, 1.7060999870300293, 2.053800106048584, 0.06499999761581421, 0.7268999814987183, 0.125, -0.23340000212192535, 0.949999988079071, 0.532800018787384, 0.29260000586509705, 0.6647999882698059, 0.07729999721050262, 0.39430001378059387, -0.7718999981880188, -0.24690000712871552, 1.5254000425338745, 1.5226999521255493, 1.5211000442504883, 1.5175000429153442, 1.517300009727478, 1.5144000053405762, 1.5133999586105347, 1.510699987411499, 1.510599970817566, 1.5098999738693237, 1.5096999406814575, 1.5085999965667725, 1.5078999996185303, 1.507699966430664, 1.507099986076355, 1.5053999423980713, 1.503999948501587, 1.4991999864578247, 1.4990999698638916, 1.4961999654769897, 1.4916000366210938, 1.4915000200271606, 1.4912999868392944, 1.4911999702453613, 1.4900000095367432, 1.4884999990463257, 1.4881000518798828, 1.4859000444412231, 1.485700011253357, 1.4848999977111816, 1.4672000408172607, 1.4812999963760376, 1.4839999675750732, 1.4739999771118164, 1.451200008392334, 1.475000023841858, 1.4745999574661255, 1.437999963760376, 1.3638999462127686, 1.3711999654769897, 1.4124000072479248, 1.357800006866455, 1.4551000595092773, 1.3937000036239624, 1.3698999881744385, 1.1789000034332275, 1.3494999408721924, 1.2760000228881836, 1.1342999935150146, 1.2319999933242798, 1.1660000085830688, 1.3098000288009644, 1.072100043296814, 1.2359000444412231, 1.2904000282287598, 1.2714999914169312, 0.8860999941825867, 1.2418999671936035, 1.1563999652862549, 1.113700032234192, 0.979200005531311, 0.9739000201225281, 0.6176999807357788, 0.9563000202178955, 0.5924000144004822, 0.8208000063896179, 0.5094000101089478, 0.4244999885559082, 0.8011000156402588, 0.8909000158309937, 0.5371000170707703, 0.382999986410141, 0.050599999725818634, 0.37130001187324524, 0.6787999868392944, 0.36340001225471497, 0.6565999984741211, 0.08179999887943268, 3.0446999073028564, 3.039299964904785, 3.035099983215332, 3.032900094985962, 3.0327999591827393, 3.030100107192993, 3.0267999172210693, 3.024899959564209, 3.0178000926971436, 3.01419997215271, 3.0130999088287354, 3.012200117111206, 3.0107998847961426, 3.00819993019104, 3.0002999305725098, 3.0002999305725098, 3.0000998973846436, 2.999000072479248, 2.998500108718872, 2.998199939727783, 2.998199939727783, 2.9974000453948975, 2.9971001148223877, 2.9964001178741455, 2.9964001178741455, 2.9953999519348145, 2.9937000274658203, 2.993299961090088, 2.9932000637054443, 2.990999937057495, 2.9453999996185303, 2.964900016784668, 2.9526000022888184, 2.9365999698638916, 2.8203999996185303, 2.8413000106811523, 2.9168999195098877, 2.877700090408325, 2.9042999744415283, 2.810699939727783, 2.846299886703491, 2.8076000213623047, 2.5673000812530518, 2.7785000801086426, 2.2614998817443848, 2.4309000968933105, 2.703200101852417, 2.424999952316284, 2.296799898147583, 2.343400001525879, 2.154099941253662, 2.21560001373291, 2.4210000038146973, 1.6875, 0.5898000001907349, 1.815000057220459, 1.4807000160217285, 1.5132999420166016, 0.82669997215271, 0.6563000082969666, -0.10270000249147415, 1.083299994468689, -0.421099990606308, 0.7714999914169312, 0.7416999936103821, 0.4717000126838684, 1.7395999431610107, -0.23420000076293945]}, \"token.table\": {\"Topic\": [14, 7, 14, 11, 14, 13, 11, 3, 3, 2, 10, 9, 7, 13, 1, 2, 3, 4, 5, 6, 7, 8, 9, 10, 11, 12, 13, 14, 15, 1, 2, 4, 5, 8, 12, 13, 14, 1, 6, 8, 9, 10, 12, 13, 15, 10, 13, 11, 9, 12, 1, 2, 4, 6, 7, 11, 13, 14, 14, 7, 9, 14, 14, 14, 1, 2, 5, 6, 10, 11, 12, 13, 14, 13, 14, 1, 2, 6, 8, 9, 10, 15, 6, 7, 8, 11, 12, 14, 1, 1, 2, 5, 6, 7, 9, 14, 15, 4, 13, 7, 13, 1, 10, 12, 13, 14, 5, 6, 9, 10, 11, 12, 15, 9, 14, 1, 12, 2, 14, 2, 5, 15, 11, 1, 8, 9, 10, 12, 13, 15, 1, 2, 3, 4, 5, 6, 7, 8, 9, 10, 11, 12, 13, 14, 15, 5, 15, 2, 4, 5, 6, 7, 9, 11, 14, 2, 8, 4, 2, 10, 11, 12, 13, 14, 12, 13, 13, 10, 11, 12, 13, 14, 6, 7, 9, 11, 13, 7, 11, 12, 3, 2, 6, 8, 1, 2, 3, 5, 6, 8, 10, 11, 12, 14, 1, 2, 5, 14, 10, 5, 1, 2, 3, 4, 6, 9, 10, 12, 15, 10, 11, 15, 4, 1, 2, 7, 9, 12, 13, 14, 11, 14, 3, 8, 9, 10, 11, 12, 14, 5, 1, 2, 5, 6, 7, 10, 12, 15, 2, 3, 5, 7, 8, 13, 14, 13, 7, 11, 5, 8, 11, 6, 3, 3, 2, 14, 9, 2, 6, 8, 10, 11, 12, 10, 11, 1, 4, 5, 6, 15, 5, 8, 3, 7, 10, 10, 10, 6, 4, 7, 3, 5, 7, 5, 5, 10, 2, 15, 1, 5, 9, 5, 1, 6, 15, 11, 15, 2, 8, 2, 3, 9, 15, 8, 13, 15, 3, 10, 1, 10, 2, 4, 7, 11, 13, 14, 14, 5, 6, 4, 7, 11, 13, 7, 1, 2, 2, 8, 9, 11, 14, 12, 8, 15, 15, 1, 2, 4, 5, 8, 15, 1, 7, 15, 8, 1, 6, 10, 12, 15, 15, 1, 4, 11, 1, 2, 3, 6, 7, 15, 11, 14, 8, 11, 13, 1, 1, 1, 2, 3, 8, 15, 8, 13, 15, 11, 15, 1, 2, 4, 5, 6, 10, 12, 13, 14, 15, 8, 4, 12, 3, 4, 5, 5, 3, 15, 1, 6, 7, 11, 12, 13, 14, 1, 2, 4, 5, 6, 7, 11, 12, 13, 14, 2, 15, 6, 10, 13, 5, 8, 13, 15, 6, 1, 3, 12, 1, 2, 5, 6, 7, 8, 9, 10, 11, 12, 13, 14, 15, 13, 9, 11, 8, 9, 3, 12, 14, 1, 3, 4, 5, 6, 7, 9, 14, 15, 2, 3, 6, 14, 1, 4, 7, 10, 11, 12, 13, 14, 15, 1, 2, 3, 5, 3, 1, 2, 3, 4, 5, 6, 7, 8, 9, 11, 12, 13, 14, 15, 5, 11, 1, 3, 9, 11, 5, 10, 13, 15, 5, 6, 10, 6, 12, 2, 6, 13, 15, 1, 3, 4, 5, 6, 15, 3, 8, 12, 4, 15, 10, 3, 6, 9, 12, 14, 10, 13, 2, 12, 8, 1, 2, 4, 5, 6, 7, 8, 9, 10, 11, 12, 13, 14, 15, 2, 6, 1, 2, 5, 10, 12, 13, 13, 8, 1, 1, 2, 4, 5, 6, 8, 9, 10, 12, 13, 14, 15, 1, 6, 8, 9, 10, 12, 13, 15, 13, 1, 4, 6, 14, 4, 12, 1, 2, 3, 6, 7, 8, 9, 10, 12, 14, 15, 3, 6, 12, 15, 11, 7, 11, 14, 1, 4, 5, 6, 7, 9, 12, 14, 15, 10, 1, 4, 8, 7, 8, 11, 12, 14, 4, 4, 13, 10, 1, 15, 15, 2, 3, 6, 7, 8, 10, 11, 12, 13, 14, 15, 1, 2, 5, 7, 8, 9, 11, 14, 4, 11, 14, 1, 13, 1, 1, 2, 4, 5, 6, 7, 8, 9, 10, 11, 12, 13, 14, 15, 5, 6, 5, 2, 8, 2, 2, 8, 13, 2, 9, 13, 6, 1, 2, 4, 5, 6, 7, 9, 10, 11, 12, 13, 14, 15, 11, 12, 1, 2, 3, 4, 6, 7, 9, 10, 12, 14, 15, 1, 2, 4, 7, 8, 9, 10, 11, 12, 14, 15, 9, 1, 2, 5, 6, 7, 8, 9, 10, 11, 12, 13, 14, 15, 1, 6, 9, 10, 12, 13, 15, 12, 13, 9, 11, 14, 12, 2, 4, 5, 6, 7, 9, 10, 11, 12, 13, 14, 15, 2, 7, 1, 5, 1, 4, 7, 9, 11, 12, 13, 14, 1, 2, 4, 6, 7, 8, 9, 10, 11, 12, 14, 15, 1, 4, 6, 10, 12, 13, 15, 1, 2, 4, 5, 6, 7, 11, 12, 13, 14, 15, 1, 11, 10, 13, 15, 1, 4, 5, 7, 12, 14, 1, 2, 4, 5, 6, 7, 8, 10, 11, 12, 13, 14, 15, 4, 11, 15, 1, 2, 3, 4, 5, 6, 7, 9, 10, 11, 12, 13, 14, 15, 3, 6, 10, 1, 2, 4, 5, 6, 9, 12, 13, 15, 2, 5, 8, 8, 11, 8, 1, 2, 5, 6, 7, 8, 9, 10, 11, 12, 13, 14, 15, 11, 12, 3, 7, 9, 2, 6, 7, 9, 11, 13, 14, 15, 8, 5, 15, 1, 2, 3, 4, 5, 6, 8, 9, 10, 12, 13, 15, 3, 4, 7, 10, 14, 1, 2, 5, 6, 9, 10, 12, 13, 15, 8, 1, 3, 5, 6, 7, 14, 15, 11, 12, 14, 1, 4, 6, 10, 15, 9, 11, 1, 8, 12, 13, 6, 8, 12, 1, 2, 3, 4, 5, 6, 7, 8, 9, 10, 11, 12, 13, 14, 15, 6, 10, 14, 6, 15, 1, 2, 4, 5, 6, 7, 9, 11, 12, 13, 14, 3, 1, 2, 5, 7, 9, 10, 11, 12, 13, 14, 9, 14, 1, 2, 3, 4, 5, 6, 7, 8, 9, 10, 11, 12, 13, 14, 15, 1, 2, 3, 4, 5, 6, 7, 8, 9, 10, 11, 12, 13, 14, 15, 10, 11, 11, 5, 3, 5, 1, 10, 1, 3, 4, 6, 7, 8, 9, 10, 11, 12, 13, 14, 15, 1, 1, 2, 6, 8, 13, 15, 1, 2, 6, 8, 9, 11, 12, 15, 3, 6, 5, 2, 1, 2, 4, 7, 9, 10, 11, 12, 13, 14, 1, 12, 7, 4, 5, 8, 15, 1, 2, 6, 7, 8, 10, 11, 12, 14, 15, 5, 1, 4, 5, 8, 12, 13, 7, 1, 6, 9, 12, 13, 14, 9, 15, 1, 2, 4, 5, 6, 7, 9, 10, 11, 14, 15, 1, 9, 10, 12, 15, 7, 3, 1, 2, 3, 7, 13, 14, 2, 11, 2, 6, 7, 9, 14, 9, 14, 1, 2, 4, 5, 6, 8, 11, 12, 13, 14, 15, 7, 10, 11, 12, 14, 1, 3, 6, 11, 14, 12, 1, 1, 2, 3, 5, 6, 7, 12, 14, 15, 1, 9, 14, 6, 13, 14, 1, 7, 9, 9, 13, 7, 9, 5, 1, 5, 6, 7, 8, 11, 13, 14, 15, 14, 3, 13, 9, 7, 12, 10, 1, 4, 12, 13, 15, 15, 10, 6, 4, 9, 9, 11, 12, 14, 5, 2, 1, 9, 1, 9, 11, 2, 5, 6, 7, 9, 11, 12, 13, 14, 5, 2, 1, 2, 4, 7, 10, 11, 12, 13, 14, 15, 10, 5, 1, 2, 4, 5, 6, 7, 9, 11, 12, 13, 14, 15, 1, 3, 4, 2, 7, 8, 7, 11, 1, 4, 5, 6, 8, 9, 11, 12, 13, 15, 8, 7, 11, 14, 10, 11, 14, 8, 2, 4, 6, 7, 8, 9, 11, 12, 14, 1, 5, 2, 6, 15, 1, 3, 4, 5, 7, 8, 13, 15, 15, 1, 2, 3, 4, 5, 6, 7, 8, 10, 11, 12, 13, 14, 15, 1, 2, 3, 4, 5, 6, 7, 8, 9, 10, 11, 12, 13, 14, 15, 12, 3, 1, 4, 8, 10, 12, 13, 1, 2, 4, 7, 9, 11, 12, 14, 15, 6, 2, 4, 6, 7, 8, 11, 12, 14, 1, 2, 3, 4, 5, 6, 7, 10, 11, 12, 13, 14, 15, 1, 2, 4, 5, 6, 7, 8, 10, 11, 12, 13, 14, 15, 7, 11, 13, 11, 1, 2, 4, 5, 6, 8, 9, 10, 11, 12, 13, 15, 11, 1, 5, 6, 7, 8, 9, 10, 11, 12, 14, 15, 15, 15, 7, 7, 13, 1, 2, 3, 4, 5, 6, 7, 8, 9, 10, 11, 12, 13, 14, 15, 3, 3, 7, 8, 12, 9, 14, 4, 2, 9, 12, 4, 6, 8, 11, 7, 2, 3, 9, 1, 2, 4, 5, 6, 7, 11, 13, 14, 15, 1, 2, 3, 5, 6, 7, 9, 11, 12, 14, 15, 1, 2, 4, 5, 6, 7, 8, 15, 3, 4, 1, 3, 4, 5, 6, 7, 13, 15, 1, 2, 5, 6, 7, 10, 11, 12, 13, 14, 15, 7, 1, 2, 12, 10, 12, 5, 7, 8, 12, 4, 8, 14, 1, 5, 15, 8, 14, 6, 10, 15, 5, 9, 13, 13, 4, 10, 5, 8, 13, 14, 4, 15, 1, 2, 3, 4, 5, 6, 7, 8, 9, 10, 11, 12, 13, 14, 15, 5, 10, 11, 13, 2, 11, 12, 12, 12, 1, 2, 4, 5, 6, 7, 9, 11, 12, 13, 14, 15, 1, 2, 4, 5, 6, 7, 8, 9, 11, 12, 14, 1, 2, 4, 6, 7, 9, 10, 11, 12, 13, 14, 15, 1, 2, 4, 5, 6, 7, 8, 9, 10, 11, 12, 13, 14, 15, 9, 2, 3, 4, 7, 10, 11, 12, 13, 14, 10, 11, 11, 12, 6, 13, 2, 3, 5, 6, 7, 8, 11, 14, 7, 1, 4, 13, 9, 11, 6, 5, 5, 1, 2, 3, 4, 5, 6, 7, 8, 9, 10, 11, 12, 13, 14, 15, 6, 15, 4, 6, 11, 14, 1, 2, 5, 6, 7, 8, 11, 12, 13, 14, 15, 3, 7, 8, 1, 4, 5, 6, 7, 8, 10, 11, 12, 13, 12, 3, 6, 13, 1, 2, 3, 4, 5, 6, 7, 8, 9, 10, 11, 12, 13, 14, 15, 3, 9, 9, 10, 12, 13, 3, 1, 7, 8, 11, 13, 14, 15, 1, 3, 9, 10, 13, 4, 1, 6, 7, 9, 10, 12, 13, 14, 6, 1, 6, 11, 5, 5, 5, 4, 4, 7, 11, 11, 12, 13, 4, 9, 11, 14, 3, 4, 9, 15, 4, 2, 15, 12, 13, 14, 15, 5, 7, 15, 3, 1, 2, 5, 6, 7, 11, 12, 13, 14, 4, 13, 9, 11, 6, 4, 11, 14, 2, 3, 11, 15, 3, 15, 2, 4, 15, 2, 3, 4, 5, 6, 7, 14, 15, 15, 4, 7, 5, 1, 1, 4, 9, 1, 2, 3, 4, 5, 6, 7, 8, 9, 10, 11, 12, 13, 14, 15, 10, 11, 12, 13, 11, 1, 5, 6, 7, 9, 12, 14, 10, 15, 9, 1, 2, 7, 14, 2, 12, 4, 6, 15, 1, 2, 5, 6, 8, 10, 12, 2, 3, 5, 15, 15, 3, 1, 2, 3, 9, 14, 1, 2, 4, 5, 6, 7, 10, 11, 12, 12, 14, 11, 7, 12, 13, 3, 3, 10, 6, 13, 2, 1, 2, 5, 6, 7, 9, 10, 12, 13, 14, 8, 10, 6, 3, 5, 6, 2, 3, 7, 11, 13, 14, 1, 2, 3, 4, 5, 6, 7, 8, 9, 10, 11, 12, 13, 14, 15, 14, 2, 4, 7, 9, 14, 1, 4, 6, 7, 9, 10, 11, 12, 13, 14, 1, 2, 4, 6, 8, 10, 15, 8, 14, 3, 12, 13, 8, 5, 7, 7, 11, 14, 14, 1, 2, 5, 6, 7, 9, 10, 11, 12, 14, 10, 1, 2, 3, 4, 5, 6, 7, 9, 11, 12, 14, 4, 11, 12, 2, 6, 8, 14, 15, 7, 2, 10, 14, 1, 5, 8, 11, 6, 10, 13, 14, 7, 11, 12, 13, 14, 1, 13, 14, 15, 1, 4, 6, 7, 11, 14, 4, 10, 1, 4, 6, 9, 10, 15, 6, 8, 9, 10, 2, 2, 1, 1, 8, 15, 3, 10, 1, 2, 3, 4, 6, 15, 3, 4, 5, 15, 1, 2, 4, 5, 6, 7, 9, 11, 13, 14, 15, 4, 3, 13, 14, 5, 6, 10, 5, 11, 12, 13, 14, 14, 1, 2, 1, 2, 5, 6, 7, 9, 10, 11, 12, 13, 14, 1, 10, 12, 13, 9, 10, 12, 14, 15, 1, 2, 3, 5, 6, 7, 8, 9, 10, 11, 12, 14, 15, 6, 9, 9, 1, 6, 7, 8, 11, 12, 13, 15, 1, 9, 1, 13, 12, 15, 2, 8, 1, 3, 6, 10, 1, 2, 3, 4, 5, 6, 7, 8, 10, 11, 12, 14, 15, 1, 2, 4, 6, 7, 9, 10, 11, 12, 13, 14, 12, 5, 7, 10, 11, 12, 13, 14, 5, 9, 6, 4, 5, 6, 15, 1, 2, 7, 8, 12, 1, 2, 4, 5, 6, 10, 11, 12, 13, 14, 15, 5, 6, 7, 9, 15, 15, 15, 1, 2, 4, 6, 7, 14, 2, 6, 11, 14, 1, 2, 4, 5, 6, 7, 8, 9, 10, 11, 12, 13, 14, 15, 1, 8, 6, 10, 15, 13, 3, 3, 1, 11, 4, 5, 6, 10, 12, 13, 14, 15, 4, 6, 6, 1, 6, 10, 3, 10, 11, 12, 1, 2, 7, 10, 12, 13, 3, 6, 11, 1, 9, 10, 11, 12, 13, 14, 2, 5, 2, 6, 7, 13, 14, 1, 2, 3, 4, 5, 6, 7, 9, 11, 14, 11, 13, 14, 1, 2, 3, 5, 15, 7, 6, 7, 11, 13, 15, 6, 2, 4, 5, 6, 7, 8, 11, 12, 14, 4, 7, 13, 15, 1, 2, 4, 5, 7, 9, 10, 11, 12, 13, 14, 15, 1, 2, 7, 14, 3, 6, 7, 9, 13, 2, 4, 13, 15, 4, 5, 8, 10, 11, 12, 14, 1, 2, 5, 6, 8, 10, 12, 13, 14, 15, 1, 9, 1, 2, 3, 4, 5, 6, 7, 9, 10, 11, 12, 13, 14, 15, 3, 10, 5, 8, 1, 4, 5, 6, 8, 11, 12, 13, 15, 5, 11, 6, 7, 11, 12, 13, 14, 2, 2, 7, 1, 2, 3, 4, 5, 6, 7, 8, 9, 11, 12, 13, 14, 15, 10, 15, 1, 2, 4, 5, 6, 7, 9, 10, 12, 13, 15, 8, 6, 13, 1, 2, 4, 6, 7, 13, 14, 2, 6, 10, 2, 3, 6, 15, 1, 6, 5, 10, 2, 5, 9, 11, 12, 14, 15, 6, 1, 3, 4, 7, 9, 12, 13, 14, 2, 4, 15, 1, 2, 4, 5, 6, 7, 9, 11, 12, 13, 14, 15, 1, 2, 4, 5, 6, 7, 9, 10, 11, 12, 14, 15, 2, 8, 11, 7, 1, 2, 3, 4, 6, 7, 8, 9, 10, 11, 12, 13, 14, 15, 5, 15, 11, 6, 1, 4, 5, 15, 1, 4, 13, 15, 2, 12, 15, 3, 7, 11, 12, 14, 7, 14, 6, 14, 12, 14, 1, 2, 4, 5, 6, 7, 8, 9, 10, 11, 12, 13, 14, 15, 13, 2, 10, 12, 6, 10, 5, 15, 11, 12, 13, 1, 9, 14, 9, 5, 12, 12, 5, 6, 9, 10, 11, 13, 11, 14, 4, 13, 1, 2, 5, 10, 12, 13, 3, 6, 8, 9, 8, 10, 6, 1, 6, 8, 12, 1, 2, 4, 6, 8, 12, 2, 12, 7, 11, 13, 1, 2, 3, 4, 6, 7, 8, 9, 10, 11, 12, 13, 14, 15, 4, 5, 6, 7, 8, 10, 11, 12, 13, 14, 7, 14, 5, 6, 9, 10, 12, 14, 7, 11, 12, 13, 14, 11, 1, 2, 4, 5, 6, 7, 8, 10, 11, 12, 13, 14, 15, 5, 7, 9, 10, 11, 12, 13, 14, 1, 2, 4, 5, 6, 7, 8, 10, 11, 12, 13, 14, 15, 10, 13, 12, 1, 2, 3, 4, 5, 6, 7, 9, 10, 11, 12, 13, 14, 15, 1, 7, 9, 11, 14, 6, 9, 11, 3, 15, 7, 10, 1, 4, 12, 9, 1, 6, 8, 9, 10, 12, 13, 1, 2, 4, 5, 6, 7, 8, 10, 12, 13, 14, 1, 2, 4, 5, 6, 7, 8, 9, 10, 11, 12, 13, 14, 15, 7, 10, 10, 3, 4, 13, 9, 3, 4, 6, 15], \"Freq\": [0.9861927032470703, 0.03122495673596859, 0.9523611664772034, 0.9408490657806396, 0.9788942933082581, 0.9655710458755493, 0.9920946359634399, 0.8797978758811951, 0.950377881526947, 0.9896345734596252, 0.9442495703697205, 0.9090984463691711, 0.9775100350379944, 0.9852980375289917, 0.13174428045749664, 0.039185479283332825, 0.002702446887269616, 0.06350749731063843, 0.02297079749405384, 0.16957853734493256, 0.0425635389983654, 0.01824151538312435, 0.015539068728685379, 0.0776953473687172, 0.05202209949493408, 0.11485399305820465, 0.0776953473687172, 0.06350749731063843, 0.1080978736281395, 0.12841224670410156, 0.016912830993533134, 0.020671239122748375, 0.01440722681581974, 0.008769616484642029, 0.7804958820343018, 0.010022418573498726, 0.020044837146997452, 0.3589043915271759, 0.003850905690342188, 0.047751229256391525, 0.10166390985250473, 0.0839497447013855, 0.34735170006752014, 0.043130144476890564, 0.013093079440295696, 0.6705707311630249, 0.3163069486618042, 0.9642618298530579, 0.9711270928382874, 0.9431777000427246, 0.04356366768479347, 0.01742546632885933, 0.007260610815137625, 0.05518064275383949, 0.0856752097606659, 0.03630305454134941, 0.008712733164429665, 0.7449386715888977, 0.988624632358551, 0.9698551297187805, 0.04562021791934967, 0.948900580406189, 0.9802299737930298, 0.9685540795326233, 0.21076329052448273, 0.0015728602884337306, 0.0015728602884337306, 0.014155742712318897, 0.07235157489776611, 0.3303006589412689, 0.16672319173812866, 0.12111024558544159, 0.08178873360157013, 0.9575664401054382, 0.9706024527549744, 0.6617551445960999, 0.035451170057058334, 0.023634113371372223, 0.023634113371372223, 0.1004449799656868, 0.15362173318862915, 0.9623357057571411, 0.09491274505853653, 0.0175764337182045, 0.035152867436409, 0.007030573673546314, 0.038668155670166016, 0.8050007224082947, 0.990987241268158, 0.004698001779615879, 0.02281886711716652, 0.006040288135409355, 0.05570488050580025, 0.0020134293008595705, 0.029530297964811325, 0.850338339805603, 0.028859155252575874, 0.9888092875480652, 0.9371523261070251, 0.9601389765739441, 0.9694632291793823, 0.062032170593738556, 0.13853850960731506, 0.70096355676651, 0.09718373417854309, 0.9883086681365967, 0.029430896043777466, 0.026160797104239464, 0.10464318841695786, 0.11772358417510986, 0.006540199276059866, 0.6932610869407654, 0.01962059736251831, 0.0077646030113101006, 0.9861046075820923, 0.7651653289794922, 0.23186828196048737, 0.8619088530540466, 0.13260135054588318, 0.04813433811068535, 0.5005971193313599, 0.4428359270095825, 0.968738317489624, 0.14041569828987122, 0.011012996546924114, 0.17620794475078583, 0.12664945423603058, 0.5300004482269287, 0.013766244985163212, 0.0013766245683655143, 0.08362869918346405, 0.017197836190462112, 0.0023604873567819595, 0.0057326122187078, 0.033384036272764206, 0.0458608977496624, 0.0768844485282898, 0.006407037377357483, 0.08396590501070023, 0.06676807254552841, 0.0020232750102877617, 0.19760651886463165, 0.035744521766901016, 0.3149564564228058, 0.026976998895406723, 0.4627159833908081, 0.5352988839149475, 0.055254269391298294, 0.02960050106048584, 0.055254269391298294, 0.019733667373657227, 0.2535776197910309, 0.01480025053024292, 0.042427387088537216, 0.5298489928245544, 0.988771915435791, 0.9786132574081421, 0.9729622602462769, 0.05329681187868118, 0.2201390117406845, 0.4669264256954193, 0.07415208965539932, 0.004634505603462458, 0.18190434575080872, 0.9693275094032288, 0.9351571798324585, 0.9489738941192627, 0.12666845321655273, 0.2978420555591583, 0.003423471702262759, 0.04450513422489166, 0.5272146463394165, 0.1160435602068901, 0.6817559003829956, 0.10879083722829819, 0.014505445025861263, 0.07977994531393051, 0.7883599400520325, 0.12214027345180511, 0.07772562652826309, 0.9878216981887817, 0.6626092791557312, 0.15077336132526398, 0.17854741215705872, 0.20782940089702606, 0.17908704280853271, 0.002210951177403331, 0.04200807213783264, 0.5306282639503479, 0.03537521883845329, 0.6464182734489441, 0.033149655908346176, 0.1642414778470993, 0.15670746564865112, 0.025377746671438217, 0.7697916626930237, 0.0930517390370369, 0.10997023433446884, 0.9083096385002136, 0.9914596676826477, 0.4226547181606293, 0.058011431246995926, 0.08287347108125687, 0.04696163535118103, 0.04143673554062843, 0.06353633105754852, 0.10497306287288666, 0.17403429746627808, 0.0027624492067843676, 0.0567290224134922, 0.9076643586158752, 0.018909674137830734, 0.9704357981681824, 0.0758347436785698, 0.06740866601467133, 0.025278247892856598, 0.4381563067436218, 0.1937999129295349, 0.08426082879304886, 0.10953907668590546, 0.06798446178436279, 0.9262883067131042, 0.1055387333035469, 0.011726525612175465, 0.39870187640190125, 0.02345305122435093, 0.24625703692436218, 0.08794894069433212, 0.12312851846218109, 0.994330644607544, 0.0674472227692604, 0.11902451515197754, 0.07141470909118652, 0.0872846394777298, 0.07934967428445816, 0.051577288657426834, 0.0872846394777298, 0.43245571851730347, 0.013437037356197834, 0.060466669499874115, 0.3896740972995758, 0.0335925929248333, 0.10749629884958267, 0.006718518678098917, 0.3896740972995758, 0.9527220726013184, 0.05014112591743469, 0.9276108145713806, 0.9527032375335693, 0.029453914612531662, 0.9425252676010132, 0.9945279955863953, 0.9820249080657959, 0.8804540634155273, 0.052768103778362274, 0.936633825302124, 0.965995728969574, 0.06948848068714142, 0.5062732100486755, 0.04467116668820381, 0.09678752720355988, 0.24320967495441437, 0.03722597286105156, 0.09717530012130737, 0.8884598612785339, 0.14926376938819885, 0.2847493588924408, 0.009185463190078735, 0.016074560582637787, 0.5373495817184448, 0.75694739818573, 0.2414925992488861, 0.6754810214042664, 0.3002137839794159, 0.9507842659950256, 0.9746084809303284, 0.955487847328186, 0.9922536611557007, 0.22482548654079437, 0.7708302736282349, 0.48109132051467896, 0.5064119100570679, 0.937085747718811, 0.971724271774292, 0.919557511806488, 0.07792860269546509, 0.9750776290893555, 0.9273470640182495, 0.9878719449043274, 0.7929457426071167, 0.2030714750289917, 0.9878600835800171, 0.12439889460802078, 0.03317303955554962, 0.8376192450523376, 0.04767494276165962, 0.9511732459068298, 0.8997301459312439, 0.09766807407140732, 0.9579213857650757, 0.9729945659637451, 0.03352851793169975, 0.9387984871864319, 0.7124457359313965, 0.10247506946325302, 0.1854310780763626, 0.09865900874137878, 0.8879311084747314, 0.3323098123073578, 0.6646196246147156, 0.014542833901941776, 0.12179622799158096, 0.019996395334601402, 0.049082063138484955, 0.014542833901941776, 0.7780416011810303, 0.9569884538650513, 0.9597265720367432, 0.9708396792411804, 0.011351192370057106, 0.29513099789619446, 0.6924227476119995, 0.9695205688476562, 0.9649728536605835, 0.09995435178279877, 0.891900360584259, 0.9733969569206238, 0.9471097588539124, 0.7316713333129883, 0.20324203372001648, 0.06097261235117912, 0.9038349390029907, 0.9487180113792419, 0.9623439311981201, 0.9764359593391418, 0.0030206169467419386, 0.20842255651950836, 0.15304458141326904, 0.008054978214204311, 0.011075595393776894, 0.61721271276474, 0.1783466786146164, 0.8174222707748413, 0.9618670344352722, 0.9596004486083984, 0.0639898031949997, 0.08144156634807587, 0.5817254781723022, 0.09307608008384705, 0.1803348958492279, 0.9557149410247803, 0.8840710520744324, 0.10716012865304947, 0.9744644165039062, 0.11874980479478836, 0.09886611998081207, 0.055232468992471695, 0.5959582924842834, 0.03976737707853317, 0.09113357216119766, 0.8330625295639038, 0.16455556452274323, 0.980294942855835, 0.8569762706756592, 0.11580760776996613, 0.9355706572532654, 0.9760695695877075, 0.0940101146697998, 0.5092214345932007, 0.21413414180278778, 0.0078341756016016, 0.17496326565742493, 0.30703005194664, 0.2902829647064209, 0.39634788036346436, 0.1729908287525177, 0.8108944892883301, 0.03778216242790222, 0.07556432485580444, 0.06716828793287277, 0.05037621781229973, 0.13853460550308228, 0.0587722547352314, 0.09235639870166779, 0.3652275800704956, 0.016792071983218193, 0.09235639870166779, 0.9564229249954224, 0.9837972521781921, 0.9232569932937622, 0.656449556350708, 0.028541285544633865, 0.28541284799575806, 0.9615815281867981, 0.7764477133750916, 0.21175846457481384, 0.13915091753005981, 0.061547521501779556, 0.11506710946559906, 0.12175705283880234, 0.5057600736618042, 0.029435772448778152, 0.024083813652396202, 0.07843174785375595, 0.017429277300834656, 0.050109174102544785, 0.002178659662604332, 0.008714638650417328, 0.3638361692428589, 0.13725556433200836, 0.13507689535617828, 0.039215873926877975, 0.1677567958831787, 0.9782219529151917, 0.9398948550224304, 0.991129457950592, 0.9757626056671143, 0.9657924771308899, 0.1902584433555603, 0.013056952506303787, 0.7946088314056396, 0.9886792898178101, 0.9700736999511719, 0.18468526005744934, 0.8047000765800476, 0.9540640115737915, 0.07828865945339203, 0.007469236385077238, 0.03347324579954147, 0.06335018575191498, 0.04675188660621643, 0.0027663838118314743, 0.07496900111436844, 0.03430315852165222, 0.003596298862248659, 0.22131070494651794, 0.02268434688448906, 0.39310315251350403, 0.017981495708227158, 0.9441874623298645, 0.9592093229293823, 0.9468698501586914, 0.9159530401229858, 0.9262165427207947, 0.20123256742954254, 0.773971438407898, 0.9815176725387573, 0.05161552503705025, 0.05317963287234306, 0.07664123177528381, 0.170487642288208, 0.2627699375152588, 0.06256426870822906, 0.05787195265293121, 0.19082103669643402, 0.075077123939991, 0.0749104842543602, 0.399522602558136, 0.2497016191482544, 0.2497016191482544, 0.06383829563856125, 0.05319857969880104, 0.10639715939760208, 0.11703687161207199, 0.22875389456748962, 0.05319857969880104, 0.3564304709434509, 0.010639715939760208, 0.010639715939760208, 0.16807782649993896, 0.18269328773021698, 0.05846185237169266, 0.5846185088157654, 0.9181703925132751, 0.009891495108604431, 0.03297165036201477, 0.016485825181007385, 0.03132306784391403, 0.07418621331453323, 0.10303640365600586, 0.2810833156108856, 0.005770038813352585, 0.039565980434417725, 0.004121456295251846, 0.0008242912590503693, 0.0008242912590503693, 0.3643367290496826, 0.03709310665726662, 0.8754923343658447, 0.11673231422901154, 0.19733978807926178, 0.043853286653757095, 0.7455058693885803, 0.9510728120803833, 0.06442910432815552, 0.11275093257427216, 0.692612886428833, 0.11275093257427216, 0.08664294332265854, 0.9097509384155273, 0.9794794917106628, 0.9573999047279358, 0.9466087818145752, 0.13778753578662872, 0.02634173445403576, 0.8125411868095398, 0.022289160639047623, 0.15205489099025726, 0.15605634450912476, 0.2160780131816864, 0.05602022632956505, 0.2320837825536728, 0.18806789815425873, 0.9276487827301025, 0.9761865735054016, 0.9696518778800964, 0.9423269033432007, 0.05315690115094185, 0.9892110824584961, 0.9397932291030884, 0.9945939183235168, 0.2655882239341736, 0.15845263004302979, 0.575291097164154, 0.13357923924922943, 0.8608439564704895, 0.9632024765014648, 0.9523085355758667, 0.9465522766113281, 0.04089424014091492, 0.011281169950962067, 0.022562339901924133, 0.052175410091876984, 0.022562339901924133, 0.1946001797914505, 0.07755804061889648, 0.08037833869457245, 0.10435082018375397, 0.029613072052598, 0.13114359974861145, 0.0338435098528862, 0.17344799637794495, 0.026792779564857483, 0.9899147152900696, 0.9764158725738525, 0.04301651567220688, 0.06022312119603157, 0.025809908285737038, 0.06882642209529877, 0.24949578940868378, 0.542008101940155, 0.9582209587097168, 0.9820586442947388, 0.9737146496772766, 0.2508298456668854, 0.0008170353248715401, 0.0032681412994861603, 0.0032681412994861603, 0.06699689477682114, 0.012255529873073101, 0.12173826992511749, 0.1192871630191803, 0.32436302304267883, 0.08905684947967529, 0.0081703532487154, 0.9854090213775635, 0.3556210696697235, 0.07200852781534195, 0.036004263907670975, 0.029687726870179176, 0.08779987692832947, 0.2741377353668213, 0.06758695095777512, 0.07579845190048218, 0.9856233596801758, 0.0694466084241867, 0.4647580683231354, 0.010684093460440636, 0.454073965549469, 0.9975088834762573, 0.9791834950447083, 0.045504264533519745, 0.003250304376706481, 0.11376065760850906, 0.06175578385591507, 0.014626369811594486, 0.008125761523842812, 0.019501827657222748, 0.10726004838943481, 0.3412819802761078, 0.2388973832130432, 0.04712941497564316, 0.09326258301734924, 0.1610899269580841, 0.04239208251237869, 0.7037085890769958, 0.9778236150741577, 0.6278520226478577, 0.09216176718473434, 0.282245397567749, 0.1781952977180481, 0.06391787528991699, 0.025179769843816757, 0.5965668559074402, 0.009684527292847633, 0.044548824429512024, 0.05423334985971451, 0.02324286475777626, 0.0038738108705729246, 0.9509059190750122, 0.9975146651268005, 0.9655260443687439, 0.9968071579933167, 0.5246936082839966, 0.018475128337740898, 0.2586517930030823, 0.01108507625758648, 0.18475127220153809, 0.9792250990867615, 0.966677188873291, 0.9773645997047424, 0.9538564682006836, 0.12224792689085007, 0.8693186044692993, 0.9775809049606323, 0.011324368417263031, 0.006369957234710455, 0.01273991446942091, 0.033265333622694016, 0.0007077730260789394, 0.02760314755141735, 0.1443856954574585, 0.15995670855045319, 0.11819809675216675, 0.4841167628765106, 0.0007077730260789394, 0.1267862468957901, 0.0813702791929245, 0.0264926478266716, 0.1267862468957901, 0.1646328866481781, 0.009461659938097, 0.1589558869600296, 0.3046654462814331, 0.9774884581565857, 0.9422270655632019, 0.9590310454368591, 0.8277323246002197, 0.15247701108455658, 0.9745338559150696, 0.13321484625339508, 0.05861453339457512, 0.014209584333002567, 0.05328594148159027, 0.11367667466402054, 0.1859087347984314, 0.00828892458230257, 0.006512726191431284, 0.015393716283142567, 0.04085255414247513, 0.1669626086950302, 0.0005920660332776606, 0.18176425993442535, 0.021314376965165138, 0.667303204536438, 0.3298165202140808, 0.9336832165718079, 0.9764705300331116, 0.9513421654701233, 0.9903308749198914, 0.9548749327659607, 0.034102678298950195, 0.9653255939483643, 0.06720128655433655, 0.8064154386520386, 0.10080192983150482, 0.9501343369483948, 0.006890296470373869, 0.021359918639063835, 0.013780592940747738, 0.035140510648489, 0.08199452608823776, 0.14607428014278412, 0.043408866971731186, 0.024805067107081413, 0.031006332486867905, 0.0792384073138237, 0.018603799864649773, 0.4940342307090759, 0.0034451482351869345, 0.8738353252410889, 0.11651137471199036, 0.2920127213001251, 0.04537249729037285, 0.020941151306033134, 0.032575126737356186, 0.0023267946671694517, 0.15705864131450653, 0.013960767537355423, 0.017450960353016853, 0.0791110172867775, 0.31179049611091614, 0.026758138090372086, 0.1616937518119812, 0.008421549573540688, 0.03537050634622574, 0.06905670464038849, 0.023580338805913925, 0.003368619829416275, 0.050529297441244125, 0.021896028891205788, 0.43623626232147217, 0.1751682311296463, 0.0134744793176651, 0.9845606088638306, 0.2963925302028656, 0.026292886584997177, 0.034658804535865784, 0.09919589012861252, 0.010756180621683598, 0.039439331740140915, 0.09202510118484497, 0.03226854279637337, 0.007170787081122398, 0.2306603193283081, 0.0023902624379843473, 0.0884397104382515, 0.040634460747241974, 0.1912839412689209, 0.01523500494658947, 0.2082117348909378, 0.14388614892959595, 0.3994956910610199, 0.005078334826976061, 0.03554834425449371, 0.8990038633346558, 0.08428161591291428, 0.8583918809890747, 0.10098728537559509, 0.9781786799430847, 0.9596395492553711, 0.001029341365210712, 0.014410778880119324, 0.001029341365210712, 0.008234730921685696, 0.03396826609969139, 0.27586349844932556, 0.046320363879203796, 0.01749880425632, 0.1749880313873291, 0.031909581273794174, 0.39012038707733154, 0.006176048424094915, 0.9454419612884521, 0.9668941497802734, 0.9905272722244263, 0.9690155982971191, 0.3014529049396515, 0.025595059618353844, 0.05403401330113411, 0.03412674367427826, 0.001421947730705142, 0.3924575746059418, 0.08105102181434631, 0.10948996990919113, 0.0915660560131073, 0.12590332329273224, 0.05341353267431259, 0.040060147643089294, 0.015261009335517883, 0.0019076261669397354, 0.04578302800655365, 0.005722878500819206, 0.02479914017021656, 0.5017056465148926, 0.06295166164636612, 0.030522018671035767, 0.33262142539024353, 0.016759995371103287, 0.02707383781671524, 0.14439380168914795, 0.4293137192726135, 0.04125537350773811, 0.007735382299870253, 0.013950243592262268, 0.008718902245163918, 0.020925365388393402, 0.09242036938667297, 0.027900487184524536, 0.2720297574996948, 0.07149499654769897, 0.15868403017520905, 0.19355963170528412, 0.13775865733623505, 0.003487560898065567, 0.952620267868042, 0.9550771117210388, 0.9633035659790039, 0.9157063961029053, 0.03391505032777786, 0.12672288715839386, 0.014908574521541595, 0.002484762342646718, 0.047210484743118286, 0.054664772003889084, 0.7528830170631409, 0.3239903151988983, 0.0035089205484837294, 0.016374962404370308, 0.036258846521377563, 0.07134804874658585, 0.14503538608551025, 0.0023392802104353905, 0.08421409130096436, 0.07602661103010178, 0.014035682193934917, 0.11813365668058395, 0.1087765321135521, 0.0011696401052176952, 0.6271083950996399, 0.24188467860221863, 0.11646299064159393, 0.07921057939529419, 0.005280705168843269, 0.009052637033164501, 0.01659650169312954, 0.01659650169312954, 0.1274913102388382, 0.1274913102388382, 0.14257903397083282, 0.009052637033164501, 0.004526318516582251, 0.15691237151622772, 0.0037719320971518755, 0.261772096157074, 0.03998248279094696, 0.806372344493866, 0.03735239803791046, 0.1538039892911911, 0.1723327487707138, 0.09661078453063965, 0.12011070549488068, 0.03524988144636154, 0.42038747668266296, 0.0013055511517450213, 0.03786098212003708, 0.09269413352012634, 0.023499920964241028, 0.9680262207984924, 0.3357313275337219, 0.6537925601005554, 0.11897891014814377, 0.8566481471061707, 0.9819273948669434, 0.1395503282546997, 0.025278715416789055, 0.01271327119320631, 0.028235290199518204, 0.12092390656471252, 0.00029565748991444707, 0.04375730827450752, 0.02187865413725376, 0.03252232447266579, 0.3454757630825043, 0.0004434862348716706, 0.22869105637073517, 0.00029565748991444707, 0.8881629705429077, 0.10327476263046265, 0.9742565155029297, 0.9760180115699768, 0.9237756133079529, 0.02883710339665413, 0.003604637924581766, 0.018023189157247543, 0.4289518892765045, 0.021627826616168022, 0.18383653461933136, 0.24511536955833435, 0.06848812103271484, 0.9319787621498108, 0.46340200304985046, 0.5351966619491577, 0.3676161468029022, 0.0035518468357622623, 0.005327770486474037, 0.01598331145942211, 0.024862928315997124, 0.09501190483570099, 0.07814063131809235, 0.007991655729711056, 0.12431464344263077, 0.1704886555671692, 0.005327770486474037, 0.10211559385061264, 0.2648228108882904, 0.031155623495578766, 0.05711864307522774, 0.462141752243042, 0.1765485405921936, 0.12035112082958221, 0.00830007717013359, 0.0013833462726324797, 0.0020750192925333977, 0.026975251734256744, 0.040117040276527405, 0.6923648118972778, 0.10305929183959961, 0.004841711837798357, 0.9563928842544556, 0.1698133945465088, 0.17437827587127686, 0.011868678033351898, 0.18442100286483765, 0.003651900915428996, 0.001825950457714498, 0.45466166734695435, 0.9542546272277832, 0.002765955403447151, 0.04148933291435242, 0.09408257156610489, 0.3934362232685089, 0.3934362232685089, 0.0641472116112709, 0.051317766308784485, 0.9700009226799011, 0.9702476859092712, 0.7357137799263, 0.05478719621896744, 0.007826742716133595, 0.195668563246727, 0.18970055878162384, 0.7904190421104431, 0.933515191078186, 0.06543805450201035, 0.03997751325368881, 0.0008933522622101009, 0.049581050872802734, 0.043550923466682434, 0.07481825351715088, 0.13355615735054016, 0.014293636195361614, 0.0011166903423145413, 0.005136775318533182, 0.05248444527387619, 0.037297457456588745, 0.0361807681620121, 0.40312519669532776, 0.04265756905078888, 0.17428907752037048, 0.7552527189254761, 0.05809636041522026, 0.9402621388435364, 0.032422833144664764, 0.05242031067609787, 0.033548999577760696, 0.03145218640565872, 0.027957499027252197, 0.11532468348741531, 0.20548760890960693, 0.06570012122392654, 0.017473436892032623, 0.011881937272846699, 0.009785124100744724, 0.4284486770629883, 0.9662165641784668, 0.16718944907188416, 0.009463554248213768, 0.02208162657916546, 0.018927108496427536, 0.018927108496427536, 0.14826233685016632, 0.09463553875684738, 0.138798788189888, 0.3501514792442322, 0.03154518082737923, 0.9877378940582275, 0.9589031338691711, 0.07559044659137726, 0.027449043467640877, 0.0008445860003121197, 0.02364840731024742, 0.018158597871661186, 0.04539649561047554, 0.19446592032909393, 0.008868152275681496, 0.011613056994974613, 0.029560508206486702, 0.04645222797989845, 0.16448311507701874, 0.007601273711770773, 0.33234459161758423, 0.01309108268469572, 0.2004833072423935, 0.044409703463315964, 0.029971979558467865, 0.03106851503252983, 0.05793364346027374, 0.09521586447954178, 0.049526870250701904, 0.0010965358233079314, 0.007492994889616966, 0.08425050228834152, 0.011330869980156422, 0.2971612215042114, 0.021199693903326988, 0.03783048689365387, 0.03106851503252983, 0.9572449922561646, 0.976912796497345, 0.9774944186210632, 0.9611911773681641, 0.48668742179870605, 0.5075454711914062, 0.8803741335868835, 0.12143091857433319, 0.11087805032730103, 0.0011845945846289396, 0.0009476756094954908, 0.0004738378047477454, 0.0004738378047477454, 0.004501459188759327, 0.09263528883457184, 0.10542891174554825, 0.007344486191868782, 0.616226077079773, 0.048805296421051025, 0.0009476756094954908, 0.010187513194978237, 0.9973355531692505, 0.023338746279478073, 0.30807143449783325, 0.2894004285335541, 0.20071321725845337, 0.10269048064947128, 0.07468398660421371, 0.017737053334712982, 0.09223267436027527, 0.2128446400165558, 0.017737053334712982, 0.046116337180137634, 0.05321116000413895, 0.08513785898685455, 0.4718056321144104, 0.592536211013794, 0.3882133662700653, 0.9664285778999329, 0.9898986220359802, 0.07032051682472229, 0.01506868191063404, 0.08538919687271118, 0.11301511526107788, 0.18584708869457245, 0.00753434095531702, 0.012557235546410084, 0.09543498605489731, 0.0276259183883667, 0.3867628574371338, 0.9941658973693848, 0.9302247166633606, 0.9441785216331482, 0.08938825875520706, 0.6555138826370239, 0.1340823918581009, 0.1042862981557846, 0.04633687809109688, 0.009539945051074028, 0.01090279407799244, 0.03543408215045929, 0.004088548012077808, 0.5301483869552612, 0.009539945051074028, 0.2793841063976288, 0.0613282173871994, 0.012265644036233425, 0.9837127327919006, 0.2926015257835388, 0.031350161880254745, 0.04180021584033966, 0.36575189232826233, 0.17765092849731445, 0.08360043168067932, 0.9549118280410767, 0.0960833951830864, 0.10861601680517197, 0.12950371205806732, 0.5221923589706421, 0.11279355734586716, 0.029242772608995438, 0.9307980537414551, 0.9738973379135132, 0.09268947690725327, 0.0347585529088974, 0.05406885966658592, 0.04634473845362663, 0.08110328763723373, 0.12358596920967102, 0.06565504521131516, 0.06179298460483551, 0.3398613929748535, 0.030896492302417755, 0.06179298460483551, 0.5643115043640137, 0.11995027214288712, 0.09268885105848312, 0.20446069538593292, 0.016356855630874634, 0.9587475657463074, 0.8949930667877197, 0.1008656919002533, 0.014409384690225124, 0.014409384690225124, 0.6484223008155823, 0.06484223157167435, 0.1440938413143158, 0.8366190791130066, 0.15016239881515503, 0.008974650874733925, 0.023932402953505516, 0.18248456716537476, 0.008974650874733925, 0.7748115062713623, 0.9496699571609497, 0.9947873950004578, 0.42297881841659546, 0.027023646980524063, 0.10339482128620148, 0.0293735284358263, 0.19151541590690613, 0.0587470568716526, 0.021148940548300743, 0.07167141139507294, 0.009399529546499252, 0.028198588639497757, 0.036423176527023315, 0.09180500358343124, 0.43663355708122253, 0.06717438995838165, 0.022391464561223984, 0.3817744553089142, 0.05740564689040184, 0.3280322551727295, 0.3116306662559509, 0.27062660455703735, 0.03280322626233101, 0.9432010054588318, 0.9955077171325684, 0.058439794927835464, 0.0401773601770401, 0.021914923563599586, 0.038351114839315414, 0.1351420283317566, 0.14975197613239288, 0.14062075316905975, 0.2008868008852005, 0.2154967486858368, 0.11423274874687195, 0.6853964924812317, 0.18277239799499512, 0.08580990880727768, 0.9119797348976135, 0.9953631162643433, 0.4525819420814514, 0.18332432210445404, 0.3609197735786438, 0.9277898073196411, 0.962073028087616, 0.972969114780426, 0.9505760669708252, 0.9809677600860596, 0.00896836444735527, 0.0029894548933953047, 0.18534620106220245, 0.16740946471691132, 0.07772582769393921, 0.2301880270242691, 0.2511141896247864, 0.07473637163639069, 0.005978909786790609, 0.9552907943725586, 0.11543260514736176, 0.8542012572288513, 0.9703221917152405, 0.1076667308807373, 0.8613338470458984, 0.9696366786956787, 0.34821751713752747, 0.38817691802978516, 0.13700361549854279, 0.06850180774927139, 0.051376357674598694, 0.9512795805931091, 0.9829319715499878, 0.9657864570617676, 0.05871524289250374, 0.8807286024093628, 0.40455761551856995, 0.0188166331499815, 0.2634328603744507, 0.30577027797698975, 0.9637452363967896, 0.9759800434112549, 0.8931728005409241, 0.06616094708442688, 0.9811832308769226, 0.8226075172424316, 0.15233473479747772, 0.02211836911737919, 0.014075325801968575, 0.0060322824865579605, 0.15885010361671448, 0.20710836350917816, 0.13673174381256104, 0.21314065158367157, 0.0060322824865579605, 0.235259011387825, 0.9647367000579834, 0.969602108001709, 0.010174432769417763, 0.01627909205853939, 0.03866284340620041, 0.06918614357709885, 0.036627959460020065, 0.5250007510185242, 0.18924444913864136, 0.04476750269532204, 0.05290704965591431, 0.01627909205853939, 0.9350118041038513, 0.9193279147148132, 0.10068889707326889, 0.016148218885064125, 0.016148218885064125, 0.007599161937832832, 0.016148218885064125, 0.3163151144981384, 0.010448847897350788, 0.08169098943471909, 0.02659706585109234, 0.003799580968916416, 0.39420652389526367, 0.009498951956629753, 0.11109398305416107, 0.8332048654556274, 0.9296116232872009, 0.9877893328666687, 0.09594888985157013, 0.8955230116844177, 0.971713662147522, 0.9729586243629456, 0.02013556845486164, 0.10738969594240189, 0.024610139429569244, 0.2013556808233261, 0.03355928137898445, 0.008949141949415207, 0.24610139429569244, 0.22596582770347595, 0.03355928137898445, 0.09396598488092422, 0.9649422764778137, 0.09807515144348145, 0.007005367893725634, 0.8931843638420105, 0.9887307286262512, 0.021597526967525482, 0.9502911567687988, 0.9240504503250122, 0.005929158069193363, 0.0014822895172983408, 0.031128080561757088, 0.2045559585094452, 0.014822895638644695, 0.0029645790345966816, 0.062256161123514175, 0.013340606354176998, 0.6625834107398987, 0.1511882096529007, 0.8315351605415344, 0.03332225978374481, 0.17327575385570526, 0.7864053249359131, 0.9738004803657532, 0.07455604523420334, 0.04014556482434273, 0.0630858838558197, 0.22940322756767273, 0.3211645185947418, 0.20072782039642334, 0.07455604523420334, 0.955976128578186, 0.04391872510313988, 0.06983797252178192, 0.0014399582287296653, 0.0770377665758133, 0.10043708235025406, 0.15119561553001404, 0.2343531996011734, 0.0007199791143648326, 0.01367960311472416, 0.06335815787315369, 0.033479027450084686, 0.05183849483728409, 0.1205964982509613, 0.03743891417980194, 0.10296589136123657, 0.059611834585666656, 0.007225676905363798, 0.04245085269212723, 0.09844984859228134, 0.13096539676189423, 0.01354814413934946, 0.009935305453836918, 0.010838515125215054, 0.040644433349370956, 0.10838515311479568, 0.1634809374809265, 0.16077131032943726, 0.021677030250430107, 0.030709126964211464, 0.9444746971130371, 0.9581767320632935, 0.2732391059398651, 0.05961580574512482, 0.00993596762418747, 0.03974387049674988, 0.1738794445991516, 0.43718257546424866, 0.02977745793759823, 0.07058360427618027, 0.02977745793759823, 0.08050942420959473, 0.2139565497636795, 0.04190901666879654, 0.17315040528774261, 0.341889351606369, 0.017645901069045067, 0.9624841809272766, 0.0030283837113529444, 0.018170302733778954, 0.01665611006319523, 0.1135643944144249, 0.0953940898180008, 0.08328055590391159, 0.13930565118789673, 0.5314813852310181, 0.13774311542510986, 0.010307308286428452, 0.003748111892491579, 0.003748111892491579, 0.05903276428580284, 0.10494713485240936, 0.32983386516571045, 0.020614616572856903, 0.03841814771294594, 0.02623678371310234, 0.04778842628002167, 0.21457940340042114, 0.002811084035784006, 0.07776350528001785, 0.06480292230844498, 0.06480292230844498, 0.042121898382902145, 0.07614343613386154, 0.05994270369410515, 0.0032401462085545063, 0.06480292230844498, 0.28189271688461304, 0.14418651163578033, 0.0680430680513382, 0.021060949191451073, 0.03240146115422249, 0.07892027497291565, 0.8856608271598816, 0.0263067577034235, 0.9653189778327942, 0.29842865467071533, 0.0004982114769518375, 0.013451709412038326, 0.004483903292566538, 0.020426670089364052, 0.046333666890859604, 0.024910572916269302, 0.08619058132171631, 0.000996422953903675, 0.40654057264328003, 0.061280012130737305, 0.0373658612370491, 0.9620630145072937, 0.060117270797491074, 0.040487140417099, 0.21593141555786133, 0.011041947640478611, 0.02453766204416752, 0.00613441551104188, 0.02453766204416752, 0.040487140417099, 0.3668380379676819, 0.07115921378135681, 0.13986466825008392, 0.9945902228355408, 0.9676605463027954, 0.9610163569450378, 0.9508092403411865, 0.9404856562614441, 0.09533857554197311, 0.0280908290296793, 0.005533041898161173, 0.031921397894620895, 0.027239592745900154, 0.05064861476421356, 0.07192954421043396, 0.00297933048568666, 0.11364017426967621, 0.024685880169272423, 0.010640465654432774, 0.15109461545944214, 0.11576826870441437, 0.23579271137714386, 0.03532634675502777, 0.8958150148391724, 0.1282787173986435, 0.6413936018943787, 0.17816488444805145, 0.04988616704940796, 0.15336649119853973, 0.8447328805923462, 0.9198246002197266, 0.7902196049690247, 0.10899581015110016, 0.09537133574485779, 0.9513108730316162, 0.9777305126190186, 0.06894419342279434, 0.9307466745376587, 0.9807844758033752, 0.1219833567738533, 0.8538835048675537, 0.9508853554725647, 0.11370723694562912, 0.034986842423677444, 0.00583114055916667, 0.06705811619758606, 0.037902411073446274, 0.4081798195838928, 0.1428629457950592, 0.002915570279583335, 0.1720186471939087, 0.01166228111833334, 0.036495599895715714, 0.04944565147161484, 0.016481883823871613, 0.10124585777521133, 0.17070522904396057, 0.052977483719587326, 0.030609212815761566, 0.0035318322479724884, 0.15775516629219055, 0.28136929869651794, 0.1000685766339302, 0.12143336981534958, 0.2255191057920456, 0.031225724145770073, 0.013878099620342255, 0.3469524681568146, 0.010408574715256691, 0.041634298861026764, 0.20817148685455322, 0.04813462123274803, 0.9434385895729065, 0.9879999756813049, 0.6809598207473755, 0.17023995518684387, 0.01823999546468258, 0.09119997918605804, 0.03647999092936516, 0.11225713044404984, 0.869992733001709, 0.13509364426136017, 0.006477092392742634, 0.06662152707576752, 0.08142630755901337, 0.11103587597608566, 0.24242831766605377, 0.061069730669260025, 0.13231775164604187, 0.0536673367023468, 0.09160459786653519, 0.017580680549144745, 0.9474418759346008, 0.12138436734676361, 0.7469807267189026, 0.12760920822620392, 0.9212507009506226, 0.9457821846008301, 0.9621646404266357, 0.9371065497398376, 0.9515844583511353, 0.9139856100082397, 0.03078143671154976, 0.024625148624181747, 0.9419119954109192, 0.1785605251789093, 0.7340821623802185, 0.0793602392077446, 0.9261182546615601, 0.999403715133667, 0.06266797333955765, 0.9086856842041016, 0.9554685950279236, 0.9634563326835632, 0.9037707448005676, 0.9629652500152588, 0.9856213331222534, 0.9650285243988037, 0.9704746007919312, 0.6756940484046936, 0.09555269032716751, 0.13650384545326233, 0.08872749656438828, 0.9024088382720947, 0.06941606104373932, 0.03482036665081978, 0.08885197341442108, 0.04082388058304787, 0.0540316067636013, 0.08524986356496811, 0.17290113866329193, 0.14288358390331268, 0.0012007023906335235, 0.08164776116609573, 0.02761615440249443, 0.07324284315109253, 0.04682739078998566, 0.0012007023906335235, 0.11526742577552795, 0.03361966460943222, 0.9789906740188599, 0.3954853117465973, 0.47458237409591675, 0.12905310094356537, 0.6861499547958374, 0.0955398678779602, 0.20845063030719757, 0.9220080375671387, 0.954313337802887, 0.03411073982715607, 0.038559965789318085, 0.020763058215379715, 0.007415378000587225, 0.08305223286151886, 0.11419682204723358, 0.09343376010656357, 0.15275678038597107, 0.06525532156229019, 0.016313830390572548, 0.3603873550891876, 0.013347679749131203, 0.03836664929986, 0.011744892224669456, 0.012527885846793652, 0.011744892224669456, 0.0007829928654246032, 0.202795147895813, 0.011744892224669456, 0.014876863919198513, 0.007046935614198446, 0.11040198802947998, 0.5786316990852356, 0.14348985254764557, 0.008035431616008282, 0.08265014737844467, 0.04706466943025589, 0.10101684927940369, 0.04821258783340454, 0.17218782007694244, 0.006887512747198343, 0.1124960407614708, 0.09642517566680908, 0.15956071019172668, 0.021810457110404968, 0.1317807286977768, 0.010018417611718178, 0.01078906562179327, 0.026202015578746796, 0.09170705080032349, 0.032367195934057236, 0.006935827434062958, 0.01078906562179327, 0.04932143911719322, 0.026202015578746796, 0.34525009989738464, 0.1803315132856369, 0.054715972393751144, 0.023890072479844093, 0.9745553135871887, 0.0012769922614097595, 0.15068508684635162, 0.019154883921146393, 0.037032775580883026, 0.11748328804969788, 0.10599035769701004, 0.18388688564300537, 0.040863752365112305, 0.34478792548179626, 0.9714018106460571, 0.9353283047676086, 0.974422037601471, 0.9030590653419495, 0.9963233470916748, 0.9362383484840393, 0.05152714252471924, 0.0122683672234416, 0.20856225490570068, 0.09569326788187027, 0.2159232646226883, 0.004907346796244383, 0.007361020427197218, 0.40240246057510376, 0.9613530039787292, 0.9191000461578369, 0.8749895095825195, 0.12499849498271942, 0.843323290348053, 0.14055387675762177, 0.9817951917648315, 0.9753156304359436, 0.9870162606239319, 0.09999155253171921, 0.035316165536642075, 0.0038294638507068157, 0.05063402280211449, 0.02297678217291832, 0.06722836196422577, 0.15700802206993103, 0.003403967712074518, 0.025529759004712105, 0.010211903601884842, 0.06765385717153549, 0.08935415744781494, 0.02297678217291832, 0.3127395510673523, 0.03106120601296425, 0.18309304118156433, 0.812933087348938, 0.5899345874786377, 0.06769741326570511, 0.04835529625415802, 0.2804607152938843, 0.9711035490036011, 0.012173251248896122, 0.02782457508146763, 0.05564915016293526, 0.499103307723999, 0.053910113871097565, 0.12347155064344406, 0.10782022774219513, 0.02782457508146763, 0.08347372710704803, 0.010434215888381004, 0.9368612170219421, 0.9551883339881897, 0.9845010638237, 0.069399893283844, 0.012851832434535027, 0.041125863790512085, 0.04369622841477394, 0.1439405232667923, 0.23904407024383545, 0.08739245682954788, 0.05911842733621597, 0.13365904986858368, 0.1670738160610199, 0.952072262763977, 0.04060914367437363, 0.8934012055397034, 0.0568528026342392, 0.04180135205388069, 0.0349450446665287, 0.002211711835116148, 0.09222838282585144, 0.017914865165948868, 0.14752118289470673, 0.02300180308520794, 0.00995270349085331, 0.004865766037255526, 0.008625675924122334, 0.0004423423670232296, 0.003317567752674222, 0.0004423423670232296, 0.52727210521698, 0.08537207543849945, 0.9703834056854248, 0.877257227897644, 0.9403811097145081, 0.9278252124786377, 0.24391795694828033, 0.7469987869262695, 0.9303887486457825, 0.051245708018541336, 0.23060569167137146, 0.010981223545968533, 0.1390955001115799, 0.34041792154312134, 0.21962447464466095, 0.0036604078486561775, 0.21727728843688965, 0.057514578104019165, 0.6262698173522949, 0.07029559463262558, 0.03195254132151604, 0.9799990057945251, 0.2147739976644516, 0.011303894221782684, 0.09366083890199661, 0.18732167780399323, 0.0016148419817909598, 0.20831462740898132, 0.2406114637851715, 0.04360073432326317, 0.973402738571167, 0.9192959070205688, 0.9512221813201904, 0.04756110906600952, 0.9708625674247742, 0.9954933524131775, 0.9411474466323853, 0.9452297687530518, 0.01848645694553852, 0.11091873794794083, 0.8688634634017944, 0.7130110263824463, 0.13152630627155304, 0.1522936224937439, 0.0039323787204921246, 0.12190374732017517, 0.5741273164749146, 0.2988607883453369, 0.11512239277362823, 0.6807237267494202, 0.16517560184001923, 0.04004257172346115, 0.9471011757850647, 0.9634097218513489, 0.984343409538269, 0.15448987483978271, 0.6724853515625, 0.11813931912183762, 0.049982018768787384, 0.0419529490172863, 0.9439412951469421, 0.9818944931030273, 0.9591448307037354, 0.11485845595598221, 0.006563340313732624, 0.004375560209155083, 0.0010938900522887707, 0.13454848527908325, 0.235186368227005, 0.1389240324497223, 0.016408350318670273, 0.34676316380500793, 0.9785382747650146, 0.9901334047317505, 0.8431931138038635, 0.12045615911483765, 0.9980016350746155, 0.038255877792835236, 0.04372100159525871, 0.9181410074234009, 0.15812306106090546, 0.6324922442436218, 0.07906153053045273, 0.10541537404060364, 0.8824663758277893, 0.9857885837554932, 0.9828556776046753, 0.8184978365898132, 0.16934438049793243, 0.04186010733246803, 0.2587715685367584, 0.022832784801721573, 0.03424917906522751, 0.41860106587409973, 0.045665569603443146, 0.0951366052031517, 0.07991474866867065, 0.9528899788856506, 0.922980010509491, 0.9686027765274048, 0.9548366665840149, 0.9943163394927979, 0.9511200785636902, 0.9991350769996643, 0.9719182252883911, 0.2251809686422348, 0.007682859897613525, 0.0010975514305755496, 0.029999738559126854, 0.017560822889208794, 0.027438785880804062, 0.13390126824378967, 0.006951158866286278, 0.0007317009149119258, 0.058719001710414886, 0.07756029814481735, 0.25408315658569336, 0.0793895497918129, 0.07902370393276215, 0.0005487757152877748, 0.03942757844924927, 0.8214078545570374, 0.06571263074874878, 0.06571263074874878, 0.9720888733863831, 0.02212122641503811, 0.01474748458713293, 0.06636367738246918, 0.02212122641503811, 0.1401011049747467, 0.6046468615531921, 0.1253536194562912, 0.9116105437278748, 0.04143684357404709, 0.9604973196983337, 0.949230432510376, 0.986973762512207, 0.12125496566295624, 0.8776549696922302, 0.9615012407302856, 0.9729224443435669, 0.9487795829772949, 0.971082329750061, 0.023305974900722504, 0.0864141508936882, 0.010801768861711025, 0.1404229998588562, 0.2268371433019638, 0.01512247696518898, 0.01512247696518898, 0.5055227875709534, 0.04465322569012642, 0.0781431496143341, 0.4660680592060089, 0.40746068954467773, 0.9503701329231262, 0.9603244662284851, 0.9493505358695984, 0.039086535573005676, 0.019543267786502838, 0.6840143799781799, 0.2736057639122009, 0.13892599940299988, 0.03699212893843651, 0.0287716556340456, 0.1348157674074173, 0.026305515319108963, 0.06658583134412766, 0.16605356335639954, 0.11344253271818161, 0.2877165675163269, 0.9865273237228394, 0.9774215817451477, 0.9758839011192322, 0.8415108919143677, 0.021577201783657074, 0.12946321070194244, 0.9496580958366394, 0.913066029548645, 0.9661696553230286, 0.9860233664512634, 0.9758065342903137, 0.9793940782546997, 0.1976749300956726, 0.05365462228655815, 0.036711059510707855, 0.03953498601913452, 0.031063202768564224, 0.036711059510707855, 0.03388712927699089, 0.5365462303161621, 0.031063202768564224, 0.0028239276725798845, 0.9551610946655273, 0.9906415343284607, 0.9552174210548401, 0.9023299813270569, 0.011568333022296429, 0.08097833395004272, 0.007380894385278225, 0.0811898335814476, 0.6347569227218628, 0.0295235775411129, 0.0590471550822258, 0.1919032484292984, 0.1504652053117752, 0.02141007035970688, 0.036278173327445984, 0.020220620557665825, 0.061256587505340576, 0.12251317501068115, 0.06185131147503853, 0.004163069184869528, 0.000594724144320935, 0.061256587505340576, 0.068393275141716, 0.2141007035970688, 0.033899277448654175, 0.11894483119249344, 0.02438369020819664, 0.9916757345199585, 0.029410500079393387, 0.009803500026464462, 0.055553168058395386, 0.11437416821718216, 0.7908156514167786, 0.42865273356437683, 0.006212358362972736, 0.009318538010120392, 0.03623875603079796, 0.08593762665987015, 0.13667188584804535, 0.003106179181486368, 0.23606961965560913, 0.017601681873202324, 0.03830954432487488, 0.01020763348788023, 0.3521633446216583, 0.03572671487927437, 0.1735297590494156, 0.12249159812927246, 0.0867648795247078, 0.2143602967262268, 0.9463521242141724, 0.9784156680107117, 0.9605266451835632, 0.7934730648994446, 0.20225784182548523, 0.9432870149612427, 0.9716907143592834, 0.9631229043006897, 0.9619610905647278, 0.9768137335777283, 0.97874915599823, 0.9906882643699646, 0.1766463667154312, 0.016578461974859238, 0.0017150132916867733, 0.11490589380264282, 0.15492287278175354, 0.00914673786610365, 0.03544360771775246, 0.04687703028321266, 0.2784038186073303, 0.16578461229801178, 0.9580148458480835, 0.021968137472867966, 0.0376596637070179, 0.0015691526932641864, 0.01882983185350895, 0.0062766107730567455, 0.10199492424726486, 0.5146820545196533, 0.0470745787024498, 0.07845763117074966, 0.0015691526932641864, 0.169468492269516, 0.9199486970901489, 0.21397201716899872, 0.7747262716293335, 0.14581434428691864, 0.8532839417457581, 0.9625937342643738, 0.23372578620910645, 0.7621493339538574, 0.967572033405304, 0.0229395292699337, 0.894641637802124, 0.0688185915350914, 0.11597853153944016, 0.301544189453125, 0.5682948231697083, 0.9705340266227722, 0.4306369125843048, 0.540471076965332, 0.0043498678132891655, 0.023924272507429123, 0.12588314712047577, 0.5594806671142578, 0.097909115254879, 0.12588314712047577, 0.09091561287641525, 0.9395322799682617, 0.05368755757808685, 0.9967951774597168, 0.9697995185852051, 0.06250117719173431, 0.06250117719173431, 0.03125058859586716, 0.6953255534172058, 0.03125058859586716, 0.11718969792127609, 0.9784919619560242, 0.9498371481895447, 0.09613031148910522, 0.0657733678817749, 0.01264872495085001, 0.001264872495085001, 0.030356939882040024, 0.7943399548530579, 0.0791475772857666, 0.30076080560684204, 0.0791475772857666, 0.5302887558937073, 0.9955794215202332, 0.9509220719337463, 0.9644597768783569, 0.051410481333732605, 0.04847273975610733, 0.9004178643226624, 0.9245259165763855, 0.9684375524520874, 0.060901641845703125, 0.08091218024492264, 0.0026100703980773687, 0.2636170983314514, 0.4924332797527313, 0.09918267279863358, 0.007222923915833235, 0.3467003405094147, 0.5489422082901001, 0.08667508512735367, 0.04076036810874939, 0.019883107393980026, 0.027836348861455917, 0.03181296959519386, 0.07307041436433792, 0.09543891251087189, 0.022368494421243668, 0.03479543700814247, 0.016900639981031418, 0.6347681879997253, 0.0019883105996996164, 0.9600139856338501, 0.7692829966545105, 0.20244289934635162, 0.9579375386238098, 0.9713829159736633, 0.3921399414539337, 0.5967347025871277, 0.036703892052173615, 0.10603345930576324, 0.040782101452350616, 0.06729047000408173, 0.7483515739440918, 0.9622787237167358, 0.9082380533218384, 0.9775562286376953, 0.037784334272146225, 0.017272839322686195, 0.005397762171924114, 0.03130701929330826, 0.37352514266967773, 0.02051149681210518, 0.008636419661343098, 0.1371031552553177, 0.05505717173218727, 0.05937538295984268, 0.2536948323249817, 0.10765082389116287, 0.45367133617401123, 0.3191078007221222, 0.11534017324447632, 0.08192823827266693, 0.08733010292053223, 0.26289060711860657, 0.5653948783874512, 0.000900310289580375, 0.036080699414014816, 0.0017318736063316464, 0.0008659368031658232, 0.0020205192267894745, 0.0031751017086207867, 0.0008659368031658232, 0.0002886455913539976, 0.16019831597805023, 0.05513130873441696, 0.0008659368031658232, 0.41738152503967285, 0.3186647295951843, 0.0025978104677051306, 0.9661538600921631, 0.9163251519203186, 0.9577690362930298, 0.05001625418663025, 0.00909386482089758, 0.08184478431940079, 0.05001625418663025, 0.0591101199388504, 0.1773303598165512, 0.07729785144329071, 0.49106869101524353, 0.994777500629425, 0.966886579990387, 0.06345352530479431, 0.9306516647338867, 0.9252004027366638, 0.04626002162694931, 0.979461133480072, 0.954133152961731, 0.045981619507074356, 0.15327206254005432, 0.5773248076438904, 0.2222445011138916, 0.08503129333257675, 0.08642525225877762, 0.04321262612938881, 0.016727467998862267, 0.11569832265377045, 0.20769938826560974, 0.004181866999715567, 0.019515378400683403, 0.016727467998862267, 0.04460658133029938, 0.04321262612938881, 0.061334047466516495, 0.2564878463745117, 0.11664389818906784, 0.028327804058790207, 0.016663413494825363, 0.08664975315332413, 0.3899238705635071, 0.003332682652398944, 0.029994145035743713, 0.07165268063545227, 0.02332877926528454, 0.01832975447177887, 0.2149580419063568, 0.9116888642311096, 0.023877354338765144, 0.06039566174149513, 0.03651830554008484, 0.16573692858219147, 0.06320475786924362, 0.05899111181497574, 0.5899111032485962, 0.9658116698265076, 0.9158899784088135, 0.9781050682067871, 0.45705196261405945, 0.1046263575553894, 0.09361305832862854, 0.3414123058319092, 0.7747799754142761, 0.13558650016784668, 0.07747799903154373, 0.9241034984588623, 0.9099340438842773, 0.08267046511173248, 0.073057621717453, 0.04229651764035225, 0.14803780615329742, 0.15188294649124146, 0.06536734104156494, 0.1345798224210739, 0.048064224421978, 0.16726349294185638, 0.04229651764035225, 0.044219087809324265, 0.07436291873455048, 0.1081642434000969, 0.8112318515777588, 0.0670958086848259, 0.9225673675537109, 0.9370253682136536, 0.9838685989379883, 0.9311687350273132, 0.09668344259262085, 0.5097854137420654, 0.20215629041194916, 0.14063045382499695, 0.043947018682956696, 0.01181847508996725, 0.015757966786623, 0.13000322878360748, 0.8391117453575134, 0.09828323870897293, 0.05642186105251312, 0.016380539163947105, 0.06552215665578842, 0.049141619354486465, 0.32579073309898376, 0.003640119917690754, 0.005460179876536131, 0.03276107832789421, 0.04368143901228905, 0.020020660012960434, 0.012740420177578926, 0.2675488293170929, 0.976050853729248, 0.9821158647537231, 0.954123854637146, 0.6695502400398254, 0.05873247608542442, 0.2701694071292877, 0.9570671916007996, 0.9714449644088745, 0.9784278869628906, 0.9668412804603577, 0.9801762700080872, 0.15610434114933014, 0.08757072687149048, 0.09328186511993408, 0.18085259199142456, 0.41120168566703796, 0.030459383502602577, 0.030459383502602577, 0.007614845875650644, 0.9204205870628357, 0.9379713535308838, 0.9904190897941589, 0.06379135698080063, 0.7164260149002075, 0.2183627188205719, 0.9443846940994263, 0.12590423226356506, 0.8435583710670471, 0.025180846452713013, 0.2746221423149109, 0.015757007524371147, 0.022510012611746788, 0.13280907273292542, 0.3399011790752411, 0.2138451188802719, 0.03028458170592785, 0.9615354537963867, 0.9721124768257141, 0.04122817516326904, 0.02854258194565773, 0.023785484954714775, 0.05391376465559006, 0.5970156788825989, 0.09434908628463745, 0.16015559434890747, 0.20428188145160675, 0.783080518245697, 0.03370949998497963, 0.028893856331706047, 0.057787712663412094, 0.01926257088780403, 0.8571844100952148, 0.01096856314688921, 0.0013710703933611512, 0.01096856314688921, 0.04798746109008789, 0.07403779774904251, 0.06169816479086876, 0.3263147473335266, 0.12613847851753235, 0.06855351477861404, 0.27147191762924194, 0.9708616733551025, 0.980368971824646, 0.9409492015838623, 0.04573734104633331, 0.06288884580135345, 0.5945854187011719, 0.002858583815395832, 0.29157555103302, 0.9873061776161194, 0.968903124332428, 0.052457135170698166, 0.7518855929374695, 0.17485710978507996, 0.9369190335273743, 0.9750718474388123, 0.06041944399476051, 0.02107655070722103, 0.12505419552326202, 0.10819295793771744, 0.17142261564731598, 0.0028102067299187183, 0.04496330767869949, 0.05198882520198822, 0.41310039162635803, 0.9695155024528503, 0.8408945798873901, 0.038222480565309525, 0.11466744542121887, 0.1722019612789154, 0.041328467428684235, 0.010332116857171059, 0.039606448262929916, 0.09298905730247498, 0.024108273908495903, 0.0568266436457634, 0.005166058428585529, 0.17564599215984344, 0.20319831371307373, 0.13603954017162323, 0.041328467428684235, 0.1990986466407776, 0.6279265284538269, 0.053603481501340866, 0.10720696300268173, 0.6168469786643982, 0.08224626630544662, 0.29608654975891113, 0.9341132044792175, 0.9731606841087341, 0.08332594484090805, 0.6666075587272644, 0.006943828426301479, 0.23609016835689545, 0.9742257595062256, 0.3124542832374573, 0.10726042836904526, 0.0839429423213005, 0.15389539301395416, 0.1399049013853073, 0.20053036510944366, 0.1865965873003006, 0.011662286706268787, 0.011662286706268787, 0.05539586395025253, 0.018951216712594032, 0.03352907672524452, 0.43150460720062256, 0.22595681250095367, 0.020409002900123596, 0.002915571676567197, 0.1648314744234085, 0.8241574168205261, 0.05385368689894676, 0.02254340425133705, 0.012524113059043884, 0.010019290260970592, 0.03757233917713165, 0.06763020902872086, 0.09142602980136871, 0.1352604180574417, 0.02379581518471241, 0.02379581518471241, 0.2216768115758896, 0.0751446783542633, 0.20163822174072266, 0.02379581518471241, 0.9399516582489014, 0.9984351396560669, 0.9725531935691833, 0.8965528011322021, 0.04238381236791611, 0.011153634637594223, 0.12045925110578537, 0.5219901204109192, 0.035691630095243454, 0.015615088865160942, 0.011153634637594223, 0.173996701836586, 0.06469108164310455, 0.06269528716802597, 0.9195308685302734, 0.011038943193852901, 0.012737242504954338, 0.22587376832962036, 0.02292703650891781, 0.029720231890678406, 0.6971517205238342, 0.9989680051803589, 0.9958857893943787, 0.9790292978286743, 0.01778911054134369, 0.006250228267163038, 0.0004807867808267474, 0.012019669637084007, 0.016346750780940056, 0.06875251233577728, 0.0336550734937191, 0.004807868041098118, 0.01778911054134369, 0.043270811438560486, 0.08798398077487946, 0.009134949184954166, 0.6759862303733826, 0.005769441369920969, 0.9811795949935913, 0.9667448997497559, 0.12422051280736923, 0.09001486748456955, 0.08461397141218185, 0.09901635348796844, 0.30064964294433594, 0.1692279428243637, 0.0018002972938120365, 0.01890312135219574, 0.05310877040028572, 0.021603567525744438, 0.03690609335899353, 0.9765577912330627, 0.5541021227836609, 0.443847119808197, 0.028169885277748108, 0.004543529823422432, 0.00999576598405838, 0.03543953225016594, 0.06179200857877731, 0.003634823951870203, 0.8560010194778442, 0.9687081575393677, 0.08158647269010544, 0.8974511623382568, 0.12001581490039825, 0.12890587747097015, 0.6845346689224243, 0.06667545437812805, 0.014475978910923004, 0.9698905944824219, 0.12569265067577362, 0.8588997721672058, 0.4819059669971466, 0.03393704071640968, 0.21719704568386078, 0.006787407677620649, 0.006787407677620649, 0.19004741311073303, 0.06108666956424713, 0.9964020848274231, 0.07119519263505936, 0.01148309651762247, 0.0045932382345199585, 0.10794110596179962, 0.47999340295791626, 0.2572213411331177, 0.009186476469039917, 0.0551188625395298, 0.1054566279053688, 0.632739782333374, 0.25610896944999695, 0.053498562425374985, 0.058717936277389526, 0.0182678010314703, 0.04175497591495514, 0.12396008521318436, 0.28706544637680054, 0.06393730640411377, 0.10960680991411209, 0.058717936277389526, 0.08481479436159134, 0.0795954242348671, 0.01957264542579651, 0.01657436229288578, 0.02294911816716194, 0.0560978427529335, 0.09434637427330017, 0.10582093149423599, 0.3837602436542511, 0.03187377378344536, 0.04334833472967148, 0.10327102988958359, 0.001274951035156846, 0.13386985659599304, 0.005099804140627384, 0.1217198520898819, 0.49905139207839966, 0.37124553322792053, 0.9655059576034546, 0.0787949413061142, 0.00217365357093513, 0.003260480472818017, 0.03287651017308235, 0.045646727085113525, 0.10895438492298126, 0.0008151201182045043, 0.06847009062767029, 0.005162427201867104, 0.009781441651284695, 0.26328378915786743, 0.00679266732186079, 0.36164161562919617, 0.012226801365613937, 0.7298431396484375, 0.26236191391944885, 0.9792578816413879, 0.9889265894889832, 0.9766469597816467, 0.15546345710754395, 0.04909372329711914, 0.7854995727539062, 0.18916751444339752, 0.567502498626709, 0.13698336482048035, 0.10436827689409256, 0.9924327731132507, 0.07610879838466644, 0.9133055806159973, 0.641290009021759, 0.3481288552284241, 0.9665332436561584, 0.8787341713905334, 0.06276673078536987, 0.9676573276519775, 0.9907081723213196, 0.03517138212919235, 0.9496272802352905, 0.937874436378479, 0.9632042646408081, 0.2971142828464508, 0.005614078138023615, 0.02504742704331875, 0.01727408729493618, 0.16669493913650513, 0.16626308858394623, 0.005182226188480854, 0.004318521823734045, 0.07039190828800201, 0.012091861106455326, 0.07039190828800201, 0.0492311492562294, 0.10062155872583389, 0.00993259996175766, 0.9592592716217041, 0.8598307371139526, 0.1294368952512741, 0.009245491586625576, 0.14374931156635284, 0.8403806090354919, 0.09031005203723907, 0.8901991248130798, 0.9423314332962036, 0.04711657017469406, 0.9791019558906555, 0.9710586667060852, 0.9195546507835388, 0.9770063757896423, 0.9374412298202515, 0.933404803276062, 0.9294114112854004, 0.8971717953681946, 0.04925817623734474, 0.0886647179722786, 0.13792289793491364, 0.09851635247468948, 0.5910981297492981, 0.029554907232522964, 0.03173976019024849, 0.9521927833557129, 0.9472491145133972, 0.9227509498596191, 0.5946977138519287, 0.07136373221874237, 0.004757581744343042, 0.15224261581897736, 0.17127294838428497, 0.9741151332855225, 0.9238810539245605, 0.021883366629481316, 0.9628681540489197, 0.010941683314740658, 0.22540050745010376, 0.7701184153556824, 0.9935461282730103, 0.0456555038690567, 0.23969139158725739, 0.5592799186706543, 0.14838038384914398, 0.15090109407901764, 0.1051734909415245, 0.050300367176532745, 0.6127499341964722, 0.036582086235284805, 0.04572760686278343, 0.9707032442092896, 0.9700607657432556, 0.9615834951400757, 0.9437760710716248, 0.9773207306861877, 0.049496494233608246, 0.037456806749105453, 0.04815874993801117, 0.0026754860300570726, 0.029430346563458443, 0.0013377430150285363, 0.0026754860300570726, 0.14180076122283936, 0.04414552077651024, 0.03611906245350838, 0.3076809048652649, 0.10300621390342712, 0.18728402256965637, 0.008026458323001862, 0.0005810236325487494, 0.007553306873887777, 0.0005810236325487494, 0.03834755718708038, 0.08599149435758591, 0.012201495468616486, 0.016268661245703697, 0.12201495468616486, 0.008715353906154633, 0.7065247297286987, 0.019065506756305695, 0.9532753825187683, 0.09037243574857712, 0.02400517836213112, 0.05789484083652496, 0.03671380132436752, 0.09743278473615646, 0.690501868724823, 0.28483259677886963, 0.023736050352454185, 0.038994938135147095, 0.06951271742582321, 0.5815331935882568, 0.9230248928070068, 0.10209956765174866, 0.029594076797366142, 0.03181363269686699, 0.015536890365183353, 0.06584682315587997, 0.20641867816448212, 0.012577482499182224, 0.018496297299861908, 0.03773244842886925, 0.009618074633181095, 0.005918815266340971, 0.4187561869621277, 0.0458708181977272, 0.04861307144165039, 0.08507287502288818, 0.05671525001525879, 0.008102178573608398, 0.5306926965713501, 0.012153267860412598, 0.06076633930206299, 0.19850337505340576, 0.05834675580263138, 0.06430050730705261, 0.09049700945615768, 0.03810400515794754, 0.052393004298210144, 0.1547975093126297, 0.0059537505730986595, 0.0023815003223717213, 0.12741026282310486, 0.020242752507328987, 0.035722505301237106, 0.3012597858905792, 0.04882075637578964, 0.07570474594831467, 0.8832219839096069, 0.9733279347419739, 0.059340815991163254, 0.0532856285572052, 0.020587628707289696, 0.03451455384492874, 0.060551851987838745, 0.09627744555473328, 0.10536021739244461, 0.04662492498755455, 0.07326774299144745, 0.03451455384492874, 0.16348999738693237, 0.0532856285572052, 0.16227896511554718, 0.03693662956357002, 0.07586462795734406, 0.08965820074081421, 0.05517427623271942, 0.6414009928703308, 0.13103890419006348, 0.271182656288147, 0.025826917961239815, 0.6973267793655396, 0.030091935768723488, 0.9629419445991516, 0.9665390849113464, 0.9939256906509399, 0.006360990460962057, 0.9910422563552856, 0.0012721980456262827, 0.9469689726829529, 0.035365357995033264, 0.012860129587352276, 0.04501045495271683, 0.2572025954723358, 0.14467646181583405, 0.35043853521347046, 0.15110652148723602, 0.2502019703388214, 0.012973436154425144, 0.012973436154425144, 0.087107352912426, 0.020386828109622, 0.15197452902793884, 0.08525400608778, 0.11490757018327713, 0.1260276585817337, 0.05930713564157486, 0.081547312438488, 0.07490560412406921, 0.0315818227827549, 0.016600701957941055, 0.03603566810488701, 0.09272099286317825, 0.23160003125667572, 0.0004048951668664813, 0.004858742002397776, 0.02469860389828682, 0.07166644185781479, 0.029557347297668457, 0.01133706420660019, 0.3720986545085907, 0.0020244757179170847, 0.977260172367096, 0.968904435634613, 0.9230021834373474, 0.9371698498725891, 0.8168914318084717, 0.17097727954387665, 0.9096596240997314, 0.485446572303772, 0.11361515522003174, 0.17558705806732178, 0.21690165996551514], \"Term\": [\"acknowledge\", \"act\", \"act\", \"action\", \"address\", \"adorable\", \"adult\", \"ag\", \"aid\", \"al\", \"ale\", \"alex\", \"allergy\", \"alley\", \"also\", \"also\", \"also\", \"also\", \"also\", \"also\", \"also\", \"also\", \"also\", \"also\", \"also\", \"also\", \"also\", \"also\", \"also\", \"always\", \"always\", \"always\", \"always\", \"always\", \"always\", \"always\", \"always\", \"amazing\", \"amazing\", \"amazing\", \"amazing\", \"amazing\", \"amazing\", \"amazing\", \"amazing\", \"ambiance\", \"ambiance\", \"angry\", \"angus\", \"animal\", \"another\", \"another\", \"another\", \"another\", \"another\", \"another\", \"another\", \"another\", \"answer\", \"anybody\", \"apologize\", \"apologize\", \"apology\", \"approach\", \"area\", \"area\", \"area\", \"area\", \"area\", \"area\", \"area\", \"area\", \"area\", \"arena\", \"argue\", \"arizona\", \"arizona\", \"arizona\", \"arizona\", \"arizona\", \"arizona\", \"arm\", \"arrive\", \"arrive\", \"arrive\", \"arrive\", \"arrive\", \"arrive\", \"asada\", \"ask\", \"ask\", \"ask\", \"ask\", \"ask\", \"ask\", \"ask\", \"ask\", \"ass\", \"assortment\", \"assure\", \"atl\", \"atmosphere\", \"atmosphere\", \"atmosphere\", \"atmosphere\", \"attempt\", \"attentive\", \"attentive\", \"attentive\", \"attentive\", \"attentive\", \"attentive\", \"attentive\", \"attitude\", \"attitude\", \"authentic\", \"authentic\", \"ave\", \"ave\", \"avocado\", \"avocado\", \"avocado\", \"aware\", \"awesome\", \"awesome\", \"awesome\", \"awesome\", \"awesome\", \"awesome\", \"awesome\", \"back\", \"back\", \"back\", \"back\", \"back\", \"back\", \"back\", \"back\", \"back\", \"back\", \"back\", \"back\", \"back\", \"back\", \"back\", \"bacon\", \"bacon\", \"bad\", \"bad\", \"bad\", \"bad\", \"bad\", \"bad\", \"bad\", \"bad\", \"bagel\", \"bakery\", \"balsamic\", \"bar\", \"bar\", \"bar\", \"bar\", \"bar\", \"bar\", \"barbecue\", \"bare\", \"barista\", \"bartender\", \"bartender\", \"bartender\", \"bartender\", \"bartender\", \"base\", \"base\", \"base\", \"base\", \"base\", \"bathroom\", \"bathroom\", \"bathroom\", \"batter\", \"bean\", \"bean\", \"bean\", \"beef\", \"beef\", \"beef\", \"beef\", \"beef\", \"beef\", \"beer\", \"beer\", \"beer\", \"beer\", \"bell\", \"bell\", \"bell\", \"bell\", \"belt\", \"benedict\", \"best\", \"best\", \"best\", \"best\", \"best\", \"best\", \"best\", \"best\", \"best\", \"beverage\", \"beverage\", \"beverage\", \"beware\", \"beyond\", \"beyond\", \"beyond\", \"beyond\", \"beyond\", \"beyond\", \"beyond\", \"bill\", \"bill\", \"birthday\", \"birthday\", \"birthday\", \"birthday\", \"birthday\", \"birthday\", \"birthday\", \"biscuit\", \"bite\", \"bite\", \"bite\", \"bite\", \"bite\", \"bite\", \"bite\", \"bite\", \"black\", \"black\", \"black\", \"black\", \"black\", \"black\", \"black\", \"blah\", \"blast\", \"blast\", \"blonde\", \"bloody\", \"bloody\", \"boba\", \"boneless\", \"boo\", \"bother\", \"bother\", \"bottega\", \"bowl\", \"bowl\", \"bowl\", \"bowl\", \"bowl\", \"bowl\", \"bowling\", \"bowling\", \"bread\", \"bread\", \"bread\", \"bread\", \"bread\", \"breakfast\", \"breakfast\", \"breast\", \"breast\", \"brewery\", \"brie\", \"broil\", \"broth\", \"brother\", \"brother\", \"brown\", \"brown\", \"brownie\", \"browns\", \"brunch\", \"brunch\", \"bruschetta\", \"bucket\", \"buffalo\", \"buffet\", \"buffet\", \"bug\", \"bun\", \"bun\", \"bun\", \"burger\", \"burger\", \"burrito\", \"burrito\", \"burro\", \"bush\", \"caesar\", \"caesar\", \"cake\", \"cake\", \"cake\", \"calamari\", \"calamari\", \"california\", \"california\", \"call\", \"call\", \"call\", \"call\", \"call\", \"call\", \"cancel\", \"candy\", \"cane\", \"car\", \"car\", \"car\", \"caramel\", \"cardinal\", \"carne\", \"carne\", \"carnitas\", \"catfish\", \"celebrate\", \"celebrate\", \"celebrate\", \"celebration\", \"challah\", \"char\", \"cheddar\", \"cheese\", \"cheese\", \"cheese\", \"cheese\", \"cheese\", \"cheese\", \"cheeseburger\", \"cheeseburger\", \"cheesesteak\", \"cheetos\", \"chef\", \"chef\", \"chef\", \"chef\", \"chef\", \"cherry\", \"chicago\", \"chicago\", \"chick\", \"chicken\", \"chicken\", \"chicken\", \"chicken\", \"chicken\", \"chicken\", \"child\", \"child\", \"chile\", \"chill\", \"chill\", \"chimi\", \"chimichanga\", \"chip\", \"chip\", \"chip\", \"chip\", \"chip\", \"chocolate\", \"chocolate\", \"chocolate\", \"chompie\", \"chompie\", \"choose\", \"choose\", \"choose\", \"choose\", \"choose\", \"choose\", \"choose\", \"choose\", \"choose\", \"choose\", \"chorizo\", \"chowder\", \"chris\", \"christmas\", \"christmas\", \"christmas\", \"cinnamon\", \"clam\", \"clam\", \"clean\", \"clean\", \"clean\", \"clean\", \"clean\", \"clean\", \"clean\", \"close\", \"close\", \"close\", \"close\", \"close\", \"close\", \"close\", \"close\", \"close\", \"close\", \"closed\", \"coat\", \"coconut\", \"cod\", \"code\", \"coffee\", \"coffee\", \"coffee\", \"coke\", \"cole\", \"coleslaw\", \"coleslaw\", \"com\", \"come\", \"come\", \"come\", \"come\", \"come\", \"come\", \"come\", \"come\", \"come\", \"come\", \"come\", \"come\", \"come\", \"comfy\", \"compe\", \"concerned\", \"cone\", \"confusion\", \"consistent\", \"consistent\", \"contact\", \"cook\", \"cook\", \"cook\", \"cook\", \"cook\", \"cook\", \"cook\", \"cook\", \"cook\", \"cooked\", \"cooked\", \"cooked\", \"cooked\", \"cool\", \"cool\", \"cool\", \"cool\", \"cool\", \"cool\", \"cool\", \"cool\", \"cool\", \"corn\", \"corn\", \"corn\", \"corn\", \"costco\", \"could\", \"could\", \"could\", \"could\", \"could\", \"could\", \"could\", \"could\", \"could\", \"could\", \"could\", \"could\", \"could\", \"could\", \"country\", \"country\", \"courteous\", \"courteous\", \"courteous\", \"coyote\", \"cozy\", \"cozy\", \"cozy\", \"cozy\", \"crab\", \"crab\", \"craft\", \"crawfish\", \"crawl\", \"cream\", \"cream\", \"cream\", \"cream\", \"crispy\", \"crispy\", \"crispy\", \"crispy\", \"crispy\", \"crispy\", \"critical\", \"croissant\", \"crowded\", \"crust\", \"crust\", \"cuisine\", \"culture\", \"curry\", \"customer\", \"customer\", \"customer\", \"cute\", \"cute\", \"dance\", \"daniel\", \"david\", \"day\", \"day\", \"day\", \"day\", \"day\", \"day\", \"day\", \"day\", \"day\", \"day\", \"day\", \"day\", \"day\", \"day\", \"de\", \"decision\", \"decor\", \"decor\", \"decor\", \"decor\", \"decor\", \"decor\", \"decorate\", \"def\", \"definite\", \"definitely\", \"definitely\", \"definitely\", \"definitely\", \"definitely\", \"definitely\", \"definitely\", \"definitely\", \"definitely\", \"definitely\", \"definitely\", \"deli\", \"delicious\", \"delicious\", \"delicious\", \"delicious\", \"delicious\", \"delicious\", \"delicious\", \"delicious\", \"delight\", \"deliver\", \"deliver\", \"deliver\", \"deliver\", \"delivery\", \"depend\", \"dinner\", \"dinner\", \"dinner\", \"dinner\", \"dinner\", \"dinner\", \"dinner\", \"dinner\", \"dinner\", \"dinner\", \"dinner\", \"dip\", \"dip\", \"dip\", \"dip\", \"directly\", \"dirty\", \"dirty\", \"dirty\", \"dish\", \"dish\", \"dish\", \"dish\", \"dish\", \"dish\", \"dish\", \"dish\", \"dish\", \"dj\", \"dog\", \"dominos\", \"donut\", \"door\", \"door\", \"door\", \"door\", \"door\", \"dough\", \"doughnut\", \"downtown\", \"draft\", \"dress\", \"dress\", \"dressing\", \"drink\", \"drink\", \"drink\", \"drink\", \"drink\", \"drink\", \"drink\", \"drink\", \"drink\", \"drink\", \"drink\", \"drive\", \"drive\", \"drive\", \"drive\", \"drive\", \"drive\", \"drive\", \"drive\", \"driver\", \"dust\", \"duty\", \"east\", \"east\", \"eastern\", \"eat\", \"eat\", \"eat\", \"eat\", \"eat\", \"eat\", \"eat\", \"eat\", \"eat\", \"eat\", \"eat\", \"eat\", \"eat\", \"eat\", \"egg\", \"egg\", \"eggs\", \"el\", \"elote\", \"enchilada\", \"enchiladas\", \"enchiladas\", \"energy\", \"ensure\", \"ensure\", \"ensure\", \"entre\", \"even\", \"even\", \"even\", \"even\", \"even\", \"even\", \"even\", \"even\", \"even\", \"even\", \"even\", \"even\", \"even\", \"event\", \"event\", \"ever\", \"ever\", \"ever\", \"ever\", \"ever\", \"ever\", \"ever\", \"ever\", \"ever\", \"ever\", \"ever\", \"every\", \"every\", \"every\", \"every\", \"every\", \"every\", \"every\", \"every\", \"every\", \"every\", \"every\", \"everybody\", \"everything\", \"everything\", \"everything\", \"everything\", \"everything\", \"everything\", \"everything\", \"everything\", \"everything\", \"everything\", \"everything\", \"everything\", \"everything\", \"excellent\", \"excellent\", \"excellent\", \"excellent\", \"excellent\", \"excellent\", \"excellent\", \"exceptional\", \"exceptional\", \"exceptionally\", \"exceptionally\", \"excuse\", \"expand\", \"experience\", \"experience\", \"experience\", \"experience\", \"experience\", \"experience\", \"experience\", \"experience\", \"experience\", \"experience\", \"experience\", \"experience\", \"fajita\", \"fake\", \"falafel\", \"familiar\", \"family\", \"family\", \"family\", \"family\", \"family\", \"family\", \"family\", \"family\", \"fast\", \"fast\", \"fast\", \"fast\", \"fast\", \"fast\", \"fast\", \"fast\", \"fast\", \"fast\", \"fast\", \"fast\", \"favorite\", \"favorite\", \"favorite\", \"favorite\", \"favorite\", \"favorite\", \"favorite\", \"feel\", \"feel\", \"feel\", \"feel\", \"feel\", \"feel\", \"feel\", \"feel\", \"feel\", \"feel\", \"feel\", \"feta\", \"fight\", \"filet\", \"final\", \"final\", \"finally\", \"finally\", \"finally\", \"finally\", \"finally\", \"finally\", \"find\", \"find\", \"find\", \"find\", \"find\", \"find\", \"find\", \"find\", \"find\", \"find\", \"find\", \"find\", \"find\", \"fire\", \"fire\", \"fire\", \"first\", \"first\", \"first\", \"first\", \"first\", \"first\", \"first\", \"first\", \"first\", \"first\", \"first\", \"first\", \"first\", \"first\", \"fish\", \"fish\", \"fish\", \"flavor\", \"flavor\", \"flavor\", \"flavor\", \"flavor\", \"flavor\", \"flavor\", \"flavor\", \"flavor\", \"flour\", \"fluffy\", \"fluffy\", \"folk\", \"folk\", \"fondue\", \"food\", \"food\", \"food\", \"food\", \"food\", \"food\", \"food\", \"food\", \"food\", \"food\", \"food\", \"food\", \"food\", \"football\", \"football\", \"force\", \"fountain\", \"freaky\", \"free\", \"free\", \"free\", \"free\", \"free\", \"free\", \"free\", \"free\", \"freezer\", \"french\", \"french\", \"fresh\", \"fresh\", \"fresh\", \"fresh\", \"fresh\", \"fresh\", \"fresh\", \"fresh\", \"fresh\", \"fresh\", \"fresh\", \"fresh\", \"friday\", \"friday\", \"friday\", \"friday\", \"friday\", \"friendly\", \"friendly\", \"friendly\", \"friendly\", \"friendly\", \"friendly\", \"friendly\", \"friendly\", \"friendly\", \"frost\", \"fry\", \"fry\", \"fry\", \"fry\", \"fry\", \"fry\", \"fry\", \"game\", \"game\", \"game\", \"garlic\", \"garlic\", \"garlic\", \"garlic\", \"garlic\", \"gas\", \"gate\", \"gem\", \"gem\", \"gem\", \"gem\", \"genghis\", \"genghis\", \"genuinely\", \"get\", \"get\", \"get\", \"get\", \"get\", \"get\", \"get\", \"get\", \"get\", \"get\", \"get\", \"get\", \"get\", \"get\", \"get\", \"giant\", \"giant\", \"giant\", \"ginger\", \"ginger\", \"give\", \"give\", \"give\", \"give\", \"give\", \"give\", \"give\", \"give\", \"give\", \"give\", \"give\", \"gizzard\", \"glendale\", \"glendale\", \"glendale\", \"glendale\", \"glendale\", \"glendale\", \"glendale\", \"glendale\", \"glendale\", \"glendale\", \"gluten\", \"gm\", \"go\", \"go\", \"go\", \"go\", \"go\", \"go\", \"go\", \"go\", \"go\", \"go\", \"go\", \"go\", \"go\", \"go\", \"go\", \"good\", \"good\", \"good\", \"good\", \"good\", \"good\", \"good\", \"good\", \"good\", \"good\", \"good\", \"good\", \"good\", \"good\", \"good\", \"goodbye\", \"got\", \"grand\", \"grandma\", \"gravy\", \"gravy\", \"grease\", \"grease\", \"great\", \"great\", \"great\", \"great\", \"great\", \"great\", \"great\", \"great\", \"great\", \"great\", \"great\", \"great\", \"great\", \"greek\", \"green\", \"green\", \"green\", \"green\", \"green\", \"green\", \"grill\", \"grill\", \"grill\", \"grill\", \"grill\", \"grill\", \"grill\", \"grill\", \"groupon\", \"groupon\", \"guac\", \"guacamole\", \"guy\", \"guy\", \"guy\", \"guy\", \"guy\", \"guy\", \"guy\", \"guy\", \"guy\", \"guy\", \"gyro\", \"habanero\", \"habit\", \"ham\", \"ham\", \"ham\", \"ham\", \"happy\", \"happy\", \"happy\", \"happy\", \"happy\", \"happy\", \"happy\", \"happy\", \"happy\", \"happy\", \"hash\", \"healthy\", \"healthy\", \"healthy\", \"healthy\", \"healthy\", \"healthy\", \"heck\", \"helpful\", \"helpful\", \"helpful\", \"helpful\", \"helpful\", \"helpful\", \"herb\", \"hidden\", \"high\", \"high\", \"high\", \"high\", \"high\", \"high\", \"high\", \"high\", \"high\", \"high\", \"high\", \"highly\", \"highly\", \"highly\", \"highly\", \"highly\", \"hill\", \"history\", \"honestly\", \"honestly\", \"honestly\", \"honestly\", \"honestly\", \"honestly\", \"horchata\", \"horchata\", \"horrible\", \"horrible\", \"horrible\", \"horrible\", \"horrible\", \"hospitality\", \"hostess\", \"hot\", \"hot\", \"hot\", \"hot\", \"hot\", \"hot\", \"hot\", \"hot\", \"hot\", \"hot\", \"hot\", \"hour\", \"hour\", \"hour\", \"hour\", \"hour\", \"hubby\", \"hubby\", \"hubby\", \"hubby\", \"hubby\", \"humble\", \"hummus\", \"husband\", \"husband\", \"husband\", \"husband\", \"husband\", \"husband\", \"husband\", \"husband\", \"husband\", \"hut\", \"hut\", \"hut\", \"ice\", \"ice\", \"ignore\", \"indian\", \"indian\", \"indian\", \"individual\", \"indoor\", \"inedible\", \"informative\", \"initially\", \"inside\", \"inside\", \"inside\", \"inside\", \"inside\", \"inside\", \"inside\", \"inside\", \"inside\", \"insist\", \"interesting\", \"interesting\", \"introduce\", \"invite\", \"invite\", \"ipa\", \"italian\", \"italian\", \"italian\", \"italian\", \"italian\", \"jam\", \"japanese\", \"jasmine\", \"jason\", \"jason\", \"job\", \"job\", \"job\", \"job\", \"joe\", \"john\", \"jungle\", \"jungle\", \"kabob\", \"kabuki\", \"kabuki\", \"keep\", \"keep\", \"keep\", \"keep\", \"keep\", \"keep\", \"keep\", \"keep\", \"keep\", \"kelly\", \"kfc\", \"kid\", \"kid\", \"kid\", \"kid\", \"kid\", \"kid\", \"kid\", \"kid\", \"kid\", \"kid\", \"killer\", \"kimchi\", \"know\", \"know\", \"know\", \"know\", \"know\", \"know\", \"know\", \"know\", \"know\", \"know\", \"know\", \"know\", \"kool\", \"kool\", \"kung\", \"la\", \"lamb\", \"lamb\", \"lame\", \"lane\", \"large\", \"large\", \"large\", \"large\", \"large\", \"large\", \"large\", \"large\", \"large\", \"large\", \"las\", \"later\", \"later\", \"later\", \"latte\", \"laugh\", \"laugh\", \"layout\", \"leave\", \"leave\", \"leave\", \"leave\", \"leave\", \"leave\", \"leave\", \"leave\", \"leave\", \"leg\", \"leg\", \"lettuce\", \"lettuce\", \"lettuce\", \"lick\", \"light\", \"light\", \"light\", \"light\", \"light\", \"light\", \"light\", \"lightly\", \"like\", \"like\", \"like\", \"like\", \"like\", \"like\", \"like\", \"like\", \"like\", \"like\", \"like\", \"like\", \"like\", \"like\", \"little\", \"little\", \"little\", \"little\", \"little\", \"little\", \"little\", \"little\", \"little\", \"little\", \"little\", \"little\", \"little\", \"little\", \"little\", \"lively\", \"liver\", \"local\", \"local\", \"local\", \"local\", \"local\", \"local\", \"location\", \"location\", \"location\", \"location\", \"location\", \"location\", \"location\", \"location\", \"location\", \"lock\", \"long\", \"long\", \"long\", \"long\", \"long\", \"long\", \"long\", \"long\", \"look\", \"look\", \"look\", \"look\", \"look\", \"look\", \"look\", \"look\", \"look\", \"look\", \"look\", \"look\", \"look\", \"lot\", \"lot\", \"lot\", \"lot\", \"lot\", \"lot\", \"lot\", \"lot\", \"lot\", \"lot\", \"lot\", \"lot\", \"lot\", \"loud\", \"loud\", \"loud\", \"louie\", \"love\", \"love\", \"love\", \"love\", \"love\", \"love\", \"love\", \"love\", \"love\", \"love\", \"love\", \"love\", \"luckily\", \"lunch\", \"lunch\", \"lunch\", \"lunch\", \"lunch\", \"lunch\", \"lunch\", \"lunch\", \"lunch\", \"lunch\", \"lunch\", \"mac\", \"macaroni\", \"mahi\", \"major\", \"majority\", \"make\", \"make\", \"make\", \"make\", \"make\", \"make\", \"make\", \"make\", \"make\", \"make\", \"make\", \"make\", \"make\", \"make\", \"make\", \"male\", \"mall\", \"mall\", \"mall\", \"mall\", \"manager\", \"manager\", \"marco\", \"margarita\", \"margarita\", \"margarita\", \"marinara\", \"martini\", \"mary\", \"mary\", \"masala\", \"mash\", \"mash\", \"max\", \"may\", \"may\", \"may\", \"may\", \"may\", \"may\", \"may\", \"may\", \"may\", \"may\", \"meal\", \"meal\", \"meal\", \"meal\", \"meal\", \"meal\", \"meal\", \"meal\", \"meal\", \"meal\", \"meal\", \"meat\", \"meat\", \"meat\", \"meat\", \"meat\", \"meat\", \"meat\", \"meat\", \"meatball\", \"meatball\", \"mediterranean\", \"medium\", \"medium\", \"medium\", \"medium\", \"medium\", \"melt\", \"melt\", \"menu\", \"menu\", \"menu\", \"menu\", \"menu\", \"menu\", \"menu\", \"menu\", \"menu\", \"menu\", \"menu\", \"metal\", \"mexican\", \"mexican\", \"mexican\", \"mexico\", \"michelle\", \"midwestern\", \"military\", \"milkshake\", \"mimosa\", \"min\", \"min\", \"min\", \"mini\", \"mini\", \"mini\", \"mins\", \"minute\", \"miso\", \"miso\", \"mist\", \"mixteca\", \"mobile\", \"mocha\", \"modern\", \"mongolian\", \"monkey\", \"morning\", \"morning\", \"morning\", \"morning\", \"mozzarella\", \"mozzarella\", \"much\", \"much\", \"much\", \"much\", \"much\", \"much\", \"much\", \"much\", \"much\", \"much\", \"much\", \"much\", \"much\", \"much\", \"much\", \"muffin\", \"music\", \"music\", \"music\", \"nachos\", \"nachos\", \"nachos\", \"national\", \"natural\", \"need\", \"need\", \"need\", \"need\", \"need\", \"need\", \"need\", \"need\", \"need\", \"need\", \"need\", \"need\", \"never\", \"never\", \"never\", \"never\", \"never\", \"never\", \"never\", \"never\", \"never\", \"never\", \"never\", \"new\", \"new\", \"new\", \"new\", \"new\", \"new\", \"new\", \"new\", \"new\", \"new\", \"new\", \"new\", \"nice\", \"nice\", \"nice\", \"nice\", \"nice\", \"nice\", \"nice\", \"nice\", \"nice\", \"nice\", \"nice\", \"nice\", \"nice\", \"nice\", \"nick\", \"night\", \"night\", \"night\", \"night\", \"night\", \"night\", \"night\", \"night\", \"night\", \"nigiri\", \"noise\", \"noisy\", \"nonetheless\", \"noodle\", \"nosh\", \"nothing\", \"nothing\", \"nothing\", \"nothing\", \"nothing\", \"nothing\", \"nothing\", \"nothing\", \"nugget\", \"nutella\", \"ny\", \"ny\", \"office\", \"office\", \"oily\", \"omelet\", \"omelette\", \"one\", \"one\", \"one\", \"one\", \"one\", \"one\", \"one\", \"one\", \"one\", \"one\", \"one\", \"one\", \"one\", \"one\", \"one\", \"onion\", \"onion\", \"online\", \"online\", \"online\", \"online\", \"opa\", \"open\", \"open\", \"open\", \"open\", \"open\", \"open\", \"open\", \"open\", \"open\", \"open\", \"operate\", \"operation\", \"opt\", \"option\", \"option\", \"option\", \"option\", \"option\", \"option\", \"option\", \"option\", \"option\", \"option\", \"options\", \"orange\", \"orange\", \"orange\", \"order\", \"order\", \"order\", \"order\", \"order\", \"order\", \"order\", \"order\", \"order\", \"order\", \"order\", \"order\", \"order\", \"order\", \"order\", \"oregano\", \"oreo\", \"orient\", \"oscar\", \"outdoor\", \"outdoor\", \"outgoing\", \"outside\", \"outside\", \"outside\", \"outside\", \"outside\", \"outside\", \"outside\", \"outstanding\", \"outstanding\", \"outstanding\", \"outstanding\", \"outstanding\", \"oven\", \"owner\", \"owner\", \"owner\", \"owner\", \"owner\", \"owner\", \"owner\", \"owner\", \"oyster\", \"package\", \"pad\", \"pad\", \"page\", \"pancake\", \"panda\", \"pao\", \"park\", \"park\", \"park\", \"parking\", \"parking\", \"parking\", \"party\", \"party\", \"party\", \"party\", \"pasta\", \"pasta\", \"pasta\", \"pasta\", \"pastas\", \"pastor\", \"pastrami\", \"patio\", \"patio\", \"patio\", \"patio\", \"patron\", \"patron\", \"patty\", \"peach\", \"people\", \"people\", \"people\", \"people\", \"people\", \"people\", \"people\", \"people\", \"people\", \"pepperoni\", \"personable\", \"pete\", \"pete\", \"pho\", \"phone\", \"phone\", \"phone\", \"photo\", \"photo\", \"photo\", \"photo\", \"phx\", \"pickle\", \"pico\", \"pie\", \"pie\", \"piece\", \"piece\", \"piece\", \"piece\", \"piece\", \"piece\", \"piece\", \"piece\", \"pier\", \"pig\", \"pink\", \"pint\", \"pita\", \"pitas\", \"pizza\", \"pizzeria\", \"place\", \"place\", \"place\", \"place\", \"place\", \"place\", \"place\", \"place\", \"place\", \"place\", \"place\", \"place\", \"place\", \"place\", \"place\", \"play\", \"play\", \"play\", \"play\", \"playground\", \"pleasant\", \"pleasant\", \"pleasant\", \"pleasant\", \"pleasant\", \"pleasant\", \"pleasant\", \"po\", \"po\", \"poisoning\", \"polish\", \"pollo\", \"poor\", \"poor\", \"popeye\", \"popo\", \"popper\", \"pork\", \"pork\", \"portion\", \"portion\", \"portion\", \"portion\", \"portion\", \"portion\", \"portion\", \"potato\", \"potato\", \"potato\", \"potato\", \"potatoe\", \"preference\", \"preparation\", \"previous\", \"previous\", \"previous\", \"previous\", \"price\", \"price\", \"price\", \"price\", \"price\", \"price\", \"price\", \"price\", \"price\", \"prime\", \"prior\", \"private\", \"product\", \"product\", \"product\", \"prop\", \"prosciutto\", \"pub\", \"puff\", \"quaint\", \"quesadilla\", \"quick\", \"quick\", \"quick\", \"quick\", \"quick\", \"quick\", \"quick\", \"quick\", \"quick\", \"quick\", \"quinoa\", \"raman\", \"range\", \"rare\", \"rare\", \"rare\", \"read\", \"read\", \"read\", \"read\", \"read\", \"read\", \"really\", \"really\", \"really\", \"really\", \"really\", \"really\", \"really\", \"really\", \"really\", \"really\", \"really\", \"really\", \"really\", \"really\", \"really\", \"receipt\", \"receive\", \"receive\", \"receive\", \"receive\", \"receive\", \"recommend\", \"recommend\", \"recommend\", \"recommend\", \"recommend\", \"recommend\", \"recommend\", \"recommend\", \"recommend\", \"recommend\", \"red\", \"red\", \"red\", \"red\", \"red\", \"red\", \"red\", \"refrie\", \"refund\", \"relatively\", \"relax\", \"relax\", \"relleno\", \"remodel\", \"report\", \"require\", \"reserve\", \"respond\", \"response\", \"restaurant\", \"restaurant\", \"restaurant\", \"restaurant\", \"restaurant\", \"restaurant\", \"restaurant\", \"restaurant\", \"restaurant\", \"restaurant\", \"restuarant\", \"review\", \"review\", \"review\", \"review\", \"review\", \"review\", \"review\", \"review\", \"review\", \"review\", \"review\", \"reviewer\", \"rib\", \"rib\", \"rice\", \"rice\", \"ridiculously\", \"ring\", \"ring\", \"rip\", \"rise\", \"rise\", \"rise\", \"roast\", \"roast\", \"roast\", \"rockets\", \"roll\", \"roll\", \"roll\", \"roll\", \"room\", \"room\", \"room\", \"room\", \"room\", \"rub\", \"rub\", \"rude\", \"runny\", \"sad\", \"sad\", \"sad\", \"sad\", \"sad\", \"sad\", \"saffron\", \"sakana\", \"salad\", \"salad\", \"salad\", \"salad\", \"salad\", \"salad\", \"salmon\", \"salmon\", \"salmon\", \"salmon\", \"salsa\", \"salsas\", \"san\", \"sandwich\", \"sandwich\", \"sandwich\", \"santa\", \"sashimi\", \"sauce\", \"sauce\", \"sauce\", \"sauce\", \"sauce\", \"sauce\", \"sausage\", \"sausage\", \"sausage\", \"sausage\", \"say\", \"say\", \"say\", \"say\", \"say\", \"say\", \"say\", \"say\", \"say\", \"say\", \"say\", \"schnitzel\", \"score\", \"score\", \"scott\", \"scramble\", \"seafood\", \"seafood\", \"seat\", \"seat\", \"seat\", \"seat\", \"seat\", \"seated\", \"seattle\", \"secret\", \"see\", \"see\", \"see\", \"see\", \"see\", \"see\", \"see\", \"see\", \"see\", \"see\", \"see\", \"selection\", \"selection\", \"selection\", \"selection\", \"server\", \"server\", \"server\", \"server\", \"server\", \"service\", \"service\", \"service\", \"service\", \"service\", \"service\", \"service\", \"service\", \"service\", \"service\", \"service\", \"service\", \"service\", \"sesame\", \"sever\", \"shane\", \"share\", \"share\", \"share\", \"share\", \"share\", \"share\", \"share\", \"share\", \"shawarma\", \"shirt\", \"shop\", \"shop\", \"shout\", \"shout\", \"shred\", \"shredded\", \"shrimp\", \"shrimp\", \"shrimp\", \"shrimp\", \"side\", \"side\", \"side\", \"side\", \"side\", \"side\", \"side\", \"side\", \"side\", \"side\", \"side\", \"side\", \"side\", \"since\", \"since\", \"since\", \"since\", \"since\", \"since\", \"since\", \"since\", \"since\", \"since\", \"since\", \"singer\", \"sit\", \"sit\", \"sit\", \"sit\", \"sit\", \"sit\", \"sit\", \"skillet\", \"skimpy\", \"slaw\", \"slice\", \"slice\", \"slice\", \"slice\", \"slider\", \"slider\", \"slider\", \"slight\", \"slowly\", \"small\", \"small\", \"small\", \"small\", \"small\", \"small\", \"small\", \"small\", \"small\", \"small\", \"small\", \"smell\", \"smell\", \"smell\", \"smoke\", \"smoke\", \"smoker\", \"smoothie\", \"soak\", \"soggy\", \"soggy\", \"soggy\", \"soggy\", \"soggy\", \"someone\", \"someone\", \"someone\", \"someone\", \"something\", \"something\", \"something\", \"something\", \"something\", \"something\", \"something\", \"something\", \"something\", \"something\", \"something\", \"something\", \"something\", \"sometime\", \"sonoran\", \"sooner\", \"soup\", \"soup\", \"soup\", \"southern\", \"southwest\", \"souvlaki\", \"spanish\", \"speaker\", \"special\", \"special\", \"special\", \"special\", \"special\", \"special\", \"special\", \"special\", \"specify\", \"speedy\", \"spice\", \"spicy\", \"spicy\", \"spicy\", \"spirit\", \"sport\", \"sport\", \"sport\", \"spot\", \"spot\", \"spot\", \"spot\", \"spot\", \"spot\", \"spring\", \"spring\", \"stadium\", \"staff\", \"staff\", \"staff\", \"staff\", \"staff\", \"staff\", \"staff\", \"stale\", \"stale\", \"stand\", \"stand\", \"stand\", \"stand\", \"stand\", \"star\", \"star\", \"star\", \"star\", \"star\", \"star\", \"star\", \"star\", \"star\", \"star\", \"starbuck\", \"starbucks\", \"starve\", \"steak\", \"steak\", \"steak\", \"steak\", \"steak\", \"steakhouse\", \"steam\", \"step\", \"step\", \"step\", \"steve\", \"stew\", \"still\", \"still\", \"still\", \"still\", \"still\", \"still\", \"still\", \"still\", \"still\", \"stir\", \"stomach\", \"stomach\", \"stomach\", \"stop\", \"stop\", \"stop\", \"stop\", \"stop\", \"stop\", \"stop\", \"stop\", \"stop\", \"stop\", \"stop\", \"stop\", \"street\", \"street\", \"street\", \"street\", \"strip\", \"strip\", \"strip\", \"struggle\", \"study\", \"sub\", \"sub\", \"sub\", \"sub\", \"subway\", \"sunday\", \"sunday\", \"sunday\", \"sunday\", \"sunday\", \"sunday\", \"super\", \"super\", \"super\", \"super\", \"super\", \"super\", \"super\", \"super\", \"super\", \"super\", \"superb\", \"superb\", \"sure\", \"sure\", \"sure\", \"sure\", \"sure\", \"sure\", \"sure\", \"sure\", \"sure\", \"sure\", \"sure\", \"sure\", \"sure\", \"sure\", \"surprising\", \"sushi\", \"swear\", \"sweat\", \"sweet\", \"sweet\", \"sweet\", \"sweet\", \"sweet\", \"sweet\", \"sweet\", \"sweet\", \"sweet\", \"system\", \"system\", \"table\", \"table\", \"table\", \"table\", \"table\", \"table\", \"taco\", \"tacos\", \"tad\", \"take\", \"take\", \"take\", \"take\", \"take\", \"take\", \"take\", \"take\", \"take\", \"take\", \"take\", \"take\", \"take\", \"take\", \"tap\", \"tart\", \"taste\", \"taste\", \"taste\", \"taste\", \"taste\", \"taste\", \"taste\", \"taste\", \"taste\", \"taste\", \"taste\", \"tavern\", \"tea\", \"tea\", \"tell\", \"tell\", \"tell\", \"tell\", \"tell\", \"tell\", \"tell\", \"tempe\", \"tempura\", \"tempura\", \"tender\", \"tender\", \"tender\", \"tender\", \"teriyaki\", \"teriyaki\", \"terrific\", \"terrific\", \"th\", \"th\", \"th\", \"th\", \"th\", \"th\", \"th\", \"thai\", \"thank\", \"thank\", \"thank\", \"thank\", \"thank\", \"thank\", \"thank\", \"thank\", \"thin\", \"thin\", \"thin\", \"thing\", \"thing\", \"thing\", \"thing\", \"thing\", \"thing\", \"thing\", \"thing\", \"thing\", \"thing\", \"thing\", \"thing\", \"think\", \"think\", \"think\", \"think\", \"think\", \"think\", \"think\", \"think\", \"think\", \"think\", \"think\", \"think\", \"thru\", \"thru\", \"thru\", \"tikka\", \"time\", \"time\", \"time\", \"time\", \"time\", \"time\", \"time\", \"time\", \"time\", \"time\", \"time\", \"time\", \"time\", \"time\", \"toast\", \"toast\", \"toddler\", \"tofu\", \"toilet\", \"tomato\", \"tomato\", \"tomato\", \"topping\", \"topping\", \"topping\", \"topping\", \"tortilla\", \"tot\", \"tot\", \"tough\", \"tough\", \"towel\", \"tradition\", \"tradition\", \"traffic\", \"train\", \"trash\", \"trash\", \"trio\", \"trouble\", \"try\", \"try\", \"try\", \"try\", \"try\", \"try\", \"try\", \"try\", \"try\", \"try\", \"try\", \"try\", \"try\", \"try\", \"tuck\", \"tuesday\", \"tuesday\", \"tuesday\", \"tuna\", \"tuna\", \"turkey\", \"turkey\", \"tv\", \"tv\", \"tvs\", \"twc\", \"ubereat\", \"unacceptable\", \"unhappy\", \"university\", \"unsure\", \"upbeat\", \"update\", \"update\", \"update\", \"update\", \"update\", \"update\", \"upset\", \"upset\", \"ur\", \"vacation\", \"valley\", \"valley\", \"valley\", \"valley\", \"valley\", \"vanilla\", \"veg\", \"vegan\", \"vegan\", \"vegan\", \"vegas\", \"vegas\", \"vegetable\", \"vegetarian\", \"vegetarian\", \"vegetarian\", \"vegetarian\", \"veggie\", \"veggie\", \"veggie\", \"veggie\", \"veggie\", \"veggie\", \"verde\", \"vermicelli\", \"veteran\", \"video\", \"violation\", \"visit\", \"visit\", \"visit\", \"visit\", \"visit\", \"visit\", \"visit\", \"visit\", \"visit\", \"visit\", \"visit\", \"visit\", \"visit\", \"visit\", \"wait\", \"wait\", \"wait\", \"wait\", \"wait\", \"wait\", \"wait\", \"wait\", \"wait\", \"wait\", \"waited\", \"waited\", \"waitress\", \"waitress\", \"waitress\", \"waitress\", \"waitress\", \"waitress\", \"walk\", \"walk\", \"walk\", \"walk\", \"walk\", \"wander\", \"want\", \"want\", \"want\", \"want\", \"want\", \"want\", \"want\", \"want\", \"want\", \"want\", \"want\", \"want\", \"want\", \"watch\", \"watch\", \"watch\", \"watch\", \"watch\", \"watch\", \"watch\", \"watch\", \"way\", \"way\", \"way\", \"way\", \"way\", \"way\", \"way\", \"way\", \"way\", \"way\", \"way\", \"way\", \"way\", \"weather\", \"weather\", \"weekly\", \"well\", \"well\", \"well\", \"well\", \"well\", \"well\", \"well\", \"well\", \"well\", \"well\", \"well\", \"well\", \"well\", \"well\", \"westgate\", \"westgate\", \"westgate\", \"westgate\", \"westgate\", \"whatever\", \"whatever\", \"whatever\", \"whip\", \"whip\", \"whiskey\", \"wine\", \"wing\", \"wing\", \"wing\", \"wingstop\", \"wonderful\", \"wonderful\", \"wonderful\", \"wonderful\", \"wonderful\", \"wonderful\", \"wonderful\", \"worth\", \"worth\", \"worth\", \"worth\", \"worth\", \"worth\", \"worth\", \"worth\", \"worth\", \"worth\", \"worth\", \"would\", \"would\", \"would\", \"would\", \"would\", \"would\", \"would\", \"would\", \"would\", \"would\", \"would\", \"would\", \"would\", \"would\", \"yard\", \"yardhouse\", \"yellowtail\", \"yo\", \"york\", \"york\", \"yrs\", \"yum\", \"yum\", \"yum\", \"yum\"]}, \"R\": 30, \"lambda.step\": 0.01, \"plot.opts\": {\"xlab\": \"PC1\", \"ylab\": \"PC2\"}, \"topic.order\": [1, 2, 3, 4, 5, 6, 7, 8, 9, 10, 11, 12, 13, 14, 15]};\n",
              "\n",
              "function LDAvis_load_lib(url, callback){\n",
              "  var s = document.createElement('script');\n",
              "  s.src = url;\n",
              "  s.async = true;\n",
              "  s.onreadystatechange = s.onload = callback;\n",
              "  s.onerror = function(){console.warn(\"failed to load library \" + url);};\n",
              "  document.getElementsByTagName(\"head\")[0].appendChild(s);\n",
              "}\n",
              "\n",
              "if(typeof(LDAvis) !== \"undefined\"){\n",
              "   // already loaded: just create the visualization\n",
              "   !function(LDAvis){\n",
              "       new LDAvis(\"#\" + \"ldavis_el1221396369466913202990097537\", ldavis_el1221396369466913202990097537_data);\n",
              "   }(LDAvis);\n",
              "}else if(typeof define === \"function\" && define.amd){\n",
              "   // require.js is available: use it to load d3/LDAvis\n",
              "   require.config({paths: {d3: \"https://cdnjs.cloudflare.com/ajax/libs/d3/3.5.5/d3.min\"}});\n",
              "   require([\"d3\"], function(d3){\n",
              "      window.d3 = d3;\n",
              "      LDAvis_load_lib(\"https://cdn.rawgit.com/bmabey/pyLDAvis/files/ldavis.v1.0.0.js\", function(){\n",
              "        new LDAvis(\"#\" + \"ldavis_el1221396369466913202990097537\", ldavis_el1221396369466913202990097537_data);\n",
              "      });\n",
              "    });\n",
              "}else{\n",
              "    // require.js not available: dynamically load d3 & LDAvis\n",
              "    LDAvis_load_lib(\"https://cdnjs.cloudflare.com/ajax/libs/d3/3.5.5/d3.min.js\", function(){\n",
              "         LDAvis_load_lib(\"https://cdn.rawgit.com/bmabey/pyLDAvis/files/ldavis.v1.0.0.js\", function(){\n",
              "                 new LDAvis(\"#\" + \"ldavis_el1221396369466913202990097537\", ldavis_el1221396369466913202990097537_data);\n",
              "            })\n",
              "         });\n",
              "}\n",
              "</script>"
            ],
            "text/plain": [
              "<IPython.core.display.HTML object>"
            ]
          },
          "metadata": {
            "tags": []
          },
          "execution_count": 21
        }
      ]
    },
    {
      "cell_type": "code",
      "metadata": {
        "id": "DOmXZUF8LaOo",
        "colab_type": "code",
        "colab": {}
      },
      "source": [
        "pyLDAvis.save_html(lda_display, path + 'Output/5.lda_15.html')"
      ],
      "execution_count": 22,
      "outputs": []
    },
    {
      "cell_type": "markdown",
      "metadata": {
        "id": "5hbleKiKdWOU",
        "colab_type": "text"
      },
      "source": [
        "# K Means"
      ]
    },
    {
      "cell_type": "code",
      "metadata": {
        "id": "R8RZ-zd6hOZl",
        "colab_type": "code",
        "colab": {}
      },
      "source": [
        "dtm_bow = pd.read_csv(path + 'Output/1.dtm_1_bow.csv')"
      ],
      "execution_count": 23,
      "outputs": []
    },
    {
      "cell_type": "markdown",
      "metadata": {
        "id": "SL3JxnBbhu6V",
        "colab_type": "text"
      },
      "source": [
        "## Elbow Method"
      ]
    },
    {
      "cell_type": "code",
      "metadata": {
        "id": "0U9EhinpOzhu",
        "colab_type": "code",
        "colab": {
          "base_uri": "https://localhost:8080/",
          "height": 170
        },
        "outputId": "3fcb9d36-244e-4df4-b880-eefb1320a47d"
      },
      "source": [
        "%%time\n",
        "k_range = range(1,8)\n",
        "SSE = []\n",
        "\n",
        "for i in k_range:\n",
        "    print(i)\n",
        "    kmeans = KMeans(n_clusters = i,\n",
        "                    random_state = 5)\n",
        "    kmeans.fit(dtm_bow)\n",
        "    SSE.append(kmeans.inertia_)"
      ],
      "execution_count": 24,
      "outputs": [
        {
          "output_type": "stream",
          "text": [
            "1\n",
            "2\n",
            "3\n",
            "4\n",
            "5\n",
            "6\n",
            "7\n",
            "CPU times: user 6min 7s, sys: 17.8 s, total: 6min 25s\n",
            "Wall time: 5min 43s\n"
          ],
          "name": "stdout"
        }
      ]
    },
    {
      "cell_type": "code",
      "metadata": {
        "id": "Iz2MJVpGh9bf",
        "colab_type": "code",
        "colab": {
          "base_uri": "https://localhost:8080/",
          "height": 295
        },
        "outputId": "3b5d4e08-3673-44b2-bddc-b3499db0de38"
      },
      "source": [
        "plt.plot(k_range, SSE, 'bx-')\n",
        "plt.title('Elbow Method')\n",
        "plt.xlabel('Cluster Numbers')\n",
        "plt.show()"
      ],
      "execution_count": 25,
      "outputs": [
        {
          "output_type": "display_data",
          "data": {
            "image/png": "[encoded data removed]",
            "text/plain": [
              "<Figure size 432x288 with 1 Axes>"
            ]
          },
          "metadata": {
            "tags": [],
            "needs_background": "light"
          }
        }
      ]
    },
    {
      "cell_type": "code",
      "metadata": {
        "id": "xZ0uUvx7NTkO",
        "colab_type": "code",
        "colab": {}
      },
      "source": [
        "final_clus_no = 2"
      ],
      "execution_count": 26,
      "outputs": []
    },
    {
      "cell_type": "code",
      "metadata": {
        "id": "HHly_HZfiQJB",
        "colab_type": "code",
        "colab": {}
      },
      "source": [
        "kmeans = KMeans(n_clusters = final_clus_no,\n",
        "                         random_state = 5)\n",
        "kmeans.fit(dtm_bow)\n",
        "\n",
        "centers = kmeans.cluster_centers_.argsort()[:,::-1]\n",
        "terms = dtm_bow.columns"
      ],
      "execution_count": 27,
      "outputs": []
    },
    {
      "cell_type": "code",
      "metadata": {
        "id": "xjCL181DoSU5",
        "colab_type": "code",
        "colab": {
          "base_uri": "https://localhost:8080/",
          "height": 119
        },
        "outputId": "bab416eb-f5bc-49d7-b355-f54d4926e3db"
      },
      "source": [
        "terms"
      ],
      "execution_count": 28,
      "outputs": [
        {
          "output_type": "execute_result",
          "data": {
            "text/plain": [
              "Index(['aaabar', 'aaron', 'abacus', 'ability', 'able', 'absolute',\n",
              "       'absolutely', 'absurd', 'abundance', 'abundant',\n",
              "       ...\n",
              "       'zero', 'zesty', 'zillion', 'zipps', 'ziti', 'zoe', 'zone', 'zucchini',\n",
              "       'zuchinni', 'zupa'],\n",
              "      dtype='object', length=5999)"
            ]
          },
          "metadata": {
            "tags": []
          },
          "execution_count": 28
        }
      ]
    },
    {
      "cell_type": "code",
      "metadata": {
        "id": "zVUMFTwihfbO",
        "colab_type": "code",
        "colab": {
          "base_uri": "https://localhost:8080/",
          "height": 85
        },
        "outputId": "c19c4e33-8992-4d24-f2da-603658bc9646"
      },
      "source": [
        "for i in range(0,final_clus_no):\n",
        "    word_list=[]\n",
        "    print(\"cluster%d:\"% i)\n",
        "    for j in centers[i,:2]:\n",
        "        word_list.append(terms[j])\n",
        "    print(word_list)"
      ],
      "execution_count": 29,
      "outputs": [
        {
          "output_type": "stream",
          "text": [
            "cluster0:\n",
            "['order', 'get']\n",
            "cluster1:\n",
            "['food', 'good']\n"
          ],
          "name": "stdout"
        }
      ]
    },
    {
      "cell_type": "markdown",
      "metadata": {
        "colab_type": "text",
        "id": "balYUcTZpd0x"
      },
      "source": [
        "## What is the topic distribution for a random review?"
      ]
    },
    {
      "cell_type": "code",
      "metadata": {
        "id": "ixKV_BZCpHOr",
        "colab_type": "code",
        "colab": {
          "base_uri": "https://localhost:8080/",
          "height": 632
        },
        "outputId": "75268e45-4286-4a3d-ccf4-9d4ebfcc544f"
      },
      "source": [
        "reviews['kmeans_topic'] = kmeans.predict(dtm_bow)\n",
        "reviews.head()"
      ],
      "execution_count": 30,
      "outputs": [
        {
          "output_type": "execute_result",
          "data": {
            "text/html": [
              "<div>\n",
              "<style scoped>\n",
              "    .dataframe tbody tr th:only-of-type {\n",
              "        vertical-align: middle;\n",
              "    }\n",
              "\n",
              "    .dataframe tbody tr th {\n",
              "        vertical-align: top;\n",
              "    }\n",
              "\n",
              "    .dataframe thead th {\n",
              "        text-align: right;\n",
              "    }\n",
              "</style>\n",
              "<table border=\"1\" class=\"dataframe\">\n",
              "  <thead>\n",
              "    <tr style=\"text-align: right;\">\n",
              "      <th></th>\n",
              "      <th>rest_id</th>\n",
              "      <th>text</th>\n",
              "      <th>rating</th>\n",
              "      <th>char_count</th>\n",
              "      <th>positive</th>\n",
              "      <th>text_prep</th>\n",
              "      <th>text_prep_tokens</th>\n",
              "      <th>word_len_prep</th>\n",
              "      <th>text_prep_lim</th>\n",
              "      <th>text_prep_lim_tokens</th>\n",
              "      <th>word_len_prep_lim</th>\n",
              "      <th>kmeans_topic</th>\n",
              "    </tr>\n",
              "  </thead>\n",
              "  <tbody>\n",
              "    <tr>\n",
              "      <th>0</th>\n",
              "      <td>yGMCl0vYigshkXiZFIDTNw</td>\n",
              "      <td>We arrived for our reservation at 7:15pm.  The...</td>\n",
              "      <td>4</td>\n",
              "      <td>302</td>\n",
              "      <td>1</td>\n",
              "      <td>arrived reservation pm seat -PRON- right time ...</td>\n",
              "      <td>['arrived', 'reservation', 'pm', 'seat', '-PRO...</td>\n",
              "      <td>27</td>\n",
              "      <td>arrived reservation pm seat right time restura...</td>\n",
              "      <td>[arrived, reservation, pm, seat, right, time, ...</td>\n",
              "      <td>25</td>\n",
              "      <td>1</td>\n",
              "    </tr>\n",
              "    <tr>\n",
              "      <th>1</th>\n",
              "      <td>yGMCl0vYigshkXiZFIDTNw</td>\n",
              "      <td>We received amazing service again. The food wa...</td>\n",
              "      <td>5</td>\n",
              "      <td>111</td>\n",
              "      <td>1</td>\n",
              "      <td>receive amazing service food cook right waitre...</td>\n",
              "      <td>['receive', 'amazing', 'service', 'food', 'coo...</td>\n",
              "      <td>10</td>\n",
              "      <td>receive amazing service food cook right waitre...</td>\n",
              "      <td>[receive, amazing, service, food, cook, right,...</td>\n",
              "      <td>9</td>\n",
              "      <td>1</td>\n",
              "    </tr>\n",
              "    <tr>\n",
              "      <th>2</th>\n",
              "      <td>yGMCl0vYigshkXiZFIDTNw</td>\n",
              "      <td>Breakfast was delicious and waitress was aweso...</td>\n",
              "      <td>5</td>\n",
              "      <td>146</td>\n",
              "      <td>1</td>\n",
              "      <td>breakfast delicious waitress awesome steak egg...</td>\n",
              "      <td>['breakfast', 'delicious', 'waitress', 'awesom...</td>\n",
              "      <td>15</td>\n",
              "      <td>breakfast delicious waitress awesome steak egg...</td>\n",
              "      <td>[breakfast, delicious, waitress, awesome, stea...</td>\n",
              "      <td>15</td>\n",
              "      <td>1</td>\n",
              "    </tr>\n",
              "    <tr>\n",
              "      <th>3</th>\n",
              "      <td>yGMCl0vYigshkXiZFIDTNw</td>\n",
              "      <td>We have eaten here twice, for lunch. The first...</td>\n",
              "      <td>4</td>\n",
              "      <td>710</td>\n",
              "      <td>1</td>\n",
              "      <td>eaten twice lunch first time french dip mom fi...</td>\n",
              "      <td>['eaten', 'twice', 'lunch', 'first', 'time', '...</td>\n",
              "      <td>75</td>\n",
              "      <td>eaten twice lunch first time french dip mom fi...</td>\n",
              "      <td>[eaten, twice, lunch, first, time, french, dip...</td>\n",
              "      <td>74</td>\n",
              "      <td>1</td>\n",
              "    </tr>\n",
              "    <tr>\n",
              "      <th>4</th>\n",
              "      <td>yGMCl0vYigshkXiZFIDTNw</td>\n",
              "      <td>awesome service, great food.  Buffy was an ama...</td>\n",
              "      <td>5</td>\n",
              "      <td>59</td>\n",
              "      <td>1</td>\n",
              "      <td>awesome service great food buffy amazing server</td>\n",
              "      <td>['awesome', 'service', 'great', 'food', 'buffy...</td>\n",
              "      <td>7</td>\n",
              "      <td>awesome service great food amazing server</td>\n",
              "      <td>[awesome, service, great, food, amazing, server]</td>\n",
              "      <td>6</td>\n",
              "      <td>1</td>\n",
              "    </tr>\n",
              "  </tbody>\n",
              "</table>\n",
              "</div>"
            ],
            "text/plain": [
              "                  rest_id  ... kmeans_topic\n",
              "0  yGMCl0vYigshkXiZFIDTNw  ...            1\n",
              "1  yGMCl0vYigshkXiZFIDTNw  ...            1\n",
              "2  yGMCl0vYigshkXiZFIDTNw  ...            1\n",
              "3  yGMCl0vYigshkXiZFIDTNw  ...            1\n",
              "4  yGMCl0vYigshkXiZFIDTNw  ...            1\n",
              "\n",
              "[5 rows x 12 columns]"
            ]
          },
          "metadata": {
            "tags": []
          },
          "execution_count": 30
        }
      ]
    },
    {
      "cell_type": "code",
      "metadata": {
        "colab_type": "code",
        "id": "wfsPK9a7pd0y",
        "colab": {
          "base_uri": "https://localhost:8080/",
          "height": 34
        },
        "outputId": "daf3d6d7-8b67-427a-920c-391484629308"
      },
      "source": [
        "# Review no. 5\n",
        "print(corpus[4])"
      ],
      "execution_count": 31,
      "outputs": [
        {
          "output_type": "stream",
          "text": [
            "['awesome', 'service', 'great', 'food', 'amazing', 'server']\n"
          ],
          "name": "stdout"
        }
      ]
    },
    {
      "cell_type": "code",
      "metadata": {
        "colab_type": "code",
        "id": "-wKhkAvipd01",
        "colab": {
          "base_uri": "https://localhost:8080/",
          "height": 34
        },
        "outputId": "8d8aa827-4477-4317-f3d9-cf922c3fdcb5"
      },
      "source": [
        "reviews['kmeans_topic'].iloc[4]\n",
        "# Topic 1"
      ],
      "execution_count": 32,
      "outputs": [
        {
          "output_type": "execute_result",
          "data": {
            "text/plain": [
              "1"
            ]
          },
          "metadata": {
            "tags": []
          },
          "execution_count": 32
        }
      ]
    },
    {
      "cell_type": "code",
      "metadata": {
        "id": "ceUAlroBpuz_",
        "colab_type": "code",
        "colab": {
          "base_uri": "https://localhost:8080/",
          "height": 54
        },
        "outputId": "3a19201e-fa88-45da-dc75-b7177a35e897"
      },
      "source": [
        "# Review no. 1362\n",
        "print(corpus[1361])"
      ],
      "execution_count": 33,
      "outputs": [
        {
          "output_type": "stream",
          "text": [
            "['bad', 'restaurant', 'date', 'first', 'waiter', 'take', 'drink', 'order', 'least', 'minute', 'seat', 'get', 'drink', 'ready', 'order', 'return', 'get', 'main', 'course', 'another', 'minute', 'refill', 'drink', 'barely', 'get', 'order', 'right', 'bring', 'go', 'box', 'food', 'ok', 'service', 'kill', 'whole', 'experience', 'never', 'return']\n"
          ],
          "name": "stdout"
        }
      ]
    },
    {
      "cell_type": "code",
      "metadata": {
        "id": "4qmEjVfGpxfo",
        "colab_type": "code",
        "colab": {
          "base_uri": "https://localhost:8080/",
          "height": 34
        },
        "outputId": "9414b378-64f2-414a-a840-f64b2bb26e74"
      },
      "source": [
        "reviews['kmeans_topic'].iloc[1361]\n",
        "# Topic 0"
      ],
      "execution_count": 34,
      "outputs": [
        {
          "output_type": "execute_result",
          "data": {
            "text/plain": [
              "0"
            ]
          },
          "metadata": {
            "tags": []
          },
          "execution_count": 34
        }
      ]
    },
    {
      "cell_type": "markdown",
      "metadata": {
        "id": "s0f_WxEVMTt3",
        "colab_type": "text"
      },
      "source": [
        "# Conclusions"
      ]
    },
    {
      "cell_type": "markdown",
      "metadata": {
        "id": "x0rompTfi4fe",
        "colab_type": "text"
      },
      "source": [
        "- **LDA** is a fuzzy (soft) clustering technique <=> a document can belong to more than one cluster.\n",
        "- **KMeans** is a hard clustering technique <=> each document will belong to exactly one cluster. \n",
        "- => LDA gives more realistic results than k-means when considering natural language, due to the fact that a piece of text can belong to multiple topics."
      ]
    }
  ]
}